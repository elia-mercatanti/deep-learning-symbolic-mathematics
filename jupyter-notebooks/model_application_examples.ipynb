{
 "cells": [
  {
   "cell_type": "markdown",
   "metadata": {
    "collapsed": true,
    "pycharm": {
     "name": "#%% md\n"
    }
   },
   "source": [
    "# Models Behavior on Some Real Problems"
   ]
  },
  {
   "cell_type": "code",
   "source": [
    "import os\n",
    "import time\n",
    "\n",
    "import numpy\n",
    "import pandas\n",
    "import sympy\n",
    "import torch\n",
    "\n",
    "from src.envs import build_env\n",
    "from src.envs.char_sp import InvalidPrefixExpression, ValueErrorExpression\n",
    "from src.envs.sympy_utils import simplify\n",
    "from src.model import build_modules\n",
    "from src.utils import AttrDict\n",
    "from src.utils import to_cuda"
   ],
   "metadata": {
    "collapsed": false,
    "pycharm": {
     "name": "#%%\n"
    }
   },
   "execution_count": 1,
   "outputs": []
  },
  {
   "cell_type": "markdown",
   "source": [
    "## First Order Differential Equations Problems\n",
    "\n",
    "Use the First Order Differential Equations model (*ode1.pth*) to find the solutions of some equation used for the\n",
    "computation of generative functions of various problems.\n",
    "\n",
    "Get Trained Model:"
   ],
   "metadata": {
    "collapsed": false,
    "pycharm": {
     "name": "#%% md\n"
    }
   }
  },
  {
   "cell_type": "code",
   "execution_count": 2,
   "outputs": [],
   "source": [
    "model_path = '../models/differential-equations/ode1.pth'\n",
    "assert os.path.isfile(model_path)\n",
    "\n",
    "params = AttrDict({\n",
    "\n",
    "    # Environment Parameters\n",
    "    'env_name': 'char_sp',\n",
    "    'int_base': 10,\n",
    "    'balanced': False,\n",
    "    'positive': True,\n",
    "    'precision': 10,\n",
    "    'n_variables': 1,\n",
    "    'n_coefficients': 0,\n",
    "    'leaf_probs': '0.75,0,0.25,0',\n",
    "    'max_len': 512,\n",
    "    'max_int': 5,\n",
    "    'max_ops': 15,\n",
    "    'max_ops_G': 15,\n",
    "    'clean_prefix_expr': True,\n",
    "    'rewrite_functions': '',\n",
    "    'tasks': 'ode1',\n",
    "    'operators': 'add:10,sub:3,mul:10,div:5,sqrt:4,pow2:4,pow3:2,pow4:1,pow5:1,ln:4,exp:4,sin:4,cos:4,tan:4,asin:1,'\n",
    "                 'acos:1,atan:1,sinh:1,cosh:1,tanh:1,asinh:1,acosh:1,atanh:1',\n",
    "\n",
    "    # Model Parameters\n",
    "    'cpu': False,\n",
    "    'emb_dim': 1024,\n",
    "    'n_enc_layers': 6,\n",
    "    'n_dec_layers': 6,\n",
    "    'n_heads': 8,\n",
    "    'dropout': 0,\n",
    "    'attention_dropout': 0,\n",
    "    'sinusoidal_embeddings': False,\n",
    "    'share_inout_emb': True,\n",
    "    'reload_model': model_path,\n",
    "\n",
    "})\n",
    "\n",
    "env = build_env(params)\n",
    "x = env.local_dict['x']\n",
    "f = env.local_dict['f']\n",
    "g = env.local_dict['g']\n",
    "h = env.local_dict['h']\n",
    "\n",
    "modules = build_modules(env, params)\n",
    "encoder = modules['encoder']\n",
    "decoder = modules['decoder']\n",
    "\n",
    "beam_size = 50"
   ],
   "metadata": {
    "collapsed": false,
    "pycharm": {
     "name": "#%%\n"
    }
   }
  },
  {
   "cell_type": "markdown",
   "source": [
    "### Differential Equation for Generating Function of the Central Binomial Coefficients $\\binom{2n}{n}$\n",
    "\n",
    "Declare central binomial coefficients $\\binom{2n}{n}$ differential equation and solution $y$:"
   ],
   "metadata": {
    "collapsed": false
   }
  },
  {
   "cell_type": "code",
   "execution_count": 3,
   "outputs": [],
   "source": [
    "diff_eq_infix = \"(1-4*x)*diff(f(x),x)-2*f(x)\"\n",
    "y_infix = \"1/sqrt(1-4*x)\""
   ],
   "metadata": {
    "collapsed": false,
    "pycharm": {
     "name": "#%%\n"
    }
   }
  },
  {
   "cell_type": "markdown",
   "source": [
    "Converts **diff_eq_infix** and **y_infix** to a type that can be used inside SymPy:"
   ],
   "metadata": {
    "collapsed": false
   }
  },
  {
   "cell_type": "code",
   "execution_count": 4,
   "outputs": [
    {
     "data": {
      "text/plain": "(1 - 4*x)*Derivative(f(x), x) - 2*f(x)",
      "text/latex": "$\\displaystyle \\left(1 - 4 x\\right) \\frac{d}{d x} f{\\left(x \\right)} - 2 f{\\left(x \\right)}$"
     },
     "execution_count": 4,
     "metadata": {},
     "output_type": "execute_result"
    }
   ],
   "source": [
    "diff_eq_sympy = sympy.sympify(diff_eq_infix, locals=env.local_dict)\n",
    "diff_eq_sympy"
   ],
   "metadata": {
    "collapsed": false,
    "pycharm": {
     "name": "#%%\n"
    }
   }
  },
  {
   "cell_type": "code",
   "execution_count": 5,
   "outputs": [
    {
     "data": {
      "text/plain": "1/sqrt(1 - 4*x)",
      "text/latex": "$\\displaystyle \\frac{1}{\\sqrt{1 - 4 x}}$"
     },
     "execution_count": 5,
     "metadata": {},
     "output_type": "execute_result"
    }
   ],
   "source": [
    "y_sympy = sympy.sympify(y_infix, locals=env.local_dict)\n",
    "y_sympy"
   ],
   "metadata": {
    "collapsed": false,
    "pycharm": {
     "name": "#%%\n"
    }
   }
  },
  {
   "cell_type": "markdown",
   "source": [
    "Expand the expression of the equation to allow the model to calculate the solution more easily:"
   ],
   "metadata": {
    "collapsed": false
   }
  },
  {
   "cell_type": "code",
   "execution_count": 6,
   "outputs": [
    {
     "data": {
      "text/plain": "-4*x*Derivative(f(x), x) - 2*f(x) + Derivative(f(x), x)",
      "text/latex": "$\\displaystyle - 4 x \\frac{d}{d x} f{\\left(x \\right)} - 2 f{\\left(x \\right)} + \\frac{d}{d x} f{\\left(x \\right)}$"
     },
     "execution_count": 6,
     "metadata": {},
     "output_type": "execute_result"
    }
   ],
   "source": [
    "diff_eq_sympy = sympy.expand(diff_eq_sympy)\n",
    "diff_eq_sympy"
   ],
   "metadata": {
    "collapsed": false,
    "pycharm": {
     "name": "#%%\n"
    }
   }
  },
  {
   "cell_type": "markdown",
   "source": [
    "Use the model to find the solution $y$:"
   ],
   "metadata": {
    "collapsed": false
   }
  },
  {
   "cell_type": "code",
   "execution_count": 7,
   "outputs": [],
   "source": [
    "start_time = time.time()\n",
    "\n",
    "diff_eq_prefix = env.sympy_to_prefix(diff_eq_sympy)\n",
    "\n",
    "x1_prefix = env.clean_prefix(diff_eq_prefix)\n",
    "\n",
    "x1 = torch.LongTensor(\n",
    "    [env.eos_index] +\n",
    "    [env.word2id[w] for w in x1_prefix] +\n",
    "    [env.eos_index]\n",
    ").view(-1, 1)\n",
    "\n",
    "len1 = torch.LongTensor([len(x1)])\n",
    "x1, len1 = to_cuda(x1, len1)\n",
    "\n",
    "with torch.no_grad():\n",
    "    encoded = encoder('fwd', x=x1, lengths=len1, causal=False).transpose(0, 1)\n",
    "\n",
    "with torch.no_grad():\n",
    "    _, _, beam = decoder.generate_beam(encoded, len1, beam_size=beam_size, length_penalty=1.0, early_stopping=1,\n",
    "                                       max_len=params.max_len)\n",
    "\n",
    "end_time = time.time()\n",
    "\n",
    "assert len(beam) == 1\n",
    "hypotheses = beam[0].hyp\n",
    "assert len(hypotheses) == beam_size"
   ],
   "metadata": {
    "collapsed": false,
    "pycharm": {
     "name": "#%%\n"
    }
   }
  },
  {
   "cell_type": "markdown",
   "source": [
    "Execution time (seconds):"
   ],
   "metadata": {
    "collapsed": false
   }
  },
  {
   "cell_type": "code",
   "execution_count": 8,
   "outputs": [
    {
     "data": {
      "text/plain": "0.8388020992279053"
     },
     "execution_count": 8,
     "metadata": {},
     "output_type": "execute_result"
    }
   ],
   "source": [
    "end_time - start_time"
   ],
   "metadata": {
    "collapsed": false,
    "pycharm": {
     "name": "#%%\n"
    }
   }
  },
  {
   "cell_type": "markdown",
   "source": [
    "Extract scores and solution hypotheses:"
   ],
   "metadata": {
    "collapsed": false
   }
  },
  {
   "cell_type": "code",
   "execution_count": 9,
   "outputs": [],
   "source": [
    "rows = numpy.arange(1, beam_size + 1)\n",
    "columns = ['Score', 'Solution Hypothesis', 'Valid']\n",
    "results = []\n",
    "\n",
    "for score, sequence in sorted(hypotheses, reverse=True):\n",
    "    # Parse decoded hypothesis\n",
    "    ids = sequence[1:].tolist()  # Decoded token IDs\n",
    "    hyp_prefix = [env.id2word[word_id] for word_id in ids]  # Convert to prefix notation\n",
    "\n",
    "    try:\n",
    "        hyp_infix = env.prefix_to_infix(hyp_prefix)  # Convert to infix notation\n",
    "        hyp_sympy = env.infix_to_sympy(hyp_infix)  # Convert to SymPy\n",
    "\n",
    "        # Check if the hypothesis is a valid solution, replacing 'hyp_sympy' with 'f(x)' in the equation\n",
    "        validation = \"YES\" if simplify(diff_eq_sympy.subs(f(x), hyp_sympy).doit(), seconds=1) == 0 else \"NO\"\n",
    "\n",
    "        # Transform hypothesis to a valid latex expression\n",
    "        hyp_expr = \"$\" + sympy.latex(env.infix_to_sympy(hyp_infix)) + \"$\"\n",
    "\n",
    "    except (InvalidPrefixExpression, ValueErrorExpression):\n",
    "        validation = \"INVALID PREFIX EXPRESSION\"\n",
    "        hyp_expr = hyp_prefix\n",
    "\n",
    "    # Prepare results\n",
    "    results.append([score, hyp_expr, validation])"
   ],
   "metadata": {
    "collapsed": false,
    "pycharm": {
     "name": "#%%\n"
    }
   }
  },
  {
   "cell_type": "markdown",
   "source": [
    "Print results:"
   ],
   "metadata": {
    "collapsed": false
   }
  },
  {
   "cell_type": "code",
   "execution_count": 10,
   "outputs": [
    {
     "data": {
      "text/plain": "<pandas.io.formats.style.Styler at 0x7f535b3b35b0>",
      "text/html": "<style type=\"text/css\">\n#T_17aaf_row0_col0, #T_17aaf_row0_col1, #T_17aaf_row0_col2, #T_17aaf_row1_col0, #T_17aaf_row1_col1, #T_17aaf_row1_col2, #T_17aaf_row2_col0, #T_17aaf_row2_col1, #T_17aaf_row2_col2, #T_17aaf_row3_col0, #T_17aaf_row3_col1, #T_17aaf_row3_col2, #T_17aaf_row4_col0, #T_17aaf_row4_col1, #T_17aaf_row4_col2, #T_17aaf_row5_col0, #T_17aaf_row5_col1, #T_17aaf_row5_col2, #T_17aaf_row6_col0, #T_17aaf_row6_col1, #T_17aaf_row6_col2, #T_17aaf_row7_col0, #T_17aaf_row7_col1, #T_17aaf_row7_col2, #T_17aaf_row8_col0, #T_17aaf_row8_col1, #T_17aaf_row8_col2, #T_17aaf_row9_col0, #T_17aaf_row9_col1, #T_17aaf_row9_col2, #T_17aaf_row10_col0, #T_17aaf_row10_col1, #T_17aaf_row10_col2, #T_17aaf_row11_col0, #T_17aaf_row11_col1, #T_17aaf_row11_col2, #T_17aaf_row12_col0, #T_17aaf_row12_col1, #T_17aaf_row12_col2, #T_17aaf_row13_col0, #T_17aaf_row13_col1, #T_17aaf_row13_col2, #T_17aaf_row14_col0, #T_17aaf_row14_col1, #T_17aaf_row14_col2, #T_17aaf_row15_col0, #T_17aaf_row15_col1, #T_17aaf_row15_col2, #T_17aaf_row16_col0, #T_17aaf_row16_col1, #T_17aaf_row16_col2, #T_17aaf_row17_col0, #T_17aaf_row17_col1, #T_17aaf_row17_col2, #T_17aaf_row18_col0, #T_17aaf_row18_col1, #T_17aaf_row18_col2, #T_17aaf_row19_col0, #T_17aaf_row19_col1, #T_17aaf_row19_col2, #T_17aaf_row20_col0, #T_17aaf_row20_col1, #T_17aaf_row20_col2, #T_17aaf_row21_col0, #T_17aaf_row21_col1, #T_17aaf_row21_col2, #T_17aaf_row22_col0, #T_17aaf_row22_col1, #T_17aaf_row22_col2, #T_17aaf_row23_col0, #T_17aaf_row23_col1, #T_17aaf_row23_col2, #T_17aaf_row24_col0, #T_17aaf_row24_col1, #T_17aaf_row24_col2, #T_17aaf_row25_col0, #T_17aaf_row25_col1, #T_17aaf_row25_col2, #T_17aaf_row26_col0, #T_17aaf_row26_col1, #T_17aaf_row26_col2, #T_17aaf_row27_col0, #T_17aaf_row27_col1, #T_17aaf_row27_col2, #T_17aaf_row28_col0, #T_17aaf_row28_col1, #T_17aaf_row28_col2, #T_17aaf_row29_col0, #T_17aaf_row29_col1, #T_17aaf_row29_col2, #T_17aaf_row30_col0, #T_17aaf_row30_col1, #T_17aaf_row30_col2, #T_17aaf_row31_col0, #T_17aaf_row31_col1, #T_17aaf_row31_col2, #T_17aaf_row32_col0, #T_17aaf_row32_col1, #T_17aaf_row32_col2, #T_17aaf_row33_col0, #T_17aaf_row33_col1, #T_17aaf_row33_col2, #T_17aaf_row34_col0, #T_17aaf_row34_col1, #T_17aaf_row34_col2, #T_17aaf_row35_col0, #T_17aaf_row35_col1, #T_17aaf_row35_col2, #T_17aaf_row36_col0, #T_17aaf_row36_col1, #T_17aaf_row36_col2, #T_17aaf_row37_col0, #T_17aaf_row37_col1, #T_17aaf_row37_col2, #T_17aaf_row38_col0, #T_17aaf_row38_col1, #T_17aaf_row38_col2, #T_17aaf_row39_col0, #T_17aaf_row39_col1, #T_17aaf_row39_col2, #T_17aaf_row40_col0, #T_17aaf_row40_col1, #T_17aaf_row40_col2, #T_17aaf_row41_col0, #T_17aaf_row41_col1, #T_17aaf_row41_col2, #T_17aaf_row42_col0, #T_17aaf_row42_col1, #T_17aaf_row42_col2, #T_17aaf_row43_col0, #T_17aaf_row43_col1, #T_17aaf_row43_col2, #T_17aaf_row44_col0, #T_17aaf_row44_col1, #T_17aaf_row44_col2, #T_17aaf_row45_col0, #T_17aaf_row45_col1, #T_17aaf_row45_col2, #T_17aaf_row46_col0, #T_17aaf_row46_col1, #T_17aaf_row46_col2, #T_17aaf_row47_col0, #T_17aaf_row47_col1, #T_17aaf_row47_col2, #T_17aaf_row48_col0, #T_17aaf_row48_col1, #T_17aaf_row48_col2, #T_17aaf_row49_col0, #T_17aaf_row49_col1, #T_17aaf_row49_col2 {\n  text-align: center;\n}\n</style>\n<table id=\"T_17aaf_\">\n  <thead>\n    <tr>\n      <th class=\"blank level0\" >&nbsp;</th>\n      <th class=\"col_heading level0 col0\" >Score</th>\n      <th class=\"col_heading level0 col1\" >Solution Hypothesis</th>\n      <th class=\"col_heading level0 col2\" >Valid</th>\n    </tr>\n  </thead>\n  <tbody>\n    <tr>\n      <th id=\"T_17aaf_level0_row0\" class=\"row_heading level0 row0\" >1</th>\n      <td id=\"T_17aaf_row0_col0\" class=\"data row0 col0\" >-0.094559</td>\n      <td id=\"T_17aaf_row0_col1\" class=\"data row0 col1\" >$\\frac{a_{8}}{\\sqrt{1 - 4 x}}$</td>\n      <td id=\"T_17aaf_row0_col2\" class=\"data row0 col2\" >YES</td>\n    </tr>\n    <tr>\n      <th id=\"T_17aaf_level0_row1\" class=\"row_heading level0 row1\" >2</th>\n      <td id=\"T_17aaf_row1_col0\" class=\"data row1 col0\" >-0.108193</td>\n      <td id=\"T_17aaf_row1_col1\" class=\"data row1 col1\" >$\\sqrt{\\frac{a_{8} x}{- 4 x^{2} + x}}$</td>\n      <td id=\"T_17aaf_row1_col2\" class=\"data row1 col2\" >YES</td>\n    </tr>\n    <tr>\n      <th id=\"T_17aaf_level0_row2\" class=\"row_heading level0 row2\" >3</th>\n      <td id=\"T_17aaf_row2_col0\" class=\"data row2 col0\" >-0.137775</td>\n      <td id=\"T_17aaf_row2_col1\" class=\"data row2 col1\" >$\\sqrt{\\frac{a_{8}}{1 - 4 x}}$</td>\n      <td id=\"T_17aaf_row2_col2\" class=\"data row2 col2\" >YES</td>\n    </tr>\n    <tr>\n      <th id=\"T_17aaf_level0_row3\" class=\"row_heading level0 row3\" >4</th>\n      <td id=\"T_17aaf_row3_col0\" class=\"data row3 col0\" >-0.159204</td>\n      <td id=\"T_17aaf_row3_col1\" class=\"data row3 col1\" >$\\frac{a_{8} x}{\\sqrt{x \\left(- 4 x^{2} + x\\right)}}$</td>\n      <td id=\"T_17aaf_row3_col2\" class=\"data row3 col2\" >YES</td>\n    </tr>\n    <tr>\n      <th id=\"T_17aaf_level0_row4\" class=\"row_heading level0 row4\" >5</th>\n      <td id=\"T_17aaf_row4_col0\" class=\"data row4 col0\" >-0.165491</td>\n      <td id=\"T_17aaf_row4_col1\" class=\"data row4 col1\" >$a_{8} \\sqrt{\\frac{x}{- 4 x^{2} + x}}$</td>\n      <td id=\"T_17aaf_row4_col2\" class=\"data row4 col2\" >YES</td>\n    </tr>\n    <tr>\n      <th id=\"T_17aaf_level0_row5\" class=\"row_heading level0 row5\" >6</th>\n      <td id=\"T_17aaf_row5_col0\" class=\"data row5 col0\" >-0.166589</td>\n      <td id=\"T_17aaf_row5_col1\" class=\"data row5 col1\" >$\\frac{a_{8}}{\\sqrt{\\frac{1}{4} - x}}$</td>\n      <td id=\"T_17aaf_row5_col2\" class=\"data row5 col2\" >YES</td>\n    </tr>\n    <tr>\n      <th id=\"T_17aaf_level0_row6\" class=\"row_heading level0 row6\" >7</th>\n      <td id=\"T_17aaf_row6_col0\" class=\"data row6 col0\" >-0.190779</td>\n      <td id=\"T_17aaf_row6_col1\" class=\"data row6 col1\" >$\\frac{a_{8}}{\\sqrt{\\frac{1}{2} - 2 x}}$</td>\n      <td id=\"T_17aaf_row6_col2\" class=\"data row6 col2\" >YES</td>\n    </tr>\n    <tr>\n      <th id=\"T_17aaf_level0_row7\" class=\"row_heading level0 row7\" >8</th>\n      <td id=\"T_17aaf_row7_col0\" class=\"data row7 col0\" >-0.198530</td>\n      <td id=\"T_17aaf_row7_col1\" class=\"data row7 col1\" >$\\frac{x}{\\sqrt{a_{8} x \\left(- 4 x^{2} + x\\right)}}$</td>\n      <td id=\"T_17aaf_row7_col2\" class=\"data row7 col2\" >YES</td>\n    </tr>\n    <tr>\n      <th id=\"T_17aaf_level0_row8\" class=\"row_heading level0 row8\" >9</th>\n      <td id=\"T_17aaf_row8_col0\" class=\"data row8 col0\" >-0.200983</td>\n      <td id=\"T_17aaf_row8_col1\" class=\"data row8 col1\" >$x \\sqrt{\\frac{a_{8}}{x \\left(- 4 x^{2} + x\\right)}}$</td>\n      <td id=\"T_17aaf_row8_col2\" class=\"data row8 col2\" >YES</td>\n    </tr>\n    <tr>\n      <th id=\"T_17aaf_level0_row9\" class=\"row_heading level0 row9\" >10</th>\n      <td id=\"T_17aaf_row9_col0\" class=\"data row9 col0\" >-0.206921</td>\n      <td id=\"T_17aaf_row9_col1\" class=\"data row9 col1\" >$\\frac{a_{8}}{\\sqrt{\\frac{- 4 x^{2} + x}{x}}}$</td>\n      <td id=\"T_17aaf_row9_col2\" class=\"data row9 col2\" >YES</td>\n    </tr>\n    <tr>\n      <th id=\"T_17aaf_level0_row10\" class=\"row_heading level0 row10\" >11</th>\n      <td id=\"T_17aaf_row10_col0\" class=\"data row10 col0\" >-0.221210</td>\n      <td id=\"T_17aaf_row10_col1\" class=\"data row10 col1\" >$a_{8} \\sqrt{\\frac{1}{1 - 4 x}}$</td>\n      <td id=\"T_17aaf_row10_col2\" class=\"data row10 col2\" >YES</td>\n    </tr>\n    <tr>\n      <th id=\"T_17aaf_level0_row11\" class=\"row_heading level0 row11\" >12</th>\n      <td id=\"T_17aaf_row11_col0\" class=\"data row11 col0\" >-0.226701</td>\n      <td id=\"T_17aaf_row11_col1\" class=\"data row11 col1\" >$\\frac{a_{8} x}{\\sqrt{- 4 x^{3} + x^{2}}}$</td>\n      <td id=\"T_17aaf_row11_col2\" class=\"data row11 col2\" >YES</td>\n    </tr>\n    <tr>\n      <th id=\"T_17aaf_level0_row12\" class=\"row_heading level0 row12\" >13</th>\n      <td id=\"T_17aaf_row12_col0\" class=\"data row12 col0\" >-0.239204</td>\n      <td id=\"T_17aaf_row12_col1\" class=\"data row12 col1\" >$\\sqrt{2} \\sqrt{\\frac{a_{8} x}{- 4 x^{2} + x}}$</td>\n      <td id=\"T_17aaf_row12_col2\" class=\"data row12 col2\" >YES</td>\n    </tr>\n    <tr>\n      <th id=\"T_17aaf_level0_row13\" class=\"row_heading level0 row13\" >14</th>\n      <td id=\"T_17aaf_row13_col0\" class=\"data row13 col0\" >-0.249130</td>\n      <td id=\"T_17aaf_row13_col1\" class=\"data row13 col1\" >$\\frac{a_{8}}{\\sqrt{\\frac{1}{5} - \\frac{4 x}{5}}}$</td>\n      <td id=\"T_17aaf_row13_col2\" class=\"data row13 col2\" >YES</td>\n    </tr>\n    <tr>\n      <th id=\"T_17aaf_level0_row14\" class=\"row_heading level0 row14\" >15</th>\n      <td id=\"T_17aaf_row14_col0\" class=\"data row14 col0\" >-0.261429</td>\n      <td id=\"T_17aaf_row14_col1\" class=\"data row14 col1\" >$\\sqrt{\\frac{a_{8}}{x \\left(-4 + \\frac{1}{x}\\right)}}$</td>\n      <td id=\"T_17aaf_row14_col2\" class=\"data row14 col2\" >YES</td>\n    </tr>\n    <tr>\n      <th id=\"T_17aaf_level0_row15\" class=\"row_heading level0 row15\" >16</th>\n      <td id=\"T_17aaf_row15_col0\" class=\"data row15 col0\" >-0.269914</td>\n      <td id=\"T_17aaf_row15_col1\" class=\"data row15 col1\" >$2 \\sqrt{\\frac{a_{8} x}{- 4 x^{2} + x}}$</td>\n      <td id=\"T_17aaf_row15_col2\" class=\"data row15 col2\" >YES</td>\n    </tr>\n    <tr>\n      <th id=\"T_17aaf_level0_row16\" class=\"row_heading level0 row16\" >17</th>\n      <td id=\"T_17aaf_row16_col0\" class=\"data row16 col0\" >-0.270978</td>\n      <td id=\"T_17aaf_row16_col1\" class=\"data row16 col1\" >$\\sqrt{5} \\sqrt{\\frac{a_{8} x}{- 4 x^{2} + x}}$</td>\n      <td id=\"T_17aaf_row16_col2\" class=\"data row16 col2\" >YES</td>\n    </tr>\n    <tr>\n      <th id=\"T_17aaf_level0_row17\" class=\"row_heading level0 row17\" >18</th>\n      <td id=\"T_17aaf_row17_col0\" class=\"data row17 col0\" >-0.271184</td>\n      <td id=\"T_17aaf_row17_col1\" class=\"data row17 col1\" >$\\sqrt{2} \\sqrt{\\frac{a_{8}}{1 - 4 x}}$</td>\n      <td id=\"T_17aaf_row17_col2\" class=\"data row17 col2\" >YES</td>\n    </tr>\n    <tr>\n      <th id=\"T_17aaf_level0_row18\" class=\"row_heading level0 row18\" >19</th>\n      <td id=\"T_17aaf_row18_col0\" class=\"data row18 col0\" >-0.272482</td>\n      <td id=\"T_17aaf_row18_col1\" class=\"data row18 col1\" >$\\frac{a_{8} x + x}{\\sqrt{- 4 x^{2} + x}}$</td>\n      <td id=\"T_17aaf_row18_col2\" class=\"data row18 col2\" >NO</td>\n    </tr>\n    <tr>\n      <th id=\"T_17aaf_level0_row19\" class=\"row_heading level0 row19\" >20</th>\n      <td id=\"T_17aaf_row19_col0\" class=\"data row19 col0\" >-0.273215</td>\n      <td id=\"T_17aaf_row19_col1\" class=\"data row19 col1\" >$a_{8} \\sqrt{\\frac{1}{x \\left(-4 + \\frac{1}{x}\\right)}}$</td>\n      <td id=\"T_17aaf_row19_col2\" class=\"data row19 col2\" >YES</td>\n    </tr>\n    <tr>\n      <th id=\"T_17aaf_level0_row20\" class=\"row_heading level0 row20\" >21</th>\n      <td id=\"T_17aaf_row20_col0\" class=\"data row20 col0\" >-0.276378</td>\n      <td id=\"T_17aaf_row20_col1\" class=\"data row20 col1\" >$\\frac{x \\sqrt{\\frac{a_{8}}{1 - 4 x}}}{\\left|{x}\\right|}$</td>\n      <td id=\"T_17aaf_row20_col2\" class=\"data row20 col2\" >YES</td>\n    </tr>\n    <tr>\n      <th id=\"T_17aaf_level0_row21\" class=\"row_heading level0 row21\" >22</th>\n      <td id=\"T_17aaf_row21_col0\" class=\"data row21 col0\" >-0.277078</td>\n      <td id=\"T_17aaf_row21_col1\" class=\"data row21 col1\" >$\\sqrt{3} \\sqrt{\\frac{a_{8} x}{- 4 x^{2} + x}}$</td>\n      <td id=\"T_17aaf_row21_col2\" class=\"data row21 col2\" >YES</td>\n    </tr>\n    <tr>\n      <th id=\"T_17aaf_level0_row22\" class=\"row_heading level0 row22\" >23</th>\n      <td id=\"T_17aaf_row22_col0\" class=\"data row22 col0\" >-0.283176</td>\n      <td id=\"T_17aaf_row22_col1\" class=\"data row22 col1\" >$\\frac{a_{8}}{\\sqrt{\\frac{1}{3} - \\frac{4 x}{3}}}$</td>\n      <td id=\"T_17aaf_row22_col2\" class=\"data row22 col2\" >YES</td>\n    </tr>\n    <tr>\n      <th id=\"T_17aaf_level0_row23\" class=\"row_heading level0 row23\" >24</th>\n      <td id=\"T_17aaf_row23_col0\" class=\"data row23 col0\" >-0.284886</td>\n      <td id=\"T_17aaf_row23_col1\" class=\"data row23 col1\" >$\\sqrt{\\frac{a_{8} x + x}{- 4 x^{2} + x}}$</td>\n      <td id=\"T_17aaf_row23_col2\" class=\"data row23 col2\" >YES</td>\n    </tr>\n    <tr>\n      <th id=\"T_17aaf_level0_row24\" class=\"row_heading level0 row24\" >25</th>\n      <td id=\"T_17aaf_row24_col0\" class=\"data row24 col0\" >-0.287674</td>\n      <td id=\"T_17aaf_row24_col1\" class=\"data row24 col1\" >$\\frac{a_{8} \\sqrt{x}}{\\sqrt{- 4 x^{2} + x}}$</td>\n      <td id=\"T_17aaf_row24_col2\" class=\"data row24 col2\" >YES</td>\n    </tr>\n    <tr>\n      <th id=\"T_17aaf_level0_row25\" class=\"row_heading level0 row25\" >26</th>\n      <td id=\"T_17aaf_row25_col0\" class=\"data row25 col0\" >-0.303124</td>\n      <td id=\"T_17aaf_row25_col1\" class=\"data row25 col1\" >$\\sqrt{5} \\sqrt{\\frac{a_{8}}{1 - 4 x}}$</td>\n      <td id=\"T_17aaf_row25_col2\" class=\"data row25 col2\" >YES</td>\n    </tr>\n    <tr>\n      <th id=\"T_17aaf_level0_row26\" class=\"row_heading level0 row26\" >27</th>\n      <td id=\"T_17aaf_row26_col0\" class=\"data row26 col0\" >-0.315368</td>\n      <td id=\"T_17aaf_row26_col1\" class=\"data row26 col1\" >$\\sqrt{3} \\sqrt{\\frac{a_{8}}{1 - 4 x}}$</td>\n      <td id=\"T_17aaf_row26_col2\" class=\"data row26 col2\" >YES</td>\n    </tr>\n    <tr>\n      <th id=\"T_17aaf_level0_row27\" class=\"row_heading level0 row27\" >28</th>\n      <td id=\"T_17aaf_row27_col0\" class=\"data row27 col0\" >-0.317594</td>\n      <td id=\"T_17aaf_row27_col1\" class=\"data row27 col1\" >$\\sqrt{\\frac{a_{8} x + 2 x}{- 4 x^{2} + x}}$</td>\n      <td id=\"T_17aaf_row27_col2\" class=\"data row27 col2\" >YES</td>\n    </tr>\n    <tr>\n      <th id=\"T_17aaf_level0_row28\" class=\"row_heading level0 row28\" >29</th>\n      <td id=\"T_17aaf_row28_col0\" class=\"data row28 col0\" >-0.321276</td>\n      <td id=\"T_17aaf_row28_col1\" class=\"data row28 col1\" >$2 \\sqrt{\\frac{a_{8}}{1 - 4 x}}$</td>\n      <td id=\"T_17aaf_row28_col2\" class=\"data row28 col2\" >YES</td>\n    </tr>\n    <tr>\n      <th id=\"T_17aaf_level0_row29\" class=\"row_heading level0 row29\" >30</th>\n      <td id=\"T_17aaf_row29_col0\" class=\"data row29 col0\" >-0.336746</td>\n      <td id=\"T_17aaf_row29_col1\" class=\"data row29 col1\" >$\\sqrt{\\frac{a_{8} x - x}{- 4 x^{2} + x}}$</td>\n      <td id=\"T_17aaf_row29_col2\" class=\"data row29 col2\" >YES</td>\n    </tr>\n    <tr>\n      <th id=\"T_17aaf_level0_row30\" class=\"row_heading level0 row30\" >31</th>\n      <td id=\"T_17aaf_row30_col0\" class=\"data row30 col0\" >-0.337812</td>\n      <td id=\"T_17aaf_row30_col1\" class=\"data row30 col1\" >$\\frac{a_{8}}{\\sqrt{2 x - \\frac{1}{2}}}$</td>\n      <td id=\"T_17aaf_row30_col2\" class=\"data row30 col2\" >YES</td>\n    </tr>\n    <tr>\n      <th id=\"T_17aaf_level0_row31\" class=\"row_heading level0 row31\" >32</th>\n      <td id=\"T_17aaf_row31_col0\" class=\"data row31 col0\" >-0.339020</td>\n      <td id=\"T_17aaf_row31_col1\" class=\"data row31 col1\" >$\\sqrt{\\frac{a_{8} x}{- 4 x^{2} + x}} \\sqrt{\\tan{\\left(4 \\right)}}$</td>\n      <td id=\"T_17aaf_row31_col2\" class=\"data row31 col2\" >YES</td>\n    </tr>\n    <tr>\n      <th id=\"T_17aaf_level0_row32\" class=\"row_heading level0 row32\" >33</th>\n      <td id=\"T_17aaf_row32_col0\" class=\"data row32 col0\" >-0.339065</td>\n      <td id=\"T_17aaf_row32_col1\" class=\"data row32 col1\" >$\\frac{a_{8}}{\\sqrt{x \\left(-4 + \\frac{1}{x}\\right)}}$</td>\n      <td id=\"T_17aaf_row32_col2\" class=\"data row32 col2\" >YES</td>\n    </tr>\n    <tr>\n      <th id=\"T_17aaf_level0_row33\" class=\"row_heading level0 row33\" >34</th>\n      <td id=\"T_17aaf_row33_col0\" class=\"data row33 col0\" >-0.347913</td>\n      <td id=\"T_17aaf_row33_col1\" class=\"data row33 col1\" >$\\sqrt{\\frac{a_{8} x}{- 4 x^{2} + x}} \\sqrt{\\sin{\\left(2 \\right)}}$</td>\n      <td id=\"T_17aaf_row33_col2\" class=\"data row33 col2\" >YES</td>\n    </tr>\n    <tr>\n      <th id=\"T_17aaf_level0_row34\" class=\"row_heading level0 row34\" >35</th>\n      <td id=\"T_17aaf_row34_col0\" class=\"data row34 col0\" >-0.358501</td>\n      <td id=\"T_17aaf_row34_col1\" class=\"data row34 col1\" >$\\sqrt{\\frac{a_{8} x}{- 4 x^{2} + x}} \\sqrt{\\sin{\\left(3 \\right)}}$</td>\n      <td id=\"T_17aaf_row34_col2\" class=\"data row34 col2\" >YES</td>\n    </tr>\n    <tr>\n      <th id=\"T_17aaf_level0_row35\" class=\"row_heading level0 row35\" >36</th>\n      <td id=\"T_17aaf_row35_col0\" class=\"data row35 col0\" >-0.360790</td>\n      <td id=\"T_17aaf_row35_col1\" class=\"data row35 col1\" >$\\sqrt{\\frac{a_{8} x}{- 4 x^{2} + x}} \\sqrt{\\cos{\\left(5 \\right)}}$</td>\n      <td id=\"T_17aaf_row35_col2\" class=\"data row35 col2\" >YES</td>\n    </tr>\n    <tr>\n      <th id=\"T_17aaf_level0_row36\" class=\"row_heading level0 row36\" >37</th>\n      <td id=\"T_17aaf_row36_col0\" class=\"data row36 col0\" >-0.363548</td>\n      <td id=\"T_17aaf_row36_col1\" class=\"data row36 col1\" >$\\sqrt{\\frac{a_{8} x}{- 4 x^{2} + x}} \\sqrt{\\cos{\\left(1 \\right)}}$</td>\n      <td id=\"T_17aaf_row36_col2\" class=\"data row36 col2\" >YES</td>\n    </tr>\n    <tr>\n      <th id=\"T_17aaf_level0_row37\" class=\"row_heading level0 row37\" >38</th>\n      <td id=\"T_17aaf_row37_col0\" class=\"data row37 col0\" >-0.369493</td>\n      <td id=\"T_17aaf_row37_col1\" class=\"data row37 col1\" >$\\sqrt{\\frac{a_{8} x}{- 4 x^{2} + x}} \\sqrt{\\tan{\\left(1 \\right)}}$</td>\n      <td id=\"T_17aaf_row37_col2\" class=\"data row37 col2\" >YES</td>\n    </tr>\n    <tr>\n      <th id=\"T_17aaf_level0_row38\" class=\"row_heading level0 row38\" >39</th>\n      <td id=\"T_17aaf_row38_col0\" class=\"data row38 col0\" >-0.369526</td>\n      <td id=\"T_17aaf_row38_col1\" class=\"data row38 col1\" >$\\frac{a_{8}}{\\sqrt{x - \\frac{1}{4}}}$</td>\n      <td id=\"T_17aaf_row38_col2\" class=\"data row38 col2\" >YES</td>\n    </tr>\n    <tr>\n      <th id=\"T_17aaf_level0_row39\" class=\"row_heading level0 row39\" >40</th>\n      <td id=\"T_17aaf_row39_col0\" class=\"data row39 col0\" >-0.374413</td>\n      <td id=\"T_17aaf_row39_col1\" class=\"data row39 col1\" >$\\sqrt{\\frac{a_{8} x}{- 4 x^{2} + x}} \\sqrt{\\log{\\left(2 \\right)}}$</td>\n      <td id=\"T_17aaf_row39_col2\" class=\"data row39 col2\" >YES</td>\n    </tr>\n    <tr>\n      <th id=\"T_17aaf_level0_row40\" class=\"row_heading level0 row40\" >41</th>\n      <td id=\"T_17aaf_row40_col0\" class=\"data row40 col0\" >-0.377104</td>\n      <td id=\"T_17aaf_row40_col1\" class=\"data row40 col1\" >$\\sqrt{\\frac{a_{8} x}{- 4 x^{2} + x}} \\sqrt{\\log{\\left(4 \\right)}}$</td>\n      <td id=\"T_17aaf_row40_col2\" class=\"data row40 col2\" >YES</td>\n    </tr>\n    <tr>\n      <th id=\"T_17aaf_level0_row41\" class=\"row_heading level0 row41\" >42</th>\n      <td id=\"T_17aaf_row41_col0\" class=\"data row41 col0\" >-0.378983</td>\n      <td id=\"T_17aaf_row41_col1\" class=\"data row41 col1\" >$\\sqrt{\\frac{a_{8} x}{- 4 x^{2} + x}} \\sqrt{\\sin{\\left(1 \\right)}}$</td>\n      <td id=\"T_17aaf_row41_col2\" class=\"data row41 col2\" >YES</td>\n    </tr>\n    <tr>\n      <th id=\"T_17aaf_level0_row42\" class=\"row_heading level0 row42\" >43</th>\n      <td id=\"T_17aaf_row42_col0\" class=\"data row42 col0\" >-0.381729</td>\n      <td id=\"T_17aaf_row42_col1\" class=\"data row42 col1\" >$\\sqrt{\\frac{a_{8} x}{- 4 x^{2} + x}} \\sqrt{\\log{\\left(3 \\right)}}$</td>\n      <td id=\"T_17aaf_row42_col2\" class=\"data row42 col2\" >YES</td>\n    </tr>\n    <tr>\n      <th id=\"T_17aaf_level0_row43\" class=\"row_heading level0 row43\" >44</th>\n      <td id=\"T_17aaf_row43_col0\" class=\"data row43 col0\" >-0.382072</td>\n      <td id=\"T_17aaf_row43_col1\" class=\"data row43 col1\" >$a_{8} \\sqrt{- \\frac{1}{4 x - 1}}$</td>\n      <td id=\"T_17aaf_row43_col2\" class=\"data row43 col2\" >YES</td>\n    </tr>\n    <tr>\n      <th id=\"T_17aaf_level0_row44\" class=\"row_heading level0 row44\" >45</th>\n      <td id=\"T_17aaf_row44_col0\" class=\"data row44 col0\" >-0.382588</td>\n      <td id=\"T_17aaf_row44_col1\" class=\"data row44 col1\" >$\\sqrt{\\frac{a_{8} x}{- 4 x^{2} + x}} \\sqrt{\\log{\\left(5 \\right)}}$</td>\n      <td id=\"T_17aaf_row44_col2\" class=\"data row44 col2\" >YES</td>\n    </tr>\n    <tr>\n      <th id=\"T_17aaf_level0_row45\" class=\"row_heading level0 row45\" >46</th>\n      <td id=\"T_17aaf_row45_col0\" class=\"data row45 col0\" >-0.386089</td>\n      <td id=\"T_17aaf_row45_col1\" class=\"data row45 col1\" >$\\sqrt{\\frac{a_{8} x}{- 4 x^{2} + x}} e^{2}$</td>\n      <td id=\"T_17aaf_row45_col2\" class=\"data row45 col2\" >YES</td>\n    </tr>\n    <tr>\n      <th id=\"T_17aaf_level0_row46\" class=\"row_heading level0 row46\" >47</th>\n      <td id=\"T_17aaf_row46_col0\" class=\"data row46 col0\" >-0.400523</td>\n      <td id=\"T_17aaf_row46_col1\" class=\"data row46 col1\" >$\\frac{a_{8}}{\\sqrt{4 x - 1}}$</td>\n      <td id=\"T_17aaf_row46_col2\" class=\"data row46 col2\" >YES</td>\n    </tr>\n    <tr>\n      <th id=\"T_17aaf_level0_row47\" class=\"row_heading level0 row47\" >48</th>\n      <td id=\"T_17aaf_row47_col0\" class=\"data row47 col0\" >-0.404040</td>\n      <td id=\"T_17aaf_row47_col1\" class=\"data row47 col1\" >$\\frac{a_{8}}{\\sqrt{2 - 8 x}}$</td>\n      <td id=\"T_17aaf_row47_col2\" class=\"data row47 col2\" >YES</td>\n    </tr>\n    <tr>\n      <th id=\"T_17aaf_level0_row48\" class=\"row_heading level0 row48\" >49</th>\n      <td id=\"T_17aaf_row48_col0\" class=\"data row48 col0\" >-0.405593</td>\n      <td id=\"T_17aaf_row48_col1\" class=\"data row48 col1\" >$\\sqrt{\\frac{a_{8} x}{- 4 x^{2} + x}} \\sqrt{\\sinh{\\left(1 \\right)}}$</td>\n      <td id=\"T_17aaf_row48_col2\" class=\"data row48 col2\" >YES</td>\n    </tr>\n    <tr>\n      <th id=\"T_17aaf_level0_row49\" class=\"row_heading level0 row49\" >50</th>\n      <td id=\"T_17aaf_row49_col0\" class=\"data row49 col0\" >-0.405677</td>\n      <td id=\"T_17aaf_row49_col1\" class=\"data row49 col1\" >$\\sqrt{\\frac{a_{8} x}{- 4 x^{2} + x}} \\sqrt{\\sinh{\\left(4 \\right)}}$</td>\n      <td id=\"T_17aaf_row49_col2\" class=\"data row49 col2\" >YES</td>\n    </tr>\n  </tbody>\n</table>\n"
     },
     "execution_count": 10,
     "metadata": {},
     "output_type": "execute_result"
    }
   ],
   "source": [
    "pandas.set_option('max_colwidth', None)\n",
    "pandas.DataFrame(results, index=rows, columns=columns).style.set_properties(**{'text-align': 'center'})"
   ],
   "metadata": {
    "collapsed": false,
    "pycharm": {
     "name": "#%%\n"
    }
   }
  },
  {
   "cell_type": "markdown",
   "source": [
    "### Differential Equation for Generating Function of the Catalan Numbers $\\frac{1}{n+1}\\binom{2n}{n}$\n",
    "\n",
    "Declare Catalan Numbers $\\frac{1}{n+1}\\binom{2n}{n}$ differential equation and solution $y$:"
   ],
   "metadata": {
    "collapsed": false
   }
  },
  {
   "cell_type": "code",
   "execution_count": 11,
   "outputs": [],
   "source": [
    "diff_eq_infix = \"diff(f(x),x)*(x-4*x**2)+(1-2*x)*f(x)-1\"\n",
    "y_infix = \"(1-sqrt(1-4*x))/(2*x)\""
   ],
   "metadata": {
    "collapsed": false,
    "pycharm": {
     "name": "#%%\n"
    }
   }
  },
  {
   "cell_type": "markdown",
   "source": [
    "Converts **diff_eq_infix** and **y_infix** to a type that can be used inside SymPy:"
   ],
   "metadata": {
    "collapsed": false
   }
  },
  {
   "cell_type": "code",
   "execution_count": 12,
   "outputs": [
    {
     "data": {
      "text/plain": "(1 - 2*x)*f(x) + (-4*x**2 + x)*Derivative(f(x), x) - 1",
      "text/latex": "$\\displaystyle \\left(1 - 2 x\\right) f{\\left(x \\right)} + \\left(- 4 x^{2} + x\\right) \\frac{d}{d x} f{\\left(x \\right)} - 1$"
     },
     "execution_count": 12,
     "metadata": {},
     "output_type": "execute_result"
    }
   ],
   "source": [
    "diff_eq_sympy = sympy.sympify(diff_eq_infix, locals=env.local_dict)\n",
    "diff_eq_sympy"
   ],
   "metadata": {
    "collapsed": false,
    "pycharm": {
     "name": "#%%\n"
    }
   }
  },
  {
   "cell_type": "code",
   "execution_count": 13,
   "outputs": [
    {
     "data": {
      "text/plain": "(1 - sqrt(1 - 4*x))/(2*x)",
      "text/latex": "$\\displaystyle \\frac{1 - \\sqrt{1 - 4 x}}{2 x}$"
     },
     "execution_count": 13,
     "metadata": {},
     "output_type": "execute_result"
    }
   ],
   "source": [
    "y_sympy = sympy.sympify(y_infix, locals=env.local_dict)\n",
    "y_sympy"
   ],
   "metadata": {
    "collapsed": false,
    "pycharm": {
     "name": "#%%\n"
    }
   }
  },
  {
   "cell_type": "markdown",
   "source": [
    "Expand the expression of the equation to allow the model to calculate the solution more easily:"
   ],
   "metadata": {
    "collapsed": false
   }
  },
  {
   "cell_type": "code",
   "execution_count": 14,
   "outputs": [
    {
     "data": {
      "text/plain": "-4*x**2*Derivative(f(x), x) - 2*x*f(x) + x*Derivative(f(x), x) + f(x) - 1",
      "text/latex": "$\\displaystyle - 4 x^{2} \\frac{d}{d x} f{\\left(x \\right)} - 2 x f{\\left(x \\right)} + x \\frac{d}{d x} f{\\left(x \\right)} + f{\\left(x \\right)} - 1$"
     },
     "execution_count": 14,
     "metadata": {},
     "output_type": "execute_result"
    }
   ],
   "source": [
    "diff_eq_sympy = sympy.expand(diff_eq_sympy)\n",
    "diff_eq_sympy"
   ],
   "metadata": {
    "collapsed": false,
    "pycharm": {
     "name": "#%%\n"
    }
   }
  },
  {
   "cell_type": "markdown",
   "source": [
    "Use the model to find the solution $y$:"
   ],
   "metadata": {
    "collapsed": false
   }
  },
  {
   "cell_type": "code",
   "execution_count": 15,
   "outputs": [],
   "source": [
    "start_time = time.time()\n",
    "\n",
    "diff_eq_prefix = env.sympy_to_prefix(diff_eq_sympy)\n",
    "\n",
    "x1_prefix = env.clean_prefix(diff_eq_prefix)\n",
    "\n",
    "x1 = torch.LongTensor(\n",
    "    [env.eos_index] +\n",
    "    [env.word2id[w] for w in x1_prefix] +\n",
    "    [env.eos_index]\n",
    ").view(-1, 1)\n",
    "\n",
    "len1 = torch.LongTensor([len(x1)])\n",
    "x1, len1 = to_cuda(x1, len1)\n",
    "\n",
    "with torch.no_grad():\n",
    "    encoded = encoder('fwd', x=x1, lengths=len1, causal=False).transpose(0, 1)\n",
    "\n",
    "with torch.no_grad():\n",
    "    _, _, beam = decoder.generate_beam(encoded, len1, beam_size=beam_size, length_penalty=1.0, early_stopping=1,\n",
    "                                       max_len=params.max_len)\n",
    "\n",
    "end_time = time.time()\n",
    "\n",
    "assert len(beam) == 1\n",
    "hypotheses = beam[0].hyp\n",
    "assert len(hypotheses) == beam_size"
   ],
   "metadata": {
    "collapsed": false,
    "pycharm": {
     "name": "#%%\n"
    }
   }
  },
  {
   "cell_type": "markdown",
   "source": [
    "Execution time (seconds):"
   ],
   "metadata": {
    "collapsed": false
   }
  },
  {
   "cell_type": "code",
   "execution_count": 16,
   "outputs": [
    {
     "data": {
      "text/plain": "0.32935523986816406"
     },
     "execution_count": 16,
     "metadata": {},
     "output_type": "execute_result"
    }
   ],
   "source": [
    "end_time - start_time"
   ],
   "metadata": {
    "collapsed": false,
    "pycharm": {
     "name": "#%%\n"
    }
   }
  },
  {
   "cell_type": "markdown",
   "source": [
    "Extract scores and solution hypotheses:"
   ],
   "metadata": {
    "collapsed": false
   }
  },
  {
   "cell_type": "code",
   "execution_count": 17,
   "outputs": [],
   "source": [
    "rows = numpy.arange(1, beam_size + 1)\n",
    "columns = ['Score', 'Solution Hypothesis', 'Valid']\n",
    "results = []\n",
    "\n",
    "for score, sequence in sorted(hypotheses, reverse=True):\n",
    "    # Parse decoded hypothesis\n",
    "    ids = sequence[1:].tolist()  # Decoded token IDs\n",
    "    hyp_prefix = [env.id2word[word_id] for word_id in ids]  # Convert to prefix notation\n",
    "\n",
    "    try:\n",
    "        hyp_infix = env.prefix_to_infix(hyp_prefix)  # Convert to infix notation\n",
    "        hyp_sympy = env.infix_to_sympy(hyp_infix)  # Convert to SymPy\n",
    "\n",
    "        # Check if the hypothesis is a valid solution, replacing 'hyp_sympy' with 'f(x)' in the equation\n",
    "        validation = \"YES\" if simplify(diff_eq_sympy.subs(f(x), hyp_sympy).doit(), seconds=1) == 0 else \"NO\"\n",
    "\n",
    "        # Transform hypothesis to a valid latex expression\n",
    "        hyp_expr = \"$\" + sympy.latex(env.infix_to_sympy(hyp_infix)) + \"$\"\n",
    "\n",
    "    except (InvalidPrefixExpression, ValueErrorExpression):\n",
    "        validation = \"INVALID PREFIX EXPRESSION\"\n",
    "        hyp_expr = hyp_prefix\n",
    "\n",
    "    # Prepare results\n",
    "    results.append([score, hyp_expr, validation])"
   ],
   "metadata": {
    "collapsed": false,
    "pycharm": {
     "name": "#%%\n"
    }
   }
  },
  {
   "cell_type": "markdown",
   "source": [
    "Print results:"
   ],
   "metadata": {
    "collapsed": false
   }
  },
  {
   "cell_type": "code",
   "execution_count": 18,
   "outputs": [
    {
     "data": {
      "text/plain": "<pandas.io.formats.style.Styler at 0x7f535afdb5b0>",
      "text/html": "<style type=\"text/css\">\n#T_4de8c_row0_col0, #T_4de8c_row0_col1, #T_4de8c_row0_col2, #T_4de8c_row1_col0, #T_4de8c_row1_col1, #T_4de8c_row1_col2, #T_4de8c_row2_col0, #T_4de8c_row2_col1, #T_4de8c_row2_col2, #T_4de8c_row3_col0, #T_4de8c_row3_col1, #T_4de8c_row3_col2, #T_4de8c_row4_col0, #T_4de8c_row4_col1, #T_4de8c_row4_col2, #T_4de8c_row5_col0, #T_4de8c_row5_col1, #T_4de8c_row5_col2, #T_4de8c_row6_col0, #T_4de8c_row6_col1, #T_4de8c_row6_col2, #T_4de8c_row7_col0, #T_4de8c_row7_col1, #T_4de8c_row7_col2, #T_4de8c_row8_col0, #T_4de8c_row8_col1, #T_4de8c_row8_col2, #T_4de8c_row9_col0, #T_4de8c_row9_col1, #T_4de8c_row9_col2, #T_4de8c_row10_col0, #T_4de8c_row10_col1, #T_4de8c_row10_col2, #T_4de8c_row11_col0, #T_4de8c_row11_col1, #T_4de8c_row11_col2, #T_4de8c_row12_col0, #T_4de8c_row12_col1, #T_4de8c_row12_col2, #T_4de8c_row13_col0, #T_4de8c_row13_col1, #T_4de8c_row13_col2, #T_4de8c_row14_col0, #T_4de8c_row14_col1, #T_4de8c_row14_col2, #T_4de8c_row15_col0, #T_4de8c_row15_col1, #T_4de8c_row15_col2, #T_4de8c_row16_col0, #T_4de8c_row16_col1, #T_4de8c_row16_col2, #T_4de8c_row17_col0, #T_4de8c_row17_col1, #T_4de8c_row17_col2, #T_4de8c_row18_col0, #T_4de8c_row18_col1, #T_4de8c_row18_col2, #T_4de8c_row19_col0, #T_4de8c_row19_col1, #T_4de8c_row19_col2, #T_4de8c_row20_col0, #T_4de8c_row20_col1, #T_4de8c_row20_col2, #T_4de8c_row21_col0, #T_4de8c_row21_col1, #T_4de8c_row21_col2, #T_4de8c_row22_col0, #T_4de8c_row22_col1, #T_4de8c_row22_col2, #T_4de8c_row23_col0, #T_4de8c_row23_col1, #T_4de8c_row23_col2, #T_4de8c_row24_col0, #T_4de8c_row24_col1, #T_4de8c_row24_col2, #T_4de8c_row25_col0, #T_4de8c_row25_col1, #T_4de8c_row25_col2, #T_4de8c_row26_col0, #T_4de8c_row26_col1, #T_4de8c_row26_col2, #T_4de8c_row27_col0, #T_4de8c_row27_col1, #T_4de8c_row27_col2, #T_4de8c_row28_col0, #T_4de8c_row28_col1, #T_4de8c_row28_col2, #T_4de8c_row29_col0, #T_4de8c_row29_col1, #T_4de8c_row29_col2, #T_4de8c_row30_col0, #T_4de8c_row30_col1, #T_4de8c_row30_col2, #T_4de8c_row31_col0, #T_4de8c_row31_col1, #T_4de8c_row31_col2, #T_4de8c_row32_col0, #T_4de8c_row32_col1, #T_4de8c_row32_col2, #T_4de8c_row33_col0, #T_4de8c_row33_col1, #T_4de8c_row33_col2, #T_4de8c_row34_col0, #T_4de8c_row34_col1, #T_4de8c_row34_col2, #T_4de8c_row35_col0, #T_4de8c_row35_col1, #T_4de8c_row35_col2, #T_4de8c_row36_col0, #T_4de8c_row36_col1, #T_4de8c_row36_col2, #T_4de8c_row37_col0, #T_4de8c_row37_col1, #T_4de8c_row37_col2, #T_4de8c_row38_col0, #T_4de8c_row38_col1, #T_4de8c_row38_col2, #T_4de8c_row39_col0, #T_4de8c_row39_col1, #T_4de8c_row39_col2, #T_4de8c_row40_col0, #T_4de8c_row40_col1, #T_4de8c_row40_col2, #T_4de8c_row41_col0, #T_4de8c_row41_col1, #T_4de8c_row41_col2, #T_4de8c_row42_col0, #T_4de8c_row42_col1, #T_4de8c_row42_col2, #T_4de8c_row43_col0, #T_4de8c_row43_col1, #T_4de8c_row43_col2, #T_4de8c_row44_col0, #T_4de8c_row44_col1, #T_4de8c_row44_col2, #T_4de8c_row45_col0, #T_4de8c_row45_col1, #T_4de8c_row45_col2, #T_4de8c_row46_col0, #T_4de8c_row46_col1, #T_4de8c_row46_col2, #T_4de8c_row47_col0, #T_4de8c_row47_col1, #T_4de8c_row47_col2, #T_4de8c_row48_col0, #T_4de8c_row48_col1, #T_4de8c_row48_col2, #T_4de8c_row49_col0, #T_4de8c_row49_col1, #T_4de8c_row49_col2 {\n  text-align: center;\n}\n</style>\n<table id=\"T_4de8c_\">\n  <thead>\n    <tr>\n      <th class=\"blank level0\" >&nbsp;</th>\n      <th class=\"col_heading level0 col0\" >Score</th>\n      <th class=\"col_heading level0 col1\" >Solution Hypothesis</th>\n      <th class=\"col_heading level0 col2\" >Valid</th>\n    </tr>\n  </thead>\n  <tbody>\n    <tr>\n      <th id=\"T_4de8c_level0_row0\" class=\"row_heading level0 row0\" >1</th>\n      <td id=\"T_4de8c_row0_col0\" class=\"data row0 col0\" >-0.087689</td>\n      <td id=\"T_4de8c_row0_col1\" class=\"data row0 col1\" >$\\frac{a_{8} \\sqrt{1 - 4 x} + x}{x}$</td>\n      <td id=\"T_4de8c_row0_col2\" class=\"data row0 col2\" >NO</td>\n    </tr>\n    <tr>\n      <th id=\"T_4de8c_level0_row1\" class=\"row_heading level0 row1\" >2</th>\n      <td id=\"T_4de8c_row1_col0\" class=\"data row1 col0\" >-0.134191</td>\n      <td id=\"T_4de8c_row1_col1\" class=\"data row1 col1\" >$\\frac{a_{8} \\sqrt{4 x - 1} + x}{x}$</td>\n      <td id=\"T_4de8c_row1_col2\" class=\"data row1 col2\" >NO</td>\n    </tr>\n    <tr>\n      <th id=\"T_4de8c_level0_row2\" class=\"row_heading level0 row2\" >3</th>\n      <td id=\"T_4de8c_row2_col0\" class=\"data row2 col0\" >-0.149671</td>\n      <td id=\"T_4de8c_row2_col1\" class=\"data row2 col1\" >$\\frac{a_{8} \\sqrt{\\frac{1}{4} - x} + x}{x}$</td>\n      <td id=\"T_4de8c_row2_col2\" class=\"data row2 col2\" >NO</td>\n    </tr>\n    <tr>\n      <th id=\"T_4de8c_level0_row3\" class=\"row_heading level0 row3\" >4</th>\n      <td id=\"T_4de8c_row3_col0\" class=\"data row3 col0\" >-0.172542</td>\n      <td id=\"T_4de8c_row3_col1\" class=\"data row3 col1\" >$\\frac{x + \\sqrt{a_{8} \\left(1 - 4 x\\right)}}{x}$</td>\n      <td id=\"T_4de8c_row3_col2\" class=\"data row3 col2\" >NO</td>\n    </tr>\n    <tr>\n      <th id=\"T_4de8c_level0_row4\" class=\"row_heading level0 row4\" >5</th>\n      <td id=\"T_4de8c_row4_col0\" class=\"data row4 col0\" >-0.173510</td>\n      <td id=\"T_4de8c_row4_col1\" class=\"data row4 col1\" >$\\frac{a_{8} \\sqrt{\\frac{- 4 x^{2} + x}{x}} + x}{x}$</td>\n      <td id=\"T_4de8c_row4_col2\" class=\"data row4 col2\" >NO</td>\n    </tr>\n    <tr>\n      <th id=\"T_4de8c_level0_row5\" class=\"row_heading level0 row5\" >6</th>\n      <td id=\"T_4de8c_row5_col0\" class=\"data row5 col0\" >-0.190297</td>\n      <td id=\"T_4de8c_row5_col1\" class=\"data row5 col1\" >$\\frac{a_{8} \\sqrt{1 - 4 x}}{x} + \\frac{1}{x}$</td>\n      <td id=\"T_4de8c_row5_col2\" class=\"data row5 col2\" >NO</td>\n    </tr>\n    <tr>\n      <th id=\"T_4de8c_level0_row6\" class=\"row_heading level0 row6\" >7</th>\n      <td id=\"T_4de8c_row6_col0\" class=\"data row6 col0\" >-0.191963</td>\n      <td id=\"T_4de8c_row6_col1\" class=\"data row6 col1\" >$\\frac{a_{8} \\sqrt{x - \\frac{1}{4}} + x}{x}$</td>\n      <td id=\"T_4de8c_row6_col2\" class=\"data row6 col2\" >NO</td>\n    </tr>\n    <tr>\n      <th id=\"T_4de8c_level0_row7\" class=\"row_heading level0 row7\" >8</th>\n      <td id=\"T_4de8c_row7_col0\" class=\"data row7 col0\" >-0.194101</td>\n      <td id=\"T_4de8c_row7_col1\" class=\"data row7 col1\" >$\\frac{x + \\sqrt{\\frac{a_{8} \\left(- 4 x^{2} + x\\right)}{x}}}{x}$</td>\n      <td id=\"T_4de8c_row7_col2\" class=\"data row7 col2\" >NO</td>\n    </tr>\n    <tr>\n      <th id=\"T_4de8c_level0_row8\" class=\"row_heading level0 row8\" >9</th>\n      <td id=\"T_4de8c_row8_col0\" class=\"data row8 col0\" >-0.194893</td>\n      <td id=\"T_4de8c_row8_col1\" class=\"data row8 col1\" >$\\frac{x + \\sqrt{a_{8} \\left(4 x - 1\\right)}}{x}$</td>\n      <td id=\"T_4de8c_row8_col2\" class=\"data row8 col2\" >NO</td>\n    </tr>\n    <tr>\n      <th id=\"T_4de8c_level0_row9\" class=\"row_heading level0 row9\" >10</th>\n      <td id=\"T_4de8c_row9_col0\" class=\"data row9 col0\" >-0.197811</td>\n      <td id=\"T_4de8c_row9_col1\" class=\"data row9 col1\" >$\\frac{a_{8} \\sqrt{2 x - \\frac{1}{2}} + x}{x}$</td>\n      <td id=\"T_4de8c_row9_col2\" class=\"data row9 col2\" >NO</td>\n    </tr>\n    <tr>\n      <th id=\"T_4de8c_level0_row10\" class=\"row_heading level0 row10\" >11</th>\n      <td id=\"T_4de8c_row10_col0\" class=\"data row10 col0\" >-0.198061</td>\n      <td id=\"T_4de8c_row10_col1\" class=\"data row10 col1\" >$\\frac{x + \\sqrt{a_{8} \\left(\\frac{1}{4} - x\\right)}}{x}$</td>\n      <td id=\"T_4de8c_row10_col2\" class=\"data row10 col2\" >NO</td>\n    </tr>\n    <tr>\n      <th id=\"T_4de8c_level0_row11\" class=\"row_heading level0 row11\" >12</th>\n      <td id=\"T_4de8c_row11_col0\" class=\"data row11 col0\" >-0.198423</td>\n      <td id=\"T_4de8c_row11_col1\" class=\"data row11 col1\" >$\\frac{a_{8} \\sqrt{\\frac{1}{2} - 2 x} + x}{x}$</td>\n      <td id=\"T_4de8c_row11_col2\" class=\"data row11 col2\" >NO</td>\n    </tr>\n    <tr>\n      <th id=\"T_4de8c_level0_row12\" class=\"row_heading level0 row12\" >13</th>\n      <td id=\"T_4de8c_row12_col0\" class=\"data row12 col0\" >-0.205394</td>\n      <td id=\"T_4de8c_row12_col1\" class=\"data row12 col1\" >$\\frac{a_{8} \\sqrt{\\frac{1}{5} - \\frac{4 x}{5}} + x}{x}$</td>\n      <td id=\"T_4de8c_row12_col2\" class=\"data row12 col2\" >NO</td>\n    </tr>\n    <tr>\n      <th id=\"T_4de8c_level0_row13\" class=\"row_heading level0 row13\" >14</th>\n      <td id=\"T_4de8c_row13_col0\" class=\"data row13 col0\" >-0.207364</td>\n      <td id=\"T_4de8c_row13_col1\" class=\"data row13 col1\" >$\\frac{a_{8} \\sqrt{\\frac{4 x}{5} - \\frac{1}{5}} + x}{x}$</td>\n      <td id=\"T_4de8c_row13_col2\" class=\"data row13 col2\" >NO</td>\n    </tr>\n    <tr>\n      <th id=\"T_4de8c_level0_row14\" class=\"row_heading level0 row14\" >15</th>\n      <td id=\"T_4de8c_row14_col0\" class=\"data row14 col0\" >-0.210407</td>\n      <td id=\"T_4de8c_row14_col1\" class=\"data row14 col1\" >$\\frac{x - \\sqrt{a_{8} \\left(1 - 4 x\\right)}}{x}$</td>\n      <td id=\"T_4de8c_row14_col2\" class=\"data row14 col2\" >NO</td>\n    </tr>\n    <tr>\n      <th id=\"T_4de8c_level0_row15\" class=\"row_heading level0 row15\" >16</th>\n      <td id=\"T_4de8c_row15_col0\" class=\"data row15 col0\" >-0.213739</td>\n      <td id=\"T_4de8c_row15_col1\" class=\"data row15 col1\" >$\\frac{a_{8} \\sqrt{1 - 4 x} + 1}{2 x}$</td>\n      <td id=\"T_4de8c_row15_col2\" class=\"data row15 col2\" >YES</td>\n    </tr>\n    <tr>\n      <th id=\"T_4de8c_level0_row16\" class=\"row_heading level0 row16\" >17</th>\n      <td id=\"T_4de8c_row16_col0\" class=\"data row16 col0\" >-0.221814</td>\n      <td id=\"T_4de8c_row16_col1\" class=\"data row16 col1\" >$\\frac{\\frac{a_{8} \\sqrt{x \\left(- 4 x^{2} + x\\right)}}{x} + x}{x}$</td>\n      <td id=\"T_4de8c_row16_col2\" class=\"data row16 col2\" >NO</td>\n    </tr>\n    <tr>\n      <th id=\"T_4de8c_level0_row17\" class=\"row_heading level0 row17\" >18</th>\n      <td id=\"T_4de8c_row17_col0\" class=\"data row17 col0\" >-0.224309</td>\n      <td id=\"T_4de8c_row17_col1\" class=\"data row17 col1\" >$\\frac{a_{8} \\sqrt{1 - 4 x} + 2 x}{2 x}$</td>\n      <td id=\"T_4de8c_row17_col2\" class=\"data row17 col2\" >NO</td>\n    </tr>\n    <tr>\n      <th id=\"T_4de8c_level0_row18\" class=\"row_heading level0 row18\" >19</th>\n      <td id=\"T_4de8c_row18_col0\" class=\"data row18 col0\" >-0.225615</td>\n      <td id=\"T_4de8c_row18_col1\" class=\"data row18 col1\" >$\\frac{x - \\sqrt{a_{8} \\left(4 x - 1\\right)}}{x}$</td>\n      <td id=\"T_4de8c_row18_col2\" class=\"data row18 col2\" >NO</td>\n    </tr>\n    <tr>\n      <th id=\"T_4de8c_level0_row19\" class=\"row_heading level0 row19\" >20</th>\n      <td id=\"T_4de8c_row19_col0\" class=\"data row19 col0\" >-0.229921</td>\n      <td id=\"T_4de8c_row19_col1\" class=\"data row19 col1\" >$\\frac{x \\sqrt{\\frac{a_{8} \\left(-4 + \\frac{1}{x}\\right)}{x}} + x}{x}$</td>\n      <td id=\"T_4de8c_row19_col2\" class=\"data row19 col2\" >NO</td>\n    </tr>\n    <tr>\n      <th id=\"T_4de8c_level0_row20\" class=\"row_heading level0 row20\" >21</th>\n      <td id=\"T_4de8c_row20_col0\" class=\"data row20 col0\" >-0.235338</td>\n      <td id=\"T_4de8c_row20_col1\" class=\"data row20 col1\" >$\\frac{a_{8} \\sqrt{4 x - 1}}{x} + \\frac{1}{x}$</td>\n      <td id=\"T_4de8c_row20_col2\" class=\"data row20 col2\" >NO</td>\n    </tr>\n    <tr>\n      <th id=\"T_4de8c_level0_row21\" class=\"row_heading level0 row21\" >22</th>\n      <td id=\"T_4de8c_row21_col0\" class=\"data row21 col0\" >-0.235463</td>\n      <td id=\"T_4de8c_row21_col1\" class=\"data row21 col1\" >$\\frac{a_{8} \\sqrt{\\frac{1}{4} - x}}{x} + \\frac{1}{x}$</td>\n      <td id=\"T_4de8c_row21_col2\" class=\"data row21 col2\" >NO</td>\n    </tr>\n    <tr>\n      <th id=\"T_4de8c_level0_row22\" class=\"row_heading level0 row22\" >23</th>\n      <td id=\"T_4de8c_row22_col0\" class=\"data row22 col0\" >-0.241732</td>\n      <td id=\"T_4de8c_row22_col1\" class=\"data row22 col1\" >$\\frac{\\sqrt{a_{8} \\left(1 - 4 x\\right)} + 1}{2 x}$</td>\n      <td id=\"T_4de8c_row22_col2\" class=\"data row22 col2\" >YES</td>\n    </tr>\n    <tr>\n      <th id=\"T_4de8c_level0_row23\" class=\"row_heading level0 row23\" >24</th>\n      <td id=\"T_4de8c_row23_col0\" class=\"data row23 col0\" >-0.249306</td>\n      <td id=\"T_4de8c_row23_col1\" class=\"data row23 col1\" >$\\frac{x + \\sqrt{a_{8} \\left(\\frac{1}{2} - 2 x\\right)}}{x}$</td>\n      <td id=\"T_4de8c_row23_col2\" class=\"data row23 col2\" >NO</td>\n    </tr>\n    <tr>\n      <th id=\"T_4de8c_level0_row24\" class=\"row_heading level0 row24\" >25</th>\n      <td id=\"T_4de8c_row24_col0\" class=\"data row24 col0\" >-0.249661</td>\n      <td id=\"T_4de8c_row24_col1\" class=\"data row24 col1\" >$\\frac{x + \\sqrt{a_{8} \\left(2 x - \\frac{1}{2}\\right)}}{x}$</td>\n      <td id=\"T_4de8c_row24_col2\" class=\"data row24 col2\" >NO</td>\n    </tr>\n    <tr>\n      <th id=\"T_4de8c_level0_row25\" class=\"row_heading level0 row25\" >26</th>\n      <td id=\"T_4de8c_row25_col0\" class=\"data row25 col0\" >-0.251291</td>\n      <td id=\"T_4de8c_row25_col1\" class=\"data row25 col1\" >$\\frac{x + \\sqrt{a_{8} \\left(\\frac{1}{5} - \\frac{4 x}{5}\\right)}}{x}$</td>\n      <td id=\"T_4de8c_row25_col2\" class=\"data row25 col2\" >NO</td>\n    </tr>\n    <tr>\n      <th id=\"T_4de8c_level0_row26\" class=\"row_heading level0 row26\" >27</th>\n      <td id=\"T_4de8c_row26_col0\" class=\"data row26 col0\" >-0.252439</td>\n      <td id=\"T_4de8c_row26_col1\" class=\"data row26 col1\" >$\\frac{x + \\sqrt{a_{8} \\left(x - \\frac{1}{4}\\right)}}{x}$</td>\n      <td id=\"T_4de8c_row26_col2\" class=\"data row26 col2\" >NO</td>\n    </tr>\n    <tr>\n      <th id=\"T_4de8c_level0_row27\" class=\"row_heading level0 row27\" >28</th>\n      <td id=\"T_4de8c_row27_col0\" class=\"data row27 col0\" >-0.254860</td>\n      <td id=\"T_4de8c_row27_col1\" class=\"data row27 col1\" >$\\frac{x - \\sqrt{a_{8} \\left(2 x - \\frac{1}{2}\\right)}}{x}$</td>\n      <td id=\"T_4de8c_row27_col2\" class=\"data row27 col2\" >NO</td>\n    </tr>\n    <tr>\n      <th id=\"T_4de8c_level0_row28\" class=\"row_heading level0 row28\" >29</th>\n      <td id=\"T_4de8c_row28_col0\" class=\"data row28 col0\" >-0.260164</td>\n      <td id=\"T_4de8c_row28_col1\" class=\"data row28 col1\" >$\\frac{\\sqrt{a_{8} \\left(4 x - 1\\right)} + 1}{2 x}$</td>\n      <td id=\"T_4de8c_row28_col2\" class=\"data row28 col2\" >YES</td>\n    </tr>\n    <tr>\n      <th id=\"T_4de8c_level0_row29\" class=\"row_heading level0 row29\" >30</th>\n      <td id=\"T_4de8c_row29_col0\" class=\"data row29 col0\" >-0.260434</td>\n      <td id=\"T_4de8c_row29_col1\" class=\"data row29 col1\" >$\\frac{a_{8} \\sqrt{1 - 4 x} + 2}{2 x}$</td>\n      <td id=\"T_4de8c_row29_col2\" class=\"data row29 col2\" >NO</td>\n    </tr>\n    <tr>\n      <th id=\"T_4de8c_level0_row30\" class=\"row_heading level0 row30\" >31</th>\n      <td id=\"T_4de8c_row30_col0\" class=\"data row30 col0\" >-0.263244</td>\n      <td id=\"T_4de8c_row30_col1\" class=\"data row30 col1\" >$\\frac{x - \\sqrt{a_{8} \\left(\\frac{1}{4} - x\\right)}}{x}$</td>\n      <td id=\"T_4de8c_row30_col2\" class=\"data row30 col2\" >NO</td>\n    </tr>\n    <tr>\n      <th id=\"T_4de8c_level0_row31\" class=\"row_heading level0 row31\" >32</th>\n      <td id=\"T_4de8c_row31_col0\" class=\"data row31 col0\" >-0.265658</td>\n      <td id=\"T_4de8c_row31_col1\" class=\"data row31 col1\" >$\\frac{a_{8} \\sqrt{2 - 8 x} + x}{x}$</td>\n      <td id=\"T_4de8c_row31_col2\" class=\"data row31 col2\" >NO</td>\n    </tr>\n    <tr>\n      <th id=\"T_4de8c_level0_row32\" class=\"row_heading level0 row32\" >33</th>\n      <td id=\"T_4de8c_row32_col0\" class=\"data row32 col0\" >-0.265867</td>\n      <td id=\"T_4de8c_row32_col1\" class=\"data row32 col1\" >$\\frac{a_{8} \\sqrt{\\frac{1}{2} - 2 x}}{x} + \\frac{1}{x}$</td>\n      <td id=\"T_4de8c_row32_col2\" class=\"data row32 col2\" >NO</td>\n    </tr>\n    <tr>\n      <th id=\"T_4de8c_level0_row33\" class=\"row_heading level0 row33\" >34</th>\n      <td id=\"T_4de8c_row33_col0\" class=\"data row33 col0\" >-0.266067</td>\n      <td id=\"T_4de8c_row33_col1\" class=\"data row33 col1\" >$\\frac{x - \\sqrt{a_{8} \\left(x - \\frac{1}{4}\\right)}}{x}$</td>\n      <td id=\"T_4de8c_row33_col2\" class=\"data row33 col2\" >NO</td>\n    </tr>\n    <tr>\n      <th id=\"T_4de8c_level0_row34\" class=\"row_heading level0 row34\" >35</th>\n      <td id=\"T_4de8c_row34_col0\" class=\"data row34 col0\" >-0.266941</td>\n      <td id=\"T_4de8c_row34_col1\" class=\"data row34 col1\" >$\\frac{a_{8} \\sqrt{4 x - 1} + 2 x}{2 x}$</td>\n      <td id=\"T_4de8c_row34_col2\" class=\"data row34 col2\" >NO</td>\n    </tr>\n    <tr>\n      <th id=\"T_4de8c_level0_row35\" class=\"row_heading level0 row35\" >36</th>\n      <td id=\"T_4de8c_row35_col0\" class=\"data row35 col0\" >-0.270136</td>\n      <td id=\"T_4de8c_row35_col1\" class=\"data row35 col1\" >$\\frac{a_{8} \\sqrt{4 x - 1} + 1}{2 x}$</td>\n      <td id=\"T_4de8c_row35_col2\" class=\"data row35 col2\" >YES</td>\n    </tr>\n    <tr>\n      <th id=\"T_4de8c_level0_row36\" class=\"row_heading level0 row36\" >37</th>\n      <td id=\"T_4de8c_row36_col0\" class=\"data row36 col0\" >-0.272500</td>\n      <td id=\"T_4de8c_row36_col1\" class=\"data row36 col1\" >$\\frac{\\sqrt{a_{8} \\left(1 - 4 x\\right)} + 2}{2 x}$</td>\n      <td id=\"T_4de8c_row36_col2\" class=\"data row36 col2\" >NO</td>\n    </tr>\n    <tr>\n      <th id=\"T_4de8c_level0_row37\" class=\"row_heading level0 row37\" >38</th>\n      <td id=\"T_4de8c_row37_col0\" class=\"data row37 col0\" >-0.273780</td>\n      <td id=\"T_4de8c_row37_col1\" class=\"data row37 col1\" >$\\frac{x + 2 \\sqrt{a_{8} \\left(1 - 4 x\\right)}}{x}$</td>\n      <td id=\"T_4de8c_row37_col2\" class=\"data row37 col2\" >NO</td>\n    </tr>\n    <tr>\n      <th id=\"T_4de8c_level0_row38\" class=\"row_heading level0 row38\" >39</th>\n      <td id=\"T_4de8c_row38_col0\" class=\"data row38 col0\" >-0.276355</td>\n      <td id=\"T_4de8c_row38_col1\" class=\"data row38 col1\" >$\\frac{\\sqrt{a_{8} \\left(1 - 4 x\\right)}}{x} + \\frac{1}{x}$</td>\n      <td id=\"T_4de8c_row38_col2\" class=\"data row38 col2\" >NO</td>\n    </tr>\n    <tr>\n      <th id=\"T_4de8c_level0_row39\" class=\"row_heading level0 row39\" >40</th>\n      <td id=\"T_4de8c_row39_col0\" class=\"data row39 col0\" >-0.284722</td>\n      <td id=\"T_4de8c_row39_col1\" class=\"data row39 col1\" >$\\frac{a_{8} x \\sqrt{1 - 4 x} + x}{x^{2}}$</td>\n      <td id=\"T_4de8c_row39_col2\" class=\"data row39 col2\" >NO</td>\n    </tr>\n    <tr>\n      <th id=\"T_4de8c_level0_row40\" class=\"row_heading level0 row40\" >41</th>\n      <td id=\"T_4de8c_row40_col0\" class=\"data row40 col0\" >-0.290143</td>\n      <td id=\"T_4de8c_row40_col1\" class=\"data row40 col1\" >$\\frac{a_{8} \\sqrt{4 - 16 x} + x}{x}$</td>\n      <td id=\"T_4de8c_row40_col2\" class=\"data row40 col2\" >NO</td>\n    </tr>\n    <tr>\n      <th id=\"T_4de8c_level0_row41\" class=\"row_heading level0 row41\" >42</th>\n      <td id=\"T_4de8c_row41_col0\" class=\"data row41 col0\" >-0.296901</td>\n      <td id=\"T_4de8c_row41_col1\" class=\"data row41 col1\" >$\\frac{a_{8} \\sqrt{x \\left(-4 + \\frac{1}{x}\\right)} + x}{x}$</td>\n      <td id=\"T_4de8c_row41_col2\" class=\"data row41 col2\" >NO</td>\n    </tr>\n    <tr>\n      <th id=\"T_4de8c_level0_row42\" class=\"row_heading level0 row42\" >43</th>\n      <td id=\"T_4de8c_row42_col0\" class=\"data row42 col0\" >-0.297938</td>\n      <td id=\"T_4de8c_row42_col1\" class=\"data row42 col1\" >$\\frac{a_{8} \\sqrt{3 - 12 x} + x}{x}$</td>\n      <td id=\"T_4de8c_row42_col2\" class=\"data row42 col2\" >NO</td>\n    </tr>\n    <tr>\n      <th id=\"T_4de8c_level0_row43\" class=\"row_heading level0 row43\" >44</th>\n      <td id=\"T_4de8c_row43_col0\" class=\"data row43 col0\" >-0.300713</td>\n      <td id=\"T_4de8c_row43_col1\" class=\"data row43 col1\" >$\\frac{a_{8} \\sqrt{x - \\frac{1}{4}} + 2 x}{2 x}$</td>\n      <td id=\"T_4de8c_row43_col2\" class=\"data row43 col2\" >NO</td>\n    </tr>\n    <tr>\n      <th id=\"T_4de8c_level0_row44\" class=\"row_heading level0 row44\" >45</th>\n      <td id=\"T_4de8c_row44_col0\" class=\"data row44 col0\" >-0.306542</td>\n      <td id=\"T_4de8c_row44_col1\" class=\"data row44 col1\" >$\\frac{a_{8} \\sqrt{8 x - 2} + x}{x}$</td>\n      <td id=\"T_4de8c_row44_col2\" class=\"data row44 col2\" >NO</td>\n    </tr>\n    <tr>\n      <th id=\"T_4de8c_level0_row45\" class=\"row_heading level0 row45\" >46</th>\n      <td id=\"T_4de8c_row45_col0\" class=\"data row45 col0\" >-0.308814</td>\n      <td id=\"T_4de8c_row45_col1\" class=\"data row45 col1\" >$\\frac{a_{8} \\sqrt{x - \\frac{1}{4}} + 1}{2 x}$</td>\n      <td id=\"T_4de8c_row45_col2\" class=\"data row45 col2\" >YES</td>\n    </tr>\n    <tr>\n      <th id=\"T_4de8c_level0_row46\" class=\"row_heading level0 row46\" >47</th>\n      <td id=\"T_4de8c_row46_col0\" class=\"data row46 col0\" >-0.310396</td>\n      <td id=\"T_4de8c_row46_col1\" class=\"data row46 col1\" >$\\frac{\\sqrt{a_{8} \\left(x - \\frac{1}{4}\\right)} + 1}{2 x}$</td>\n      <td id=\"T_4de8c_row46_col2\" class=\"data row46 col2\" >YES</td>\n    </tr>\n    <tr>\n      <th id=\"T_4de8c_level0_row47\" class=\"row_heading level0 row47\" >48</th>\n      <td id=\"T_4de8c_row47_col0\" class=\"data row47 col0\" >-0.313032</td>\n      <td id=\"T_4de8c_row47_col1\" class=\"data row47 col1\" >$\\frac{a_{8} \\sqrt{x - \\frac{1}{4}}}{x} + \\frac{1}{x}$</td>\n      <td id=\"T_4de8c_row47_col2\" class=\"data row47 col2\" >NO</td>\n    </tr>\n    <tr>\n      <th id=\"T_4de8c_level0_row48\" class=\"row_heading level0 row48\" >49</th>\n      <td id=\"T_4de8c_row48_col0\" class=\"data row48 col0\" >-0.318934</td>\n      <td id=\"T_4de8c_row48_col1\" class=\"data row48 col1\" >$\\frac{a_{8} \\sqrt{12 x - 3} + x}{x}$</td>\n      <td id=\"T_4de8c_row48_col2\" class=\"data row48 col2\" >NO</td>\n    </tr>\n    <tr>\n      <th id=\"T_4de8c_level0_row49\" class=\"row_heading level0 row49\" >50</th>\n      <td id=\"T_4de8c_row49_col0\" class=\"data row49 col0\" >-0.344304</td>\n      <td id=\"T_4de8c_row49_col1\" class=\"data row49 col1\" >$\\frac{a_{8} \\sqrt{x - \\frac{1}{4}} + 2}{2 x}$</td>\n      <td id=\"T_4de8c_row49_col2\" class=\"data row49 col2\" >NO</td>\n    </tr>\n  </tbody>\n</table>\n"
     },
     "execution_count": 18,
     "metadata": {},
     "output_type": "execute_result"
    }
   ],
   "source": [
    "pandas.set_option('max_colwidth', None)\n",
    "pandas.DataFrame(results, index=rows, columns=columns).style.set_properties(**{'text-align': 'center'})"
   ],
   "metadata": {
    "collapsed": false,
    "pycharm": {
     "name": "#%%\n"
    }
   }
  },
  {
   "cell_type": "markdown",
   "source": [
    "### Differential Equation for Generating Function of the Average Number of Comparisons in the Quicksort\n",
    "\n",
    "Declare Average number of comparisons in the Quicksort differential equation and solution $y$:"
   ],
   "metadata": {
    "collapsed": false
   }
  },
  {
   "cell_type": "code",
   "execution_count": 19,
   "outputs": [],
   "source": [
    "diff_eq_infix = \"diff(f(x),x)*(1-x)**3-2*(1-x)**2*f(x)-2\"\n",
    "y_infix = \"2/(1-x)**2 * ln(1/(1-x))\""
   ],
   "metadata": {
    "collapsed": false,
    "pycharm": {
     "name": "#%%\n"
    }
   }
  },
  {
   "cell_type": "markdown",
   "source": [
    "Converts **diff_eq_infix** and **y_infix** to a type that can be used inside SymPy:"
   ],
   "metadata": {
    "collapsed": false
   }
  },
  {
   "cell_type": "code",
   "execution_count": 20,
   "outputs": [
    {
     "data": {
      "text/plain": "(1 - x)**3*Derivative(f(x), x) - 2*(1 - x)**2*f(x) - 2",
      "text/latex": "$\\displaystyle \\left(1 - x\\right)^{3} \\frac{d}{d x} f{\\left(x \\right)} - 2 \\left(1 - x\\right)^{2} f{\\left(x \\right)} - 2$"
     },
     "execution_count": 20,
     "metadata": {},
     "output_type": "execute_result"
    }
   ],
   "source": [
    "diff_eq_sympy = sympy.sympify(diff_eq_infix, locals=env.local_dict)\n",
    "diff_eq_sympy"
   ],
   "metadata": {
    "collapsed": false,
    "pycharm": {
     "name": "#%%\n"
    }
   }
  },
  {
   "cell_type": "code",
   "execution_count": 21,
   "outputs": [
    {
     "data": {
      "text/plain": "2*log(1/(1 - x))/(1 - x)**2",
      "text/latex": "$\\displaystyle \\frac{2 \\log{\\left(\\frac{1}{1 - x} \\right)}}{\\left(1 - x\\right)^{2}}$"
     },
     "execution_count": 21,
     "metadata": {},
     "output_type": "execute_result"
    }
   ],
   "source": [
    "y_sympy = sympy.sympify(y_infix, locals=env.local_dict)\n",
    "y_sympy"
   ],
   "metadata": {
    "collapsed": false,
    "pycharm": {
     "name": "#%%\n"
    }
   }
  },
  {
   "cell_type": "markdown",
   "source": [
    "Expand the expression of the equation to allow the model to calculate the solution more easily:"
   ],
   "metadata": {
    "collapsed": false
   }
  },
  {
   "cell_type": "code",
   "execution_count": 22,
   "outputs": [
    {
     "data": {
      "text/plain": "-x**3*Derivative(f(x), x) - 2*x**2*f(x) + 3*x**2*Derivative(f(x), x) + 4*x*f(x) - 3*x*Derivative(f(x), x) - 2*f(x) + Derivative(f(x), x) - 2",
      "text/latex": "$\\displaystyle - x^{3} \\frac{d}{d x} f{\\left(x \\right)} - 2 x^{2} f{\\left(x \\right)} + 3 x^{2} \\frac{d}{d x} f{\\left(x \\right)} + 4 x f{\\left(x \\right)} - 3 x \\frac{d}{d x} f{\\left(x \\right)} - 2 f{\\left(x \\right)} + \\frac{d}{d x} f{\\left(x \\right)} - 2$"
     },
     "execution_count": 22,
     "metadata": {},
     "output_type": "execute_result"
    }
   ],
   "source": [
    "diff_eq_sympy = sympy.expand(diff_eq_sympy)\n",
    "diff_eq_sympy"
   ],
   "metadata": {
    "collapsed": false,
    "pycharm": {
     "name": "#%%\n"
    }
   }
  },
  {
   "cell_type": "markdown",
   "source": [
    "Use the model to find the solution $y$:"
   ],
   "metadata": {
    "collapsed": false
   }
  },
  {
   "cell_type": "code",
   "execution_count": 23,
   "outputs": [],
   "source": [
    "start_time = time.time()\n",
    "\n",
    "diff_eq_prefix = env.sympy_to_prefix(diff_eq_sympy)\n",
    "\n",
    "x1_prefix = env.clean_prefix(diff_eq_prefix)\n",
    "\n",
    "x1 = torch.LongTensor(\n",
    "    [env.eos_index] +\n",
    "    [env.word2id[w] for w in x1_prefix] +\n",
    "    [env.eos_index]\n",
    ").view(-1, 1)\n",
    "\n",
    "len1 = torch.LongTensor([len(x1)])\n",
    "x1, len1 = to_cuda(x1, len1)\n",
    "\n",
    "with torch.no_grad():\n",
    "    encoded = encoder('fwd', x=x1, lengths=len1, causal=False).transpose(0, 1)\n",
    "\n",
    "with torch.no_grad():\n",
    "    _, _, beam = decoder.generate_beam(encoded, len1, beam_size=beam_size, length_penalty=1.0, early_stopping=1,\n",
    "                                       max_len=params.max_len)\n",
    "\n",
    "end_time = time.time()\n",
    "\n",
    "assert len(beam) == 1\n",
    "hypotheses = beam[0].hyp\n",
    "assert len(hypotheses) == beam_size"
   ],
   "metadata": {
    "collapsed": false,
    "pycharm": {
     "name": "#%%\n"
    }
   }
  },
  {
   "cell_type": "markdown",
   "source": [
    "Execution time (seconds):"
   ],
   "metadata": {
    "collapsed": false
   }
  },
  {
   "cell_type": "code",
   "execution_count": 24,
   "outputs": [
    {
     "data": {
      "text/plain": "0.41722869873046875"
     },
     "execution_count": 24,
     "metadata": {},
     "output_type": "execute_result"
    }
   ],
   "source": [
    "end_time - start_time"
   ],
   "metadata": {
    "collapsed": false,
    "pycharm": {
     "name": "#%%\n"
    }
   }
  },
  {
   "cell_type": "markdown",
   "source": [
    "Extract scores and solution hypotheses:"
   ],
   "metadata": {
    "collapsed": false
   }
  },
  {
   "cell_type": "code",
   "execution_count": 25,
   "outputs": [],
   "source": [
    "rows = numpy.arange(1, beam_size + 1)\n",
    "columns = ['Score', 'Solution Hypothesis', 'Valid']\n",
    "results = []\n",
    "\n",
    "for score, sequence in sorted(hypotheses, reverse=True):\n",
    "    # Parse decoded hypothesis\n",
    "    ids = sequence[1:].tolist()  # Decoded token IDs\n",
    "    hyp_prefix = [env.id2word[word_id] for word_id in ids]  # Convert to prefix notation\n",
    "\n",
    "    try:\n",
    "        hyp_infix = env.prefix_to_infix(hyp_prefix)  # Convert to infix notation\n",
    "        hyp_sympy = env.infix_to_sympy(hyp_infix)  # Convert to SymPy\n",
    "\n",
    "        # Check if the hypothesis is a valid solution, replacing 'hyp_sympy' with 'f(x)' in the equation\n",
    "        validation = \"YES\" if simplify(diff_eq_sympy.subs(f(x), hyp_sympy).doit(), seconds=1) == 0 else \"NO\"\n",
    "\n",
    "        # Transform hypothesis to a valid latex expression\n",
    "        hyp_expr = \"$\" + sympy.latex(env.infix_to_sympy(hyp_infix)) + \"$\"\n",
    "\n",
    "    except (InvalidPrefixExpression, ValueErrorExpression):\n",
    "        validation = \"INVALID PREFIX EXPRESSION\"\n",
    "        hyp_expr = hyp_prefix\n",
    "\n",
    "    # Prepare results\n",
    "    results.append([score, hyp_expr, validation])"
   ],
   "metadata": {
    "collapsed": false,
    "pycharm": {
     "name": "#%%\n"
    }
   }
  },
  {
   "cell_type": "markdown",
   "source": [
    "Print results:"
   ],
   "metadata": {
    "collapsed": false
   }
  },
  {
   "cell_type": "code",
   "execution_count": 26,
   "outputs": [
    {
     "data": {
      "text/plain": "<pandas.io.formats.style.Styler at 0x7f535aff69a0>",
      "text/html": "<style type=\"text/css\">\n#T_465c3_row0_col0, #T_465c3_row0_col1, #T_465c3_row0_col2, #T_465c3_row1_col0, #T_465c3_row1_col1, #T_465c3_row1_col2, #T_465c3_row2_col0, #T_465c3_row2_col1, #T_465c3_row2_col2, #T_465c3_row3_col0, #T_465c3_row3_col1, #T_465c3_row3_col2, #T_465c3_row4_col0, #T_465c3_row4_col1, #T_465c3_row4_col2, #T_465c3_row5_col0, #T_465c3_row5_col1, #T_465c3_row5_col2, #T_465c3_row6_col0, #T_465c3_row6_col1, #T_465c3_row6_col2, #T_465c3_row7_col0, #T_465c3_row7_col1, #T_465c3_row7_col2, #T_465c3_row8_col0, #T_465c3_row8_col1, #T_465c3_row8_col2, #T_465c3_row9_col0, #T_465c3_row9_col1, #T_465c3_row9_col2, #T_465c3_row10_col0, #T_465c3_row10_col1, #T_465c3_row10_col2, #T_465c3_row11_col0, #T_465c3_row11_col1, #T_465c3_row11_col2, #T_465c3_row12_col0, #T_465c3_row12_col1, #T_465c3_row12_col2, #T_465c3_row13_col0, #T_465c3_row13_col1, #T_465c3_row13_col2, #T_465c3_row14_col0, #T_465c3_row14_col1, #T_465c3_row14_col2, #T_465c3_row15_col0, #T_465c3_row15_col1, #T_465c3_row15_col2, #T_465c3_row16_col0, #T_465c3_row16_col1, #T_465c3_row16_col2, #T_465c3_row17_col0, #T_465c3_row17_col1, #T_465c3_row17_col2, #T_465c3_row18_col0, #T_465c3_row18_col1, #T_465c3_row18_col2, #T_465c3_row19_col0, #T_465c3_row19_col1, #T_465c3_row19_col2, #T_465c3_row20_col0, #T_465c3_row20_col1, #T_465c3_row20_col2, #T_465c3_row21_col0, #T_465c3_row21_col1, #T_465c3_row21_col2, #T_465c3_row22_col0, #T_465c3_row22_col1, #T_465c3_row22_col2, #T_465c3_row23_col0, #T_465c3_row23_col1, #T_465c3_row23_col2, #T_465c3_row24_col0, #T_465c3_row24_col1, #T_465c3_row24_col2, #T_465c3_row25_col0, #T_465c3_row25_col1, #T_465c3_row25_col2, #T_465c3_row26_col0, #T_465c3_row26_col1, #T_465c3_row26_col2, #T_465c3_row27_col0, #T_465c3_row27_col1, #T_465c3_row27_col2, #T_465c3_row28_col0, #T_465c3_row28_col1, #T_465c3_row28_col2, #T_465c3_row29_col0, #T_465c3_row29_col1, #T_465c3_row29_col2, #T_465c3_row30_col0, #T_465c3_row30_col1, #T_465c3_row30_col2, #T_465c3_row31_col0, #T_465c3_row31_col1, #T_465c3_row31_col2, #T_465c3_row32_col0, #T_465c3_row32_col1, #T_465c3_row32_col2, #T_465c3_row33_col0, #T_465c3_row33_col1, #T_465c3_row33_col2, #T_465c3_row34_col0, #T_465c3_row34_col1, #T_465c3_row34_col2, #T_465c3_row35_col0, #T_465c3_row35_col1, #T_465c3_row35_col2, #T_465c3_row36_col0, #T_465c3_row36_col1, #T_465c3_row36_col2, #T_465c3_row37_col0, #T_465c3_row37_col1, #T_465c3_row37_col2, #T_465c3_row38_col0, #T_465c3_row38_col1, #T_465c3_row38_col2, #T_465c3_row39_col0, #T_465c3_row39_col1, #T_465c3_row39_col2, #T_465c3_row40_col0, #T_465c3_row40_col1, #T_465c3_row40_col2, #T_465c3_row41_col0, #T_465c3_row41_col1, #T_465c3_row41_col2, #T_465c3_row42_col0, #T_465c3_row42_col1, #T_465c3_row42_col2, #T_465c3_row43_col0, #T_465c3_row43_col1, #T_465c3_row43_col2, #T_465c3_row44_col0, #T_465c3_row44_col1, #T_465c3_row44_col2, #T_465c3_row45_col0, #T_465c3_row45_col1, #T_465c3_row45_col2, #T_465c3_row46_col0, #T_465c3_row46_col1, #T_465c3_row46_col2, #T_465c3_row47_col0, #T_465c3_row47_col1, #T_465c3_row47_col2, #T_465c3_row48_col0, #T_465c3_row48_col1, #T_465c3_row48_col2, #T_465c3_row49_col0, #T_465c3_row49_col1, #T_465c3_row49_col2 {\n  text-align: center;\n}\n</style>\n<table id=\"T_465c3_\">\n  <thead>\n    <tr>\n      <th class=\"blank level0\" >&nbsp;</th>\n      <th class=\"col_heading level0 col0\" >Score</th>\n      <th class=\"col_heading level0 col1\" >Solution Hypothesis</th>\n      <th class=\"col_heading level0 col2\" >Valid</th>\n    </tr>\n  </thead>\n  <tbody>\n    <tr>\n      <th id=\"T_465c3_level0_row0\" class=\"row_heading level0 row0\" >1</th>\n      <td id=\"T_465c3_row0_col0\" class=\"data row0 col0\" >-0.120965</td>\n      <td id=\"T_465c3_row0_col1\" class=\"data row0 col1\" >$\\frac{a_{8} + \\frac{2}{1 - x}}{\\left(1 - x\\right)^{2}}$</td>\n      <td id=\"T_465c3_row0_col2\" class=\"data row0 col2\" >NO</td>\n    </tr>\n    <tr>\n      <th id=\"T_465c3_level0_row1\" class=\"row_heading level0 row1\" >2</th>\n      <td id=\"T_465c3_row1_col0\" class=\"data row1 col0\" >-0.136975</td>\n      <td id=\"T_465c3_row1_col1\" class=\"data row1 col1\" >$\\frac{a_{8} + \\frac{2}{1 - x}}{\\left(x - 1\\right)^{2}}$</td>\n      <td id=\"T_465c3_row1_col2\" class=\"data row1 col2\" >NO</td>\n    </tr>\n    <tr>\n      <th id=\"T_465c3_level0_row2\" class=\"row_heading level0 row2\" >3</th>\n      <td id=\"T_465c3_row2_col0\" class=\"data row2 col0\" >-0.149535</td>\n      <td id=\"T_465c3_row2_col1\" class=\"data row2 col1\" >$\\frac{a_{8} + \\frac{2 x}{x - 1}}{\\left(1 - x\\right)^{2}}$</td>\n      <td id=\"T_465c3_row2_col2\" class=\"data row2 col2\" >NO</td>\n    </tr>\n    <tr>\n      <th id=\"T_465c3_level0_row3\" class=\"row_heading level0 row3\" >4</th>\n      <td id=\"T_465c3_row3_col0\" class=\"data row3 col0\" >-0.161307</td>\n      <td id=\"T_465c3_row3_col1\" class=\"data row3 col1\" >$\\frac{a_{8} - 2 \\log{\\left(1 - x \\right)}}{\\left(1 - x\\right)^{2}}$</td>\n      <td id=\"T_465c3_row3_col2\" class=\"data row3 col2\" >YES</td>\n    </tr>\n    <tr>\n      <th id=\"T_465c3_level0_row4\" class=\"row_heading level0 row4\" >5</th>\n      <td id=\"T_465c3_row4_col0\" class=\"data row4 col0\" >-0.162179</td>\n      <td id=\"T_465c3_row4_col1\" class=\"data row4 col1\" >$\\frac{a_{8} + 2 x}{\\left(1 - x\\right)^{2}}$</td>\n      <td id=\"T_465c3_row4_col2\" class=\"data row4 col2\" >NO</td>\n    </tr>\n    <tr>\n      <th id=\"T_465c3_level0_row5\" class=\"row_heading level0 row5\" >6</th>\n      <td id=\"T_465c3_row5_col0\" class=\"data row5 col0\" >-0.165757</td>\n      <td id=\"T_465c3_row5_col1\" class=\"data row5 col1\" >$\\frac{a_{8} + \\frac{2 x}{- x^{2} + x}}{\\left(1 - x\\right)^{2}}$</td>\n      <td id=\"T_465c3_row5_col2\" class=\"data row5 col2\" >NO</td>\n    </tr>\n    <tr>\n      <th id=\"T_465c3_level0_row6\" class=\"row_heading level0 row6\" >7</th>\n      <td id=\"T_465c3_row6_col0\" class=\"data row6 col0\" >-0.166652</td>\n      <td id=\"T_465c3_row6_col1\" class=\"data row6 col1\" >$\\frac{a_{8} + \\frac{2 x}{- x^{2} + x}}{\\left(x - 1\\right)^{2}}$</td>\n      <td id=\"T_465c3_row6_col2\" class=\"data row6 col2\" >NO</td>\n    </tr>\n    <tr>\n      <th id=\"T_465c3_level0_row7\" class=\"row_heading level0 row7\" >8</th>\n      <td id=\"T_465c3_row7_col0\" class=\"data row7 col0\" >-0.181282</td>\n      <td id=\"T_465c3_row7_col1\" class=\"data row7 col1\" >$\\frac{a_{8} + \\frac{2 x}{1 - x}}{\\left(1 - x\\right)^{2}}$</td>\n      <td id=\"T_465c3_row7_col2\" class=\"data row7 col2\" >NO</td>\n    </tr>\n    <tr>\n      <th id=\"T_465c3_level0_row8\" class=\"row_heading level0 row8\" >9</th>\n      <td id=\"T_465c3_row8_col0\" class=\"data row8 col0\" >-0.185461</td>\n      <td id=\"T_465c3_row8_col1\" class=\"data row8 col1\" >$\\frac{a_{8} + \\frac{2 x}{x - 1}}{\\left(x - 1\\right)^{2}}$</td>\n      <td id=\"T_465c3_row8_col2\" class=\"data row8 col2\" >NO</td>\n    </tr>\n    <tr>\n      <th id=\"T_465c3_level0_row9\" class=\"row_heading level0 row9\" >10</th>\n      <td id=\"T_465c3_row9_col0\" class=\"data row9 col0\" >-0.192135</td>\n      <td id=\"T_465c3_row9_col1\" class=\"data row9 col1\" >$\\frac{a_{8} + 2 \\log{\\left(1 - x \\right)}}{\\left(1 - x\\right)^{2}}$</td>\n      <td id=\"T_465c3_row9_col2\" class=\"data row9 col2\" >NO</td>\n    </tr>\n    <tr>\n      <th id=\"T_465c3_level0_row10\" class=\"row_heading level0 row10\" >11</th>\n      <td id=\"T_465c3_row10_col0\" class=\"data row10 col0\" >-0.192804</td>\n      <td id=\"T_465c3_row10_col1\" class=\"data row10 col1\" >$\\frac{a_{8} + \\frac{2 x}{1 - x}}{\\left(x - 1\\right)^{2}}$</td>\n      <td id=\"T_465c3_row10_col2\" class=\"data row10 col2\" >NO</td>\n    </tr>\n    <tr>\n      <th id=\"T_465c3_level0_row11\" class=\"row_heading level0 row11\" >12</th>\n      <td id=\"T_465c3_row11_col0\" class=\"data row11 col0\" >-0.194269</td>\n      <td id=\"T_465c3_row11_col1\" class=\"data row11 col1\" >$\\frac{a_{8} - 2 x}{\\left(1 - x\\right)^{2}}$</td>\n      <td id=\"T_465c3_row11_col2\" class=\"data row11 col2\" >NO</td>\n    </tr>\n    <tr>\n      <th id=\"T_465c3_level0_row12\" class=\"row_heading level0 row12\" >13</th>\n      <td id=\"T_465c3_row12_col0\" class=\"data row12 col0\" >-0.194565</td>\n      <td id=\"T_465c3_row12_col1\" class=\"data row12 col1\" >$\\frac{a_{8} + \\log{\\left(\\left(x - 1\\right)^{2} \\right)}}{- x^{2} + 2 x - 1}$</td>\n      <td id=\"T_465c3_row12_col2\" class=\"data row12 col2\" >YES</td>\n    </tr>\n    <tr>\n      <th id=\"T_465c3_level0_row13\" class=\"row_heading level0 row13\" >14</th>\n      <td id=\"T_465c3_row13_col0\" class=\"data row13 col0\" >-0.198856</td>\n      <td id=\"T_465c3_row13_col1\" class=\"data row13 col1\" >$\\frac{x^{2} \\left(a_{8} + 2 x\\right)}{\\left(- x^{2} + x\\right)^{2}}$</td>\n      <td id=\"T_465c3_row13_col2\" class=\"data row13 col2\" >NO</td>\n    </tr>\n    <tr>\n      <th id=\"T_465c3_level0_row14\" class=\"row_heading level0 row14\" >15</th>\n      <td id=\"T_465c3_row14_col0\" class=\"data row14 col0\" >-0.201619</td>\n      <td id=\"T_465c3_row14_col1\" class=\"data row14 col1\" >$\\frac{x^{2} \\left(a_{8} + 2 x\\right)}{\\left(x^{2} - x\\right)^{2}}$</td>\n      <td id=\"T_465c3_row14_col2\" class=\"data row14 col2\" >NO</td>\n    </tr>\n    <tr>\n      <th id=\"T_465c3_level0_row15\" class=\"row_heading level0 row15\" >16</th>\n      <td id=\"T_465c3_row15_col0\" class=\"data row15 col0\" >-0.202179</td>\n      <td id=\"T_465c3_row15_col1\" class=\"data row15 col1\" >$\\frac{a_{8} + \\log{\\left(\\frac{1}{\\left(1 - x\\right)^{2}} \\right)}}{\\left(1 - x\\right)^{2}}$</td>\n      <td id=\"T_465c3_row15_col2\" class=\"data row15 col2\" >YES</td>\n    </tr>\n    <tr>\n      <th id=\"T_465c3_level0_row16\" class=\"row_heading level0 row16\" >17</th>\n      <td id=\"T_465c3_row16_col0\" class=\"data row16 col0\" >-0.202428</td>\n      <td id=\"T_465c3_row16_col1\" class=\"data row16 col1\" >$\\frac{a_{8} - 2 \\log{\\left(x - 1 \\right)}}{\\left(1 - x\\right)^{2}}$</td>\n      <td id=\"T_465c3_row16_col2\" class=\"data row16 col2\" >YES</td>\n    </tr>\n    <tr>\n      <th id=\"T_465c3_level0_row17\" class=\"row_heading level0 row17\" >18</th>\n      <td id=\"T_465c3_row17_col0\" class=\"data row17 col0\" >-0.204305</td>\n      <td id=\"T_465c3_row17_col1\" class=\"data row17 col1\" >$\\frac{a_{8} + \\log{\\left(\\frac{e^{2 x}}{\\left(1 - x\\right)^{2}} \\right)}}{\\left(1 - x\\right)^{2}}$</td>\n      <td id=\"T_465c3_row17_col2\" class=\"data row17 col2\" >NO</td>\n    </tr>\n    <tr>\n      <th id=\"T_465c3_level0_row18\" class=\"row_heading level0 row18\" >19</th>\n      <td id=\"T_465c3_row18_col0\" class=\"data row18 col0\" >-0.204425</td>\n      <td id=\"T_465c3_row18_col1\" class=\"data row18 col1\" >$\\frac{a_{8} + \\frac{2 x^{2}}{x^{2} - x}}{\\left(x - 1\\right)^{2}}$</td>\n      <td id=\"T_465c3_row18_col2\" class=\"data row18 col2\" >NO</td>\n    </tr>\n    <tr>\n      <th id=\"T_465c3_level0_row19\" class=\"row_heading level0 row19\" >20</th>\n      <td id=\"T_465c3_row19_col0\" class=\"data row19 col0\" >-0.208367</td>\n      <td id=\"T_465c3_row19_col1\" class=\"data row19 col1\" >$\\frac{a_{8} + 2 x}{\\left(x - 1\\right) \\left(x^{2} - 2 x + 1\\right)}$</td>\n      <td id=\"T_465c3_row19_col2\" class=\"data row19 col2\" >NO</td>\n    </tr>\n    <tr>\n      <th id=\"T_465c3_level0_row20\" class=\"row_heading level0 row20\" >21</th>\n      <td id=\"T_465c3_row20_col0\" class=\"data row20 col0\" >-0.209526</td>\n      <td id=\"T_465c3_row20_col1\" class=\"data row20 col1\" >$\\frac{a_{8} + 2 x}{- x^{2} + 2 x - 1}$</td>\n      <td id=\"T_465c3_row20_col2\" class=\"data row20 col2\" >NO</td>\n    </tr>\n    <tr>\n      <th id=\"T_465c3_level0_row21\" class=\"row_heading level0 row21\" >22</th>\n      <td id=\"T_465c3_row21_col0\" class=\"data row21 col0\" >-0.209593</td>\n      <td id=\"T_465c3_row21_col1\" class=\"data row21 col1\" >$\\frac{a_{8} - \\frac{2 x}{x - 1}}{\\left(x - 1\\right)^{2}}$</td>\n      <td id=\"T_465c3_row21_col2\" class=\"data row21 col2\" >NO</td>\n    </tr>\n    <tr>\n      <th id=\"T_465c3_level0_row22\" class=\"row_heading level0 row22\" >23</th>\n      <td id=\"T_465c3_row22_col0\" class=\"data row22 col0\" >-0.209843</td>\n      <td id=\"T_465c3_row22_col1\" class=\"data row22 col1\" >$\\frac{a_{8} - 2 \\log{\\left(1 - x \\right)}}{\\left(x - 1\\right)^{2}}$</td>\n      <td id=\"T_465c3_row22_col2\" class=\"data row22 col2\" >YES</td>\n    </tr>\n    <tr>\n      <th id=\"T_465c3_level0_row23\" class=\"row_heading level0 row23\" >24</th>\n      <td id=\"T_465c3_row23_col0\" class=\"data row23 col0\" >-0.214436</td>\n      <td id=\"T_465c3_row23_col1\" class=\"data row23 col1\" >$\\frac{a_{8} \\left(x - 1\\right) + 2 x}{- x^{2} + 2 x - 1}$</td>\n      <td id=\"T_465c3_row23_col2\" class=\"data row23 col2\" >NO</td>\n    </tr>\n    <tr>\n      <th id=\"T_465c3_level0_row24\" class=\"row_heading level0 row24\" >25</th>\n      <td id=\"T_465c3_row24_col0\" class=\"data row24 col0\" >-0.216469</td>\n      <td id=\"T_465c3_row24_col1\" class=\"data row24 col1\" >$\\frac{a_{8} + \\frac{2 x}{x - 1}}{x^{2} - 2 x + 1}$</td>\n      <td id=\"T_465c3_row24_col2\" class=\"data row24 col2\" >NO</td>\n    </tr>\n    <tr>\n      <th id=\"T_465c3_level0_row25\" class=\"row_heading level0 row25\" >26</th>\n      <td id=\"T_465c3_row25_col0\" class=\"data row25 col0\" >-0.221161</td>\n      <td id=\"T_465c3_row25_col1\" class=\"data row25 col1\" >$\\frac{a_{8} + \\frac{2 x + 2}{1 - x}}{\\left(x - 1\\right)^{2}}$</td>\n      <td id=\"T_465c3_row25_col2\" class=\"data row25 col2\" >NO</td>\n    </tr>\n    <tr>\n      <th id=\"T_465c3_level0_row26\" class=\"row_heading level0 row26\" >27</th>\n      <td id=\"T_465c3_row26_col0\" class=\"data row26 col0\" >-0.224224</td>\n      <td id=\"T_465c3_row26_col1\" class=\"data row26 col1\" >$\\frac{a_{8} + \\log{\\left(\\frac{1}{\\left(x - 1\\right)^{2}} \\right)}}{\\left(1 - x\\right)^{2}}$</td>\n      <td id=\"T_465c3_row26_col2\" class=\"data row26 col2\" >YES</td>\n    </tr>\n    <tr>\n      <th id=\"T_465c3_level0_row27\" class=\"row_heading level0 row27\" >28</th>\n      <td id=\"T_465c3_row27_col0\" class=\"data row27 col0\" >-0.225353</td>\n      <td id=\"T_465c3_row27_col1\" class=\"data row27 col1\" >$\\frac{a_{8} + 2 x}{\\left(x - 1\\right)^{2}}$</td>\n      <td id=\"T_465c3_row27_col2\" class=\"data row27 col2\" >NO</td>\n    </tr>\n    <tr>\n      <th id=\"T_465c3_level0_row28\" class=\"row_heading level0 row28\" >29</th>\n      <td id=\"T_465c3_row28_col0\" class=\"data row28 col0\" >-0.225626</td>\n      <td id=\"T_465c3_row28_col1\" class=\"data row28 col1\" >$\\frac{a_{8} - \\frac{2 x}{x - 1}}{\\left(1 - x\\right)^{2}}$</td>\n      <td id=\"T_465c3_row28_col2\" class=\"data row28 col2\" >NO</td>\n    </tr>\n    <tr>\n      <th id=\"T_465c3_level0_row29\" class=\"row_heading level0 row29\" >30</th>\n      <td id=\"T_465c3_row29_col0\" class=\"data row29 col0\" >-0.225973</td>\n      <td id=\"T_465c3_row29_col1\" class=\"data row29 col1\" >$\\frac{a_{8} - \\frac{2 x}{1 - x}}{\\left(x - 1\\right)^{2}}$</td>\n      <td id=\"T_465c3_row29_col2\" class=\"data row29 col2\" >NO</td>\n    </tr>\n    <tr>\n      <th id=\"T_465c3_level0_row30\" class=\"row_heading level0 row30\" >31</th>\n      <td id=\"T_465c3_row30_col0\" class=\"data row30 col0\" >-0.226732</td>\n      <td id=\"T_465c3_row30_col1\" class=\"data row30 col1\" >$\\frac{x^{2} \\left(\\frac{a_{8}}{x^{2}} + 2\\right)}{\\left(x^{2} - x\\right)^{2}}$</td>\n      <td id=\"T_465c3_row30_col2\" class=\"data row30 col2\" >NO</td>\n    </tr>\n    <tr>\n      <th id=\"T_465c3_level0_row31\" class=\"row_heading level0 row31\" >32</th>\n      <td id=\"T_465c3_row31_col0\" class=\"data row31 col0\" >-0.228159</td>\n      <td id=\"T_465c3_row31_col1\" class=\"data row31 col1\" >$\\frac{a_{8} \\left(1 - x\\right) + 2 x}{x^{2} - 2 x + 1}$</td>\n      <td id=\"T_465c3_row31_col2\" class=\"data row31 col2\" >NO</td>\n    </tr>\n    <tr>\n      <th id=\"T_465c3_level0_row32\" class=\"row_heading level0 row32\" >33</th>\n      <td id=\"T_465c3_row32_col0\" class=\"data row32 col0\" >-0.231220</td>\n      <td id=\"T_465c3_row32_col1\" class=\"data row32 col1\" >$\\frac{a_{8} + \\log{\\left(\\frac{e^{2 x}}{\\left(x - 1\\right)^{2}} \\right)}}{\\left(1 - x\\right)^{2}}$</td>\n      <td id=\"T_465c3_row32_col2\" class=\"data row32 col2\" >NO</td>\n    </tr>\n    <tr>\n      <th id=\"T_465c3_level0_row33\" class=\"row_heading level0 row33\" >34</th>\n      <td id=\"T_465c3_row33_col0\" class=\"data row33 col0\" >-0.233862</td>\n      <td id=\"T_465c3_row33_col1\" class=\"data row33 col1\" >$\\frac{x^{2} \\left(a_{8} + \\frac{2}{x}\\right)}{\\left(- x^{2} + x\\right)^{2}}$</td>\n      <td id=\"T_465c3_row33_col2\" class=\"data row33 col2\" >NO</td>\n    </tr>\n    <tr>\n      <th id=\"T_465c3_level0_row34\" class=\"row_heading level0 row34\" >35</th>\n      <td id=\"T_465c3_row34_col0\" class=\"data row34 col0\" >-0.234566</td>\n      <td id=\"T_465c3_row34_col1\" class=\"data row34 col1\" >$\\frac{x^{2} \\left(a_{8} + \\frac{2}{x}\\right)}{\\left(x^{2} - x\\right)^{2}}$</td>\n      <td id=\"T_465c3_row34_col2\" class=\"data row34 col2\" >NO</td>\n    </tr>\n    <tr>\n      <th id=\"T_465c3_level0_row35\" class=\"row_heading level0 row35\" >36</th>\n      <td id=\"T_465c3_row35_col0\" class=\"data row35 col0\" >-0.237280</td>\n      <td id=\"T_465c3_row35_col1\" class=\"data row35 col1\" >$\\frac{a_{8} + \\frac{2}{x}}{\\left(1 - x\\right)^{2}}$</td>\n      <td id=\"T_465c3_row35_col2\" class=\"data row35 col2\" >NO</td>\n    </tr>\n    <tr>\n      <th id=\"T_465c3_level0_row36\" class=\"row_heading level0 row36\" >37</th>\n      <td id=\"T_465c3_row36_col0\" class=\"data row36 col0\" >-0.239443</td>\n      <td id=\"T_465c3_row36_col1\" class=\"data row36 col1\" >$\\frac{a_{8} + \\log{\\left(\\frac{e^{- 2 x}}{\\left(1 - x\\right)^{2}} \\right)}}{\\left(1 - x\\right)^{2}}$</td>\n      <td id=\"T_465c3_row36_col2\" class=\"data row36 col2\" >NO</td>\n    </tr>\n    <tr>\n      <th id=\"T_465c3_level0_row37\" class=\"row_heading level0 row37\" >38</th>\n      <td id=\"T_465c3_row37_col0\" class=\"data row37 col0\" >-0.241525</td>\n      <td id=\"T_465c3_row37_col1\" class=\"data row37 col1\" >$\\frac{a_{8} + \\log{\\left(\\frac{1}{\\left(1 - x\\right)^{2}} \\right)}}{\\left(x - 1\\right)^{2}}$</td>\n      <td id=\"T_465c3_row37_col2\" class=\"data row37 col2\" >YES</td>\n    </tr>\n    <tr>\n      <th id=\"T_465c3_level0_row38\" class=\"row_heading level0 row38\" >39</th>\n      <td id=\"T_465c3_row38_col0\" class=\"data row38 col0\" >-0.245125</td>\n      <td id=\"T_465c3_row38_col1\" class=\"data row38 col1\" >$\\frac{a_{8} + 2 \\log{\\left(1 - x \\right)}}{\\left(x - 1\\right)^{2}}$</td>\n      <td id=\"T_465c3_row38_col2\" class=\"data row38 col2\" >NO</td>\n    </tr>\n    <tr>\n      <th id=\"T_465c3_level0_row39\" class=\"row_heading level0 row39\" >40</th>\n      <td id=\"T_465c3_row39_col0\" class=\"data row39 col0\" >-0.246738</td>\n      <td id=\"T_465c3_row39_col1\" class=\"data row39 col1\" >$\\frac{a_{8} + \\frac{x + 1}{1 - x}}{\\left(1 - x\\right)^{2}}$</td>\n      <td id=\"T_465c3_row39_col2\" class=\"data row39 col2\" >NO</td>\n    </tr>\n    <tr>\n      <th id=\"T_465c3_level0_row40\" class=\"row_heading level0 row40\" >41</th>\n      <td id=\"T_465c3_row40_col0\" class=\"data row40 col0\" >-0.248982</td>\n      <td id=\"T_465c3_row40_col1\" class=\"data row40 col1\" >$\\frac{x^{2} \\left(\\frac{a_{8}}{x^{2}} + 2\\right)}{\\left(- x^{2} + x\\right)^{2}}$</td>\n      <td id=\"T_465c3_row40_col2\" class=\"data row40 col2\" >NO</td>\n    </tr>\n    <tr>\n      <th id=\"T_465c3_level0_row41\" class=\"row_heading level0 row41\" >42</th>\n      <td id=\"T_465c3_row41_col0\" class=\"data row41 col0\" >-0.249892</td>\n      <td id=\"T_465c3_row41_col1\" class=\"data row41 col1\" >$\\frac{a_{8} + \\log{\\left(\\left(1 - x\\right)^{2} e^{2 x} \\right)}}{\\left(1 - x\\right)^{2}}$</td>\n      <td id=\"T_465c3_row41_col2\" class=\"data row41 col2\" >NO</td>\n    </tr>\n    <tr>\n      <th id=\"T_465c3_level0_row42\" class=\"row_heading level0 row42\" >43</th>\n      <td id=\"T_465c3_row42_col0\" class=\"data row42 col0\" >-0.253215</td>\n      <td id=\"T_465c3_row42_col1\" class=\"data row42 col1\" >$\\frac{a_{8} + \\frac{x + 1}{1 - x}}{\\left(x - 1\\right)^{2}}$</td>\n      <td id=\"T_465c3_row42_col2\" class=\"data row42 col2\" >NO</td>\n    </tr>\n    <tr>\n      <th id=\"T_465c3_level0_row43\" class=\"row_heading level0 row43\" >44</th>\n      <td id=\"T_465c3_row43_col0\" class=\"data row43 col0\" >-0.257922</td>\n      <td id=\"T_465c3_row43_col1\" class=\"data row43 col1\" >$\\frac{x^{2} \\left(\\frac{a_{8}}{x - 1} + 2\\right)}{\\left(- x^{2} + x\\right)^{2}}$</td>\n      <td id=\"T_465c3_row43_col2\" class=\"data row43 col2\" >NO</td>\n    </tr>\n    <tr>\n      <th id=\"T_465c3_level0_row44\" class=\"row_heading level0 row44\" >45</th>\n      <td id=\"T_465c3_row44_col0\" class=\"data row44 col0\" >-0.259116</td>\n      <td id=\"T_465c3_row44_col1\" class=\"data row44 col1\" >$\\frac{a_{8} - 2 x}{\\left(x - 1\\right)^{2}}$</td>\n      <td id=\"T_465c3_row44_col2\" class=\"data row44 col2\" >NO</td>\n    </tr>\n    <tr>\n      <th id=\"T_465c3_level0_row45\" class=\"row_heading level0 row45\" >46</th>\n      <td id=\"T_465c3_row45_col0\" class=\"data row45 col0\" >-0.259202</td>\n      <td id=\"T_465c3_row45_col1\" class=\"data row45 col1\" >$\\frac{a_{8} + 2 \\log{\\left(x - 1 \\right)}}{\\left(1 - x\\right)^{2}}$</td>\n      <td id=\"T_465c3_row45_col2\" class=\"data row45 col2\" >NO</td>\n    </tr>\n    <tr>\n      <th id=\"T_465c3_level0_row46\" class=\"row_heading level0 row46\" >47</th>\n      <td id=\"T_465c3_row46_col0\" class=\"data row46 col0\" >-0.263651</td>\n      <td id=\"T_465c3_row46_col1\" class=\"data row46 col1\" >$\\frac{x^{2} \\left(a_{8} + 2 \\log{\\left(x \\right)}\\right)}{\\left(x^{2} - x\\right)^{2}}$</td>\n      <td id=\"T_465c3_row46_col2\" class=\"data row46 col2\" >NO</td>\n    </tr>\n    <tr>\n      <th id=\"T_465c3_level0_row47\" class=\"row_heading level0 row47\" >48</th>\n      <td id=\"T_465c3_row47_col0\" class=\"data row47 col0\" >-0.265317</td>\n      <td id=\"T_465c3_row47_col1\" class=\"data row47 col1\" >$\\frac{x^{2} \\left(a_{8} - 2 \\log{\\left(x - 1 \\right)}\\right)}{\\left(x^{2} - x\\right)^{2}}$</td>\n      <td id=\"T_465c3_row47_col2\" class=\"data row47 col2\" >YES</td>\n    </tr>\n    <tr>\n      <th id=\"T_465c3_level0_row48\" class=\"row_heading level0 row48\" >49</th>\n      <td id=\"T_465c3_row48_col0\" class=\"data row48 col0\" >-0.265854</td>\n      <td id=\"T_465c3_row48_col1\" class=\"data row48 col1\" >$\\frac{x^{2} \\left(a_{8} - 2 x\\right)}{\\left(x^{2} - x\\right)^{2}}$</td>\n      <td id=\"T_465c3_row48_col2\" class=\"data row48 col2\" >NO</td>\n    </tr>\n    <tr>\n      <th id=\"T_465c3_level0_row49\" class=\"row_heading level0 row49\" >50</th>\n      <td id=\"T_465c3_row49_col0\" class=\"data row49 col0\" >-0.267150</td>\n      <td id=\"T_465c3_row49_col1\" class=\"data row49 col1\" >$\\frac{a_{8} - 2 \\log{\\left(x - 1 \\right)}}{\\left(x - 1\\right)^{2}}$</td>\n      <td id=\"T_465c3_row49_col2\" class=\"data row49 col2\" >YES</td>\n    </tr>\n  </tbody>\n</table>\n"
     },
     "execution_count": 26,
     "metadata": {},
     "output_type": "execute_result"
    }
   ],
   "source": [
    "pandas.set_option('max_colwidth', None)\n",
    "pandas.DataFrame(results, index=rows, columns=columns).style.set_properties(**{'text-align': 'center'})"
   ],
   "metadata": {
    "collapsed": false,
    "pycharm": {
     "name": "#%%\n"
    }
   }
  },
  {
   "cell_type": "markdown",
   "source": [
    "### Differential Equation for Generating Function of the Average Number of Exchanges in the Quicksort\n",
    "\n",
    "Declare Average number of exchanges in the Quicksort differential equation and solution $y$:"
   ],
   "metadata": {
    "collapsed": false
   }
  },
  {
   "cell_type": "code",
   "execution_count": 27,
   "outputs": [],
   "source": [
    "diff_eq_infix = \"diff(f(x),x)*6*(1-x)**3 - 12*(1-x)**2*f(x) - (x**2*(3-x))\"\n",
    "y_infix = \"(1/3)*(1/(1-x)**2)*ln(1/(1-x))+(x**3-3*x**2-6*t)/(18*(1-x)**2)\""
   ],
   "metadata": {
    "collapsed": false,
    "pycharm": {
     "name": "#%%\n"
    }
   }
  },
  {
   "cell_type": "markdown",
   "source": [
    "Converts **diff_eq_infix** and **y_infix** to a type that can be used inside SymPy:"
   ],
   "metadata": {
    "collapsed": false
   }
  },
  {
   "cell_type": "code",
   "execution_count": 28,
   "outputs": [
    {
     "data": {
      "text/plain": "-x**2*(3 - x) + 6*(1 - x)**3*Derivative(f(x), x) - 12*(1 - x)**2*f(x)",
      "text/latex": "$\\displaystyle - x^{2} \\left(3 - x\\right) + 6 \\left(1 - x\\right)^{3} \\frac{d}{d x} f{\\left(x \\right)} - 12 \\left(1 - x\\right)^{2} f{\\left(x \\right)}$"
     },
     "execution_count": 28,
     "metadata": {},
     "output_type": "execute_result"
    }
   ],
   "source": [
    "diff_eq_sympy = sympy.sympify(diff_eq_infix, locals=env.local_dict)\n",
    "diff_eq_sympy"
   ],
   "metadata": {
    "collapsed": false,
    "pycharm": {
     "name": "#%%\n"
    }
   }
  },
  {
   "cell_type": "code",
   "execution_count": 29,
   "outputs": [
    {
     "data": {
      "text/plain": "(-6*t + x**3 - 3*x**2)/(18*(1 - x)**2) + log(1/(1 - x))/(3*(1 - x)**2)",
      "text/latex": "$\\displaystyle \\frac{- 6 t + x^{3} - 3 x^{2}}{18 \\left(1 - x\\right)^{2}} + \\frac{\\log{\\left(\\frac{1}{1 - x} \\right)}}{3 \\left(1 - x\\right)^{2}}$"
     },
     "execution_count": 29,
     "metadata": {},
     "output_type": "execute_result"
    }
   ],
   "source": [
    "y_sympy = sympy.sympify(y_infix, locals=env.local_dict)\n",
    "y_sympy"
   ],
   "metadata": {
    "collapsed": false,
    "pycharm": {
     "name": "#%%\n"
    }
   }
  },
  {
   "cell_type": "markdown",
   "source": [
    "Expand the expression of the equation to allow the model to calculate the solution more easily:"
   ],
   "metadata": {
    "collapsed": false
   }
  },
  {
   "cell_type": "code",
   "execution_count": 30,
   "outputs": [
    {
     "data": {
      "text/plain": "-6*x**3*Derivative(f(x), x) + x**3 - 12*x**2*f(x) + 18*x**2*Derivative(f(x), x) - 3*x**2 + 24*x*f(x) - 18*x*Derivative(f(x), x) - 12*f(x) + 6*Derivative(f(x), x)",
      "text/latex": "$\\displaystyle - 6 x^{3} \\frac{d}{d x} f{\\left(x \\right)} + x^{3} - 12 x^{2} f{\\left(x \\right)} + 18 x^{2} \\frac{d}{d x} f{\\left(x \\right)} - 3 x^{2} + 24 x f{\\left(x \\right)} - 18 x \\frac{d}{d x} f{\\left(x \\right)} - 12 f{\\left(x \\right)} + 6 \\frac{d}{d x} f{\\left(x \\right)}$"
     },
     "execution_count": 30,
     "metadata": {},
     "output_type": "execute_result"
    }
   ],
   "source": [
    "diff_eq_sympy = sympy.expand(diff_eq_sympy)\n",
    "diff_eq_sympy"
   ],
   "metadata": {
    "collapsed": false,
    "pycharm": {
     "name": "#%%\n"
    }
   }
  },
  {
   "cell_type": "markdown",
   "source": [
    "Use the model to find the solution $y$:"
   ],
   "metadata": {
    "collapsed": false
   }
  },
  {
   "cell_type": "code",
   "execution_count": 31,
   "outputs": [],
   "source": [
    "start_time = time.time()\n",
    "\n",
    "diff_eq_prefix = env.sympy_to_prefix(diff_eq_sympy)\n",
    "\n",
    "x1_prefix = env.clean_prefix(diff_eq_prefix)\n",
    "\n",
    "x1 = torch.LongTensor(\n",
    "    [env.eos_index] +\n",
    "    [env.word2id[w] for w in x1_prefix] +\n",
    "    [env.eos_index]\n",
    ").view(-1, 1)\n",
    "\n",
    "len1 = torch.LongTensor([len(x1)])\n",
    "x1, len1 = to_cuda(x1, len1)\n",
    "\n",
    "with torch.no_grad():\n",
    "    encoded = encoder('fwd', x=x1, lengths=len1, causal=False).transpose(0, 1)\n",
    "\n",
    "with torch.no_grad():\n",
    "    _, _, beam = decoder.generate_beam(encoded, len1, beam_size=beam_size, length_penalty=1.0, early_stopping=1,\n",
    "                                       max_len=params.max_len)\n",
    "\n",
    "end_time = time.time()\n",
    "\n",
    "assert len(beam) == 1\n",
    "hypotheses = beam[0].hyp\n",
    "assert len(hypotheses) == beam_size"
   ],
   "metadata": {
    "collapsed": false,
    "pycharm": {
     "name": "#%%\n"
    }
   }
  },
  {
   "cell_type": "markdown",
   "source": [
    "Execution time (seconds):"
   ],
   "metadata": {
    "collapsed": false
   }
  },
  {
   "cell_type": "code",
   "execution_count": 32,
   "outputs": [
    {
     "data": {
      "text/plain": "0.43843841552734375"
     },
     "execution_count": 32,
     "metadata": {},
     "output_type": "execute_result"
    }
   ],
   "source": [
    "end_time - start_time"
   ],
   "metadata": {
    "collapsed": false,
    "pycharm": {
     "name": "#%%\n"
    }
   }
  },
  {
   "cell_type": "markdown",
   "source": [
    "Extract scores and solution hypotheses:"
   ],
   "metadata": {
    "collapsed": false
   }
  },
  {
   "cell_type": "code",
   "execution_count": 33,
   "outputs": [],
   "source": [
    "rows = numpy.arange(1, beam_size + 1)\n",
    "columns = ['Score', 'Solution Hypothesis', 'Valid']\n",
    "results = []\n",
    "\n",
    "for score, sequence in sorted(hypotheses, reverse=True):\n",
    "    # Parse decoded hypothesis\n",
    "    ids = sequence[1:].tolist()  # Decoded token IDs\n",
    "    hyp_prefix = [env.id2word[word_id] for word_id in ids]  # Convert to prefix notation\n",
    "\n",
    "    try:\n",
    "        hyp_infix = env.prefix_to_infix(hyp_prefix)  # Convert to infix notation\n",
    "        hyp_sympy = env.infix_to_sympy(hyp_infix)  # Convert to SymPy\n",
    "\n",
    "        # Check if the hypothesis is a valid solution, replacing 'hyp_sympy' with 'f(x)' in the equation\n",
    "        validation = \"YES\" if simplify(diff_eq_sympy.subs(f(x), hyp_sympy).doit(), seconds=1) == 0 else \"NO\"\n",
    "\n",
    "        # Transform hypothesis to a valid latex expression\n",
    "        hyp_expr = \"$\" + sympy.latex(env.infix_to_sympy(hyp_infix)) + \"$\"\n",
    "\n",
    "    except (InvalidPrefixExpression, ValueErrorExpression):\n",
    "        validation = \"INVALID PREFIX EXPRESSION\"\n",
    "        hyp_expr = hyp_prefix\n",
    "\n",
    "    # Prepare results\n",
    "    results.append([score, hyp_expr, validation])"
   ],
   "metadata": {
    "collapsed": false,
    "pycharm": {
     "name": "#%%\n"
    }
   }
  },
  {
   "cell_type": "markdown",
   "source": [
    "Print results:"
   ],
   "metadata": {
    "collapsed": false
   }
  },
  {
   "cell_type": "code",
   "execution_count": 34,
   "outputs": [
    {
     "data": {
      "text/plain": "<pandas.io.formats.style.Styler at 0x7f535b36c130>",
      "text/html": "<style type=\"text/css\">\n#T_a16a7_row0_col0, #T_a16a7_row0_col1, #T_a16a7_row0_col2, #T_a16a7_row1_col0, #T_a16a7_row1_col1, #T_a16a7_row1_col2, #T_a16a7_row2_col0, #T_a16a7_row2_col1, #T_a16a7_row2_col2, #T_a16a7_row3_col0, #T_a16a7_row3_col1, #T_a16a7_row3_col2, #T_a16a7_row4_col0, #T_a16a7_row4_col1, #T_a16a7_row4_col2, #T_a16a7_row5_col0, #T_a16a7_row5_col1, #T_a16a7_row5_col2, #T_a16a7_row6_col0, #T_a16a7_row6_col1, #T_a16a7_row6_col2, #T_a16a7_row7_col0, #T_a16a7_row7_col1, #T_a16a7_row7_col2, #T_a16a7_row8_col0, #T_a16a7_row8_col1, #T_a16a7_row8_col2, #T_a16a7_row9_col0, #T_a16a7_row9_col1, #T_a16a7_row9_col2, #T_a16a7_row10_col0, #T_a16a7_row10_col1, #T_a16a7_row10_col2, #T_a16a7_row11_col0, #T_a16a7_row11_col1, #T_a16a7_row11_col2, #T_a16a7_row12_col0, #T_a16a7_row12_col1, #T_a16a7_row12_col2, #T_a16a7_row13_col0, #T_a16a7_row13_col1, #T_a16a7_row13_col2, #T_a16a7_row14_col0, #T_a16a7_row14_col1, #T_a16a7_row14_col2, #T_a16a7_row15_col0, #T_a16a7_row15_col1, #T_a16a7_row15_col2, #T_a16a7_row16_col0, #T_a16a7_row16_col1, #T_a16a7_row16_col2, #T_a16a7_row17_col0, #T_a16a7_row17_col1, #T_a16a7_row17_col2, #T_a16a7_row18_col0, #T_a16a7_row18_col1, #T_a16a7_row18_col2, #T_a16a7_row19_col0, #T_a16a7_row19_col1, #T_a16a7_row19_col2, #T_a16a7_row20_col0, #T_a16a7_row20_col1, #T_a16a7_row20_col2, #T_a16a7_row21_col0, #T_a16a7_row21_col1, #T_a16a7_row21_col2, #T_a16a7_row22_col0, #T_a16a7_row22_col1, #T_a16a7_row22_col2, #T_a16a7_row23_col0, #T_a16a7_row23_col1, #T_a16a7_row23_col2, #T_a16a7_row24_col0, #T_a16a7_row24_col1, #T_a16a7_row24_col2, #T_a16a7_row25_col0, #T_a16a7_row25_col1, #T_a16a7_row25_col2, #T_a16a7_row26_col0, #T_a16a7_row26_col1, #T_a16a7_row26_col2, #T_a16a7_row27_col0, #T_a16a7_row27_col1, #T_a16a7_row27_col2, #T_a16a7_row28_col0, #T_a16a7_row28_col1, #T_a16a7_row28_col2, #T_a16a7_row29_col0, #T_a16a7_row29_col1, #T_a16a7_row29_col2, #T_a16a7_row30_col0, #T_a16a7_row30_col1, #T_a16a7_row30_col2, #T_a16a7_row31_col0, #T_a16a7_row31_col1, #T_a16a7_row31_col2, #T_a16a7_row32_col0, #T_a16a7_row32_col1, #T_a16a7_row32_col2, #T_a16a7_row33_col0, #T_a16a7_row33_col1, #T_a16a7_row33_col2, #T_a16a7_row34_col0, #T_a16a7_row34_col1, #T_a16a7_row34_col2, #T_a16a7_row35_col0, #T_a16a7_row35_col1, #T_a16a7_row35_col2, #T_a16a7_row36_col0, #T_a16a7_row36_col1, #T_a16a7_row36_col2, #T_a16a7_row37_col0, #T_a16a7_row37_col1, #T_a16a7_row37_col2, #T_a16a7_row38_col0, #T_a16a7_row38_col1, #T_a16a7_row38_col2, #T_a16a7_row39_col0, #T_a16a7_row39_col1, #T_a16a7_row39_col2, #T_a16a7_row40_col0, #T_a16a7_row40_col1, #T_a16a7_row40_col2, #T_a16a7_row41_col0, #T_a16a7_row41_col1, #T_a16a7_row41_col2, #T_a16a7_row42_col0, #T_a16a7_row42_col1, #T_a16a7_row42_col2, #T_a16a7_row43_col0, #T_a16a7_row43_col1, #T_a16a7_row43_col2, #T_a16a7_row44_col0, #T_a16a7_row44_col1, #T_a16a7_row44_col2, #T_a16a7_row45_col0, #T_a16a7_row45_col1, #T_a16a7_row45_col2, #T_a16a7_row46_col0, #T_a16a7_row46_col1, #T_a16a7_row46_col2, #T_a16a7_row47_col0, #T_a16a7_row47_col1, #T_a16a7_row47_col2, #T_a16a7_row48_col0, #T_a16a7_row48_col1, #T_a16a7_row48_col2, #T_a16a7_row49_col0, #T_a16a7_row49_col1, #T_a16a7_row49_col2 {\n  text-align: center;\n}\n</style>\n<table id=\"T_a16a7_\">\n  <thead>\n    <tr>\n      <th class=\"blank level0\" >&nbsp;</th>\n      <th class=\"col_heading level0 col0\" >Score</th>\n      <th class=\"col_heading level0 col1\" >Solution Hypothesis</th>\n      <th class=\"col_heading level0 col2\" >Valid</th>\n    </tr>\n  </thead>\n  <tbody>\n    <tr>\n      <th id=\"T_a16a7_level0_row0\" class=\"row_heading level0 row0\" >1</th>\n      <td id=\"T_a16a7_row0_col0\" class=\"data row0 col0\" >-0.130017</td>\n      <td id=\"T_a16a7_row0_col1\" class=\"data row0 col1\" >$\\frac{a_{8} x^{2}}{\\left(x^{2} + x\\right)^{2}} + \\frac{x^{3}}{\\left(6 - 6 x\\right)^{2}}$</td>\n      <td id=\"T_a16a7_row0_col2\" class=\"data row0 col2\" >NO</td>\n    </tr>\n    <tr>\n      <th id=\"T_a16a7_level0_row1\" class=\"row_heading level0 row1\" >2</th>\n      <td id=\"T_a16a7_row1_col0\" class=\"data row1 col0\" >-0.135310</td>\n      <td id=\"T_a16a7_row1_col1\" class=\"data row1 col1\" >$\\frac{a_{8}}{\\left(1 - x\\right)^{2}} + \\frac{x^{3}}{6 x - 6}$</td>\n      <td id=\"T_a16a7_row1_col2\" class=\"data row1 col2\" >NO</td>\n    </tr>\n    <tr>\n      <th id=\"T_a16a7_level0_row2\" class=\"row_heading level0 row2\" >3</th>\n      <td id=\"T_a16a7_row2_col0\" class=\"data row2 col0\" >-0.142492</td>\n      <td id=\"T_a16a7_row2_col1\" class=\"data row2 col1\" >$\\frac{a_{8}}{\\left(1 - x\\right)^{2}} + \\frac{x^{3}}{9 \\left(2 x - 2\\right)^{2}}$</td>\n      <td id=\"T_a16a7_row2_col2\" class=\"data row2 col2\" >NO</td>\n    </tr>\n    <tr>\n      <th id=\"T_a16a7_level0_row3\" class=\"row_heading level0 row3\" >4</th>\n      <td id=\"T_a16a7_row3_col0\" class=\"data row3 col0\" >-0.143277</td>\n      <td id=\"T_a16a7_row3_col1\" class=\"data row3 col1\" >$\\frac{a_{8} x^{2}}{\\left(x^{2} + x\\right)^{2}} + \\frac{x^{3}}{\\left(6 x - 6\\right)^{2}}$</td>\n      <td id=\"T_a16a7_row3_col2\" class=\"data row3 col2\" >NO</td>\n    </tr>\n    <tr>\n      <th id=\"T_a16a7_level0_row4\" class=\"row_heading level0 row4\" >5</th>\n      <td id=\"T_a16a7_row4_col0\" class=\"data row4 col0\" >-0.144215</td>\n      <td id=\"T_a16a7_row4_col1\" class=\"data row4 col1\" >$\\frac{x}{18} + \\frac{a_{8} - x}{18 \\left(1 - x\\right)^{2}}$</td>\n      <td id=\"T_a16a7_row4_col2\" class=\"data row4 col2\" >NO</td>\n    </tr>\n    <tr>\n      <th id=\"T_a16a7_level0_row5\" class=\"row_heading level0 row5\" >6</th>\n      <td id=\"T_a16a7_row5_col0\" class=\"data row5 col0\" >-0.151607</td>\n      <td id=\"T_a16a7_row5_col1\" class=\"data row5 col1\" >$\\frac{a_{8}}{\\left(x - 1\\right)^{2}} + \\frac{x^{3}}{9 \\left(2 x - 2\\right)^{2}}$</td>\n      <td id=\"T_a16a7_row5_col2\" class=\"data row5 col2\" >NO</td>\n    </tr>\n    <tr>\n      <th id=\"T_a16a7_level0_row6\" class=\"row_heading level0 row6\" >7</th>\n      <td id=\"T_a16a7_row6_col0\" class=\"data row6 col0\" >-0.155293</td>\n      <td id=\"T_a16a7_row6_col1\" class=\"data row6 col1\" >$\\frac{a_{8} x^{2}}{\\left(x^{2} - x\\right)^{2}} + \\frac{x^{3}}{\\left(6 - 6 x\\right)^{2}}$</td>\n      <td id=\"T_a16a7_row6_col2\" class=\"data row6 col2\" >NO</td>\n    </tr>\n    <tr>\n      <th id=\"T_a16a7_level0_row7\" class=\"row_heading level0 row7\" >8</th>\n      <td id=\"T_a16a7_row7_col0\" class=\"data row7 col0\" >-0.158034</td>\n      <td id=\"T_a16a7_row7_col1\" class=\"data row7 col1\" >$\\frac{a_{8}}{\\left(x - 1\\right)^{2}} + \\frac{x^{3}}{6 \\left(x - 1\\right)^{2}}$</td>\n      <td id=\"T_a16a7_row7_col2\" class=\"data row7 col2\" >NO</td>\n    </tr>\n    <tr>\n      <th id=\"T_a16a7_level0_row8\" class=\"row_heading level0 row8\" >9</th>\n      <td id=\"T_a16a7_row8_col0\" class=\"data row8 col0\" >-0.160683</td>\n      <td id=\"T_a16a7_row8_col1\" class=\"data row8 col1\" >$\\frac{a_{8} x^{2}}{\\left(x^{2} + x\\right)^{2}} + \\frac{x^{3}}{\\left(3 x - 3\\right)^{2}}$</td>\n      <td id=\"T_a16a7_row8_col2\" class=\"data row8 col2\" >NO</td>\n    </tr>\n    <tr>\n      <th id=\"T_a16a7_level0_row9\" class=\"row_heading level0 row9\" >10</th>\n      <td id=\"T_a16a7_row9_col0\" class=\"data row9 col0\" >-0.161167</td>\n      <td id=\"T_a16a7_row9_col1\" class=\"data row9 col1\" >$\\frac{a_{8}}{\\left(1 - x\\right)^{2}} + \\frac{x^{3}}{3 \\left(2 x - 2\\right)^{2}}$</td>\n      <td id=\"T_a16a7_row9_col2\" class=\"data row9 col2\" >NO</td>\n    </tr>\n    <tr>\n      <th id=\"T_a16a7_level0_row10\" class=\"row_heading level0 row10\" >11</th>\n      <td id=\"T_a16a7_row10_col0\" class=\"data row10 col0\" >-0.164077</td>\n      <td id=\"T_a16a7_row10_col1\" class=\"data row10 col1\" >$\\frac{a_{8}}{\\left(1 - x\\right)^{2}} + \\frac{x^{3}}{6 \\left(x - 1\\right)^{2}}$</td>\n      <td id=\"T_a16a7_row10_col2\" class=\"data row10 col2\" >NO</td>\n    </tr>\n    <tr>\n      <th id=\"T_a16a7_level0_row11\" class=\"row_heading level0 row11\" >12</th>\n      <td id=\"T_a16a7_row11_col0\" class=\"data row11 col0\" >-0.165526</td>\n      <td id=\"T_a16a7_row11_col1\" class=\"data row11 col1\" >$\\frac{a_{8}}{\\left(1 - x\\right)^{2}} + \\frac{x^{3}}{6 - 6 x}$</td>\n      <td id=\"T_a16a7_row11_col2\" class=\"data row11 col2\" >NO</td>\n    </tr>\n    <tr>\n      <th id=\"T_a16a7_level0_row12\" class=\"row_heading level0 row12\" >13</th>\n      <td id=\"T_a16a7_row12_col0\" class=\"data row12 col0\" >-0.167128</td>\n      <td id=\"T_a16a7_row12_col1\" class=\"data row12 col1\" >$\\frac{a_{8}}{\\left(x - 1\\right)^{2}} + \\frac{x^{3}}{3 \\left(2 x - 2\\right)^{2}}$</td>\n      <td id=\"T_a16a7_row12_col2\" class=\"data row12 col2\" >NO</td>\n    </tr>\n    <tr>\n      <th id=\"T_a16a7_level0_row13\" class=\"row_heading level0 row13\" >14</th>\n      <td id=\"T_a16a7_row13_col0\" class=\"data row13 col0\" >-0.168238</td>\n      <td id=\"T_a16a7_row13_col1\" class=\"data row13 col1\" >$\\frac{a_{8}}{\\left(1 - x\\right)^{2}} + \\frac{x^{3}}{2 \\left(3 x - 3\\right)^{2}}$</td>\n      <td id=\"T_a16a7_row13_col2\" class=\"data row13 col2\" >NO</td>\n    </tr>\n    <tr>\n      <th id=\"T_a16a7_level0_row14\" class=\"row_heading level0 row14\" >15</th>\n      <td id=\"T_a16a7_row14_col0\" class=\"data row14 col0\" >-0.169041</td>\n      <td id=\"T_a16a7_row14_col1\" class=\"data row14 col1\" >$\\frac{a_{8}}{\\left(1 - x\\right)^{2}} + \\frac{x^{3}}{6 \\left(1 - x\\right)^{2}}$</td>\n      <td id=\"T_a16a7_row14_col2\" class=\"data row14 col2\" >NO</td>\n    </tr>\n    <tr>\n      <th id=\"T_a16a7_level0_row15\" class=\"row_heading level0 row15\" >16</th>\n      <td id=\"T_a16a7_row15_col0\" class=\"data row15 col0\" >-0.169676</td>\n      <td id=\"T_a16a7_row15_col1\" class=\"data row15 col1\" >$\\frac{a_{8} x^{2}}{\\left(x^{2} - x\\right)^{2}} + \\frac{x^{3}}{\\left(6 x - 6\\right)^{2}}$</td>\n      <td id=\"T_a16a7_row15_col2\" class=\"data row15 col2\" >NO</td>\n    </tr>\n    <tr>\n      <th id=\"T_a16a7_level0_row16\" class=\"row_heading level0 row16\" >17</th>\n      <td id=\"T_a16a7_row16_col0\" class=\"data row16 col0\" >-0.172731</td>\n      <td id=\"T_a16a7_row16_col1\" class=\"data row16 col1\" >$\\frac{a_{8}}{\\left(x - 1\\right)^{2}} + \\frac{x^{3}}{18 \\left(x - 1\\right)^{2}}$</td>\n      <td id=\"T_a16a7_row16_col2\" class=\"data row16 col2\" >NO</td>\n    </tr>\n    <tr>\n      <th id=\"T_a16a7_level0_row17\" class=\"row_heading level0 row17\" >18</th>\n      <td id=\"T_a16a7_row17_col0\" class=\"data row17 col0\" >-0.172948</td>\n      <td id=\"T_a16a7_row17_col1\" class=\"data row17 col1\" >$\\frac{a_{8}}{\\left(x - 1\\right)^{2}} + \\frac{x^{3}}{6 \\left(1 - x\\right)^{2}}$</td>\n      <td id=\"T_a16a7_row17_col2\" class=\"data row17 col2\" >NO</td>\n    </tr>\n    <tr>\n      <th id=\"T_a16a7_level0_row18\" class=\"row_heading level0 row18\" >19</th>\n      <td id=\"T_a16a7_row18_col0\" class=\"data row18 col0\" >-0.172997</td>\n      <td id=\"T_a16a7_row18_col1\" class=\"data row18 col1\" >$\\frac{a_{8} x^{2}}{\\left(- x^{2} + x\\right)^{2}} + \\frac{x^{3}}{\\left(3 x - 3\\right)^{2}}$</td>\n      <td id=\"T_a16a7_row18_col2\" class=\"data row18 col2\" >NO</td>\n    </tr>\n    <tr>\n      <th id=\"T_a16a7_level0_row19\" class=\"row_heading level0 row19\" >20</th>\n      <td id=\"T_a16a7_row19_col0\" class=\"data row19 col0\" >-0.173194</td>\n      <td id=\"T_a16a7_row19_col1\" class=\"data row19 col1\" >$\\frac{a_{8}}{\\left(1 - x\\right)^{2}} + \\frac{x^{3}}{2 \\left(3 x - 3\\right)}$</td>\n      <td id=\"T_a16a7_row19_col2\" class=\"data row19 col2\" >NO</td>\n    </tr>\n    <tr>\n      <th id=\"T_a16a7_level0_row20\" class=\"row_heading level0 row20\" >21</th>\n      <td id=\"T_a16a7_row20_col0\" class=\"data row20 col0\" >-0.173379</td>\n      <td id=\"T_a16a7_row20_col1\" class=\"data row20 col1\" >$\\frac{a_{8}}{\\left(1 - x\\right)^{2}} + \\frac{x^{3}}{\\left(6 x - 6\\right)^{2}}$</td>\n      <td id=\"T_a16a7_row20_col2\" class=\"data row20 col2\" >NO</td>\n    </tr>\n    <tr>\n      <th id=\"T_a16a7_level0_row21\" class=\"row_heading level0 row21\" >22</th>\n      <td id=\"T_a16a7_row21_col0\" class=\"data row21 col0\" >-0.174864</td>\n      <td id=\"T_a16a7_row21_col1\" class=\"data row21 col1\" >$\\frac{a_{8} x^{2}}{\\left(x^{2} - x\\right)^{2}} + \\frac{x^{3}}{\\left(3 x - 3\\right)^{2}}$</td>\n      <td id=\"T_a16a7_row21_col2\" class=\"data row21 col2\" >NO</td>\n    </tr>\n    <tr>\n      <th id=\"T_a16a7_level0_row22\" class=\"row_heading level0 row22\" >23</th>\n      <td id=\"T_a16a7_row22_col0\" class=\"data row22 col0\" >-0.175293</td>\n      <td id=\"T_a16a7_row22_col1\" class=\"data row22 col1\" >$\\frac{a_{8}}{\\left(1 - x\\right)^{2}} + \\frac{x^{3}}{18 \\left(x - 1\\right)}$</td>\n      <td id=\"T_a16a7_row22_col2\" class=\"data row22 col2\" >NO</td>\n    </tr>\n    <tr>\n      <th id=\"T_a16a7_level0_row23\" class=\"row_heading level0 row23\" >24</th>\n      <td id=\"T_a16a7_row23_col0\" class=\"data row23 col0\" >-0.176061</td>\n      <td id=\"T_a16a7_row23_col1\" class=\"data row23 col1\" >$\\frac{a_{8} x^{2}}{\\left(x \\left(x - 1\\right) + x\\right)^{2}} + \\frac{x^{3}}{\\left(3 x - 3\\right)^{2}}$</td>\n      <td id=\"T_a16a7_row23_col2\" class=\"data row23 col2\" >NO</td>\n    </tr>\n    <tr>\n      <th id=\"T_a16a7_level0_row24\" class=\"row_heading level0 row24\" >25</th>\n      <td id=\"T_a16a7_row24_col0\" class=\"data row24 col0\" >-0.177333</td>\n      <td id=\"T_a16a7_row24_col1\" class=\"data row24 col1\" >$\\frac{a_{8} x^{2}}{\\left(- x^{2} + x\\right)^{2}} + \\frac{x^{3}}{\\left(6 - 6 x\\right)^{2}}$</td>\n      <td id=\"T_a16a7_row24_col2\" class=\"data row24 col2\" >NO</td>\n    </tr>\n    <tr>\n      <th id=\"T_a16a7_level0_row25\" class=\"row_heading level0 row25\" >26</th>\n      <td id=\"T_a16a7_row25_col0\" class=\"data row25 col0\" >-0.178128</td>\n      <td id=\"T_a16a7_row25_col1\" class=\"data row25 col1\" >$\\frac{x}{18} + \\frac{a_{8} + x}{18 \\left(1 - x\\right)^{2}}$</td>\n      <td id=\"T_a16a7_row25_col2\" class=\"data row25 col2\" >NO</td>\n    </tr>\n    <tr>\n      <th id=\"T_a16a7_level0_row26\" class=\"row_heading level0 row26\" >27</th>\n      <td id=\"T_a16a7_row26_col0\" class=\"data row26 col0\" >-0.179558</td>\n      <td id=\"T_a16a7_row26_col1\" class=\"data row26 col1\" >$\\frac{a_{8} \\left(1 - x\\right)^{2} + x^{3}}{\\left(2 x - 2\\right)^{2}}$</td>\n      <td id=\"T_a16a7_row26_col2\" class=\"data row26 col2\" >NO</td>\n    </tr>\n    <tr>\n      <th id=\"T_a16a7_level0_row27\" class=\"row_heading level0 row27\" >28</th>\n      <td id=\"T_a16a7_row27_col0\" class=\"data row27 col0\" >-0.180910</td>\n      <td id=\"T_a16a7_row27_col1\" class=\"data row27 col1\" >$\\frac{a_{8}}{\\left(1 - x\\right)^{2}} + \\frac{x^{3}}{18 \\left(1 - x\\right)^{2}}$</td>\n      <td id=\"T_a16a7_row27_col2\" class=\"data row27 col2\" >NO</td>\n    </tr>\n    <tr>\n      <th id=\"T_a16a7_level0_row28\" class=\"row_heading level0 row28\" >29</th>\n      <td id=\"T_a16a7_row28_col0\" class=\"data row28 col0\" >-0.181367</td>\n      <td id=\"T_a16a7_row28_col1\" class=\"data row28 col1\" >$\\frac{a_{8}}{\\left(x - 1\\right)^{2}} + \\frac{x^{3}}{6 x - 6}$</td>\n      <td id=\"T_a16a7_row28_col2\" class=\"data row28 col2\" >NO</td>\n    </tr>\n    <tr>\n      <th id=\"T_a16a7_level0_row29\" class=\"row_heading level0 row29\" >30</th>\n      <td id=\"T_a16a7_row29_col0\" class=\"data row29 col0\" >-0.181572</td>\n      <td id=\"T_a16a7_row29_col1\" class=\"data row29 col1\" >$\\frac{a_{8}}{\\left(x - 1\\right)^{2}} + \\frac{x^{3}}{2 \\left(3 x - 3\\right)^{2}}$</td>\n      <td id=\"T_a16a7_row29_col2\" class=\"data row29 col2\" >NO</td>\n    </tr>\n    <tr>\n      <th id=\"T_a16a7_level0_row30\" class=\"row_heading level0 row30\" >31</th>\n      <td id=\"T_a16a7_row30_col0\" class=\"data row30 col0\" >-0.182040</td>\n      <td id=\"T_a16a7_row30_col1\" class=\"data row30 col1\" >$\\frac{a_{8} x^{2}}{\\left(x \\left(x - 1\\right) + x\\right)^{2}} + \\frac{x^{3}}{\\left(6 - 6 x\\right)^{2}}$</td>\n      <td id=\"T_a16a7_row30_col2\" class=\"data row30 col2\" >NO</td>\n    </tr>\n    <tr>\n      <th id=\"T_a16a7_level0_row31\" class=\"row_heading level0 row31\" >32</th>\n      <td id=\"T_a16a7_row31_col0\" class=\"data row31 col0\" >-0.182235</td>\n      <td id=\"T_a16a7_row31_col1\" class=\"data row31 col1\" >$\\frac{a_{8} x^{2}}{\\left(x^{2} - x\\right)^{2}} + \\frac{x^{3}}{\\left(3 - 3 x\\right)^{2}}$</td>\n      <td id=\"T_a16a7_row31_col2\" class=\"data row31 col2\" >NO</td>\n    </tr>\n    <tr>\n      <th id=\"T_a16a7_level0_row32\" class=\"row_heading level0 row32\" >33</th>\n      <td id=\"T_a16a7_row32_col0\" class=\"data row32 col0\" >-0.182414</td>\n      <td id=\"T_a16a7_row32_col1\" class=\"data row32 col1\" >$\\frac{a_{8}}{\\left(1 - x\\right)^{2}} + \\frac{x^{3}}{18 \\left(x - 1\\right)^{2}}$</td>\n      <td id=\"T_a16a7_row32_col2\" class=\"data row32 col2\" >NO</td>\n    </tr>\n    <tr>\n      <th id=\"T_a16a7_level0_row33\" class=\"row_heading level0 row33\" >34</th>\n      <td id=\"T_a16a7_row33_col0\" class=\"data row33 col0\" >-0.182553</td>\n      <td id=\"T_a16a7_row33_col1\" class=\"data row33 col1\" >$\\frac{x}{18} + \\frac{a_{8} - x}{18 \\left(x - 1\\right)^{2}}$</td>\n      <td id=\"T_a16a7_row33_col2\" class=\"data row33 col2\" >NO</td>\n    </tr>\n    <tr>\n      <th id=\"T_a16a7_level0_row34\" class=\"row_heading level0 row34\" >35</th>\n      <td id=\"T_a16a7_row34_col0\" class=\"data row34 col0\" >-0.184451</td>\n      <td id=\"T_a16a7_row34_col1\" class=\"data row34 col1\" >$\\frac{x}{18} + \\frac{a_{8} + x}{18 \\left(x - 1\\right)^{2}}$</td>\n      <td id=\"T_a16a7_row34_col2\" class=\"data row34 col2\" >NO</td>\n    </tr>\n    <tr>\n      <th id=\"T_a16a7_level0_row35\" class=\"row_heading level0 row35\" >36</th>\n      <td id=\"T_a16a7_row35_col0\" class=\"data row35 col0\" >-0.185384</td>\n      <td id=\"T_a16a7_row35_col1\" class=\"data row35 col1\" >$\\frac{a_{8}}{\\left(1 - x\\right)^{2}} + \\frac{x^{3}}{3 \\left(2 x - 2\\right)}$</td>\n      <td id=\"T_a16a7_row35_col2\" class=\"data row35 col2\" >NO</td>\n    </tr>\n    <tr>\n      <th id=\"T_a16a7_level0_row36\" class=\"row_heading level0 row36\" >37</th>\n      <td id=\"T_a16a7_row36_col0\" class=\"data row36 col0\" >-0.187317</td>\n      <td id=\"T_a16a7_row36_col1\" class=\"data row36 col1\" >$\\frac{a_{8} \\left(1 - x\\right)^{2} + x^{3}}{\\left(2 - 2 x\\right)^{2}}$</td>\n      <td id=\"T_a16a7_row36_col2\" class=\"data row36 col2\" >NO</td>\n    </tr>\n    <tr>\n      <th id=\"T_a16a7_level0_row37\" class=\"row_heading level0 row37\" >38</th>\n      <td id=\"T_a16a7_row37_col0\" class=\"data row37 col0\" >-0.190688</td>\n      <td id=\"T_a16a7_row37_col1\" class=\"data row37 col1\" >$\\frac{x^{3}}{\\left(3 - 3 x\\right)^{2}} + \\frac{a_{8} + x^{2}}{\\left(2 - 2 x\\right)^{2}}$</td>\n      <td id=\"T_a16a7_row37_col2\" class=\"data row37 col2\" >NO</td>\n    </tr>\n    <tr>\n      <th id=\"T_a16a7_level0_row38\" class=\"row_heading level0 row38\" >39</th>\n      <td id=\"T_a16a7_row38_col0\" class=\"data row38 col0\" >-0.191292</td>\n      <td id=\"T_a16a7_row38_col1\" class=\"data row38 col1\" >$\\frac{x^{2} \\left(\\frac{a_{8}}{x^{2}} + \\frac{x}{\\left(1 - x\\right)^{2}}\\right)}{6}$</td>\n      <td id=\"T_a16a7_row38_col2\" class=\"data row38 col2\" >NO</td>\n    </tr>\n    <tr>\n      <th id=\"T_a16a7_level0_row39\" class=\"row_heading level0 row39\" >40</th>\n      <td id=\"T_a16a7_row39_col0\" class=\"data row39 col0\" >-0.191418</td>\n      <td id=\"T_a16a7_row39_col1\" class=\"data row39 col1\" >$\\frac{a_{8}}{\\left(x - 1\\right)^{2}} + \\frac{x^{3}}{\\left(6 x - 6\\right)^{2}}$</td>\n      <td id=\"T_a16a7_row39_col2\" class=\"data row39 col2\" >NO</td>\n    </tr>\n    <tr>\n      <th id=\"T_a16a7_level0_row40\" class=\"row_heading level0 row40\" >41</th>\n      <td id=\"T_a16a7_row40_col0\" class=\"data row40 col0\" >-0.192612</td>\n      <td id=\"T_a16a7_row40_col1\" class=\"data row40 col1\" >$\\frac{x}{18} - \\frac{a_{8} + x}{18 \\left(1 - x\\right)^{2}}$</td>\n      <td id=\"T_a16a7_row40_col2\" class=\"data row40 col2\" >NO</td>\n    </tr>\n    <tr>\n      <th id=\"T_a16a7_level0_row41\" class=\"row_heading level0 row41\" >42</th>\n      <td id=\"T_a16a7_row41_col0\" class=\"data row41 col0\" >-0.193464</td>\n      <td id=\"T_a16a7_row41_col1\" class=\"data row41 col1\" >$\\frac{x^{2} \\left(\\frac{a_{8}}{x^{2} \\left(x - 1\\right)^{2}} + \\frac{x}{\\left(x - 1\\right)^{2}}\\right)}{6}$</td>\n      <td id=\"T_a16a7_row41_col2\" class=\"data row41 col2\" >NO</td>\n    </tr>\n    <tr>\n      <th id=\"T_a16a7_level0_row42\" class=\"row_heading level0 row42\" >43</th>\n      <td id=\"T_a16a7_row42_col0\" class=\"data row42 col0\" >-0.195043</td>\n      <td id=\"T_a16a7_row42_col1\" class=\"data row42 col1\" >$\\frac{a_{8} x^{2}}{\\left(x \\left(x - 1\\right) + x\\right)^{2}} + \\frac{x^{3}}{\\left(6 x - 6\\right)^{2}}$</td>\n      <td id=\"T_a16a7_row42_col2\" class=\"data row42 col2\" >NO</td>\n    </tr>\n    <tr>\n      <th id=\"T_a16a7_level0_row43\" class=\"row_heading level0 row43\" >44</th>\n      <td id=\"T_a16a7_row43_col0\" class=\"data row43 col0\" >-0.196875</td>\n      <td id=\"T_a16a7_row43_col1\" class=\"data row43 col1\" >$\\frac{a_{8}}{\\left(x - 1\\right)^{2}} + \\frac{x^{3}}{18 \\left(x - 1\\right)}$</td>\n      <td id=\"T_a16a7_row43_col2\" class=\"data row43 col2\" >NO</td>\n    </tr>\n    <tr>\n      <th id=\"T_a16a7_level0_row44\" class=\"row_heading level0 row44\" >45</th>\n      <td id=\"T_a16a7_row44_col0\" class=\"data row44 col0\" >-0.199169</td>\n      <td id=\"T_a16a7_row44_col1\" class=\"data row44 col1\" >$\\frac{a_{8}}{\\left(1 - x\\right)^{2}} + \\frac{x^{3}}{9 \\left(2 x - 2\\right)}$</td>\n      <td id=\"T_a16a7_row44_col2\" class=\"data row44 col2\" >NO</td>\n    </tr>\n    <tr>\n      <th id=\"T_a16a7_level0_row45\" class=\"row_heading level0 row45\" >46</th>\n      <td id=\"T_a16a7_row45_col0\" class=\"data row45 col0\" >-0.200056</td>\n      <td id=\"T_a16a7_row45_col1\" class=\"data row45 col1\" >$\\frac{x}{18} - \\frac{a_{8} + x}{18 \\left(x - 1\\right)^{2}}$</td>\n      <td id=\"T_a16a7_row45_col2\" class=\"data row45 col2\" >NO</td>\n    </tr>\n    <tr>\n      <th id=\"T_a16a7_level0_row46\" class=\"row_heading level0 row46\" >47</th>\n      <td id=\"T_a16a7_row46_col0\" class=\"data row46 col0\" >-0.200809</td>\n      <td id=\"T_a16a7_row46_col1\" class=\"data row46 col1\" >$\\frac{a_{8}}{\\left(1 - x\\right)^{2}} + \\frac{x^{3}}{18 \\left(1 - x\\right)}$</td>\n      <td id=\"T_a16a7_row46_col2\" class=\"data row46 col2\" >NO</td>\n    </tr>\n    <tr>\n      <th id=\"T_a16a7_level0_row47\" class=\"row_heading level0 row47\" >48</th>\n      <td id=\"T_a16a7_row47_col0\" class=\"data row47 col0\" >-0.201513</td>\n      <td id=\"T_a16a7_row47_col1\" class=\"data row47 col1\" >$\\frac{a_{8}}{\\left(x - 1\\right)^{2}} + \\frac{x^{3}}{2 \\left(3 x - 3\\right)}$</td>\n      <td id=\"T_a16a7_row47_col2\" class=\"data row47 col2\" >NO</td>\n    </tr>\n    <tr>\n      <th id=\"T_a16a7_level0_row48\" class=\"row_heading level0 row48\" >49</th>\n      <td id=\"T_a16a7_row48_col0\" class=\"data row48 col0\" >-0.202228</td>\n      <td id=\"T_a16a7_row48_col1\" class=\"data row48 col1\" >$\\frac{x^{3}}{\\left(3 x - 3\\right)^{2}} + \\frac{a_{8} + x^{2}}{\\left(2 x + 2\\right)^{2}}$</td>\n      <td id=\"T_a16a7_row48_col2\" class=\"data row48 col2\" >NO</td>\n    </tr>\n    <tr>\n      <th id=\"T_a16a7_level0_row49\" class=\"row_heading level0 row49\" >50</th>\n      <td id=\"T_a16a7_row49_col0\" class=\"data row49 col0\" >-0.206320</td>\n      <td id=\"T_a16a7_row49_col1\" class=\"data row49 col1\" >$\\frac{x^{2} \\left(\\frac{a_{8}}{x^{2}} + \\frac{x}{\\left(x - 1\\right)^{2}}\\right)}{6}$</td>\n      <td id=\"T_a16a7_row49_col2\" class=\"data row49 col2\" >NO</td>\n    </tr>\n  </tbody>\n</table>\n"
     },
     "execution_count": 34,
     "metadata": {},
     "output_type": "execute_result"
    }
   ],
   "source": [
    "pandas.set_option('max_colwidth', None)\n",
    "pandas.DataFrame(results, index=rows, columns=columns).style.set_properties(**{'text-align': 'center'})"
   ],
   "metadata": {
    "collapsed": false,
    "pycharm": {
     "name": "#%%\n"
    }
   }
  },
  {
   "cell_type": "markdown",
   "source": [
    "### Differential Equation for Generating Function of the Number of leaves in Binary Search Trees\n",
    "\n",
    "Declare the number of leaves in binary search trees differential equation and solution $y$:"
   ],
   "metadata": {
    "collapsed": false
   }
  },
  {
   "cell_type": "code",
   "execution_count": 35,
   "outputs": [],
   "source": [
    "diff_eq_infix = \"diff(f(x),x)*(1-x) -(1-x) -2*f(x)\"\n",
    "y_infix = \"(1/3)*(1/(1-x)**2)+1/3*(x-1)\""
   ],
   "metadata": {
    "collapsed": false,
    "pycharm": {
     "name": "#%%\n"
    }
   }
  },
  {
   "cell_type": "markdown",
   "source": [
    "Converts **diff_eq_infix** and **y_infix** to a type that can be used inside SymPy:"
   ],
   "metadata": {
    "collapsed": false
   }
  },
  {
   "cell_type": "code",
   "execution_count": 36,
   "outputs": [
    {
     "data": {
      "text/plain": "x + (1 - x)*Derivative(f(x), x) - 2*f(x) - 1",
      "text/latex": "$\\displaystyle x + \\left(1 - x\\right) \\frac{d}{d x} f{\\left(x \\right)} - 2 f{\\left(x \\right)} - 1$"
     },
     "execution_count": 36,
     "metadata": {},
     "output_type": "execute_result"
    }
   ],
   "source": [
    "diff_eq_sympy = sympy.sympify(diff_eq_infix, locals=env.local_dict)\n",
    "diff_eq_sympy"
   ],
   "metadata": {
    "collapsed": false,
    "pycharm": {
     "name": "#%%\n"
    }
   }
  },
  {
   "cell_type": "code",
   "execution_count": 37,
   "outputs": [
    {
     "data": {
      "text/plain": "x/3 - 1/3 + 1/(3*(1 - x)**2)",
      "text/latex": "$\\displaystyle \\frac{x}{3} - \\frac{1}{3} + \\frac{1}{3 \\left(1 - x\\right)^{2}}$"
     },
     "execution_count": 37,
     "metadata": {},
     "output_type": "execute_result"
    }
   ],
   "source": [
    "y_sympy = sympy.sympify(y_infix, locals=env.local_dict)\n",
    "y_sympy"
   ],
   "metadata": {
    "collapsed": false,
    "pycharm": {
     "name": "#%%\n"
    }
   }
  },
  {
   "cell_type": "markdown",
   "source": [
    "Expand the expression of the equation to allow the model to calculate the solution more easily:"
   ],
   "metadata": {
    "collapsed": false
   }
  },
  {
   "cell_type": "code",
   "execution_count": 38,
   "outputs": [
    {
     "data": {
      "text/plain": "-x*Derivative(f(x), x) + x - 2*f(x) + Derivative(f(x), x) - 1",
      "text/latex": "$\\displaystyle - x \\frac{d}{d x} f{\\left(x \\right)} + x - 2 f{\\left(x \\right)} + \\frac{d}{d x} f{\\left(x \\right)} - 1$"
     },
     "execution_count": 38,
     "metadata": {},
     "output_type": "execute_result"
    }
   ],
   "source": [
    "diff_eq_sympy = sympy.expand(diff_eq_sympy)\n",
    "diff_eq_sympy"
   ],
   "metadata": {
    "collapsed": false,
    "pycharm": {
     "name": "#%%\n"
    }
   }
  },
  {
   "cell_type": "markdown",
   "source": [
    "Use the model to find the solution $y$:"
   ],
   "metadata": {
    "collapsed": false
   }
  },
  {
   "cell_type": "code",
   "execution_count": 39,
   "outputs": [],
   "source": [
    "start_time = time.time()\n",
    "\n",
    "diff_eq_prefix = env.sympy_to_prefix(diff_eq_sympy)\n",
    "\n",
    "x1_prefix = env.clean_prefix(diff_eq_prefix)\n",
    "\n",
    "x1 = torch.LongTensor(\n",
    "    [env.eos_index] +\n",
    "    [env.word2id[w] for w in x1_prefix] +\n",
    "    [env.eos_index]\n",
    ").view(-1, 1)\n",
    "\n",
    "len1 = torch.LongTensor([len(x1)])\n",
    "x1, len1 = to_cuda(x1, len1)\n",
    "\n",
    "with torch.no_grad():\n",
    "    encoded = encoder('fwd', x=x1, lengths=len1, causal=False).transpose(0, 1)\n",
    "\n",
    "with torch.no_grad():\n",
    "    _, _, beam = decoder.generate_beam(encoded, len1, beam_size=beam_size, length_penalty=1.0, early_stopping=1,\n",
    "                                       max_len=params.max_len)\n",
    "\n",
    "end_time = time.time()\n",
    "\n",
    "assert len(beam) == 1\n",
    "hypotheses = beam[0].hyp\n",
    "assert len(hypotheses) == beam_size"
   ],
   "metadata": {
    "collapsed": false,
    "pycharm": {
     "name": "#%%\n"
    }
   }
  },
  {
   "cell_type": "markdown",
   "source": [
    "Execution time (seconds):"
   ],
   "metadata": {
    "collapsed": false
   }
  },
  {
   "cell_type": "code",
   "execution_count": 40,
   "outputs": [
    {
     "data": {
      "text/plain": "0.36043882369995117"
     },
     "execution_count": 40,
     "metadata": {},
     "output_type": "execute_result"
    }
   ],
   "source": [
    "end_time - start_time"
   ],
   "metadata": {
    "collapsed": false,
    "pycharm": {
     "name": "#%%\n"
    }
   }
  },
  {
   "cell_type": "markdown",
   "source": [
    "Extract scores and solution hypotheses:"
   ],
   "metadata": {
    "collapsed": false
   }
  },
  {
   "cell_type": "code",
   "execution_count": 41,
   "outputs": [],
   "source": [
    "rows = numpy.arange(1, beam_size + 1)\n",
    "columns = ['Score', 'Solution Hypothesis', 'Valid']\n",
    "results = []\n",
    "\n",
    "for score, sequence in sorted(hypotheses, reverse=True):\n",
    "    # Parse decoded hypothesis\n",
    "    ids = sequence[1:].tolist()  # Decoded token IDs\n",
    "    hyp_prefix = [env.id2word[word_id] for word_id in ids]  # Convert to prefix notation\n",
    "\n",
    "    try:\n",
    "        hyp_infix = env.prefix_to_infix(hyp_prefix)  # Convert to infix notation\n",
    "        hyp_sympy = env.infix_to_sympy(hyp_infix)  # Convert to SymPy\n",
    "\n",
    "        # Check if the hypothesis is a valid solution, replacing 'hyp_sympy' with 'f(x)' in the equation\n",
    "        validation = \"YES\" if simplify(diff_eq_sympy.subs(f(x), hyp_sympy).doit(), seconds=1) == 0 else \"NO\"\n",
    "\n",
    "        # Transform hypothesis to a valid latex expression\n",
    "        hyp_expr = \"$\" + sympy.latex(env.infix_to_sympy(hyp_infix)) + \"$\"\n",
    "\n",
    "    except (InvalidPrefixExpression, ValueErrorExpression):\n",
    "        validation = \"INVALID PREFIX EXPRESSION\"\n",
    "        hyp_expr = hyp_prefix\n",
    "\n",
    "    # Prepare results\n",
    "    results.append([score, hyp_expr, validation])"
   ],
   "metadata": {
    "collapsed": false,
    "pycharm": {
     "name": "#%%\n"
    }
   }
  },
  {
   "cell_type": "markdown",
   "source": [
    "Print results:"
   ],
   "metadata": {
    "collapsed": false
   }
  },
  {
   "cell_type": "code",
   "execution_count": 42,
   "outputs": [
    {
     "data": {
      "text/plain": "<pandas.io.formats.style.Styler at 0x7f535b5b70d0>",
      "text/html": "<style type=\"text/css\">\n#T_20dbd_row0_col0, #T_20dbd_row0_col1, #T_20dbd_row0_col2, #T_20dbd_row1_col0, #T_20dbd_row1_col1, #T_20dbd_row1_col2, #T_20dbd_row2_col0, #T_20dbd_row2_col1, #T_20dbd_row2_col2, #T_20dbd_row3_col0, #T_20dbd_row3_col1, #T_20dbd_row3_col2, #T_20dbd_row4_col0, #T_20dbd_row4_col1, #T_20dbd_row4_col2, #T_20dbd_row5_col0, #T_20dbd_row5_col1, #T_20dbd_row5_col2, #T_20dbd_row6_col0, #T_20dbd_row6_col1, #T_20dbd_row6_col2, #T_20dbd_row7_col0, #T_20dbd_row7_col1, #T_20dbd_row7_col2, #T_20dbd_row8_col0, #T_20dbd_row8_col1, #T_20dbd_row8_col2, #T_20dbd_row9_col0, #T_20dbd_row9_col1, #T_20dbd_row9_col2, #T_20dbd_row10_col0, #T_20dbd_row10_col1, #T_20dbd_row10_col2, #T_20dbd_row11_col0, #T_20dbd_row11_col1, #T_20dbd_row11_col2, #T_20dbd_row12_col0, #T_20dbd_row12_col1, #T_20dbd_row12_col2, #T_20dbd_row13_col0, #T_20dbd_row13_col1, #T_20dbd_row13_col2, #T_20dbd_row14_col0, #T_20dbd_row14_col1, #T_20dbd_row14_col2, #T_20dbd_row15_col0, #T_20dbd_row15_col1, #T_20dbd_row15_col2, #T_20dbd_row16_col0, #T_20dbd_row16_col1, #T_20dbd_row16_col2, #T_20dbd_row17_col0, #T_20dbd_row17_col1, #T_20dbd_row17_col2, #T_20dbd_row18_col0, #T_20dbd_row18_col1, #T_20dbd_row18_col2, #T_20dbd_row19_col0, #T_20dbd_row19_col1, #T_20dbd_row19_col2, #T_20dbd_row20_col0, #T_20dbd_row20_col1, #T_20dbd_row20_col2, #T_20dbd_row21_col0, #T_20dbd_row21_col1, #T_20dbd_row21_col2, #T_20dbd_row22_col0, #T_20dbd_row22_col1, #T_20dbd_row22_col2, #T_20dbd_row23_col0, #T_20dbd_row23_col1, #T_20dbd_row23_col2, #T_20dbd_row24_col0, #T_20dbd_row24_col1, #T_20dbd_row24_col2, #T_20dbd_row25_col0, #T_20dbd_row25_col1, #T_20dbd_row25_col2, #T_20dbd_row26_col0, #T_20dbd_row26_col1, #T_20dbd_row26_col2, #T_20dbd_row27_col0, #T_20dbd_row27_col1, #T_20dbd_row27_col2, #T_20dbd_row28_col0, #T_20dbd_row28_col1, #T_20dbd_row28_col2, #T_20dbd_row29_col0, #T_20dbd_row29_col1, #T_20dbd_row29_col2, #T_20dbd_row30_col0, #T_20dbd_row30_col1, #T_20dbd_row30_col2, #T_20dbd_row31_col0, #T_20dbd_row31_col1, #T_20dbd_row31_col2, #T_20dbd_row32_col0, #T_20dbd_row32_col1, #T_20dbd_row32_col2, #T_20dbd_row33_col0, #T_20dbd_row33_col1, #T_20dbd_row33_col2, #T_20dbd_row34_col0, #T_20dbd_row34_col1, #T_20dbd_row34_col2, #T_20dbd_row35_col0, #T_20dbd_row35_col1, #T_20dbd_row35_col2, #T_20dbd_row36_col0, #T_20dbd_row36_col1, #T_20dbd_row36_col2, #T_20dbd_row37_col0, #T_20dbd_row37_col1, #T_20dbd_row37_col2, #T_20dbd_row38_col0, #T_20dbd_row38_col1, #T_20dbd_row38_col2, #T_20dbd_row39_col0, #T_20dbd_row39_col1, #T_20dbd_row39_col2, #T_20dbd_row40_col0, #T_20dbd_row40_col1, #T_20dbd_row40_col2, #T_20dbd_row41_col0, #T_20dbd_row41_col1, #T_20dbd_row41_col2, #T_20dbd_row42_col0, #T_20dbd_row42_col1, #T_20dbd_row42_col2, #T_20dbd_row43_col0, #T_20dbd_row43_col1, #T_20dbd_row43_col2, #T_20dbd_row44_col0, #T_20dbd_row44_col1, #T_20dbd_row44_col2, #T_20dbd_row45_col0, #T_20dbd_row45_col1, #T_20dbd_row45_col2, #T_20dbd_row46_col0, #T_20dbd_row46_col1, #T_20dbd_row46_col2, #T_20dbd_row47_col0, #T_20dbd_row47_col1, #T_20dbd_row47_col2, #T_20dbd_row48_col0, #T_20dbd_row48_col1, #T_20dbd_row48_col2, #T_20dbd_row49_col0, #T_20dbd_row49_col1, #T_20dbd_row49_col2 {\n  text-align: center;\n}\n</style>\n<table id=\"T_20dbd_\">\n  <thead>\n    <tr>\n      <th class=\"blank level0\" >&nbsp;</th>\n      <th class=\"col_heading level0 col0\" >Score</th>\n      <th class=\"col_heading level0 col1\" >Solution Hypothesis</th>\n      <th class=\"col_heading level0 col2\" >Valid</th>\n    </tr>\n  </thead>\n  <tbody>\n    <tr>\n      <th id=\"T_20dbd_level0_row0\" class=\"row_heading level0 row0\" >1</th>\n      <td id=\"T_20dbd_row0_col0\" class=\"data row0 col0\" >-0.062180</td>\n      <td id=\"T_20dbd_row0_col1\" class=\"data row0 col1\" >$\\frac{a_{8}}{\\left(1 - x\\right)^{2}} + \\frac{x}{3} - \\frac{1}{3}$</td>\n      <td id=\"T_20dbd_row0_col2\" class=\"data row0 col2\" >YES</td>\n    </tr>\n    <tr>\n      <th id=\"T_20dbd_level0_row1\" class=\"row_heading level0 row1\" >2</th>\n      <td id=\"T_20dbd_row1_col0\" class=\"data row1 col0\" >-0.086932</td>\n      <td id=\"T_20dbd_row1_col1\" class=\"data row1 col1\" >$\\frac{a_{8} x^{2}}{\\left(- x^{2} + x\\right)^{2}} + \\frac{x}{3} - \\frac{1}{3}$</td>\n      <td id=\"T_20dbd_row1_col2\" class=\"data row1 col2\" >YES</td>\n    </tr>\n    <tr>\n      <th id=\"T_20dbd_level0_row2\" class=\"row_heading level0 row2\" >3</th>\n      <td id=\"T_20dbd_row2_col0\" class=\"data row2 col0\" >-0.094559</td>\n      <td id=\"T_20dbd_row2_col1\" class=\"data row2 col1\" >$\\frac{a_{8} x^{2}}{\\left(- x^{2} + x\\right)^{2}} + \\frac{x}{3}$</td>\n      <td id=\"T_20dbd_row2_col2\" class=\"data row2 col2\" >NO</td>\n    </tr>\n    <tr>\n      <th id=\"T_20dbd_level0_row3\" class=\"row_heading level0 row3\" >4</th>\n      <td id=\"T_20dbd_row3_col0\" class=\"data row3 col0\" >-0.097033</td>\n      <td id=\"T_20dbd_row3_col1\" class=\"data row3 col1\" >$\\frac{a_{8}}{\\left(1 - x\\right)^{2}} + \\frac{x}{3}$</td>\n      <td id=\"T_20dbd_row3_col2\" class=\"data row3 col2\" >NO</td>\n    </tr>\n    <tr>\n      <th id=\"T_20dbd_level0_row4\" class=\"row_heading level0 row4\" >5</th>\n      <td id=\"T_20dbd_row4_col0\" class=\"data row4 col0\" >-0.106211</td>\n      <td id=\"T_20dbd_row4_col1\" class=\"data row4 col1\" >$\\frac{a_{8}}{\\left(1 - x\\right)^{2}} + \\frac{x}{3} - \\frac{1}{2}$</td>\n      <td id=\"T_20dbd_row4_col2\" class=\"data row4 col2\" >NO</td>\n    </tr>\n    <tr>\n      <th id=\"T_20dbd_level0_row5\" class=\"row_heading level0 row5\" >6</th>\n      <td id=\"T_20dbd_row5_col0\" class=\"data row5 col0\" >-0.112487</td>\n      <td id=\"T_20dbd_row5_col1\" class=\"data row5 col1\" >$\\frac{a_{8}}{x \\left(x - 2\\right) + 1} + \\frac{x}{3}$</td>\n      <td id=\"T_20dbd_row5_col2\" class=\"data row5 col2\" >NO</td>\n    </tr>\n    <tr>\n      <th id=\"T_20dbd_level0_row6\" class=\"row_heading level0 row6\" >7</th>\n      <td id=\"T_20dbd_row6_col0\" class=\"data row6 col0\" >-0.117153</td>\n      <td id=\"T_20dbd_row6_col1\" class=\"data row6 col1\" >$\\frac{a_{8} x^{2}}{\\left(- x^{3} + x^{2}\\right)^{2}} + \\frac{x}{3}$</td>\n      <td id=\"T_20dbd_row6_col2\" class=\"data row6 col2\" >NO</td>\n    </tr>\n    <tr>\n      <th id=\"T_20dbd_level0_row7\" class=\"row_heading level0 row7\" >8</th>\n      <td id=\"T_20dbd_row7_col0\" class=\"data row7 col0\" >-0.119727</td>\n      <td id=\"T_20dbd_row7_col1\" class=\"data row7 col1\" >$\\frac{a_{8}}{x^{2} - 2 x + 1} + \\frac{x}{3}$</td>\n      <td id=\"T_20dbd_row7_col2\" class=\"data row7 col2\" >NO</td>\n    </tr>\n    <tr>\n      <th id=\"T_20dbd_level0_row8\" class=\"row_heading level0 row8\" >9</th>\n      <td id=\"T_20dbd_row8_col0\" class=\"data row8 col0\" >-0.124708</td>\n      <td id=\"T_20dbd_row8_col1\" class=\"data row8 col1\" >$\\frac{a_{8} x^{2}}{\\left(- x^{2} + x\\right)^{2}} + \\frac{x}{3} - \\frac{1}{2}$</td>\n      <td id=\"T_20dbd_row8_col2\" class=\"data row8 col2\" >NO</td>\n    </tr>\n    <tr>\n      <th id=\"T_20dbd_level0_row9\" class=\"row_heading level0 row9\" >10</th>\n      <td id=\"T_20dbd_row9_col0\" class=\"data row9 col0\" >-0.136849</td>\n      <td id=\"T_20dbd_row9_col1\" class=\"data row9 col1\" >$\\frac{a_{8} x^{2}}{\\left(x^{2} - x\\right)^{2}} + \\frac{x}{3} - \\frac{1}{3}$</td>\n      <td id=\"T_20dbd_row9_col2\" class=\"data row9 col2\" >YES</td>\n    </tr>\n    <tr>\n      <th id=\"T_20dbd_level0_row10\" class=\"row_heading level0 row10\" >11</th>\n      <td id=\"T_20dbd_row10_col0\" class=\"data row10 col0\" >-0.142340</td>\n      <td id=\"T_20dbd_row10_col1\" class=\"data row10 col1\" >$\\frac{a_{8}}{x^{2} - 2 x + 1} + \\frac{x}{3} - \\frac{1}{3}$</td>\n      <td id=\"T_20dbd_row10_col2\" class=\"data row10 col2\" >YES</td>\n    </tr>\n    <tr>\n      <th id=\"T_20dbd_level0_row11\" class=\"row_heading level0 row11\" >12</th>\n      <td id=\"T_20dbd_row11_col0\" class=\"data row11 col0\" >-0.152475</td>\n      <td id=\"T_20dbd_row11_col1\" class=\"data row11 col1\" >$\\frac{a_{8}}{x \\left(x - 1\\right) - x + 1} + \\frac{x}{3}$</td>\n      <td id=\"T_20dbd_row11_col2\" class=\"data row11 col2\" >NO</td>\n    </tr>\n    <tr>\n      <th id=\"T_20dbd_level0_row12\" class=\"row_heading level0 row12\" >13</th>\n      <td id=\"T_20dbd_row12_col0\" class=\"data row12 col0\" >-0.156143</td>\n      <td id=\"T_20dbd_row12_col1\" class=\"data row12 col1\" >$\\frac{x}{3} + \\frac{a_{8} + x^{2}}{3 \\left(1 - x\\right)^{2}}$</td>\n      <td id=\"T_20dbd_row12_col2\" class=\"data row12 col2\" >NO</td>\n    </tr>\n    <tr>\n      <th id=\"T_20dbd_level0_row13\" class=\"row_heading level0 row13\" >14</th>\n      <td id=\"T_20dbd_row13_col0\" class=\"data row13 col0\" >-0.160316</td>\n      <td id=\"T_20dbd_row13_col1\" class=\"data row13 col1\" >$\\frac{a_{8}}{- x \\left(2 - x\\right) + 1} + \\frac{x}{3}$</td>\n      <td id=\"T_20dbd_row13_col2\" class=\"data row13 col2\" >NO</td>\n    </tr>\n    <tr>\n      <th id=\"T_20dbd_level0_row14\" class=\"row_heading level0 row14\" >15</th>\n      <td id=\"T_20dbd_row14_col0\" class=\"data row14 col0\" >-0.160968</td>\n      <td id=\"T_20dbd_row14_col1\" class=\"data row14 col1\" >$\\frac{x}{3} + \\frac{a_{8} + 2 x}{3 \\left(1 - x\\right)^{2}}$</td>\n      <td id=\"T_20dbd_row14_col2\" class=\"data row14 col2\" >NO</td>\n    </tr>\n    <tr>\n      <th id=\"T_20dbd_level0_row15\" class=\"row_heading level0 row15\" >16</th>\n      <td id=\"T_20dbd_row15_col0\" class=\"data row15 col0\" >-0.163705</td>\n      <td id=\"T_20dbd_row15_col1\" class=\"data row15 col1\" >$\\frac{a_{8}}{\\left(1 - x\\right)^{2}} + \\frac{x}{3} + \\frac{1}{3}$</td>\n      <td id=\"T_20dbd_row15_col2\" class=\"data row15 col2\" >NO</td>\n    </tr>\n    <tr>\n      <th id=\"T_20dbd_level0_row16\" class=\"row_heading level0 row16\" >17</th>\n      <td id=\"T_20dbd_row16_col0\" class=\"data row16 col0\" >-0.164236</td>\n      <td id=\"T_20dbd_row16_col1\" class=\"data row16 col1\" >$\\frac{a_{8}}{- x \\left(1 - x\\right) - x + 1} + \\frac{x}{3}$</td>\n      <td id=\"T_20dbd_row16_col2\" class=\"data row16 col2\" >NO</td>\n    </tr>\n    <tr>\n      <th id=\"T_20dbd_level0_row17\" class=\"row_heading level0 row17\" >18</th>\n      <td id=\"T_20dbd_row17_col0\" class=\"data row17 col0\" >-0.169136</td>\n      <td id=\"T_20dbd_row17_col1\" class=\"data row17 col1\" >$\\frac{a_{8} x^{2}}{\\left(- x^{2} + x\\right)^{2}} + \\frac{x}{3} + \\frac{1}{3}$</td>\n      <td id=\"T_20dbd_row17_col2\" class=\"data row17 col2\" >NO</td>\n    </tr>\n    <tr>\n      <th id=\"T_20dbd_level0_row18\" class=\"row_heading level0 row18\" >19</th>\n      <td id=\"T_20dbd_row18_col0\" class=\"data row18 col0\" >-0.173725</td>\n      <td id=\"T_20dbd_row18_col1\" class=\"data row18 col1\" >$\\frac{a_{8}}{x^{2} + x \\left(- x - 2\\right) + 1} + \\frac{x}{3}$</td>\n      <td id=\"T_20dbd_row18_col2\" class=\"data row18 col2\" >NO</td>\n    </tr>\n    <tr>\n      <th id=\"T_20dbd_level0_row19\" class=\"row_heading level0 row19\" >20</th>\n      <td id=\"T_20dbd_row19_col0\" class=\"data row19 col0\" >-0.175921</td>\n      <td id=\"T_20dbd_row19_col1\" class=\"data row19 col1\" >$\\frac{a_{8} x^{2}}{\\left(x^{2} - x\\right)^{2}} + \\frac{x}{3} - \\frac{1}{2}$</td>\n      <td id=\"T_20dbd_row19_col2\" class=\"data row19 col2\" >NO</td>\n    </tr>\n    <tr>\n      <th id=\"T_20dbd_level0_row20\" class=\"row_heading level0 row20\" >21</th>\n      <td id=\"T_20dbd_row20_col0\" class=\"data row20 col0\" >-0.177557</td>\n      <td id=\"T_20dbd_row20_col1\" class=\"data row20 col1\" >$\\frac{a_{8}}{x \\left(x - 2\\right) + 1} + \\frac{x}{3} - \\frac{1}{3}$</td>\n      <td id=\"T_20dbd_row20_col2\" class=\"data row20 col2\" >YES</td>\n    </tr>\n    <tr>\n      <th id=\"T_20dbd_level0_row21\" class=\"row_heading level0 row21\" >22</th>\n      <td id=\"T_20dbd_row21_col0\" class=\"data row21 col0\" >-0.181571</td>\n      <td id=\"T_20dbd_row21_col1\" class=\"data row21 col1\" >$\\frac{a_{8}}{x \\left(x - 3\\right) + x + 1} + \\frac{x}{3}$</td>\n      <td id=\"T_20dbd_row21_col2\" class=\"data row21 col2\" >NO</td>\n    </tr>\n    <tr>\n      <th id=\"T_20dbd_level0_row22\" class=\"row_heading level0 row22\" >23</th>\n      <td id=\"T_20dbd_row22_col0\" class=\"data row22 col0\" >-0.181953</td>\n      <td id=\"T_20dbd_row22_col1\" class=\"data row22 col1\" >$\\frac{a_{8}}{- x^{2} - 2 x + 1} + \\frac{x}{3}$</td>\n      <td id=\"T_20dbd_row22_col2\" class=\"data row22 col2\" >NO</td>\n    </tr>\n    <tr>\n      <th id=\"T_20dbd_level0_row23\" class=\"row_heading level0 row23\" >24</th>\n      <td id=\"T_20dbd_row23_col0\" class=\"data row23 col0\" >-0.183568</td>\n      <td id=\"T_20dbd_row23_col1\" class=\"data row23 col1\" >$\\frac{a_{8} x^{2}}{\\left(x^{2} - x\\right)^{2}} + \\frac{x}{3}$</td>\n      <td id=\"T_20dbd_row23_col2\" class=\"data row23 col2\" >NO</td>\n    </tr>\n    <tr>\n      <th id=\"T_20dbd_level0_row24\" class=\"row_heading level0 row24\" >25</th>\n      <td id=\"T_20dbd_row24_col0\" class=\"data row24 col0\" >-0.187030</td>\n      <td id=\"T_20dbd_row24_col1\" class=\"data row24 col1\" >$\\frac{a_{8} x}{x^{2} \\left(x - 2\\right) + x} + \\frac{x}{3} - \\frac{1}{3}$</td>\n      <td id=\"T_20dbd_row24_col2\" class=\"data row24 col2\" >YES</td>\n    </tr>\n    <tr>\n      <th id=\"T_20dbd_level0_row25\" class=\"row_heading level0 row25\" >26</th>\n      <td id=\"T_20dbd_row25_col0\" class=\"data row25 col0\" >-0.192532</td>\n      <td id=\"T_20dbd_row25_col1\" class=\"data row25 col1\" >$\\frac{a_{8}}{x^{2} - 2 x + 1} + \\frac{x}{3} - \\frac{1}{2}$</td>\n      <td id=\"T_20dbd_row25_col2\" class=\"data row25 col2\" >NO</td>\n    </tr>\n    <tr>\n      <th id=\"T_20dbd_level0_row26\" class=\"row_heading level0 row26\" >27</th>\n      <td id=\"T_20dbd_row26_col0\" class=\"data row26 col0\" >-0.193268</td>\n      <td id=\"T_20dbd_row26_col1\" class=\"data row26 col1\" >$\\frac{a_{8} x}{x^{2} \\left(x - 2\\right) + x} + \\frac{x}{3} - \\frac{1}{2}$</td>\n      <td id=\"T_20dbd_row26_col2\" class=\"data row26 col2\" >NO</td>\n    </tr>\n    <tr>\n      <th id=\"T_20dbd_level0_row27\" class=\"row_heading level0 row27\" >28</th>\n      <td id=\"T_20dbd_row27_col0\" class=\"data row27 col0\" >-0.198084</td>\n      <td id=\"T_20dbd_row27_col1\" class=\"data row27 col1\" >$\\frac{x \\left(\\frac{a_{8}}{\\left(1 - x\\right)^{2}} + x\\right) - x}{3 x}$</td>\n      <td id=\"T_20dbd_row27_col2\" class=\"data row27 col2\" >YES</td>\n    </tr>\n    <tr>\n      <th id=\"T_20dbd_level0_row28\" class=\"row_heading level0 row28\" >29</th>\n      <td id=\"T_20dbd_row28_col0\" class=\"data row28 col0\" >-0.198754</td>\n      <td id=\"T_20dbd_row28_col1\" class=\"data row28 col1\" >$\\frac{a_{8} x^{2}}{\\left(- x^{3} + x^{2}\\right)^{2}} + \\frac{x}{3} - 1$</td>\n      <td id=\"T_20dbd_row28_col2\" class=\"data row28 col2\" >NO</td>\n    </tr>\n    <tr>\n      <th id=\"T_20dbd_level0_row29\" class=\"row_heading level0 row29\" >30</th>\n      <td id=\"T_20dbd_row29_col0\" class=\"data row29 col0\" >-0.199746</td>\n      <td id=\"T_20dbd_row29_col1\" class=\"data row29 col1\" >$\\frac{a_{8}}{\\left(1 - x\\right) \\left(x - 1\\right)} + \\frac{x}{3}$</td>\n      <td id=\"T_20dbd_row29_col2\" class=\"data row29 col2\" >NO</td>\n    </tr>\n    <tr>\n      <th id=\"T_20dbd_level0_row30\" class=\"row_heading level0 row30\" >31</th>\n      <td id=\"T_20dbd_row30_col0\" class=\"data row30 col0\" >-0.200148</td>\n      <td id=\"T_20dbd_row30_col1\" class=\"data row30 col1\" >$\\frac{\\frac{a_{8} x}{\\left(x - 1\\right)^{2}} + x^{2} - x}{3 x}$</td>\n      <td id=\"T_20dbd_row30_col2\" class=\"data row30 col2\" >YES</td>\n    </tr>\n    <tr>\n      <th id=\"T_20dbd_level0_row31\" class=\"row_heading level0 row31\" >32</th>\n      <td id=\"T_20dbd_row31_col0\" class=\"data row31 col0\" >-0.206276</td>\n      <td id=\"T_20dbd_row31_col1\" class=\"data row31 col1\" >$\\frac{a_{8}}{x^{2} + x \\left(- 2 x - 2\\right) + 1} + \\frac{x}{3}$</td>\n      <td id=\"T_20dbd_row31_col2\" class=\"data row31 col2\" >NO</td>\n    </tr>\n    <tr>\n      <th id=\"T_20dbd_level0_row32\" class=\"row_heading level0 row32\" >33</th>\n      <td id=\"T_20dbd_row32_col0\" class=\"data row32 col0\" >-0.208903</td>\n      <td id=\"T_20dbd_row32_col1\" class=\"data row32 col1\" >$\\frac{a_{8}}{x \\left(x - 1\\right) - x + 1} + \\frac{x}{3} - \\frac{1}{3}$</td>\n      <td id=\"T_20dbd_row32_col2\" class=\"data row32 col2\" >YES</td>\n    </tr>\n    <tr>\n      <th id=\"T_20dbd_level0_row33\" class=\"row_heading level0 row33\" >34</th>\n      <td id=\"T_20dbd_row33_col0\" class=\"data row33 col0\" >-0.209084</td>\n      <td id=\"T_20dbd_row33_col1\" class=\"data row33 col1\" >$\\frac{a_{8}}{x \\left(- x - 1\\right) - x + 1} + \\frac{x}{3}$</td>\n      <td id=\"T_20dbd_row33_col2\" class=\"data row33 col2\" >NO</td>\n    </tr>\n    <tr>\n      <th id=\"T_20dbd_level0_row34\" class=\"row_heading level0 row34\" >35</th>\n      <td id=\"T_20dbd_row34_col0\" class=\"data row34 col0\" >-0.210172</td>\n      <td id=\"T_20dbd_row34_col1\" class=\"data row34 col1\" >$\\frac{a_{8}}{\\left(2 - 2 x\\right)^{2}} + \\frac{x}{3} - \\frac{1}{3}$</td>\n      <td id=\"T_20dbd_row34_col2\" class=\"data row34 col2\" >YES</td>\n    </tr>\n    <tr>\n      <th id=\"T_20dbd_level0_row35\" class=\"row_heading level0 row35\" >36</th>\n      <td id=\"T_20dbd_row35_col0\" class=\"data row35 col0\" >-0.215920</td>\n      <td id=\"T_20dbd_row35_col1\" class=\"data row35 col1\" >$\\frac{a_{8}}{x \\left(2 x - 1\\right) - x + 1} + \\frac{x}{3}$</td>\n      <td id=\"T_20dbd_row35_col2\" class=\"data row35 col2\" >NO</td>\n    </tr>\n    <tr>\n      <th id=\"T_20dbd_level0_row36\" class=\"row_heading level0 row36\" >37</th>\n      <td id=\"T_20dbd_row36_col0\" class=\"data row36 col0\" >-0.218954</td>\n      <td id=\"T_20dbd_row36_col1\" class=\"data row36 col1\" >$\\frac{a_{8}}{\\left(1 - x\\right)^{2}} + \\frac{x}{2} - \\frac{1}{2}$</td>\n      <td id=\"T_20dbd_row36_col2\" class=\"data row36 col2\" >NO</td>\n    </tr>\n    <tr>\n      <th id=\"T_20dbd_level0_row37\" class=\"row_heading level0 row37\" >38</th>\n      <td id=\"T_20dbd_row37_col0\" class=\"data row37 col0\" >-0.220531</td>\n      <td id=\"T_20dbd_row37_col1\" class=\"data row37 col1\" >$\\frac{a_{8}}{x \\left(3 - x\\right) - x + 1} + \\frac{x}{3}$</td>\n      <td id=\"T_20dbd_row37_col2\" class=\"data row37 col2\" >NO</td>\n    </tr>\n    <tr>\n      <th id=\"T_20dbd_level0_row38\" class=\"row_heading level0 row38\" >39</th>\n      <td id=\"T_20dbd_row38_col0\" class=\"data row38 col0\" >-0.220956</td>\n      <td id=\"T_20dbd_row38_col1\" class=\"data row38 col1\" >$\\frac{a_{8}}{\\left(1 - x\\right)^{2}} + \\frac{x}{3} - 1$</td>\n      <td id=\"T_20dbd_row38_col2\" class=\"data row38 col2\" >NO</td>\n    </tr>\n    <tr>\n      <th id=\"T_20dbd_level0_row39\" class=\"row_heading level0 row39\" >40</th>\n      <td id=\"T_20dbd_row39_col0\" class=\"data row39 col0\" >-0.221763</td>\n      <td id=\"T_20dbd_row39_col1\" class=\"data row39 col1\" >$\\frac{a_{8} x^{2}}{\\left(x^{2} - x\\right)^{2}} + \\frac{x}{3} + \\frac{1}{3}$</td>\n      <td id=\"T_20dbd_row39_col2\" class=\"data row39 col2\" >NO</td>\n    </tr>\n    <tr>\n      <th id=\"T_20dbd_level0_row40\" class=\"row_heading level0 row40\" >41</th>\n      <td id=\"T_20dbd_row40_col0\" class=\"data row40 col0\" >-0.222372</td>\n      <td id=\"T_20dbd_row40_col1\" class=\"data row40 col1\" >$\\frac{a_{8}}{- x \\left(3 - x\\right) + x + 1} + \\frac{x}{3}$</td>\n      <td id=\"T_20dbd_row40_col2\" class=\"data row40 col2\" >NO</td>\n    </tr>\n    <tr>\n      <th id=\"T_20dbd_level0_row41\" class=\"row_heading level0 row41\" >42</th>\n      <td id=\"T_20dbd_row41_col0\" class=\"data row41 col0\" >-0.222678</td>\n      <td id=\"T_20dbd_row41_col1\" class=\"data row41 col1\" >$\\frac{a_{8}}{x \\left(x - 3\\right) + x + 1} + \\frac{x}{3} - \\frac{1}{3}$</td>\n      <td id=\"T_20dbd_row41_col2\" class=\"data row41 col2\" >YES</td>\n    </tr>\n    <tr>\n      <th id=\"T_20dbd_level0_row42\" class=\"row_heading level0 row42\" >43</th>\n      <td id=\"T_20dbd_row42_col0\" class=\"data row42 col0\" >-0.226563</td>\n      <td id=\"T_20dbd_row42_col1\" class=\"data row42 col1\" >$\\frac{a_{8}}{x \\left(1 - x\\right) - 2 x + 1} + \\frac{x}{3}$</td>\n      <td id=\"T_20dbd_row42_col2\" class=\"data row42 col2\" >NO</td>\n    </tr>\n    <tr>\n      <th id=\"T_20dbd_level0_row43\" class=\"row_heading level0 row43\" >44</th>\n      <td id=\"T_20dbd_row43_col0\" class=\"data row43 col0\" >-0.231511</td>\n      <td id=\"T_20dbd_row43_col1\" class=\"data row43 col1\" >$\\frac{a_{8}}{- x \\left(x - 3\\right) - x + 1} + \\frac{x}{3}$</td>\n      <td id=\"T_20dbd_row43_col2\" class=\"data row43 col2\" >NO</td>\n    </tr>\n    <tr>\n      <th id=\"T_20dbd_level0_row44\" class=\"row_heading level0 row44\" >45</th>\n      <td id=\"T_20dbd_row44_col0\" class=\"data row44 col0\" >-0.238237</td>\n      <td id=\"T_20dbd_row44_col1\" class=\"data row44 col1\" >$\\frac{a_{8}}{\\left(1 - x\\right)^{2}} + \\frac{x}{3} + \\frac{1}{2}$</td>\n      <td id=\"T_20dbd_row44_col2\" class=\"data row44 col2\" >NO</td>\n    </tr>\n    <tr>\n      <th id=\"T_20dbd_level0_row45\" class=\"row_heading level0 row45\" >46</th>\n      <td id=\"T_20dbd_row45_col0\" class=\"data row45 col0\" >-0.243171</td>\n      <td id=\"T_20dbd_row45_col1\" class=\"data row45 col1\" >$\\frac{a_{8}}{\\left(2 - 2 x\\right)^{2}} + \\frac{x}{3} - \\frac{1}{2}$</td>\n      <td id=\"T_20dbd_row45_col2\" class=\"data row45 col2\" >NO</td>\n    </tr>\n    <tr>\n      <th id=\"T_20dbd_level0_row46\" class=\"row_heading level0 row46\" >47</th>\n      <td id=\"T_20dbd_row46_col0\" class=\"data row46 col0\" >-0.243990</td>\n      <td id=\"T_20dbd_row46_col1\" class=\"data row46 col1\" >$\\frac{x}{3} + \\frac{a_{8} + x}{3 \\left(x^{2} - 2 x + 1\\right)}$</td>\n      <td id=\"T_20dbd_row46_col2\" class=\"data row46 col2\" >NO</td>\n    </tr>\n    <tr>\n      <th id=\"T_20dbd_level0_row47\" class=\"row_heading level0 row47\" >48</th>\n      <td id=\"T_20dbd_row47_col0\" class=\"data row47 col0\" >-0.255032</td>\n      <td id=\"T_20dbd_row47_col1\" class=\"data row47 col1\" >$\\frac{a_{8}}{\\left(2 x - 2\\right)^{2}} + \\frac{x}{3} - \\frac{1}{3}$</td>\n      <td id=\"T_20dbd_row47_col2\" class=\"data row47 col2\" >YES</td>\n    </tr>\n    <tr>\n      <th id=\"T_20dbd_level0_row48\" class=\"row_heading level0 row48\" >49</th>\n      <td id=\"T_20dbd_row48_col0\" class=\"data row48 col0\" >-0.264290</td>\n      <td id=\"T_20dbd_row48_col1\" class=\"data row48 col1\" >$\\frac{a_{8}}{x \\left(2 x - 4\\right) + 2} + \\frac{x}{3}$</td>\n      <td id=\"T_20dbd_row48_col2\" class=\"data row48 col2\" >NO</td>\n    </tr>\n    <tr>\n      <th id=\"T_20dbd_level0_row49\" class=\"row_heading level0 row49\" >50</th>\n      <td id=\"T_20dbd_row49_col0\" class=\"data row49 col0\" >-0.265698</td>\n      <td id=\"T_20dbd_row49_col1\" class=\"data row49 col1\" >$\\frac{a_{8} x^{2}}{- x^{3} + x^{2}} + \\frac{x}{3} - 1$</td>\n      <td id=\"T_20dbd_row49_col2\" class=\"data row49 col2\" >NO</td>\n    </tr>\n  </tbody>\n</table>\n"
     },
     "execution_count": 42,
     "metadata": {},
     "output_type": "execute_result"
    }
   ],
   "source": [
    "pandas.set_option('max_colwidth', None)\n",
    "pandas.DataFrame(results, index=rows, columns=columns).style.set_properties(**{'text-align': 'center'})"
   ],
   "metadata": {
    "collapsed": false,
    "pycharm": {
     "name": "#%%\n"
    }
   }
  },
  {
   "cell_type": "markdown",
   "source": [
    "## Differential Equation that cannot be solved by Mathematica and Matlab\n",
    "\n",
    "Declare differential equation and solution $y$:"
   ],
   "metadata": {
    "collapsed": false
   }
  },
  {
   "cell_type": "code",
   "execution_count": 43,
   "outputs": [],
   "source": [
    "diff_eq_infix = \"3*x*f(x)*cos(x)-sqrt(9*x**2*sin(x)**2+1)*diff(f(x),x)+3*f(x)*sin(x)\"\n",
    "y_infix = \"c*exp(sinh(3*x*sin(x))**-1)\""
   ],
   "metadata": {
    "collapsed": false,
    "pycharm": {
     "name": "#%%\n"
    }
   }
  },
  {
   "cell_type": "markdown",
   "source": [
    "Converts **diff_eq_infix** and **y_infix** to a type that can be used inside SymPy:"
   ],
   "metadata": {
    "collapsed": false
   }
  },
  {
   "cell_type": "code",
   "execution_count": 44,
   "outputs": [
    {
     "data": {
      "text/plain": "3*x*f(x)*cos(x) - sqrt(9*x**2*sin(x)**2 + 1)*Derivative(f(x), x) + 3*f(x)*sin(x)",
      "text/latex": "$\\displaystyle 3 x f{\\left(x \\right)} \\cos{\\left(x \\right)} - \\sqrt{9 x^{2} \\sin^{2}{\\left(x \\right)} + 1} \\frac{d}{d x} f{\\left(x \\right)} + 3 f{\\left(x \\right)} \\sin{\\left(x \\right)}$"
     },
     "execution_count": 44,
     "metadata": {},
     "output_type": "execute_result"
    }
   ],
   "source": [
    "diff_eq_sympy = sympy.sympify(diff_eq_infix, locals=env.local_dict)\n",
    "diff_eq_sympy"
   ],
   "metadata": {
    "collapsed": false,
    "pycharm": {
     "name": "#%%\n"
    }
   }
  },
  {
   "cell_type": "code",
   "execution_count": 45,
   "outputs": [
    {
     "data": {
      "text/plain": "c*exp(1/sinh(3*x*sin(x)))",
      "text/latex": "$\\displaystyle c e^{\\frac{1}{\\sinh{\\left(3 x \\sin{\\left(x \\right)} \\right)}}}$"
     },
     "execution_count": 45,
     "metadata": {},
     "output_type": "execute_result"
    }
   ],
   "source": [
    "y_sympy = sympy.sympify(y_infix, locals=env.local_dict)\n",
    "y_sympy"
   ],
   "metadata": {
    "collapsed": false,
    "pycharm": {
     "name": "#%%\n"
    }
   }
  },
  {
   "cell_type": "markdown",
   "source": [
    "Expand the expression of the equation to allow the model to calculate the solution more easily:"
   ],
   "metadata": {
    "collapsed": false
   }
  },
  {
   "cell_type": "code",
   "execution_count": 46,
   "outputs": [
    {
     "data": {
      "text/plain": "3*x*f(x)*cos(x) - sqrt(9*x**2*sin(x)**2 + 1)*Derivative(f(x), x) + 3*f(x)*sin(x)",
      "text/latex": "$\\displaystyle 3 x f{\\left(x \\right)} \\cos{\\left(x \\right)} - \\sqrt{9 x^{2} \\sin^{2}{\\left(x \\right)} + 1} \\frac{d}{d x} f{\\left(x \\right)} + 3 f{\\left(x \\right)} \\sin{\\left(x \\right)}$"
     },
     "execution_count": 46,
     "metadata": {},
     "output_type": "execute_result"
    }
   ],
   "source": [
    "diff_eq_sympy = sympy.expand(diff_eq_sympy)\n",
    "diff_eq_sympy"
   ],
   "metadata": {
    "collapsed": false,
    "pycharm": {
     "name": "#%%\n"
    }
   }
  },
  {
   "cell_type": "markdown",
   "source": [
    "Use the model to find the solution $y$:"
   ],
   "metadata": {
    "collapsed": false
   }
  },
  {
   "cell_type": "code",
   "execution_count": 47,
   "outputs": [],
   "source": [
    "start_time = time.time()\n",
    "\n",
    "diff_eq_prefix = env.sympy_to_prefix(diff_eq_sympy)\n",
    "\n",
    "x1_prefix = env.clean_prefix(diff_eq_prefix)\n",
    "\n",
    "x1 = torch.LongTensor(\n",
    "    [env.eos_index] +\n",
    "    [env.word2id[w] for w in x1_prefix] +\n",
    "    [env.eos_index]\n",
    ").view(-1, 1)\n",
    "\n",
    "len1 = torch.LongTensor([len(x1)])\n",
    "x1, len1 = to_cuda(x1, len1)\n",
    "\n",
    "with torch.no_grad():\n",
    "    encoded = encoder('fwd', x=x1, lengths=len1, causal=False).transpose(0, 1)\n",
    "\n",
    "with torch.no_grad():\n",
    "    _, _, beam = decoder.generate_beam(encoded, len1, beam_size=beam_size, length_penalty=1.0, early_stopping=1,\n",
    "                                       max_len=params.max_len)\n",
    "\n",
    "end_time = time.time()\n",
    "\n",
    "assert len(beam) == 1\n",
    "hypotheses = beam[0].hyp\n",
    "assert len(hypotheses) == beam_size"
   ],
   "metadata": {
    "collapsed": false,
    "pycharm": {
     "name": "#%%\n"
    }
   }
  },
  {
   "cell_type": "markdown",
   "source": [
    "Execution time (seconds):"
   ],
   "metadata": {
    "collapsed": false
   }
  },
  {
   "cell_type": "code",
   "execution_count": 48,
   "outputs": [
    {
     "data": {
      "text/plain": "0.18436098098754883"
     },
     "execution_count": 48,
     "metadata": {},
     "output_type": "execute_result"
    }
   ],
   "source": [
    "end_time - start_time"
   ],
   "metadata": {
    "collapsed": false,
    "pycharm": {
     "name": "#%%\n"
    }
   }
  },
  {
   "cell_type": "markdown",
   "source": [
    "Extract scores and solution hypotheses:"
   ],
   "metadata": {
    "collapsed": false
   }
  },
  {
   "cell_type": "code",
   "execution_count": 49,
   "outputs": [],
   "source": [
    "rows = numpy.arange(1, beam_size + 1)\n",
    "columns = ['Score', 'Solution Hypothesis', 'Valid']\n",
    "results = []\n",
    "\n",
    "for score, sequence in sorted(hypotheses, reverse=True):\n",
    "    # Parse decoded hypothesis\n",
    "    ids = sequence[1:].tolist()  # Decoded token IDs\n",
    "    hyp_prefix = [env.id2word[word_id] for word_id in ids]  # Convert to prefix notation\n",
    "\n",
    "    try:\n",
    "        hyp_infix = env.prefix_to_infix(hyp_prefix)  # Convert to infix notation\n",
    "        hyp_sympy = env.infix_to_sympy(hyp_infix)  # Convert to SymPy\n",
    "\n",
    "        # Check if the hypothesis is a valid solution, replacing 'hyp_sympy' with 'f(x)' in the equation\n",
    "        validation = \"YES\" if simplify(diff_eq_sympy.subs(f(x), hyp_sympy).doit(), seconds=1) == 0 else \"NO\"\n",
    "\n",
    "        # Transform hypothesis to a valid latex expression\n",
    "        hyp_expr = \"$\" + sympy.latex(env.infix_to_sympy(hyp_infix)) + \"$\"\n",
    "\n",
    "    except (InvalidPrefixExpression, ValueErrorExpression):\n",
    "        validation = \"INVALID PREFIX EXPRESSION\"\n",
    "        hyp_expr = hyp_prefix\n",
    "\n",
    "    # Prepare results\n",
    "    results.append([score, hyp_expr, validation])"
   ],
   "metadata": {
    "collapsed": false,
    "pycharm": {
     "name": "#%%\n"
    }
   }
  },
  {
   "cell_type": "markdown",
   "source": [
    "Print results:"
   ],
   "metadata": {
    "collapsed": false
   }
  },
  {
   "cell_type": "code",
   "execution_count": 50,
   "outputs": [
    {
     "data": {
      "text/plain": "<pandas.io.formats.style.Styler at 0x7f535b68d340>",
      "text/html": "<style type=\"text/css\">\n#T_07250_row0_col0, #T_07250_row0_col1, #T_07250_row0_col2, #T_07250_row1_col0, #T_07250_row1_col1, #T_07250_row1_col2, #T_07250_row2_col0, #T_07250_row2_col1, #T_07250_row2_col2, #T_07250_row3_col0, #T_07250_row3_col1, #T_07250_row3_col2, #T_07250_row4_col0, #T_07250_row4_col1, #T_07250_row4_col2, #T_07250_row5_col0, #T_07250_row5_col1, #T_07250_row5_col2, #T_07250_row6_col0, #T_07250_row6_col1, #T_07250_row6_col2, #T_07250_row7_col0, #T_07250_row7_col1, #T_07250_row7_col2, #T_07250_row8_col0, #T_07250_row8_col1, #T_07250_row8_col2, #T_07250_row9_col0, #T_07250_row9_col1, #T_07250_row9_col2, #T_07250_row10_col0, #T_07250_row10_col1, #T_07250_row10_col2, #T_07250_row11_col0, #T_07250_row11_col1, #T_07250_row11_col2, #T_07250_row12_col0, #T_07250_row12_col1, #T_07250_row12_col2, #T_07250_row13_col0, #T_07250_row13_col1, #T_07250_row13_col2, #T_07250_row14_col0, #T_07250_row14_col1, #T_07250_row14_col2, #T_07250_row15_col0, #T_07250_row15_col1, #T_07250_row15_col2, #T_07250_row16_col0, #T_07250_row16_col1, #T_07250_row16_col2, #T_07250_row17_col0, #T_07250_row17_col1, #T_07250_row17_col2, #T_07250_row18_col0, #T_07250_row18_col1, #T_07250_row18_col2, #T_07250_row19_col0, #T_07250_row19_col1, #T_07250_row19_col2, #T_07250_row20_col0, #T_07250_row20_col1, #T_07250_row20_col2, #T_07250_row21_col0, #T_07250_row21_col1, #T_07250_row21_col2, #T_07250_row22_col0, #T_07250_row22_col1, #T_07250_row22_col2, #T_07250_row23_col0, #T_07250_row23_col1, #T_07250_row23_col2, #T_07250_row24_col0, #T_07250_row24_col1, #T_07250_row24_col2, #T_07250_row25_col0, #T_07250_row25_col1, #T_07250_row25_col2, #T_07250_row26_col0, #T_07250_row26_col1, #T_07250_row26_col2, #T_07250_row27_col0, #T_07250_row27_col1, #T_07250_row27_col2, #T_07250_row28_col0, #T_07250_row28_col1, #T_07250_row28_col2, #T_07250_row29_col0, #T_07250_row29_col1, #T_07250_row29_col2, #T_07250_row30_col0, #T_07250_row30_col1, #T_07250_row30_col2, #T_07250_row31_col0, #T_07250_row31_col1, #T_07250_row31_col2, #T_07250_row32_col0, #T_07250_row32_col1, #T_07250_row32_col2, #T_07250_row33_col0, #T_07250_row33_col1, #T_07250_row33_col2, #T_07250_row34_col0, #T_07250_row34_col1, #T_07250_row34_col2, #T_07250_row35_col0, #T_07250_row35_col1, #T_07250_row35_col2, #T_07250_row36_col0, #T_07250_row36_col1, #T_07250_row36_col2, #T_07250_row37_col0, #T_07250_row37_col1, #T_07250_row37_col2, #T_07250_row38_col0, #T_07250_row38_col1, #T_07250_row38_col2, #T_07250_row39_col0, #T_07250_row39_col1, #T_07250_row39_col2, #T_07250_row40_col0, #T_07250_row40_col1, #T_07250_row40_col2, #T_07250_row41_col0, #T_07250_row41_col1, #T_07250_row41_col2, #T_07250_row42_col0, #T_07250_row42_col1, #T_07250_row42_col2, #T_07250_row43_col0, #T_07250_row43_col1, #T_07250_row43_col2, #T_07250_row44_col0, #T_07250_row44_col1, #T_07250_row44_col2, #T_07250_row45_col0, #T_07250_row45_col1, #T_07250_row45_col2, #T_07250_row46_col0, #T_07250_row46_col1, #T_07250_row46_col2, #T_07250_row47_col0, #T_07250_row47_col1, #T_07250_row47_col2, #T_07250_row48_col0, #T_07250_row48_col1, #T_07250_row48_col2, #T_07250_row49_col0, #T_07250_row49_col1, #T_07250_row49_col2 {\n  text-align: center;\n}\n</style>\n<table id=\"T_07250_\">\n  <thead>\n    <tr>\n      <th class=\"blank level0\" >&nbsp;</th>\n      <th class=\"col_heading level0 col0\" >Score</th>\n      <th class=\"col_heading level0 col1\" >Solution Hypothesis</th>\n      <th class=\"col_heading level0 col2\" >Valid</th>\n    </tr>\n  </thead>\n  <tbody>\n    <tr>\n      <th id=\"T_07250_level0_row0\" class=\"row_heading level0 row0\" >1</th>\n      <td id=\"T_07250_row0_col0\" class=\"data row0 col0\" >-0.056235</td>\n      <td id=\"T_07250_row0_col1\" class=\"data row0 col1\" >$e^{a_{8} + \\operatorname{asinh}{\\left(3 x \\sin{\\left(x \\right)} \\right)}}$</td>\n      <td id=\"T_07250_row0_col2\" class=\"data row0 col2\" >YES</td>\n    </tr>\n    <tr>\n      <th id=\"T_07250_level0_row1\" class=\"row_heading level0 row1\" >2</th>\n      <td id=\"T_07250_row1_col0\" class=\"data row1 col0\" >-0.069612</td>\n      <td id=\"T_07250_row1_col1\" class=\"data row1 col1\" >$a_{8} e^{\\operatorname{asinh}{\\left(3 x \\sin{\\left(x \\right)} \\right)}}$</td>\n      <td id=\"T_07250_row1_col2\" class=\"data row1 col2\" >YES</td>\n    </tr>\n    <tr>\n      <th id=\"T_07250_level0_row2\" class=\"row_heading level0 row2\" >3</th>\n      <td id=\"T_07250_row2_col0\" class=\"data row2 col0\" >-0.364480</td>\n      <td id=\"T_07250_row2_col1\" class=\"data row2 col1\" >$4 e^{a_{8} + \\operatorname{asinh}{\\left(3 x \\sin{\\left(x \\right)} \\right)}}$</td>\n      <td id=\"T_07250_row2_col2\" class=\"data row2 col2\" >YES</td>\n    </tr>\n    <tr>\n      <th id=\"T_07250_level0_row3\" class=\"row_heading level0 row3\" >4</th>\n      <td id=\"T_07250_row3_col0\" class=\"data row3 col0\" >-0.371019</td>\n      <td id=\"T_07250_row3_col1\" class=\"data row3 col1\" >$5 e^{a_{8} + \\operatorname{asinh}{\\left(3 x \\sin{\\left(x \\right)} \\right)}}$</td>\n      <td id=\"T_07250_row3_col2\" class=\"data row3 col2\" >YES</td>\n    </tr>\n    <tr>\n      <th id=\"T_07250_level0_row4\" class=\"row_heading level0 row4\" >5</th>\n      <td id=\"T_07250_row4_col0\" class=\"data row4 col0\" >-0.379251</td>\n      <td id=\"T_07250_row4_col1\" class=\"data row4 col1\" >$e^{a_{8} + \\operatorname{asinh}{\\left(3 x \\cos{\\left(x \\right)} \\tan{\\left(x \\right)} \\right)}}$</td>\n      <td id=\"T_07250_row4_col2\" class=\"data row4 col2\" >YES</td>\n    </tr>\n    <tr>\n      <th id=\"T_07250_level0_row5\" class=\"row_heading level0 row5\" >6</th>\n      <td id=\"T_07250_row5_col0\" class=\"data row5 col0\" >-0.384521</td>\n      <td id=\"T_07250_row5_col1\" class=\"data row5 col1\" >$3 e^{a_{8} + \\operatorname{asinh}{\\left(3 x \\sin{\\left(x \\right)} \\right)}}$</td>\n      <td id=\"T_07250_row5_col2\" class=\"data row5 col2\" >YES</td>\n    </tr>\n    <tr>\n      <th id=\"T_07250_level0_row6\" class=\"row_heading level0 row6\" >7</th>\n      <td id=\"T_07250_row6_col0\" class=\"data row6 col0\" >-0.385925</td>\n      <td id=\"T_07250_row6_col1\" class=\"data row6 col1\" >$a_{8} e^{\\operatorname{asinh}{\\left(3 x \\sin{\\left(x \\right)} \\right)} + 1}$</td>\n      <td id=\"T_07250_row6_col2\" class=\"data row6 col2\" >YES</td>\n    </tr>\n    <tr>\n      <th id=\"T_07250_level0_row7\" class=\"row_heading level0 row7\" >8</th>\n      <td id=\"T_07250_row7_col0\" class=\"data row7 col0\" >-0.388700</td>\n      <td id=\"T_07250_row7_col1\" class=\"data row7 col1\" >$2 e^{a_{8} + \\operatorname{asinh}{\\left(3 x \\sin{\\left(x \\right)} \\right)}}$</td>\n      <td id=\"T_07250_row7_col2\" class=\"data row7 col2\" >YES</td>\n    </tr>\n    <tr>\n      <th id=\"T_07250_level0_row8\" class=\"row_heading level0 row8\" >9</th>\n      <td id=\"T_07250_row8_col0\" class=\"data row8 col0\" >-0.388945</td>\n      <td id=\"T_07250_row8_col1\" class=\"data row8 col1\" >$a_{8} e^{\\operatorname{asinh}{\\left(3 x \\sin{\\left(x \\right)} \\right)} + 4}$</td>\n      <td id=\"T_07250_row8_col2\" class=\"data row8 col2\" >YES</td>\n    </tr>\n    <tr>\n      <th id=\"T_07250_level0_row9\" class=\"row_heading level0 row9\" >10</th>\n      <td id=\"T_07250_row9_col0\" class=\"data row9 col0\" >-0.393191</td>\n      <td id=\"T_07250_row9_col1\" class=\"data row9 col1\" >$a_{8} e^{\\operatorname{asinh}{\\left(3 x \\sin{\\left(x \\right)} \\right)} + 5}$</td>\n      <td id=\"T_07250_row9_col2\" class=\"data row9 col2\" >YES</td>\n    </tr>\n    <tr>\n      <th id=\"T_07250_level0_row10\" class=\"row_heading level0 row10\" >11</th>\n      <td id=\"T_07250_row10_col0\" class=\"data row10 col0\" >-0.401146</td>\n      <td id=\"T_07250_row10_col1\" class=\"data row10 col1\" >$a_{8} e^{\\operatorname{asinh}{\\left(3 x \\sin{\\left(x \\right)} \\right)} + 3}$</td>\n      <td id=\"T_07250_row10_col2\" class=\"data row10 col2\" >YES</td>\n    </tr>\n    <tr>\n      <th id=\"T_07250_level0_row11\" class=\"row_heading level0 row11\" >12</th>\n      <td id=\"T_07250_row11_col0\" class=\"data row11 col0\" >-0.402998</td>\n      <td id=\"T_07250_row11_col1\" class=\"data row11 col1\" >$a_{8} e^{\\operatorname{asinh}{\\left(3 x \\cos{\\left(x \\right)} \\tan{\\left(x \\right)} \\right)}}$</td>\n      <td id=\"T_07250_row11_col2\" class=\"data row11 col2\" >YES</td>\n    </tr>\n    <tr>\n      <th id=\"T_07250_level0_row12\" class=\"row_heading level0 row12\" >13</th>\n      <td id=\"T_07250_row12_col0\" class=\"data row12 col0\" >-0.405265</td>\n      <td id=\"T_07250_row12_col1\" class=\"data row12 col1\" >$a_{8} e^{\\operatorname{asinh}{\\left(3 x \\sin{\\left(x \\right)} \\right)} + 2}$</td>\n      <td id=\"T_07250_row12_col2\" class=\"data row12 col2\" >YES</td>\n    </tr>\n    <tr>\n      <th id=\"T_07250_level0_row13\" class=\"row_heading level0 row13\" >14</th>\n      <td id=\"T_07250_row13_col0\" class=\"data row13 col0\" >-0.482275</td>\n      <td id=\"T_07250_row13_col1\" class=\"data row13 col1\" >$a_{8} \\sqrt{e^{2 \\operatorname{asinh}{\\left(3 x \\sin{\\left(x \\right)} \\right)}}}$</td>\n      <td id=\"T_07250_row13_col2\" class=\"data row13 col2\" >YES</td>\n    </tr>\n    <tr>\n      <th id=\"T_07250_level0_row14\" class=\"row_heading level0 row14\" >15</th>\n      <td id=\"T_07250_row14_col0\" class=\"data row14 col0\" >-0.487675</td>\n      <td id=\"T_07250_row14_col1\" class=\"data row14 col1\" >$- e^{a_{8} + \\operatorname{asinh}{\\left(3 x \\sin{\\left(x \\right)} \\right)}}$</td>\n      <td id=\"T_07250_row14_col2\" class=\"data row14 col2\" >YES</td>\n    </tr>\n    <tr>\n      <th id=\"T_07250_level0_row15\" class=\"row_heading level0 row15\" >16</th>\n      <td id=\"T_07250_row15_col0\" class=\"data row15 col0\" >-0.493292</td>\n      <td id=\"T_07250_row15_col1\" class=\"data row15 col1\" >$a_{8} e^{\\operatorname{asinh}{\\left(3 x \\sin{\\left(x \\right)} \\right)} - 1}$</td>\n      <td id=\"T_07250_row15_col2\" class=\"data row15 col2\" >YES</td>\n    </tr>\n    <tr>\n      <th id=\"T_07250_level0_row16\" class=\"row_heading level0 row16\" >17</th>\n      <td id=\"T_07250_row16_col0\" class=\"data row16 col0\" >-0.501979</td>\n      <td id=\"T_07250_row16_col1\" class=\"data row16 col1\" >$a_{8} e^{\\operatorname{asinh}{\\left(3 x \\sin{\\left(x \\right)} \\right)} - 4}$</td>\n      <td id=\"T_07250_row16_col2\" class=\"data row16 col2\" >YES</td>\n    </tr>\n    <tr>\n      <th id=\"T_07250_level0_row17\" class=\"row_heading level0 row17\" >18</th>\n      <td id=\"T_07250_row17_col0\" class=\"data row17 col0\" >-0.504703</td>\n      <td id=\"T_07250_row17_col1\" class=\"data row17 col1\" >$\\sqrt{a_{8} e^{2 \\operatorname{asinh}{\\left(3 x \\sin{\\left(x \\right)} \\right)}}}$</td>\n      <td id=\"T_07250_row17_col2\" class=\"data row17 col2\" >YES</td>\n    </tr>\n    <tr>\n      <th id=\"T_07250_level0_row18\" class=\"row_heading level0 row18\" >19</th>\n      <td id=\"T_07250_row18_col0\" class=\"data row18 col0\" >-0.512316</td>\n      <td id=\"T_07250_row18_col1\" class=\"data row18 col1\" >$a_{8} e^{\\operatorname{asinh}{\\left(3 x \\sin{\\left(x \\right)} \\right)} - 5}$</td>\n      <td id=\"T_07250_row18_col2\" class=\"data row18 col2\" >YES</td>\n    </tr>\n    <tr>\n      <th id=\"T_07250_level0_row19\" class=\"row_heading level0 row19\" >20</th>\n      <td id=\"T_07250_row19_col0\" class=\"data row19 col0\" >-0.513290</td>\n      <td id=\"T_07250_row19_col1\" class=\"data row19 col1\" >$a_{8} e^{\\operatorname{asinh}{\\left(3 x \\sin{\\left(x \\right)} \\right)} - 3}$</td>\n      <td id=\"T_07250_row19_col2\" class=\"data row19 col2\" >YES</td>\n    </tr>\n    <tr>\n      <th id=\"T_07250_level0_row20\" class=\"row_heading level0 row20\" >21</th>\n      <td id=\"T_07250_row20_col0\" class=\"data row20 col0\" >-0.513704</td>\n      <td id=\"T_07250_row20_col1\" class=\"data row20 col1\" >$a_{8} e^{\\operatorname{asinh}{\\left(3 x \\sin{\\left(x \\right)} \\right)} - 2}$</td>\n      <td id=\"T_07250_row20_col2\" class=\"data row20 col2\" >YES</td>\n    </tr>\n    <tr>\n      <th id=\"T_07250_level0_row21\" class=\"row_heading level0 row21\" >22</th>\n      <td id=\"T_07250_row21_col0\" class=\"data row21 col0\" >-0.530396</td>\n      <td id=\"T_07250_row21_col1\" class=\"data row21 col1\" >$\\sqrt{e^{a_{8} + 2 \\operatorname{asinh}{\\left(3 x \\sin{\\left(x \\right)} \\right)}}}$</td>\n      <td id=\"T_07250_row21_col2\" class=\"data row21 col2\" >YES</td>\n    </tr>\n    <tr>\n      <th id=\"T_07250_level0_row22\" class=\"row_heading level0 row22\" >23</th>\n      <td id=\"T_07250_row22_col0\" class=\"data row22 col0\" >-0.543448</td>\n      <td id=\"T_07250_row22_col1\" class=\"data row22 col1\" >$\\sqrt{2} e^{a_{8} + \\operatorname{asinh}{\\left(3 x \\sin{\\left(x \\right)} \\right)}}$</td>\n      <td id=\"T_07250_row22_col2\" class=\"data row22 col2\" >YES</td>\n    </tr>\n    <tr>\n      <th id=\"T_07250_level0_row23\" class=\"row_heading level0 row23\" >24</th>\n      <td id=\"T_07250_row23_col0\" class=\"data row23 col0\" >-0.557080</td>\n      <td id=\"T_07250_row23_col1\" class=\"data row23 col1\" >$\\sqrt{3} e^{a_{8} + \\operatorname{asinh}{\\left(3 x \\sin{\\left(x \\right)} \\right)}}$</td>\n      <td id=\"T_07250_row23_col2\" class=\"data row23 col2\" >YES</td>\n    </tr>\n    <tr>\n      <th id=\"T_07250_level0_row24\" class=\"row_heading level0 row24\" >25</th>\n      <td id=\"T_07250_row24_col0\" class=\"data row24 col0\" >-0.564997</td>\n      <td id=\"T_07250_row24_col1\" class=\"data row24 col1\" >$10 e^{a_{8} + \\operatorname{asinh}{\\left(3 x \\sin{\\left(x \\right)} \\right)}}$</td>\n      <td id=\"T_07250_row24_col2\" class=\"data row24 col2\" >YES</td>\n    </tr>\n    <tr>\n      <th id=\"T_07250_level0_row25\" class=\"row_heading level0 row25\" >26</th>\n      <td id=\"T_07250_row25_col0\" class=\"data row25 col0\" >-0.578173</td>\n      <td id=\"T_07250_row25_col1\" class=\"data row25 col1\" >$6 e^{a_{8} + \\operatorname{asinh}{\\left(3 x \\sin{\\left(x \\right)} \\right)}}$</td>\n      <td id=\"T_07250_row25_col2\" class=\"data row25 col2\" >YES</td>\n    </tr>\n    <tr>\n      <th id=\"T_07250_level0_row26\" class=\"row_heading level0 row26\" >27</th>\n      <td id=\"T_07250_row26_col0\" class=\"data row26 col0\" >-0.586607</td>\n      <td id=\"T_07250_row26_col1\" class=\"data row26 col1\" >$e^{a_{8} + \\operatorname{asinh}{\\left(3 x \\sin{\\left(x \\right)} \\right)}} \\tan{\\left(4 \\right)}$</td>\n      <td id=\"T_07250_row26_col2\" class=\"data row26 col2\" >YES</td>\n    </tr>\n    <tr>\n      <th id=\"T_07250_level0_row27\" class=\"row_heading level0 row27\" >28</th>\n      <td id=\"T_07250_row27_col0\" class=\"data row27 col0\" >-0.598936</td>\n      <td id=\"T_07250_row27_col1\" class=\"data row27 col1\" >$e^{a_{8} + \\operatorname{asinh}{\\left(3 x \\sin{\\left(x \\right)} \\right)}} \\tan{\\left(1 \\right)}$</td>\n      <td id=\"T_07250_row27_col2\" class=\"data row27 col2\" >YES</td>\n    </tr>\n    <tr>\n      <th id=\"T_07250_level0_row28\" class=\"row_heading level0 row28\" >29</th>\n      <td id=\"T_07250_row28_col0\" class=\"data row28 col0\" >-0.599608</td>\n      <td id=\"T_07250_row28_col1\" class=\"data row28 col1\" >$8 e^{a_{8} + \\operatorname{asinh}{\\left(3 x \\sin{\\left(x \\right)} \\right)}}$</td>\n      <td id=\"T_07250_row28_col2\" class=\"data row28 col2\" >YES</td>\n    </tr>\n    <tr>\n      <th id=\"T_07250_level0_row29\" class=\"row_heading level0 row29\" >30</th>\n      <td id=\"T_07250_row29_col0\" class=\"data row29 col0\" >-0.604145</td>\n      <td id=\"T_07250_row29_col1\" class=\"data row29 col1\" >$e^{a_{8} + \\operatorname{asinh}{\\left(3 x \\sin{\\left(x \\right)} \\right)}} \\log{\\left(4 \\right)}$</td>\n      <td id=\"T_07250_row29_col2\" class=\"data row29 col2\" >YES</td>\n    </tr>\n    <tr>\n      <th id=\"T_07250_level0_row30\" class=\"row_heading level0 row30\" >31</th>\n      <td id=\"T_07250_row30_col0\" class=\"data row30 col0\" >-0.608838</td>\n      <td id=\"T_07250_row30_col1\" class=\"data row30 col1\" >$e^{a_{8} + \\operatorname{asinh}{\\left(3 x \\sin{\\left(x \\right)} \\right)}} \\log{\\left(2 \\right)}$</td>\n      <td id=\"T_07250_row30_col2\" class=\"data row30 col2\" >YES</td>\n    </tr>\n    <tr>\n      <th id=\"T_07250_level0_row31\" class=\"row_heading level0 row31\" >32</th>\n      <td id=\"T_07250_row31_col0\" class=\"data row31 col0\" >-0.610348</td>\n      <td id=\"T_07250_row31_col1\" class=\"data row31 col1\" >$a_{8} e^{\\operatorname{asinh}{\\left(3 x \\sin{\\left(x \\right)} \\right)} + 9}$</td>\n      <td id=\"T_07250_row31_col2\" class=\"data row31 col2\" >YES</td>\n    </tr>\n    <tr>\n      <th id=\"T_07250_level0_row32\" class=\"row_heading level0 row32\" >33</th>\n      <td id=\"T_07250_row32_col0\" class=\"data row32 col0\" >-0.610381</td>\n      <td id=\"T_07250_row32_col1\" class=\"data row32 col1\" >$9 e^{a_{8} + \\operatorname{asinh}{\\left(3 x \\sin{\\left(x \\right)} \\right)}}$</td>\n      <td id=\"T_07250_row32_col2\" class=\"data row32 col2\" >YES</td>\n    </tr>\n    <tr>\n      <th id=\"T_07250_level0_row33\" class=\"row_heading level0 row33\" >34</th>\n      <td id=\"T_07250_row33_col0\" class=\"data row33 col0\" >-0.610424</td>\n      <td id=\"T_07250_row33_col1\" class=\"data row33 col1\" >$e^{a_{8} + \\operatorname{asinh}{\\left(3 x \\sin{\\left(x \\right)} \\right)}} \\tan{\\left(3 \\right)}$</td>\n      <td id=\"T_07250_row33_col2\" class=\"data row33 col2\" >YES</td>\n    </tr>\n    <tr>\n      <th id=\"T_07250_level0_row34\" class=\"row_heading level0 row34\" >35</th>\n      <td id=\"T_07250_row34_col0\" class=\"data row34 col0\" >-0.610541</td>\n      <td id=\"T_07250_row34_col1\" class=\"data row34 col1\" >$e^{a_{8} + \\operatorname{asinh}{\\left(3 x \\sin{\\left(x \\right)} \\right)}} \\tan{\\left(2 \\right)}$</td>\n      <td id=\"T_07250_row34_col2\" class=\"data row34 col2\" >YES</td>\n    </tr>\n    <tr>\n      <th id=\"T_07250_level0_row35\" class=\"row_heading level0 row35\" >36</th>\n      <td id=\"T_07250_row35_col0\" class=\"data row35 col0\" >-0.614381</td>\n      <td id=\"T_07250_row35_col1\" class=\"data row35 col1\" >$e^{a_{8} + \\operatorname{asinh}{\\left(3 x \\sin{\\left(x \\right)} \\right)}} \\log{\\left(3 \\right)}$</td>\n      <td id=\"T_07250_row35_col2\" class=\"data row35 col2\" >YES</td>\n    </tr>\n    <tr>\n      <th id=\"T_07250_level0_row36\" class=\"row_heading level0 row36\" >37</th>\n      <td id=\"T_07250_row36_col0\" class=\"data row36 col0\" >-0.614507</td>\n      <td id=\"T_07250_row36_col1\" class=\"data row36 col1\" >$a_{8} e^{\\operatorname{asinh}{\\left(3 x \\sin{\\left(x \\right)} \\right)} + 7}$</td>\n      <td id=\"T_07250_row36_col2\" class=\"data row36 col2\" >YES</td>\n    </tr>\n    <tr>\n      <th id=\"T_07250_level0_row37\" class=\"row_heading level0 row37\" >38</th>\n      <td id=\"T_07250_row37_col0\" class=\"data row37 col0\" >-0.617944</td>\n      <td id=\"T_07250_row37_col1\" class=\"data row37 col1\" >$e^{a_{8} + \\operatorname{asinh}{\\left(3 x \\sin{\\left(x \\right)} \\right)}} \\log{\\left(5 \\right)}$</td>\n      <td id=\"T_07250_row37_col2\" class=\"data row37 col2\" >YES</td>\n    </tr>\n    <tr>\n      <th id=\"T_07250_level0_row38\" class=\"row_heading level0 row38\" >39</th>\n      <td id=\"T_07250_row38_col0\" class=\"data row38 col0\" >-0.619355</td>\n      <td id=\"T_07250_row38_col1\" class=\"data row38 col1\" >$e^{a_{8} + \\operatorname{asinh}{\\left(3 x \\sin{\\left(x \\right)} \\right)}} \\tan{\\left(5 \\right)}$</td>\n      <td id=\"T_07250_row38_col2\" class=\"data row38 col2\" >YES</td>\n    </tr>\n    <tr>\n      <th id=\"T_07250_level0_row39\" class=\"row_heading level0 row39\" >40</th>\n      <td id=\"T_07250_row39_col0\" class=\"data row39 col0\" >-0.624574</td>\n      <td id=\"T_07250_row39_col1\" class=\"data row39 col1\" >$e^{a_{8} + \\operatorname{asinh}{\\left(3 x \\sin{\\left(x \\right)} \\right)}} \\sin{\\left(4 \\right)}$</td>\n      <td id=\"T_07250_row39_col2\" class=\"data row39 col2\" >YES</td>\n    </tr>\n    <tr>\n      <th id=\"T_07250_level0_row40\" class=\"row_heading level0 row40\" >41</th>\n      <td id=\"T_07250_row40_col0\" class=\"data row40 col0\" >-0.627025</td>\n      <td id=\"T_07250_row40_col1\" class=\"data row40 col1\" >$e^{a_{8} + \\operatorname{asinh}{\\left(3 x \\sin{\\left(x \\right)} \\right)}} \\sin{\\left(1 \\right)}$</td>\n      <td id=\"T_07250_row40_col2\" class=\"data row40 col2\" >YES</td>\n    </tr>\n    <tr>\n      <th id=\"T_07250_level0_row41\" class=\"row_heading level0 row41\" >42</th>\n      <td id=\"T_07250_row41_col0\" class=\"data row41 col0\" >-0.627893</td>\n      <td id=\"T_07250_row41_col1\" class=\"data row41 col1\" >$e^{a_{8} + \\operatorname{asinh}{\\left(3 x \\sin{\\left(x \\right)} \\right)}} \\sin{\\left(2 \\right)}$</td>\n      <td id=\"T_07250_row41_col2\" class=\"data row41 col2\" >YES</td>\n    </tr>\n    <tr>\n      <th id=\"T_07250_level0_row42\" class=\"row_heading level0 row42\" >43</th>\n      <td id=\"T_07250_row42_col0\" class=\"data row42 col0\" >-0.630618</td>\n      <td id=\"T_07250_row42_col1\" class=\"data row42 col1\" >$e^{a_{8} + \\operatorname{asinh}{\\left(3 x \\sin{\\left(x \\right)} \\right)}} \\sin{\\left(3 \\right)}$</td>\n      <td id=\"T_07250_row42_col2\" class=\"data row42 col2\" >YES</td>\n    </tr>\n    <tr>\n      <th id=\"T_07250_level0_row43\" class=\"row_heading level0 row43\" >44</th>\n      <td id=\"T_07250_row43_col0\" class=\"data row43 col0\" >-0.637483</td>\n      <td id=\"T_07250_row43_col1\" class=\"data row43 col1\" >$e^{a_{8} + \\operatorname{asinh}{\\left(3 x \\sin{\\left(x \\right)} \\right)}} \\sin{\\left(5 \\right)}$</td>\n      <td id=\"T_07250_row43_col2\" class=\"data row43 col2\" >YES</td>\n    </tr>\n    <tr>\n      <th id=\"T_07250_level0_row44\" class=\"row_heading level0 row44\" >45</th>\n      <td id=\"T_07250_row44_col0\" class=\"data row44 col0\" >-0.652359</td>\n      <td id=\"T_07250_row44_col1\" class=\"data row44 col1\" >$a_{8} e^{\\operatorname{asinh}{\\left(3 x \\sin{\\left(x \\right)} \\right)} + \\cos{\\left(4 \\right)}}$</td>\n      <td id=\"T_07250_row44_col2\" class=\"data row44 col2\" >YES</td>\n    </tr>\n    <tr>\n      <th id=\"T_07250_level0_row45\" class=\"row_heading level0 row45\" >46</th>\n      <td id=\"T_07250_row45_col0\" class=\"data row45 col0\" >-0.658910</td>\n      <td id=\"T_07250_row45_col1\" class=\"data row45 col1\" >$a_{8} e^{\\operatorname{asinh}{\\left(3 x \\sin{\\left(x \\right)} \\right)} + \\sin{\\left(4 \\right)}}$</td>\n      <td id=\"T_07250_row45_col2\" class=\"data row45 col2\" >YES</td>\n    </tr>\n    <tr>\n      <th id=\"T_07250_level0_row46\" class=\"row_heading level0 row46\" >47</th>\n      <td id=\"T_07250_row46_col0\" class=\"data row46 col0\" >-0.661014</td>\n      <td id=\"T_07250_row46_col1\" class=\"data row46 col1\" >$e^{a_{8} + \\operatorname{asinh}{\\left(3 x \\sin{\\left(x \\right)} \\right)}} \\tanh{\\left(4 \\right)}$</td>\n      <td id=\"T_07250_row46_col2\" class=\"data row46 col2\" >YES</td>\n    </tr>\n    <tr>\n      <th id=\"T_07250_level0_row47\" class=\"row_heading level0 row47\" >48</th>\n      <td id=\"T_07250_row47_col0\" class=\"data row47 col0\" >-0.661207</td>\n      <td id=\"T_07250_row47_col1\" class=\"data row47 col1\" >$a_{8} e^{\\operatorname{asinh}{\\left(3 x \\sin{\\left(x \\right)} \\right)} + \\cos{\\left(1 \\right)}}$</td>\n      <td id=\"T_07250_row47_col2\" class=\"data row47 col2\" >YES</td>\n    </tr>\n    <tr>\n      <th id=\"T_07250_level0_row48\" class=\"row_heading level0 row48\" >49</th>\n      <td id=\"T_07250_row48_col0\" class=\"data row48 col0\" >-0.661344</td>\n      <td id=\"T_07250_row48_col1\" class=\"data row48 col1\" >$a_{8} e^{\\operatorname{asinh}{\\left(3 x \\sin{\\left(x \\right)} \\right)} + \\cos{\\left(3 \\right)}}$</td>\n      <td id=\"T_07250_row48_col2\" class=\"data row48 col2\" >YES</td>\n    </tr>\n    <tr>\n      <th id=\"T_07250_level0_row49\" class=\"row_heading level0 row49\" >50</th>\n      <td id=\"T_07250_row49_col0\" class=\"data row49 col0\" >-0.661743</td>\n      <td id=\"T_07250_row49_col1\" class=\"data row49 col1\" >$a_{8} e^{\\operatorname{asinh}{\\left(3 x \\sin{\\left(x \\right)} \\right)} + \\cos{\\left(5 \\right)}}$</td>\n      <td id=\"T_07250_row49_col2\" class=\"data row49 col2\" >YES</td>\n    </tr>\n  </tbody>\n</table>\n"
     },
     "execution_count": 50,
     "metadata": {},
     "output_type": "execute_result"
    }
   ],
   "source": [
    "pandas.set_option('max_colwidth', None)\n",
    "pandas.DataFrame(results, index=rows, columns=columns).style.set_properties(**{'text-align': 'center'})"
   ],
   "metadata": {
    "collapsed": false,
    "pycharm": {
     "name": "#%%\n"
    }
   }
  },
  {
   "cell_type": "markdown",
   "source": [
    "## Integrals Calculations\n",
    "\n",
    "Use the Integral Model (*fwd_bwd_ibp.pth*) to find the solutions of some integrals.\n",
    "\n",
    "Get Trained Model:"
   ],
   "metadata": {
    "collapsed": false
   }
  },
  {
   "cell_type": "code",
   "execution_count": 51,
   "outputs": [],
   "source": [
    "model_path = '../models/integrations/fwd_bwd_ibp.pth'\n",
    "assert os.path.isfile(model_path)\n",
    "\n",
    "params = AttrDict({\n",
    "\n",
    "    # Environment Parameters\n",
    "    'env_name': 'char_sp',\n",
    "    'int_base': 10,\n",
    "    'balanced': False,\n",
    "    'positive': True,\n",
    "    'precision': 10,\n",
    "    'n_variables': 1,\n",
    "    'n_coefficients': 0,\n",
    "    'leaf_probs': '0.75,0,0.25,0',\n",
    "    'max_len': 512,\n",
    "    'max_int': 5,\n",
    "    'max_ops': 15,\n",
    "    'max_ops_G': 15,\n",
    "    'clean_prefix_expr': True,\n",
    "    'rewrite_functions': '',\n",
    "    'tasks': 'prim_fwd,prim_bwd,prim_ibp',\n",
    "    'operators': 'add:10,sub:3,mul:10,div:5,sqrt:4,pow2:4,pow3:2,pow4:1,pow5:1,ln:4,exp:4,sin:4,cos:4,tan:4,asin:1,'\n",
    "                 'acos:1,atan:1,sinh:1,cosh:1,tanh:1,asinh:1,acosh:1,atanh:1',\n",
    "\n",
    "    # Model Parameters\n",
    "    'cpu': False,\n",
    "    'emb_dim': 1024,\n",
    "    'n_enc_layers': 6,\n",
    "    'n_dec_layers': 6,\n",
    "    'n_heads': 8,\n",
    "    'dropout': 0,\n",
    "    'attention_dropout': 0,\n",
    "    'sinusoidal_embeddings': False,\n",
    "    'share_inout_emb': True,\n",
    "    'reload_model': model_path,\n",
    "\n",
    "})\n",
    "\n",
    "env = build_env(params)\n",
    "x = env.local_dict['x']\n",
    "\n",
    "modules = build_modules(env, params)\n",
    "encoder = modules['encoder']\n",
    "decoder = modules['decoder']\n",
    "\n",
    "beam_size = 50"
   ],
   "metadata": {
    "collapsed": false,
    "pycharm": {
     "name": "#%%\n"
    }
   }
  },
  {
   "cell_type": "markdown",
   "source": [
    "## Integral that cannot be solved by Mathematica and Matlab\n",
    "\n",
    "Declare function to integrate and solution $y$:"
   ],
   "metadata": {
    "collapsed": false
   }
  },
  {
   "cell_type": "code",
   "execution_count": 52,
   "outputs": [],
   "source": [
    "function_infix = \"(1-x**4)/((1+x**2+x**4)*sqrt(1+x**4))\"\n",
    "y_infix = \"atan(x/sqrt(1+x**4))\""
   ],
   "metadata": {
    "collapsed": false,
    "pycharm": {
     "name": "#%%\n"
    }
   }
  },
  {
   "cell_type": "markdown",
   "source": [
    "Converts **function_infix** and **y_infix** to a type that can be used inside SymPy:"
   ],
   "metadata": {
    "collapsed": false
   }
  },
  {
   "cell_type": "code",
   "execution_count": 53,
   "outputs": [
    {
     "data": {
      "text/plain": "(1 - x**4)/(sqrt(x**4 + 1)*(x**4 + x**2 + 1))",
      "text/latex": "$\\displaystyle \\frac{1 - x^{4}}{\\sqrt{x^{4} + 1} \\left(x^{4} + x^{2} + 1\\right)}$"
     },
     "execution_count": 53,
     "metadata": {},
     "output_type": "execute_result"
    }
   ],
   "source": [
    "function_sympy = sympy.sympify(function_infix, locals=env.local_dict)\n",
    "function_sympy"
   ],
   "metadata": {
    "collapsed": false,
    "pycharm": {
     "name": "#%%\n"
    }
   }
  },
  {
   "cell_type": "code",
   "execution_count": 54,
   "outputs": [
    {
     "data": {
      "text/plain": "atan(x/sqrt(x**4 + 1))",
      "text/latex": "$\\displaystyle \\operatorname{atan}{\\left(\\frac{x}{\\sqrt{x^{4} + 1}} \\right)}$"
     },
     "execution_count": 54,
     "metadata": {},
     "output_type": "execute_result"
    }
   ],
   "source": [
    "y_sympy = sympy.sympify(y_infix, locals=env.local_dict)\n",
    "y_sympy"
   ],
   "metadata": {
    "collapsed": false,
    "pycharm": {
     "name": "#%%\n"
    }
   }
  },
  {
   "cell_type": "markdown",
   "source": [
    "Use the model to find the solution $y$:"
   ],
   "metadata": {
    "collapsed": false
   }
  },
  {
   "cell_type": "code",
   "execution_count": 55,
   "outputs": [],
   "source": [
    "start_time = time.time()\n",
    "\n",
    "function_prefix = env.sympy_to_prefix(function_sympy)\n",
    "\n",
    "x1_prefix = env.clean_prefix(['sub', 'derivative', 'f', 'x', 'x'] + function_prefix)\n",
    "\n",
    "x1 = torch.LongTensor(\n",
    "    [env.eos_index] +\n",
    "    [env.word2id[w] for w in x1_prefix] +\n",
    "    [env.eos_index]\n",
    ").view(-1, 1)\n",
    "\n",
    "len1 = torch.LongTensor([len(x1)])\n",
    "x1, len1 = to_cuda(x1, len1)\n",
    "\n",
    "with torch.no_grad():\n",
    "    encoded = encoder('fwd', x=x1, lengths=len1, causal=False).transpose(0, 1)\n",
    "\n",
    "with torch.no_grad():\n",
    "    _, _, beam = decoder.generate_beam(encoded, len1, beam_size=beam_size, length_penalty=1.0, early_stopping=1,\n",
    "                                       max_len=params.max_len)\n",
    "\n",
    "end_time = time.time()\n",
    "\n",
    "assert len(beam) == 1\n",
    "hypotheses = beam[0].hyp\n",
    "assert len(hypotheses) == beam_size"
   ],
   "metadata": {
    "collapsed": false,
    "pycharm": {
     "name": "#%%\n"
    }
   }
  },
  {
   "cell_type": "markdown",
   "source": [
    "Execution time (seconds):"
   ],
   "metadata": {
    "collapsed": false
   }
  },
  {
   "cell_type": "code",
   "execution_count": 56,
   "outputs": [
    {
     "data": {
      "text/plain": "0.2552757263183594"
     },
     "execution_count": 56,
     "metadata": {},
     "output_type": "execute_result"
    }
   ],
   "source": [
    "end_time - start_time"
   ],
   "metadata": {
    "collapsed": false,
    "pycharm": {
     "name": "#%%\n"
    }
   }
  },
  {
   "cell_type": "markdown",
   "source": [
    "Extract scores and solution hypotheses:"
   ],
   "metadata": {
    "collapsed": false
   }
  },
  {
   "cell_type": "code",
   "execution_count": 57,
   "outputs": [],
   "source": [
    "rows = numpy.arange(1, beam_size + 1)\n",
    "columns = ['Score', 'Solution Hypothesis', 'Valid']\n",
    "results = []\n",
    "\n",
    "for score, sequence in sorted(hypotheses, reverse=True):\n",
    "    # Parse decoded hypothesis\n",
    "    ids = sequence[1:].tolist()  # Decoded token IDs\n",
    "    hyp_prefix = [env.id2word[word_id] for word_id in ids]  # Convert to prefix notation\n",
    "\n",
    "    try:\n",
    "        hyp_infix = env.prefix_to_infix(hyp_prefix)  # Convert to infix notation\n",
    "        hyp_sympy = env.infix_to_sympy(hyp_infix)  # Convert to SymPy\n",
    "\n",
    "        # Check if the hypothesis is a valid solution, replacing 'hyp_sympy' with 'f(x)' in the equation\n",
    "        validation = \"YES\" if simplify(hyp_sympy.diff(x) - function_sympy, seconds=1) == 0 else \"NO\"\n",
    "\n",
    "        # Transform hypothesis to a valid latex expression\n",
    "        hyp_expr = \"$\" + sympy.latex(env.infix_to_sympy(hyp_infix)) + \"$\"\n",
    "\n",
    "    except (InvalidPrefixExpression, ValueErrorExpression):\n",
    "        validation = \"INVALID PREFIX EXPRESSION\"\n",
    "        hyp_expr = hyp_prefix\n",
    "\n",
    "    # Prepare results\n",
    "    results.append([score, hyp_expr, validation])"
   ],
   "metadata": {
    "collapsed": false,
    "pycharm": {
     "name": "#%%\n"
    }
   }
  },
  {
   "cell_type": "markdown",
   "source": [
    "Print results:"
   ],
   "metadata": {
    "collapsed": false
   }
  },
  {
   "cell_type": "code",
   "execution_count": 58,
   "outputs": [
    {
     "data": {
      "text/plain": "<pandas.io.formats.style.Styler at 0x7f53535ef400>",
      "text/html": "<style type=\"text/css\">\n#T_ada78_row0_col0, #T_ada78_row0_col1, #T_ada78_row0_col2, #T_ada78_row1_col0, #T_ada78_row1_col1, #T_ada78_row1_col2, #T_ada78_row2_col0, #T_ada78_row2_col1, #T_ada78_row2_col2, #T_ada78_row3_col0, #T_ada78_row3_col1, #T_ada78_row3_col2, #T_ada78_row4_col0, #T_ada78_row4_col1, #T_ada78_row4_col2, #T_ada78_row5_col0, #T_ada78_row5_col1, #T_ada78_row5_col2, #T_ada78_row6_col0, #T_ada78_row6_col1, #T_ada78_row6_col2, #T_ada78_row7_col0, #T_ada78_row7_col1, #T_ada78_row7_col2, #T_ada78_row8_col0, #T_ada78_row8_col1, #T_ada78_row8_col2, #T_ada78_row9_col0, #T_ada78_row9_col1, #T_ada78_row9_col2, #T_ada78_row10_col0, #T_ada78_row10_col1, #T_ada78_row10_col2, #T_ada78_row11_col0, #T_ada78_row11_col1, #T_ada78_row11_col2, #T_ada78_row12_col0, #T_ada78_row12_col1, #T_ada78_row12_col2, #T_ada78_row13_col0, #T_ada78_row13_col1, #T_ada78_row13_col2, #T_ada78_row14_col0, #T_ada78_row14_col1, #T_ada78_row14_col2, #T_ada78_row15_col0, #T_ada78_row15_col1, #T_ada78_row15_col2, #T_ada78_row16_col0, #T_ada78_row16_col1, #T_ada78_row16_col2, #T_ada78_row17_col0, #T_ada78_row17_col1, #T_ada78_row17_col2, #T_ada78_row18_col0, #T_ada78_row18_col1, #T_ada78_row18_col2, #T_ada78_row19_col0, #T_ada78_row19_col1, #T_ada78_row19_col2, #T_ada78_row20_col0, #T_ada78_row20_col1, #T_ada78_row20_col2, #T_ada78_row21_col0, #T_ada78_row21_col1, #T_ada78_row21_col2, #T_ada78_row22_col0, #T_ada78_row22_col1, #T_ada78_row22_col2, #T_ada78_row23_col0, #T_ada78_row23_col1, #T_ada78_row23_col2, #T_ada78_row24_col0, #T_ada78_row24_col1, #T_ada78_row24_col2, #T_ada78_row25_col0, #T_ada78_row25_col1, #T_ada78_row25_col2, #T_ada78_row26_col0, #T_ada78_row26_col1, #T_ada78_row26_col2, #T_ada78_row27_col0, #T_ada78_row27_col1, #T_ada78_row27_col2, #T_ada78_row28_col0, #T_ada78_row28_col1, #T_ada78_row28_col2, #T_ada78_row29_col0, #T_ada78_row29_col1, #T_ada78_row29_col2, #T_ada78_row30_col0, #T_ada78_row30_col1, #T_ada78_row30_col2, #T_ada78_row31_col0, #T_ada78_row31_col1, #T_ada78_row31_col2, #T_ada78_row32_col0, #T_ada78_row32_col1, #T_ada78_row32_col2, #T_ada78_row33_col0, #T_ada78_row33_col1, #T_ada78_row33_col2, #T_ada78_row34_col0, #T_ada78_row34_col1, #T_ada78_row34_col2, #T_ada78_row35_col0, #T_ada78_row35_col1, #T_ada78_row35_col2, #T_ada78_row36_col0, #T_ada78_row36_col1, #T_ada78_row36_col2, #T_ada78_row37_col0, #T_ada78_row37_col1, #T_ada78_row37_col2, #T_ada78_row38_col0, #T_ada78_row38_col1, #T_ada78_row38_col2, #T_ada78_row39_col0, #T_ada78_row39_col1, #T_ada78_row39_col2, #T_ada78_row40_col0, #T_ada78_row40_col1, #T_ada78_row40_col2, #T_ada78_row41_col0, #T_ada78_row41_col1, #T_ada78_row41_col2, #T_ada78_row42_col0, #T_ada78_row42_col1, #T_ada78_row42_col2, #T_ada78_row43_col0, #T_ada78_row43_col1, #T_ada78_row43_col2, #T_ada78_row44_col0, #T_ada78_row44_col1, #T_ada78_row44_col2, #T_ada78_row45_col0, #T_ada78_row45_col1, #T_ada78_row45_col2, #T_ada78_row46_col0, #T_ada78_row46_col1, #T_ada78_row46_col2, #T_ada78_row47_col0, #T_ada78_row47_col1, #T_ada78_row47_col2, #T_ada78_row48_col0, #T_ada78_row48_col1, #T_ada78_row48_col2, #T_ada78_row49_col0, #T_ada78_row49_col1, #T_ada78_row49_col2 {\n  text-align: center;\n}\n</style>\n<table id=\"T_ada78_\">\n  <thead>\n    <tr>\n      <th class=\"blank level0\" >&nbsp;</th>\n      <th class=\"col_heading level0 col0\" >Score</th>\n      <th class=\"col_heading level0 col1\" >Solution Hypothesis</th>\n      <th class=\"col_heading level0 col2\" >Valid</th>\n    </tr>\n  </thead>\n  <tbody>\n    <tr>\n      <th id=\"T_ada78_level0_row0\" class=\"row_heading level0 row0\" >1</th>\n      <td id=\"T_ada78_row0_col0\" class=\"data row0 col0\" >-0.016911</td>\n      <td id=\"T_ada78_row0_col1\" class=\"data row0 col1\" >$\\operatorname{atan}{\\left(\\frac{x}{\\sqrt{x^{4} + 1}} \\right)}$</td>\n      <td id=\"T_ada78_row0_col2\" class=\"data row0 col2\" >YES</td>\n    </tr>\n    <tr>\n      <th id=\"T_ada78_level0_row1\" class=\"row_heading level0 row1\" >2</th>\n      <td id=\"T_ada78_row1_col0\" class=\"data row1 col0\" >-0.120237</td>\n      <td id=\"T_ada78_row1_col1\" class=\"data row1 col1\" >$\\operatorname{asinh}{\\left(\\frac{x}{\\sqrt{x^{4} + 1}} \\right)}$</td>\n      <td id=\"T_ada78_row1_col2\" class=\"data row1 col2\" >NO</td>\n    </tr>\n    <tr>\n      <th id=\"T_ada78_level0_row2\" class=\"row_heading level0 row2\" >3</th>\n      <td id=\"T_ada78_row2_col0\" class=\"data row2 col0\" >-0.230831</td>\n      <td id=\"T_ada78_row2_col1\" class=\"data row2 col1\" >$\\operatorname{atanh}{\\left(\\frac{x}{\\sqrt{x^{4} + 1}} \\right)}$</td>\n      <td id=\"T_ada78_row2_col2\" class=\"data row2 col2\" >NO</td>\n    </tr>\n    <tr>\n      <th id=\"T_ada78_level0_row3\" class=\"row_heading level0 row3\" >4</th>\n      <td id=\"T_ada78_row3_col0\" class=\"data row3 col0\" >-0.271258</td>\n      <td id=\"T_ada78_row3_col1\" class=\"data row3 col1\" >$\\frac{x}{\\sqrt{x^{4} + 1}}$</td>\n      <td id=\"T_ada78_row3_col2\" class=\"data row3 col2\" >NO</td>\n    </tr>\n    <tr>\n      <th id=\"T_ada78_level0_row4\" class=\"row_heading level0 row4\" >5</th>\n      <td id=\"T_ada78_row4_col0\" class=\"data row4 col0\" >-0.296699</td>\n      <td id=\"T_ada78_row4_col1\" class=\"data row4 col1\" >$\\operatorname{asinh}{\\left(\\frac{x}{\\sqrt{x^{2} + 1}} \\right)}$</td>\n      <td id=\"T_ada78_row4_col2\" class=\"data row4 col2\" >NO</td>\n    </tr>\n    <tr>\n      <th id=\"T_ada78_level0_row5\" class=\"row_heading level0 row5\" >6</th>\n      <td id=\"T_ada78_row5_col0\" class=\"data row5 col0\" >-0.321260</td>\n      <td id=\"T_ada78_row5_col1\" class=\"data row5 col1\" >$\\operatorname{asin}{\\left(\\frac{x}{\\sqrt{x^{4} + 1}} \\right)}$</td>\n      <td id=\"T_ada78_row5_col2\" class=\"data row5 col2\" >NO</td>\n    </tr>\n    <tr>\n      <th id=\"T_ada78_level0_row6\" class=\"row_heading level0 row6\" >7</th>\n      <td id=\"T_ada78_row6_col0\" class=\"data row6 col0\" >-0.323282</td>\n      <td id=\"T_ada78_row6_col1\" class=\"data row6 col1\" >$\\operatorname{atanh}{\\left(\\frac{\\sqrt{x^{4} + 1}}{x} \\right)}$</td>\n      <td id=\"T_ada78_row6_col2\" class=\"data row6 col2\" >NO</td>\n    </tr>\n    <tr>\n      <th id=\"T_ada78_level0_row7\" class=\"row_heading level0 row7\" >8</th>\n      <td id=\"T_ada78_row7_col0\" class=\"data row7 col0\" >-0.345199</td>\n      <td id=\"T_ada78_row7_col1\" class=\"data row7 col1\" >$\\operatorname{atan}{\\left(x \\sqrt{x^{4} + 1} \\right)}$</td>\n      <td id=\"T_ada78_row7_col2\" class=\"data row7 col2\" >NO</td>\n    </tr>\n    <tr>\n      <th id=\"T_ada78_level0_row8\" class=\"row_heading level0 row8\" >9</th>\n      <td id=\"T_ada78_row8_col0\" class=\"data row8 col0\" >-0.352913</td>\n      <td id=\"T_ada78_row8_col1\" class=\"data row8 col1\" >$\\operatorname{atan}{\\left(\\frac{x^{2}}{\\sqrt{x^{5} + x}} \\right)}$</td>\n      <td id=\"T_ada78_row8_col2\" class=\"data row8 col2\" >NO</td>\n    </tr>\n    <tr>\n      <th id=\"T_ada78_level0_row9\" class=\"row_heading level0 row9\" >10</th>\n      <td id=\"T_ada78_row9_col0\" class=\"data row9 col0\" >-0.359088</td>\n      <td id=\"T_ada78_row9_col1\" class=\"data row9 col1\" >$\\operatorname{atan}{\\left(\\frac{\\sqrt{x^{4} + 1}}{x} \\right)}$</td>\n      <td id=\"T_ada78_row9_col2\" class=\"data row9 col2\" >NO</td>\n    </tr>\n    <tr>\n      <th id=\"T_ada78_level0_row10\" class=\"row_heading level0 row10\" >11</th>\n      <td id=\"T_ada78_row10_col0\" class=\"data row10 col0\" >-0.383121</td>\n      <td id=\"T_ada78_row10_col1\" class=\"data row10 col1\" >$\\operatorname{asinh}{\\left(\\frac{x^{2}}{\\sqrt{x^{5} + x}} \\right)}$</td>\n      <td id=\"T_ada78_row10_col2\" class=\"data row10 col2\" >NO</td>\n    </tr>\n    <tr>\n      <th id=\"T_ada78_level0_row11\" class=\"row_heading level0 row11\" >12</th>\n      <td id=\"T_ada78_row11_col0\" class=\"data row11 col0\" >-0.383712</td>\n      <td id=\"T_ada78_row11_col1\" class=\"data row11 col1\" >$\\operatorname{asinh}{\\left(\\sinh{\\left(\\frac{x}{\\sqrt{x^{4} + 1}} \\right)} \\right)}$</td>\n      <td id=\"T_ada78_row11_col2\" class=\"data row11 col2\" >NO</td>\n    </tr>\n    <tr>\n      <th id=\"T_ada78_level0_row12\" class=\"row_heading level0 row12\" >13</th>\n      <td id=\"T_ada78_row12_col0\" class=\"data row12 col0\" >-0.383744</td>\n      <td id=\"T_ada78_row12_col1\" class=\"data row12 col1\" >$\\operatorname{acosh}{\\left(\\frac{x}{\\sqrt{x^{4} + 1}} \\right)}$</td>\n      <td id=\"T_ada78_row12_col2\" class=\"data row12 col2\" >NO</td>\n    </tr>\n    <tr>\n      <th id=\"T_ada78_level0_row13\" class=\"row_heading level0 row13\" >14</th>\n      <td id=\"T_ada78_row13_col0\" class=\"data row13 col0\" >-0.390927</td>\n      <td id=\"T_ada78_row13_col1\" class=\"data row13 col1\" >$\\operatorname{atan}{\\left(x \\sqrt{\\frac{x}{x^{5} + x}} \\right)}$</td>\n      <td id=\"T_ada78_row13_col2\" class=\"data row13 col2\" >YES</td>\n    </tr>\n    <tr>\n      <th id=\"T_ada78_level0_row14\" class=\"row_heading level0 row14\" >15</th>\n      <td id=\"T_ada78_row14_col0\" class=\"data row14 col0\" >-0.398493</td>\n      <td id=\"T_ada78_row14_col1\" class=\"data row14 col1\" >$\\operatorname{atan}{\\left(\\frac{x}{\\sqrt{x^{2} + 1}} \\right)}$</td>\n      <td id=\"T_ada78_row14_col2\" class=\"data row14 col2\" >NO</td>\n    </tr>\n    <tr>\n      <th id=\"T_ada78_level0_row15\" class=\"row_heading level0 row15\" >16</th>\n      <td id=\"T_ada78_row15_col0\" class=\"data row15 col0\" >-0.406247</td>\n      <td id=\"T_ada78_row15_col1\" class=\"data row15 col1\" >$\\operatorname{atan}{\\left(\\tan{\\left(\\frac{x}{\\sqrt{x^{4} + 1}} \\right)} \\right)}$</td>\n      <td id=\"T_ada78_row15_col2\" class=\"data row15 col2\" >NO</td>\n    </tr>\n    <tr>\n      <th id=\"T_ada78_level0_row16\" class=\"row_heading level0 row16\" >17</th>\n      <td id=\"T_ada78_row16_col0\" class=\"data row16 col0\" >-0.420355</td>\n      <td id=\"T_ada78_row16_col1\" class=\"data row16 col1\" >$\\operatorname{atan}{\\left(\\frac{1}{\\sqrt{\\frac{x + \\frac{1}{x^{3}}}{x}}} \\right)}$</td>\n      <td id=\"T_ada78_row16_col2\" class=\"data row16 col2\" >NO</td>\n    </tr>\n    <tr>\n      <th id=\"T_ada78_level0_row17\" class=\"row_heading level0 row17\" >18</th>\n      <td id=\"T_ada78_row17_col0\" class=\"data row17 col0\" >-0.423517</td>\n      <td id=\"T_ada78_row17_col1\" class=\"data row17 col1\" >$\\operatorname{atan}{\\left(\\frac{1}{\\sqrt{\\frac{x^{5} + x}{x}}} \\right)}$</td>\n      <td id=\"T_ada78_row17_col2\" class=\"data row17 col2\" >NO</td>\n    </tr>\n    <tr>\n      <th id=\"T_ada78_level0_row18\" class=\"row_heading level0 row18\" >19</th>\n      <td id=\"T_ada78_row18_col0\" class=\"data row18 col0\" >-0.432640</td>\n      <td id=\"T_ada78_row18_col1\" class=\"data row18 col1\" >$\\operatorname{asinh}{\\left(\\frac{1}{\\sqrt{1 + \\frac{1}{x^{2}}}} \\right)}$</td>\n      <td id=\"T_ada78_row18_col2\" class=\"data row18 col2\" >NO</td>\n    </tr>\n    <tr>\n      <th id=\"T_ada78_level0_row19\" class=\"row_heading level0 row19\" >20</th>\n      <td id=\"T_ada78_row19_col0\" class=\"data row19 col0\" >-0.433776</td>\n      <td id=\"T_ada78_row19_col1\" class=\"data row19 col1\" >$\\operatorname{atanh}{\\left(x \\sqrt{x^{4} + 1} \\right)}$</td>\n      <td id=\"T_ada78_row19_col2\" class=\"data row19 col2\" >NO</td>\n    </tr>\n    <tr>\n      <th id=\"T_ada78_level0_row20\" class=\"row_heading level0 row20\" >21</th>\n      <td id=\"T_ada78_row20_col0\" class=\"data row20 col0\" >-0.444273</td>\n      <td id=\"T_ada78_row20_col1\" class=\"data row20 col1\" >$\\operatorname{atan}{\\left(\\frac{x}{\\sqrt{x^{4} + 1}} \\right)}$</td>\n      <td id=\"T_ada78_row20_col2\" class=\"data row20 col2\" >YES</td>\n    </tr>\n    <tr>\n      <th id=\"T_ada78_level0_row21\" class=\"row_heading level0 row21\" >22</th>\n      <td id=\"T_ada78_row21_col0\" class=\"data row21 col0\" >-0.450918</td>\n      <td id=\"T_ada78_row21_col1\" class=\"data row21 col1\" >$\\operatorname{atan}{\\left(\\sin{\\left(\\operatorname{atanh}{\\left(\\frac{x}{\\sqrt{x^{4} + 1}} \\right)} \\right)} \\right)}$</td>\n      <td id=\"T_ada78_row21_col2\" class=\"data row21 col2\" >NO</td>\n    </tr>\n    <tr>\n      <th id=\"T_ada78_level0_row22\" class=\"row_heading level0 row22\" >23</th>\n      <td id=\"T_ada78_row22_col0\" class=\"data row22 col0\" >-0.455528</td>\n      <td id=\"T_ada78_row22_col1\" class=\"data row22 col1\" >$\\operatorname{atan}{\\left(\\tan{\\left(\\operatorname{asinh}{\\left(\\frac{x}{\\sqrt{x^{4} + 1}} \\right)} \\right)} \\right)}$</td>\n      <td id=\"T_ada78_row22_col2\" class=\"data row22 col2\" >NO</td>\n    </tr>\n    <tr>\n      <th id=\"T_ada78_level0_row23\" class=\"row_heading level0 row23\" >24</th>\n      <td id=\"T_ada78_row23_col0\" class=\"data row23 col0\" >-0.457433</td>\n      <td id=\"T_ada78_row23_col1\" class=\"data row23 col1\" >$\\operatorname{asinh}{\\left(\\frac{1}{\\sqrt{x^{4} + 1}} \\right)}$</td>\n      <td id=\"T_ada78_row23_col2\" class=\"data row23 col2\" >NO</td>\n    </tr>\n    <tr>\n      <th id=\"T_ada78_level0_row24\" class=\"row_heading level0 row24\" >25</th>\n      <td id=\"T_ada78_row24_col0\" class=\"data row24 col0\" >-0.460845</td>\n      <td id=\"T_ada78_row24_col1\" class=\"data row24 col1\" >$\\operatorname{asinh}{\\left(\\sinh{\\left(\\operatorname{atan}{\\left(\\frac{x}{\\sqrt{x^{4} + 1}} \\right)} \\right)} \\right)}$</td>\n      <td id=\"T_ada78_row24_col2\" class=\"data row24 col2\" >YES</td>\n    </tr>\n    <tr>\n      <th id=\"T_ada78_level0_row25\" class=\"row_heading level0 row25\" >26</th>\n      <td id=\"T_ada78_row25_col0\" class=\"data row25 col0\" >-0.465411</td>\n      <td id=\"T_ada78_row25_col1\" class=\"data row25 col1\" >$\\operatorname{atan}{\\left(\\frac{x}{\\sqrt{x \\left(x + \\frac{1}{x^{3}}\\right)}} \\right)}$</td>\n      <td id=\"T_ada78_row25_col2\" class=\"data row25 col2\" >NO</td>\n    </tr>\n    <tr>\n      <th id=\"T_ada78_level0_row26\" class=\"row_heading level0 row26\" >27</th>\n      <td id=\"T_ada78_row26_col0\" class=\"data row26 col0\" >-0.465743</td>\n      <td id=\"T_ada78_row26_col1\" class=\"data row26 col1\" >$\\operatorname{atan}{\\left(\\frac{\\sqrt{x}}{\\sqrt{x^{4} + 1}} \\right)}$</td>\n      <td id=\"T_ada78_row26_col2\" class=\"data row26 col2\" >NO</td>\n    </tr>\n    <tr>\n      <th id=\"T_ada78_level0_row27\" class=\"row_heading level0 row27\" >28</th>\n      <td id=\"T_ada78_row27_col0\" class=\"data row27 col0\" >-0.484711</td>\n      <td id=\"T_ada78_row27_col1\" class=\"data row27 col1\" >$\\operatorname{atan}{\\left(\\operatorname{atanh}{\\left(\\frac{x}{\\sqrt{x^{4} + 1}} \\right)} \\right)}$</td>\n      <td id=\"T_ada78_row27_col2\" class=\"data row27 col2\" >NO</td>\n    </tr>\n    <tr>\n      <th id=\"T_ada78_level0_row28\" class=\"row_heading level0 row28\" >29</th>\n      <td id=\"T_ada78_row28_col0\" class=\"data row28 col0\" >-0.486926</td>\n      <td id=\"T_ada78_row28_col1\" class=\"data row28 col1\" >$\\operatorname{atan}{\\left(\\frac{x}{\\sqrt{x \\left(x^{3} + x\\right)}} \\right)}$</td>\n      <td id=\"T_ada78_row28_col2\" class=\"data row28 col2\" >NO</td>\n    </tr>\n    <tr>\n      <th id=\"T_ada78_level0_row29\" class=\"row_heading level0 row29\" >30</th>\n      <td id=\"T_ada78_row29_col0\" class=\"data row29 col0\" >-0.493993</td>\n      <td id=\"T_ada78_row29_col1\" class=\"data row29 col1\" >$\\frac{\\sqrt{\\frac{x}{x + \\frac{1}{x^{3}}}}}{x}$</td>\n      <td id=\"T_ada78_row29_col2\" class=\"data row29 col2\" >NO</td>\n    </tr>\n    <tr>\n      <th id=\"T_ada78_level0_row30\" class=\"row_heading level0 row30\" >31</th>\n      <td id=\"T_ada78_row30_col0\" class=\"data row30 col0\" >-0.497134</td>\n      <td id=\"T_ada78_row30_col1\" class=\"data row30 col1\" >$x \\sqrt{\\frac{x}{x^{5} + x}}$</td>\n      <td id=\"T_ada78_row30_col2\" class=\"data row30 col2\" >NO</td>\n    </tr>\n    <tr>\n      <th id=\"T_ada78_level0_row31\" class=\"row_heading level0 row31\" >32</th>\n      <td id=\"T_ada78_row31_col0\" class=\"data row31 col0\" >-0.519640</td>\n      <td id=\"T_ada78_row31_col1\" class=\"data row31 col1\" >$\\operatorname{atan}{\\left(\\frac{1}{\\sqrt{x \\left(x + \\frac{1}{x^{3}}\\right)}} \\right)}$</td>\n      <td id=\"T_ada78_row31_col2\" class=\"data row31 col2\" >NO</td>\n    </tr>\n    <tr>\n      <th id=\"T_ada78_level0_row32\" class=\"row_heading level0 row32\" >33</th>\n      <td id=\"T_ada78_row32_col0\" class=\"data row32 col0\" >-0.523456</td>\n      <td id=\"T_ada78_row32_col1\" class=\"data row32 col1\" >$\\operatorname{acos}{\\left(\\frac{x}{\\sqrt{x^{4} + 1}} \\right)}$</td>\n      <td id=\"T_ada78_row32_col2\" class=\"data row32 col2\" >NO</td>\n    </tr>\n    <tr>\n      <th id=\"T_ada78_level0_row33\" class=\"row_heading level0 row33\" >34</th>\n      <td id=\"T_ada78_row33_col0\" class=\"data row33 col0\" >-0.539272</td>\n      <td id=\"T_ada78_row33_col1\" class=\"data row33 col1\" >$\\frac{x}{\\sqrt{x^{2} + 1}}$</td>\n      <td id=\"T_ada78_row33_col2\" class=\"data row33 col2\" >NO</td>\n    </tr>\n    <tr>\n      <th id=\"T_ada78_level0_row34\" class=\"row_heading level0 row34\" >35</th>\n      <td id=\"T_ada78_row34_col0\" class=\"data row34 col0\" >-0.543062</td>\n      <td id=\"T_ada78_row34_col1\" class=\"data row34 col1\" >$\\operatorname{atan}{\\left(x e^{- \\operatorname{asinh}{\\left(x^{2} \\right)}} \\right)}$</td>\n      <td id=\"T_ada78_row34_col2\" class=\"data row34 col2\" >NO</td>\n    </tr>\n    <tr>\n      <th id=\"T_ada78_level0_row35\" class=\"row_heading level0 row35\" >36</th>\n      <td id=\"T_ada78_row35_col0\" class=\"data row35 col0\" >-0.546299</td>\n      <td id=\"T_ada78_row35_col1\" class=\"data row35 col1\" >$\\operatorname{asinh}{\\left(\\frac{1}{\\sqrt{x + \\frac{1}{x^{3}}}} \\right)}$</td>\n      <td id=\"T_ada78_row35_col2\" class=\"data row35 col2\" >NO</td>\n    </tr>\n    <tr>\n      <th id=\"T_ada78_level0_row36\" class=\"row_heading level0 row36\" >37</th>\n      <td id=\"T_ada78_row36_col0\" class=\"data row36 col0\" >-0.554481</td>\n      <td id=\"T_ada78_row36_col1\" class=\"data row36 col1\" >$\\operatorname{atanh}{\\left(x \\sqrt{\\frac{x}{x^{5} + x}} \\right)}$</td>\n      <td id=\"T_ada78_row36_col2\" class=\"data row36 col2\" >NO</td>\n    </tr>\n    <tr>\n      <th id=\"T_ada78_level0_row37\" class=\"row_heading level0 row37\" >38</th>\n      <td id=\"T_ada78_row37_col0\" class=\"data row37 col0\" >-0.556661</td>\n      <td id=\"T_ada78_row37_col1\" class=\"data row37 col1\" >['atan', 'x', 'pow', 'add', 'INT+', '1', 'pow', 'x', 'INT+', '4', 'div', 'INT-', '1', 'INT+', '2']</td>\n      <td id=\"T_ada78_row37_col2\" class=\"data row37 col2\" >INVALID PREFIX EXPRESSION</td>\n    </tr>\n    <tr>\n      <th id=\"T_ada78_level0_row38\" class=\"row_heading level0 row38\" >39</th>\n      <td id=\"T_ada78_row38_col0\" class=\"data row38 col0\" >-0.564799</td>\n      <td id=\"T_ada78_row38_col1\" class=\"data row38 col1\" >$\\operatorname{atan}{\\left(\\frac{1}{\\sqrt{x + \\frac{1}{x^{3}}}} \\right)}$</td>\n      <td id=\"T_ada78_row38_col2\" class=\"data row38 col2\" >NO</td>\n    </tr>\n    <tr>\n      <th id=\"T_ada78_level0_row39\" class=\"row_heading level0 row39\" >40</th>\n      <td id=\"T_ada78_row39_col0\" class=\"data row39 col0\" >-0.577068</td>\n      <td id=\"T_ada78_row39_col1\" class=\"data row39 col1\" >$\\operatorname{asinh}{\\left(\\frac{1}{\\sqrt{x^{2} + 1}} \\right)}$</td>\n      <td id=\"T_ada78_row39_col2\" class=\"data row39 col2\" >NO</td>\n    </tr>\n    <tr>\n      <th id=\"T_ada78_level0_row40\" class=\"row_heading level0 row40\" >41</th>\n      <td id=\"T_ada78_row40_col0\" class=\"data row40 col0\" >-0.637730</td>\n      <td id=\"T_ada78_row40_col1\" class=\"data row40 col1\" >$\\operatorname{atan}{\\left(x e^{- \\operatorname{atan}{\\left(x^{2} \\right)}} \\right)}$</td>\n      <td id=\"T_ada78_row40_col2\" class=\"data row40 col2\" >NO</td>\n    </tr>\n    <tr>\n      <th id=\"T_ada78_level0_row41\" class=\"row_heading level0 row41\" >42</th>\n      <td id=\"T_ada78_row41_col0\" class=\"data row41 col0\" >-0.703295</td>\n      <td id=\"T_ada78_row41_col1\" class=\"data row41 col1\" >$\\frac{\\sqrt{\\frac{x}{x + \\frac{1}{x}}}}{x}$</td>\n      <td id=\"T_ada78_row41_col2\" class=\"data row41 col2\" >NO</td>\n    </tr>\n    <tr>\n      <th id=\"T_ada78_level0_row42\" class=\"row_heading level0 row42\" >43</th>\n      <td id=\"T_ada78_row42_col0\" class=\"data row42 col0\" >-0.740515</td>\n      <td id=\"T_ada78_row42_col1\" class=\"data row42 col1\" >$\\operatorname{atan}{\\left(\\frac{1}{x + \\frac{1}{x^{3}}} \\right)}$</td>\n      <td id=\"T_ada78_row42_col2\" class=\"data row42 col2\" >NO</td>\n    </tr>\n    <tr>\n      <th id=\"T_ada78_level0_row43\" class=\"row_heading level0 row43\" >44</th>\n      <td id=\"T_ada78_row43_col0\" class=\"data row43 col0\" >-0.741284</td>\n      <td id=\"T_ada78_row43_col1\" class=\"data row43 col1\" >$\\operatorname{asinh}{\\left(\\frac{x^{3}}{x^{4} + x^{2}} \\right)}$</td>\n      <td id=\"T_ada78_row43_col2\" class=\"data row43 col2\" >NO</td>\n    </tr>\n    <tr>\n      <th id=\"T_ada78_level0_row44\" class=\"row_heading level0 row44\" >45</th>\n      <td id=\"T_ada78_row44_col0\" class=\"data row44 col0\" >-0.766612</td>\n      <td id=\"T_ada78_row44_col1\" class=\"data row44 col1\" >$\\operatorname{atan}{\\left(\\frac{x^{3}}{x^{6} + x^{2}} \\right)}$</td>\n      <td id=\"T_ada78_row44_col2\" class=\"data row44 col2\" >NO</td>\n    </tr>\n    <tr>\n      <th id=\"T_ada78_level0_row45\" class=\"row_heading level0 row45\" >46</th>\n      <td id=\"T_ada78_row45_col0\" class=\"data row45 col0\" >-0.767780</td>\n      <td id=\"T_ada78_row45_col1\" class=\"data row45 col1\" >$\\operatorname{asinh}{\\left(\\frac{x^{3}}{x^{6} + x^{2}} \\right)}$</td>\n      <td id=\"T_ada78_row45_col2\" class=\"data row45 col2\" >NO</td>\n    </tr>\n    <tr>\n      <th id=\"T_ada78_level0_row46\" class=\"row_heading level0 row46\" >47</th>\n      <td id=\"T_ada78_row46_col0\" class=\"data row46 col0\" >-0.787650</td>\n      <td id=\"T_ada78_row46_col1\" class=\"data row46 col1\" >$\\operatorname{asinh}{\\left(\\frac{x}{\\sqrt[4]{x^{4} + 1}} \\right)}$</td>\n      <td id=\"T_ada78_row46_col2\" class=\"data row46 col2\" >NO</td>\n    </tr>\n    <tr>\n      <th id=\"T_ada78_level0_row47\" class=\"row_heading level0 row47\" >48</th>\n      <td id=\"T_ada78_row47_col0\" class=\"data row47 col0\" >-0.787907</td>\n      <td id=\"T_ada78_row47_col1\" class=\"data row47 col1\" >$\\operatorname{atan}{\\left(\\frac{x^{3}}{x^{4} + x^{2}} \\right)}$</td>\n      <td id=\"T_ada78_row47_col2\" class=\"data row47 col2\" >NO</td>\n    </tr>\n    <tr>\n      <th id=\"T_ada78_level0_row48\" class=\"row_heading level0 row48\" >49</th>\n      <td id=\"T_ada78_row48_col0\" class=\"data row48 col0\" >-0.790636</td>\n      <td id=\"T_ada78_row48_col1\" class=\"data row48 col1\" >$\\frac{x \\operatorname{atan}{\\left(x \\right)}}{\\sqrt{x^{4} + 1}}$</td>\n      <td id=\"T_ada78_row48_col2\" class=\"data row48 col2\" >NO</td>\n    </tr>\n    <tr>\n      <th id=\"T_ada78_level0_row49\" class=\"row_heading level0 row49\" >50</th>\n      <td id=\"T_ada78_row49_col0\" class=\"data row49 col0\" >-0.816020</td>\n      <td id=\"T_ada78_row49_col1\" class=\"data row49 col1\" >$\\sin{\\left(\\operatorname{atan}{\\left(x \\right)} + \\operatorname{atan}{\\left(x^{2} \\right)} \\right)}$</td>\n      <td id=\"T_ada78_row49_col2\" class=\"data row49 col2\" >NO</td>\n    </tr>\n  </tbody>\n</table>\n"
     },
     "execution_count": 58,
     "metadata": {},
     "output_type": "execute_result"
    }
   ],
   "source": [
    "pandas.set_option('max_colwidth', None)\n",
    "pandas.DataFrame(results, index=rows, columns=columns).style.set_properties(**{'text-align': 'center'})"
   ],
   "metadata": {
    "collapsed": false,
    "pycharm": {
     "name": "#%%\n"
    }
   }
  },
  {
   "cell_type": "markdown",
   "source": [
    "## Various Tough Integrals\n",
    "\n",
    "Declare function to integrate and solution $y$:"
   ],
   "metadata": {
    "collapsed": false
   }
  },
  {
   "cell_type": "code",
   "execution_count": 59,
   "outputs": [],
   "source": [
    "# function_infix = \"(1+x) / (x**2 * (2-x))\"\n",
    "# function_infix = \"1/(x * (log(x)**2 + 4*log(x) + 5))\"\n",
    "# function_infix = \"(x+1)/x * log(Abs(x))\"\n",
    "# function_infix = \"x**3*asin(x/sqrt(1+x**2))\"\n",
    "function_infix = \"(sqrt(x**2+  1) - sqrt(x**2 - 1)) / sqrt(x**4 - 1)\""
   ],
   "metadata": {
    "collapsed": false,
    "pycharm": {
     "name": "#%%\n"
    }
   }
  },
  {
   "cell_type": "markdown",
   "source": [
    "Use the model to find the solution $y$:"
   ],
   "metadata": {
    "collapsed": false
   }
  },
  {
   "cell_type": "code",
   "execution_count": 60,
   "outputs": [],
   "source": [
    "start_time = time.time()\n",
    "\n",
    "function_prefix = env.sympy_to_prefix(function_sympy)\n",
    "\n",
    "x1_prefix = env.clean_prefix(['sub', 'derivative', 'f', 'x', 'x'] + function_prefix)\n",
    "\n",
    "x1 = torch.LongTensor(\n",
    "    [env.eos_index] +\n",
    "    [env.word2id[w] for w in x1_prefix] +\n",
    "    [env.eos_index]\n",
    ").view(-1, 1)\n",
    "\n",
    "len1 = torch.LongTensor([len(x1)])\n",
    "x1, len1 = to_cuda(x1, len1)\n",
    "\n",
    "with torch.no_grad():\n",
    "    encoded = encoder('fwd', x=x1, lengths=len1, causal=False).transpose(0, 1)\n",
    "\n",
    "with torch.no_grad():\n",
    "    _, _, beam = decoder.generate_beam(encoded, len1, beam_size=beam_size, length_penalty=1.0, early_stopping=1,\n",
    "                                       max_len=params.max_len)\n",
    "\n",
    "end_time = time.time()\n",
    "\n",
    "assert len(beam) == 1\n",
    "hypotheses = beam[0].hyp\n",
    "assert len(hypotheses) == beam_size"
   ],
   "metadata": {
    "collapsed": false,
    "pycharm": {
     "name": "#%%\n"
    }
   }
  },
  {
   "cell_type": "markdown",
   "source": [
    "Execution time (seconds):"
   ],
   "metadata": {
    "collapsed": false
   }
  },
  {
   "cell_type": "code",
   "execution_count": 61,
   "outputs": [
    {
     "data": {
      "text/plain": "0.24693799018859863"
     },
     "execution_count": 61,
     "metadata": {},
     "output_type": "execute_result"
    }
   ],
   "source": [
    "end_time - start_time"
   ],
   "metadata": {
    "collapsed": false,
    "pycharm": {
     "name": "#%%\n"
    }
   }
  },
  {
   "cell_type": "markdown",
   "source": [
    "Extract scores and solution hypotheses:"
   ],
   "metadata": {
    "collapsed": false
   }
  },
  {
   "cell_type": "code",
   "execution_count": 62,
   "outputs": [],
   "source": [
    "rows = numpy.arange(1, beam_size + 1)\n",
    "columns = ['Score', 'Solution Hypothesis', 'Valid']\n",
    "results = []\n",
    "\n",
    "for score, sequence in sorted(hypotheses, reverse=True):\n",
    "    # Parse decoded hypothesis\n",
    "    ids = sequence[1:].tolist()  # Decoded token IDs\n",
    "    hyp_prefix = [env.id2word[word_id] for word_id in ids]  # Convert to prefix notation\n",
    "\n",
    "    try:\n",
    "        hyp_infix = env.prefix_to_infix(hyp_prefix)  # Convert to infix notation\n",
    "        hyp_sympy = env.infix_to_sympy(hyp_infix)  # Convert to SymPy\n",
    "\n",
    "        # Check if the hypothesis is a valid solution, replacing 'hyp_sympy' with 'f(x)' in the equation\n",
    "        validation = \"YES\" if simplify(hyp_sympy.diff(x) - function_sympy, seconds=1) == 0 else \"NO\"\n",
    "\n",
    "        # Transform hypothesis to a valid latex expression\n",
    "        hyp_expr = \"$\" + sympy.latex(env.infix_to_sympy(hyp_infix)) + \"$\"\n",
    "\n",
    "    except (InvalidPrefixExpression, ValueErrorExpression):\n",
    "        validation = \"INVALID PREFIX EXPRESSION\"\n",
    "        hyp_expr = hyp_prefix\n",
    "\n",
    "    # Prepare results\n",
    "    results.append([score, hyp_expr, validation])"
   ],
   "metadata": {
    "collapsed": false,
    "pycharm": {
     "name": "#%%\n"
    }
   }
  },
  {
   "cell_type": "markdown",
   "source": [
    "Print results:"
   ],
   "metadata": {
    "collapsed": false
   }
  },
  {
   "cell_type": "code",
   "execution_count": 63,
   "outputs": [
    {
     "data": {
      "text/plain": "<pandas.io.formats.style.Styler at 0x7f54b42e6610>",
      "text/html": "<style type=\"text/css\">\n#T_2c68b_row0_col0, #T_2c68b_row0_col1, #T_2c68b_row0_col2, #T_2c68b_row1_col0, #T_2c68b_row1_col1, #T_2c68b_row1_col2, #T_2c68b_row2_col0, #T_2c68b_row2_col1, #T_2c68b_row2_col2, #T_2c68b_row3_col0, #T_2c68b_row3_col1, #T_2c68b_row3_col2, #T_2c68b_row4_col0, #T_2c68b_row4_col1, #T_2c68b_row4_col2, #T_2c68b_row5_col0, #T_2c68b_row5_col1, #T_2c68b_row5_col2, #T_2c68b_row6_col0, #T_2c68b_row6_col1, #T_2c68b_row6_col2, #T_2c68b_row7_col0, #T_2c68b_row7_col1, #T_2c68b_row7_col2, #T_2c68b_row8_col0, #T_2c68b_row8_col1, #T_2c68b_row8_col2, #T_2c68b_row9_col0, #T_2c68b_row9_col1, #T_2c68b_row9_col2, #T_2c68b_row10_col0, #T_2c68b_row10_col1, #T_2c68b_row10_col2, #T_2c68b_row11_col0, #T_2c68b_row11_col1, #T_2c68b_row11_col2, #T_2c68b_row12_col0, #T_2c68b_row12_col1, #T_2c68b_row12_col2, #T_2c68b_row13_col0, #T_2c68b_row13_col1, #T_2c68b_row13_col2, #T_2c68b_row14_col0, #T_2c68b_row14_col1, #T_2c68b_row14_col2, #T_2c68b_row15_col0, #T_2c68b_row15_col1, #T_2c68b_row15_col2, #T_2c68b_row16_col0, #T_2c68b_row16_col1, #T_2c68b_row16_col2, #T_2c68b_row17_col0, #T_2c68b_row17_col1, #T_2c68b_row17_col2, #T_2c68b_row18_col0, #T_2c68b_row18_col1, #T_2c68b_row18_col2, #T_2c68b_row19_col0, #T_2c68b_row19_col1, #T_2c68b_row19_col2, #T_2c68b_row20_col0, #T_2c68b_row20_col1, #T_2c68b_row20_col2, #T_2c68b_row21_col0, #T_2c68b_row21_col1, #T_2c68b_row21_col2, #T_2c68b_row22_col0, #T_2c68b_row22_col1, #T_2c68b_row22_col2, #T_2c68b_row23_col0, #T_2c68b_row23_col1, #T_2c68b_row23_col2, #T_2c68b_row24_col0, #T_2c68b_row24_col1, #T_2c68b_row24_col2, #T_2c68b_row25_col0, #T_2c68b_row25_col1, #T_2c68b_row25_col2, #T_2c68b_row26_col0, #T_2c68b_row26_col1, #T_2c68b_row26_col2, #T_2c68b_row27_col0, #T_2c68b_row27_col1, #T_2c68b_row27_col2, #T_2c68b_row28_col0, #T_2c68b_row28_col1, #T_2c68b_row28_col2, #T_2c68b_row29_col0, #T_2c68b_row29_col1, #T_2c68b_row29_col2, #T_2c68b_row30_col0, #T_2c68b_row30_col1, #T_2c68b_row30_col2, #T_2c68b_row31_col0, #T_2c68b_row31_col1, #T_2c68b_row31_col2, #T_2c68b_row32_col0, #T_2c68b_row32_col1, #T_2c68b_row32_col2, #T_2c68b_row33_col0, #T_2c68b_row33_col1, #T_2c68b_row33_col2, #T_2c68b_row34_col0, #T_2c68b_row34_col1, #T_2c68b_row34_col2, #T_2c68b_row35_col0, #T_2c68b_row35_col1, #T_2c68b_row35_col2, #T_2c68b_row36_col0, #T_2c68b_row36_col1, #T_2c68b_row36_col2, #T_2c68b_row37_col0, #T_2c68b_row37_col1, #T_2c68b_row37_col2, #T_2c68b_row38_col0, #T_2c68b_row38_col1, #T_2c68b_row38_col2, #T_2c68b_row39_col0, #T_2c68b_row39_col1, #T_2c68b_row39_col2, #T_2c68b_row40_col0, #T_2c68b_row40_col1, #T_2c68b_row40_col2, #T_2c68b_row41_col0, #T_2c68b_row41_col1, #T_2c68b_row41_col2, #T_2c68b_row42_col0, #T_2c68b_row42_col1, #T_2c68b_row42_col2, #T_2c68b_row43_col0, #T_2c68b_row43_col1, #T_2c68b_row43_col2, #T_2c68b_row44_col0, #T_2c68b_row44_col1, #T_2c68b_row44_col2, #T_2c68b_row45_col0, #T_2c68b_row45_col1, #T_2c68b_row45_col2, #T_2c68b_row46_col0, #T_2c68b_row46_col1, #T_2c68b_row46_col2, #T_2c68b_row47_col0, #T_2c68b_row47_col1, #T_2c68b_row47_col2, #T_2c68b_row48_col0, #T_2c68b_row48_col1, #T_2c68b_row48_col2, #T_2c68b_row49_col0, #T_2c68b_row49_col1, #T_2c68b_row49_col2 {\n  text-align: center;\n}\n</style>\n<table id=\"T_2c68b_\">\n  <thead>\n    <tr>\n      <th class=\"blank level0\" >&nbsp;</th>\n      <th class=\"col_heading level0 col0\" >Score</th>\n      <th class=\"col_heading level0 col1\" >Solution Hypothesis</th>\n      <th class=\"col_heading level0 col2\" >Valid</th>\n    </tr>\n  </thead>\n  <tbody>\n    <tr>\n      <th id=\"T_2c68b_level0_row0\" class=\"row_heading level0 row0\" >1</th>\n      <td id=\"T_2c68b_row0_col0\" class=\"data row0 col0\" >-0.016911</td>\n      <td id=\"T_2c68b_row0_col1\" class=\"data row0 col1\" >$\\operatorname{atan}{\\left(\\frac{x}{\\sqrt{x^{4} + 1}} \\right)}$</td>\n      <td id=\"T_2c68b_row0_col2\" class=\"data row0 col2\" >YES</td>\n    </tr>\n    <tr>\n      <th id=\"T_2c68b_level0_row1\" class=\"row_heading level0 row1\" >2</th>\n      <td id=\"T_2c68b_row1_col0\" class=\"data row1 col0\" >-0.120237</td>\n      <td id=\"T_2c68b_row1_col1\" class=\"data row1 col1\" >$\\operatorname{asinh}{\\left(\\frac{x}{\\sqrt{x^{4} + 1}} \\right)}$</td>\n      <td id=\"T_2c68b_row1_col2\" class=\"data row1 col2\" >NO</td>\n    </tr>\n    <tr>\n      <th id=\"T_2c68b_level0_row2\" class=\"row_heading level0 row2\" >3</th>\n      <td id=\"T_2c68b_row2_col0\" class=\"data row2 col0\" >-0.230831</td>\n      <td id=\"T_2c68b_row2_col1\" class=\"data row2 col1\" >$\\operatorname{atanh}{\\left(\\frac{x}{\\sqrt{x^{4} + 1}} \\right)}$</td>\n      <td id=\"T_2c68b_row2_col2\" class=\"data row2 col2\" >NO</td>\n    </tr>\n    <tr>\n      <th id=\"T_2c68b_level0_row3\" class=\"row_heading level0 row3\" >4</th>\n      <td id=\"T_2c68b_row3_col0\" class=\"data row3 col0\" >-0.271258</td>\n      <td id=\"T_2c68b_row3_col1\" class=\"data row3 col1\" >$\\frac{x}{\\sqrt{x^{4} + 1}}$</td>\n      <td id=\"T_2c68b_row3_col2\" class=\"data row3 col2\" >NO</td>\n    </tr>\n    <tr>\n      <th id=\"T_2c68b_level0_row4\" class=\"row_heading level0 row4\" >5</th>\n      <td id=\"T_2c68b_row4_col0\" class=\"data row4 col0\" >-0.296699</td>\n      <td id=\"T_2c68b_row4_col1\" class=\"data row4 col1\" >$\\operatorname{asinh}{\\left(\\frac{x}{\\sqrt{x^{2} + 1}} \\right)}$</td>\n      <td id=\"T_2c68b_row4_col2\" class=\"data row4 col2\" >NO</td>\n    </tr>\n    <tr>\n      <th id=\"T_2c68b_level0_row5\" class=\"row_heading level0 row5\" >6</th>\n      <td id=\"T_2c68b_row5_col0\" class=\"data row5 col0\" >-0.321260</td>\n      <td id=\"T_2c68b_row5_col1\" class=\"data row5 col1\" >$\\operatorname{asin}{\\left(\\frac{x}{\\sqrt{x^{4} + 1}} \\right)}$</td>\n      <td id=\"T_2c68b_row5_col2\" class=\"data row5 col2\" >NO</td>\n    </tr>\n    <tr>\n      <th id=\"T_2c68b_level0_row6\" class=\"row_heading level0 row6\" >7</th>\n      <td id=\"T_2c68b_row6_col0\" class=\"data row6 col0\" >-0.323282</td>\n      <td id=\"T_2c68b_row6_col1\" class=\"data row6 col1\" >$\\operatorname{atanh}{\\left(\\frac{\\sqrt{x^{4} + 1}}{x} \\right)}$</td>\n      <td id=\"T_2c68b_row6_col2\" class=\"data row6 col2\" >NO</td>\n    </tr>\n    <tr>\n      <th id=\"T_2c68b_level0_row7\" class=\"row_heading level0 row7\" >8</th>\n      <td id=\"T_2c68b_row7_col0\" class=\"data row7 col0\" >-0.345199</td>\n      <td id=\"T_2c68b_row7_col1\" class=\"data row7 col1\" >$\\operatorname{atan}{\\left(x \\sqrt{x^{4} + 1} \\right)}$</td>\n      <td id=\"T_2c68b_row7_col2\" class=\"data row7 col2\" >NO</td>\n    </tr>\n    <tr>\n      <th id=\"T_2c68b_level0_row8\" class=\"row_heading level0 row8\" >9</th>\n      <td id=\"T_2c68b_row8_col0\" class=\"data row8 col0\" >-0.352913</td>\n      <td id=\"T_2c68b_row8_col1\" class=\"data row8 col1\" >$\\operatorname{atan}{\\left(\\frac{x^{2}}{\\sqrt{x^{5} + x}} \\right)}$</td>\n      <td id=\"T_2c68b_row8_col2\" class=\"data row8 col2\" >NO</td>\n    </tr>\n    <tr>\n      <th id=\"T_2c68b_level0_row9\" class=\"row_heading level0 row9\" >10</th>\n      <td id=\"T_2c68b_row9_col0\" class=\"data row9 col0\" >-0.359088</td>\n      <td id=\"T_2c68b_row9_col1\" class=\"data row9 col1\" >$\\operatorname{atan}{\\left(\\frac{\\sqrt{x^{4} + 1}}{x} \\right)}$</td>\n      <td id=\"T_2c68b_row9_col2\" class=\"data row9 col2\" >NO</td>\n    </tr>\n    <tr>\n      <th id=\"T_2c68b_level0_row10\" class=\"row_heading level0 row10\" >11</th>\n      <td id=\"T_2c68b_row10_col0\" class=\"data row10 col0\" >-0.383121</td>\n      <td id=\"T_2c68b_row10_col1\" class=\"data row10 col1\" >$\\operatorname{asinh}{\\left(\\frac{x^{2}}{\\sqrt{x^{5} + x}} \\right)}$</td>\n      <td id=\"T_2c68b_row10_col2\" class=\"data row10 col2\" >NO</td>\n    </tr>\n    <tr>\n      <th id=\"T_2c68b_level0_row11\" class=\"row_heading level0 row11\" >12</th>\n      <td id=\"T_2c68b_row11_col0\" class=\"data row11 col0\" >-0.383712</td>\n      <td id=\"T_2c68b_row11_col1\" class=\"data row11 col1\" >$\\operatorname{asinh}{\\left(\\sinh{\\left(\\frac{x}{\\sqrt{x^{4} + 1}} \\right)} \\right)}$</td>\n      <td id=\"T_2c68b_row11_col2\" class=\"data row11 col2\" >NO</td>\n    </tr>\n    <tr>\n      <th id=\"T_2c68b_level0_row12\" class=\"row_heading level0 row12\" >13</th>\n      <td id=\"T_2c68b_row12_col0\" class=\"data row12 col0\" >-0.383744</td>\n      <td id=\"T_2c68b_row12_col1\" class=\"data row12 col1\" >$\\operatorname{acosh}{\\left(\\frac{x}{\\sqrt{x^{4} + 1}} \\right)}$</td>\n      <td id=\"T_2c68b_row12_col2\" class=\"data row12 col2\" >NO</td>\n    </tr>\n    <tr>\n      <th id=\"T_2c68b_level0_row13\" class=\"row_heading level0 row13\" >14</th>\n      <td id=\"T_2c68b_row13_col0\" class=\"data row13 col0\" >-0.390927</td>\n      <td id=\"T_2c68b_row13_col1\" class=\"data row13 col1\" >$\\operatorname{atan}{\\left(x \\sqrt{\\frac{x}{x^{5} + x}} \\right)}$</td>\n      <td id=\"T_2c68b_row13_col2\" class=\"data row13 col2\" >YES</td>\n    </tr>\n    <tr>\n      <th id=\"T_2c68b_level0_row14\" class=\"row_heading level0 row14\" >15</th>\n      <td id=\"T_2c68b_row14_col0\" class=\"data row14 col0\" >-0.398493</td>\n      <td id=\"T_2c68b_row14_col1\" class=\"data row14 col1\" >$\\operatorname{atan}{\\left(\\frac{x}{\\sqrt{x^{2} + 1}} \\right)}$</td>\n      <td id=\"T_2c68b_row14_col2\" class=\"data row14 col2\" >NO</td>\n    </tr>\n    <tr>\n      <th id=\"T_2c68b_level0_row15\" class=\"row_heading level0 row15\" >16</th>\n      <td id=\"T_2c68b_row15_col0\" class=\"data row15 col0\" >-0.406247</td>\n      <td id=\"T_2c68b_row15_col1\" class=\"data row15 col1\" >$\\operatorname{atan}{\\left(\\tan{\\left(\\frac{x}{\\sqrt{x^{4} + 1}} \\right)} \\right)}$</td>\n      <td id=\"T_2c68b_row15_col2\" class=\"data row15 col2\" >NO</td>\n    </tr>\n    <tr>\n      <th id=\"T_2c68b_level0_row16\" class=\"row_heading level0 row16\" >17</th>\n      <td id=\"T_2c68b_row16_col0\" class=\"data row16 col0\" >-0.420355</td>\n      <td id=\"T_2c68b_row16_col1\" class=\"data row16 col1\" >$\\operatorname{atan}{\\left(\\frac{1}{\\sqrt{\\frac{x + \\frac{1}{x^{3}}}{x}}} \\right)}$</td>\n      <td id=\"T_2c68b_row16_col2\" class=\"data row16 col2\" >NO</td>\n    </tr>\n    <tr>\n      <th id=\"T_2c68b_level0_row17\" class=\"row_heading level0 row17\" >18</th>\n      <td id=\"T_2c68b_row17_col0\" class=\"data row17 col0\" >-0.423517</td>\n      <td id=\"T_2c68b_row17_col1\" class=\"data row17 col1\" >$\\operatorname{atan}{\\left(\\frac{1}{\\sqrt{\\frac{x^{5} + x}{x}}} \\right)}$</td>\n      <td id=\"T_2c68b_row17_col2\" class=\"data row17 col2\" >NO</td>\n    </tr>\n    <tr>\n      <th id=\"T_2c68b_level0_row18\" class=\"row_heading level0 row18\" >19</th>\n      <td id=\"T_2c68b_row18_col0\" class=\"data row18 col0\" >-0.432640</td>\n      <td id=\"T_2c68b_row18_col1\" class=\"data row18 col1\" >$\\operatorname{asinh}{\\left(\\frac{1}{\\sqrt{1 + \\frac{1}{x^{2}}}} \\right)}$</td>\n      <td id=\"T_2c68b_row18_col2\" class=\"data row18 col2\" >NO</td>\n    </tr>\n    <tr>\n      <th id=\"T_2c68b_level0_row19\" class=\"row_heading level0 row19\" >20</th>\n      <td id=\"T_2c68b_row19_col0\" class=\"data row19 col0\" >-0.433776</td>\n      <td id=\"T_2c68b_row19_col1\" class=\"data row19 col1\" >$\\operatorname{atanh}{\\left(x \\sqrt{x^{4} + 1} \\right)}$</td>\n      <td id=\"T_2c68b_row19_col2\" class=\"data row19 col2\" >NO</td>\n    </tr>\n    <tr>\n      <th id=\"T_2c68b_level0_row20\" class=\"row_heading level0 row20\" >21</th>\n      <td id=\"T_2c68b_row20_col0\" class=\"data row20 col0\" >-0.444273</td>\n      <td id=\"T_2c68b_row20_col1\" class=\"data row20 col1\" >$\\operatorname{atan}{\\left(\\frac{x}{\\sqrt{x^{4} + 1}} \\right)}$</td>\n      <td id=\"T_2c68b_row20_col2\" class=\"data row20 col2\" >YES</td>\n    </tr>\n    <tr>\n      <th id=\"T_2c68b_level0_row21\" class=\"row_heading level0 row21\" >22</th>\n      <td id=\"T_2c68b_row21_col0\" class=\"data row21 col0\" >-0.450918</td>\n      <td id=\"T_2c68b_row21_col1\" class=\"data row21 col1\" >$\\operatorname{atan}{\\left(\\sin{\\left(\\operatorname{atanh}{\\left(\\frac{x}{\\sqrt{x^{4} + 1}} \\right)} \\right)} \\right)}$</td>\n      <td id=\"T_2c68b_row21_col2\" class=\"data row21 col2\" >NO</td>\n    </tr>\n    <tr>\n      <th id=\"T_2c68b_level0_row22\" class=\"row_heading level0 row22\" >23</th>\n      <td id=\"T_2c68b_row22_col0\" class=\"data row22 col0\" >-0.455528</td>\n      <td id=\"T_2c68b_row22_col1\" class=\"data row22 col1\" >$\\operatorname{atan}{\\left(\\tan{\\left(\\operatorname{asinh}{\\left(\\frac{x}{\\sqrt{x^{4} + 1}} \\right)} \\right)} \\right)}$</td>\n      <td id=\"T_2c68b_row22_col2\" class=\"data row22 col2\" >NO</td>\n    </tr>\n    <tr>\n      <th id=\"T_2c68b_level0_row23\" class=\"row_heading level0 row23\" >24</th>\n      <td id=\"T_2c68b_row23_col0\" class=\"data row23 col0\" >-0.457433</td>\n      <td id=\"T_2c68b_row23_col1\" class=\"data row23 col1\" >$\\operatorname{asinh}{\\left(\\frac{1}{\\sqrt{x^{4} + 1}} \\right)}$</td>\n      <td id=\"T_2c68b_row23_col2\" class=\"data row23 col2\" >NO</td>\n    </tr>\n    <tr>\n      <th id=\"T_2c68b_level0_row24\" class=\"row_heading level0 row24\" >25</th>\n      <td id=\"T_2c68b_row24_col0\" class=\"data row24 col0\" >-0.460845</td>\n      <td id=\"T_2c68b_row24_col1\" class=\"data row24 col1\" >$\\operatorname{asinh}{\\left(\\sinh{\\left(\\operatorname{atan}{\\left(\\frac{x}{\\sqrt{x^{4} + 1}} \\right)} \\right)} \\right)}$</td>\n      <td id=\"T_2c68b_row24_col2\" class=\"data row24 col2\" >YES</td>\n    </tr>\n    <tr>\n      <th id=\"T_2c68b_level0_row25\" class=\"row_heading level0 row25\" >26</th>\n      <td id=\"T_2c68b_row25_col0\" class=\"data row25 col0\" >-0.465411</td>\n      <td id=\"T_2c68b_row25_col1\" class=\"data row25 col1\" >$\\operatorname{atan}{\\left(\\frac{x}{\\sqrt{x \\left(x + \\frac{1}{x^{3}}\\right)}} \\right)}$</td>\n      <td id=\"T_2c68b_row25_col2\" class=\"data row25 col2\" >NO</td>\n    </tr>\n    <tr>\n      <th id=\"T_2c68b_level0_row26\" class=\"row_heading level0 row26\" >27</th>\n      <td id=\"T_2c68b_row26_col0\" class=\"data row26 col0\" >-0.465743</td>\n      <td id=\"T_2c68b_row26_col1\" class=\"data row26 col1\" >$\\operatorname{atan}{\\left(\\frac{\\sqrt{x}}{\\sqrt{x^{4} + 1}} \\right)}$</td>\n      <td id=\"T_2c68b_row26_col2\" class=\"data row26 col2\" >NO</td>\n    </tr>\n    <tr>\n      <th id=\"T_2c68b_level0_row27\" class=\"row_heading level0 row27\" >28</th>\n      <td id=\"T_2c68b_row27_col0\" class=\"data row27 col0\" >-0.484711</td>\n      <td id=\"T_2c68b_row27_col1\" class=\"data row27 col1\" >$\\operatorname{atan}{\\left(\\operatorname{atanh}{\\left(\\frac{x}{\\sqrt{x^{4} + 1}} \\right)} \\right)}$</td>\n      <td id=\"T_2c68b_row27_col2\" class=\"data row27 col2\" >NO</td>\n    </tr>\n    <tr>\n      <th id=\"T_2c68b_level0_row28\" class=\"row_heading level0 row28\" >29</th>\n      <td id=\"T_2c68b_row28_col0\" class=\"data row28 col0\" >-0.486926</td>\n      <td id=\"T_2c68b_row28_col1\" class=\"data row28 col1\" >$\\operatorname{atan}{\\left(\\frac{x}{\\sqrt{x \\left(x^{3} + x\\right)}} \\right)}$</td>\n      <td id=\"T_2c68b_row28_col2\" class=\"data row28 col2\" >NO</td>\n    </tr>\n    <tr>\n      <th id=\"T_2c68b_level0_row29\" class=\"row_heading level0 row29\" >30</th>\n      <td id=\"T_2c68b_row29_col0\" class=\"data row29 col0\" >-0.493993</td>\n      <td id=\"T_2c68b_row29_col1\" class=\"data row29 col1\" >$\\frac{\\sqrt{\\frac{x}{x + \\frac{1}{x^{3}}}}}{x}$</td>\n      <td id=\"T_2c68b_row29_col2\" class=\"data row29 col2\" >NO</td>\n    </tr>\n    <tr>\n      <th id=\"T_2c68b_level0_row30\" class=\"row_heading level0 row30\" >31</th>\n      <td id=\"T_2c68b_row30_col0\" class=\"data row30 col0\" >-0.497134</td>\n      <td id=\"T_2c68b_row30_col1\" class=\"data row30 col1\" >$x \\sqrt{\\frac{x}{x^{5} + x}}$</td>\n      <td id=\"T_2c68b_row30_col2\" class=\"data row30 col2\" >NO</td>\n    </tr>\n    <tr>\n      <th id=\"T_2c68b_level0_row31\" class=\"row_heading level0 row31\" >32</th>\n      <td id=\"T_2c68b_row31_col0\" class=\"data row31 col0\" >-0.519640</td>\n      <td id=\"T_2c68b_row31_col1\" class=\"data row31 col1\" >$\\operatorname{atan}{\\left(\\frac{1}{\\sqrt{x \\left(x + \\frac{1}{x^{3}}\\right)}} \\right)}$</td>\n      <td id=\"T_2c68b_row31_col2\" class=\"data row31 col2\" >NO</td>\n    </tr>\n    <tr>\n      <th id=\"T_2c68b_level0_row32\" class=\"row_heading level0 row32\" >33</th>\n      <td id=\"T_2c68b_row32_col0\" class=\"data row32 col0\" >-0.523456</td>\n      <td id=\"T_2c68b_row32_col1\" class=\"data row32 col1\" >$\\operatorname{acos}{\\left(\\frac{x}{\\sqrt{x^{4} + 1}} \\right)}$</td>\n      <td id=\"T_2c68b_row32_col2\" class=\"data row32 col2\" >NO</td>\n    </tr>\n    <tr>\n      <th id=\"T_2c68b_level0_row33\" class=\"row_heading level0 row33\" >34</th>\n      <td id=\"T_2c68b_row33_col0\" class=\"data row33 col0\" >-0.539272</td>\n      <td id=\"T_2c68b_row33_col1\" class=\"data row33 col1\" >$\\frac{x}{\\sqrt{x^{2} + 1}}$</td>\n      <td id=\"T_2c68b_row33_col2\" class=\"data row33 col2\" >NO</td>\n    </tr>\n    <tr>\n      <th id=\"T_2c68b_level0_row34\" class=\"row_heading level0 row34\" >35</th>\n      <td id=\"T_2c68b_row34_col0\" class=\"data row34 col0\" >-0.543062</td>\n      <td id=\"T_2c68b_row34_col1\" class=\"data row34 col1\" >$\\operatorname{atan}{\\left(x e^{- \\operatorname{asinh}{\\left(x^{2} \\right)}} \\right)}$</td>\n      <td id=\"T_2c68b_row34_col2\" class=\"data row34 col2\" >NO</td>\n    </tr>\n    <tr>\n      <th id=\"T_2c68b_level0_row35\" class=\"row_heading level0 row35\" >36</th>\n      <td id=\"T_2c68b_row35_col0\" class=\"data row35 col0\" >-0.546299</td>\n      <td id=\"T_2c68b_row35_col1\" class=\"data row35 col1\" >$\\operatorname{asinh}{\\left(\\frac{1}{\\sqrt{x + \\frac{1}{x^{3}}}} \\right)}$</td>\n      <td id=\"T_2c68b_row35_col2\" class=\"data row35 col2\" >NO</td>\n    </tr>\n    <tr>\n      <th id=\"T_2c68b_level0_row36\" class=\"row_heading level0 row36\" >37</th>\n      <td id=\"T_2c68b_row36_col0\" class=\"data row36 col0\" >-0.554481</td>\n      <td id=\"T_2c68b_row36_col1\" class=\"data row36 col1\" >$\\operatorname{atanh}{\\left(x \\sqrt{\\frac{x}{x^{5} + x}} \\right)}$</td>\n      <td id=\"T_2c68b_row36_col2\" class=\"data row36 col2\" >NO</td>\n    </tr>\n    <tr>\n      <th id=\"T_2c68b_level0_row37\" class=\"row_heading level0 row37\" >38</th>\n      <td id=\"T_2c68b_row37_col0\" class=\"data row37 col0\" >-0.556661</td>\n      <td id=\"T_2c68b_row37_col1\" class=\"data row37 col1\" >['atan', 'x', 'pow', 'add', 'INT+', '1', 'pow', 'x', 'INT+', '4', 'div', 'INT-', '1', 'INT+', '2']</td>\n      <td id=\"T_2c68b_row37_col2\" class=\"data row37 col2\" >INVALID PREFIX EXPRESSION</td>\n    </tr>\n    <tr>\n      <th id=\"T_2c68b_level0_row38\" class=\"row_heading level0 row38\" >39</th>\n      <td id=\"T_2c68b_row38_col0\" class=\"data row38 col0\" >-0.564799</td>\n      <td id=\"T_2c68b_row38_col1\" class=\"data row38 col1\" >$\\operatorname{atan}{\\left(\\frac{1}{\\sqrt{x + \\frac{1}{x^{3}}}} \\right)}$</td>\n      <td id=\"T_2c68b_row38_col2\" class=\"data row38 col2\" >NO</td>\n    </tr>\n    <tr>\n      <th id=\"T_2c68b_level0_row39\" class=\"row_heading level0 row39\" >40</th>\n      <td id=\"T_2c68b_row39_col0\" class=\"data row39 col0\" >-0.577068</td>\n      <td id=\"T_2c68b_row39_col1\" class=\"data row39 col1\" >$\\operatorname{asinh}{\\left(\\frac{1}{\\sqrt{x^{2} + 1}} \\right)}$</td>\n      <td id=\"T_2c68b_row39_col2\" class=\"data row39 col2\" >NO</td>\n    </tr>\n    <tr>\n      <th id=\"T_2c68b_level0_row40\" class=\"row_heading level0 row40\" >41</th>\n      <td id=\"T_2c68b_row40_col0\" class=\"data row40 col0\" >-0.637730</td>\n      <td id=\"T_2c68b_row40_col1\" class=\"data row40 col1\" >$\\operatorname{atan}{\\left(x e^{- \\operatorname{atan}{\\left(x^{2} \\right)}} \\right)}$</td>\n      <td id=\"T_2c68b_row40_col2\" class=\"data row40 col2\" >NO</td>\n    </tr>\n    <tr>\n      <th id=\"T_2c68b_level0_row41\" class=\"row_heading level0 row41\" >42</th>\n      <td id=\"T_2c68b_row41_col0\" class=\"data row41 col0\" >-0.703295</td>\n      <td id=\"T_2c68b_row41_col1\" class=\"data row41 col1\" >$\\frac{\\sqrt{\\frac{x}{x + \\frac{1}{x}}}}{x}$</td>\n      <td id=\"T_2c68b_row41_col2\" class=\"data row41 col2\" >NO</td>\n    </tr>\n    <tr>\n      <th id=\"T_2c68b_level0_row42\" class=\"row_heading level0 row42\" >43</th>\n      <td id=\"T_2c68b_row42_col0\" class=\"data row42 col0\" >-0.740515</td>\n      <td id=\"T_2c68b_row42_col1\" class=\"data row42 col1\" >$\\operatorname{atan}{\\left(\\frac{1}{x + \\frac{1}{x^{3}}} \\right)}$</td>\n      <td id=\"T_2c68b_row42_col2\" class=\"data row42 col2\" >NO</td>\n    </tr>\n    <tr>\n      <th id=\"T_2c68b_level0_row43\" class=\"row_heading level0 row43\" >44</th>\n      <td id=\"T_2c68b_row43_col0\" class=\"data row43 col0\" >-0.741284</td>\n      <td id=\"T_2c68b_row43_col1\" class=\"data row43 col1\" >$\\operatorname{asinh}{\\left(\\frac{x^{3}}{x^{4} + x^{2}} \\right)}$</td>\n      <td id=\"T_2c68b_row43_col2\" class=\"data row43 col2\" >NO</td>\n    </tr>\n    <tr>\n      <th id=\"T_2c68b_level0_row44\" class=\"row_heading level0 row44\" >45</th>\n      <td id=\"T_2c68b_row44_col0\" class=\"data row44 col0\" >-0.766612</td>\n      <td id=\"T_2c68b_row44_col1\" class=\"data row44 col1\" >$\\operatorname{atan}{\\left(\\frac{x^{3}}{x^{6} + x^{2}} \\right)}$</td>\n      <td id=\"T_2c68b_row44_col2\" class=\"data row44 col2\" >NO</td>\n    </tr>\n    <tr>\n      <th id=\"T_2c68b_level0_row45\" class=\"row_heading level0 row45\" >46</th>\n      <td id=\"T_2c68b_row45_col0\" class=\"data row45 col0\" >-0.767780</td>\n      <td id=\"T_2c68b_row45_col1\" class=\"data row45 col1\" >$\\operatorname{asinh}{\\left(\\frac{x^{3}}{x^{6} + x^{2}} \\right)}$</td>\n      <td id=\"T_2c68b_row45_col2\" class=\"data row45 col2\" >NO</td>\n    </tr>\n    <tr>\n      <th id=\"T_2c68b_level0_row46\" class=\"row_heading level0 row46\" >47</th>\n      <td id=\"T_2c68b_row46_col0\" class=\"data row46 col0\" >-0.787650</td>\n      <td id=\"T_2c68b_row46_col1\" class=\"data row46 col1\" >$\\operatorname{asinh}{\\left(\\frac{x}{\\sqrt[4]{x^{4} + 1}} \\right)}$</td>\n      <td id=\"T_2c68b_row46_col2\" class=\"data row46 col2\" >NO</td>\n    </tr>\n    <tr>\n      <th id=\"T_2c68b_level0_row47\" class=\"row_heading level0 row47\" >48</th>\n      <td id=\"T_2c68b_row47_col0\" class=\"data row47 col0\" >-0.787907</td>\n      <td id=\"T_2c68b_row47_col1\" class=\"data row47 col1\" >$\\operatorname{atan}{\\left(\\frac{x^{3}}{x^{4} + x^{2}} \\right)}$</td>\n      <td id=\"T_2c68b_row47_col2\" class=\"data row47 col2\" >NO</td>\n    </tr>\n    <tr>\n      <th id=\"T_2c68b_level0_row48\" class=\"row_heading level0 row48\" >49</th>\n      <td id=\"T_2c68b_row48_col0\" class=\"data row48 col0\" >-0.790636</td>\n      <td id=\"T_2c68b_row48_col1\" class=\"data row48 col1\" >$\\frac{x \\operatorname{atan}{\\left(x \\right)}}{\\sqrt{x^{4} + 1}}$</td>\n      <td id=\"T_2c68b_row48_col2\" class=\"data row48 col2\" >NO</td>\n    </tr>\n    <tr>\n      <th id=\"T_2c68b_level0_row49\" class=\"row_heading level0 row49\" >50</th>\n      <td id=\"T_2c68b_row49_col0\" class=\"data row49 col0\" >-0.816020</td>\n      <td id=\"T_2c68b_row49_col1\" class=\"data row49 col1\" >$\\sin{\\left(\\operatorname{atan}{\\left(x \\right)} + \\operatorname{atan}{\\left(x^{2} \\right)} \\right)}$</td>\n      <td id=\"T_2c68b_row49_col2\" class=\"data row49 col2\" >NO</td>\n    </tr>\n  </tbody>\n</table>\n"
     },
     "execution_count": 63,
     "metadata": {},
     "output_type": "execute_result"
    }
   ],
   "source": [
    "pandas.set_option('max_colwidth', None)\n",
    "pandas.DataFrame(results, index=rows, columns=columns).style.set_properties(**{'text-align': 'center'})"
   ],
   "metadata": {
    "collapsed": false,
    "pycharm": {
     "name": "#%%\n"
    }
   }
  }
 ],
 "metadata": {
  "kernelspec": {
   "display_name": "Python 3",
   "language": "python",
   "name": "python3"
  },
  "language_info": {
   "codemirror_mode": {
    "name": "ipython",
    "version": 2
   },
   "file_extension": ".py",
   "mimetype": "text/x-python",
   "name": "python",
   "nbconvert_exporter": "python",
   "pygments_lexer": "ipython2",
   "version": "2.7.6"
  }
 },
 "nbformat": 4,
 "nbformat_minor": 0
}