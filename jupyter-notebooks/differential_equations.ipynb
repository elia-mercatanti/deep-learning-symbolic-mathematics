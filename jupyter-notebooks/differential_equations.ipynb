{
 "cells": [
  {
   "cell_type": "markdown",
   "source": [
    "# Demo of the Model on Differential Equations"
   ],
   "metadata": {
    "collapsed": false
   }
  },
  {
   "cell_type": "code",
   "execution_count": 1,
   "outputs": [],
   "source": [
    "import os\n",
    "\n",
    "import numpy\n",
    "import pandas\n",
    "import sympy\n",
    "import torch\n",
    "\n",
    "from src.envs import build_env\n",
    "from src.envs.sympy_utils import simplify_equa_diff\n",
    "from src.envs.char_sp import InvalidPrefixExpression\n",
    "from src.envs.sympy_utils import simplify\n",
    "from src.model import build_modules\n",
    "from src.utils import AttrDict\n",
    "from src.utils import to_cuda"
   ],
   "metadata": {
    "collapsed": false,
    "pycharm": {
     "name": "#%%\n"
    }
   }
  },
  {
   "cell_type": "markdown",
   "source": [
    "Use the Model to Find the solutions to first and second order differential equations."
   ],
   "metadata": {
    "collapsed": false
   }
  },
  {
   "cell_type": "markdown",
   "source": [
    "## First Order Differential Equations (ODE 1)\n",
    "\n",
    "Procedure:\n",
    "1. Start from a bivariate function $F(x,c)$, that will be the equation solution, that can be solved in $c$.\n",
    "2. Solve $F(x,c)$ in $c$.\n",
    "3. Differentiate in $x$.\n",
    "4. Simplify the final form."
   ],
   "metadata": {
    "collapsed": false
   }
  },
  {
   "cell_type": "markdown",
   "source": [
    "### Build Environment - Reload Model"
   ],
   "metadata": {
    "collapsed": false
   }
  },
  {
   "cell_type": "markdown",
   "source": [
    "Get Trained Model:"
   ],
   "metadata": {
    "collapsed": false
   }
  },
  {
   "cell_type": "code",
   "execution_count": 2,
   "outputs": [],
   "source": [
    "model_path = '../models/differential-equations/ode1.pth'\n",
    "assert os.path.isfile(model_path)"
   ],
   "metadata": {
    "collapsed": false,
    "pycharm": {
     "name": "#%%\n"
    }
   }
  },
  {
   "cell_type": "markdown",
   "source": [
    "Set the Parameters for Environment and for the Model:\n",
    "\n",
    " Environment:\n",
    "- **env_name**: SymPy character environment.\n",
    "- **int_base**: integer representation base.\n",
    "- **balanced**: balanced representation (base > 0).\n",
    "- **positive**: do not sample negative numbers.\n",
    "- **precision**: float numbers precision.\n",
    "- **n_variables**: number of variables in expressions (between 1 and 4).\n",
    "- **n_coefficients**: number of coefficients in expressions (between 0 and 10).\n",
    "- **leaf_probs**: leaf probabilities of being a variable, a coefficient, an integer, or a constant.\n",
    "- **max_len**: maximum sequences length.\n",
    "- **max_int**: maximum integer value.\n",
    "- **max_ops**: maximum number of operators.\n",
    "- **max_ops_G**: maximum number of operators for G in IBP.\n",
    "- **clean_prefix_expr**: clean prefix expressions (f x -> Y, derivative f x x -> Y').\n",
    "- **rewrite_functions**: rewrite expressions with a given SymPy function.\n",
    "- **tasks**: tasks to run (prim_fwd, prim_bwd, prim_ibp, ode1, ode2).\n",
    "- **operators**: considered operators (add, sub, mul, div), followed by (unnormalized) sampling probabilities.\n",
    "\n",
    "\n",
    " Model:\n",
    "- **cpu**: run on CPU.\n",
    "- **emb_dim**: embedding layer size.\n",
    "- **n_enc_layers**: number of transformer layers in the encoder.\n",
    "- **n_dec_layers**: number of transformer layers in the decoder.\n",
    "- **n_heads**: number of transformer heads.\n",
    "- **dropout**: dropout.\n",
    "- **attention_dropout**: dropout in the attention layer.\n",
    "- **sinusoidal_embeddings**: use sinusoidal embeddings.\n",
    "- **share_inout_emb**: share input and output embeddings.\n",
    "- **reload_model**: reload a pretrained model."
   ],
   "metadata": {
    "collapsed": false
   }
  },
  {
   "cell_type": "code",
   "execution_count": 3,
   "outputs": [],
   "source": [
    "params = AttrDict({\n",
    "\n",
    "    # Environment Parameters\n",
    "    'env_name': 'char_sp',\n",
    "    'int_base': 10,\n",
    "    'balanced': False,\n",
    "    'positive': True,\n",
    "    'precision': 10,\n",
    "    'n_variables': 1,\n",
    "    'n_coefficients': 0,\n",
    "    'leaf_probs': '0.75,0,0.25,0',\n",
    "    'max_len': 512,\n",
    "    'max_int': 5,\n",
    "    'max_ops': 15,\n",
    "    'max_ops_G': 15,\n",
    "    'clean_prefix_expr': True,\n",
    "    'rewrite_functions': '',\n",
    "    'tasks': 'ode1',\n",
    "    'operators': 'add:10,sub:3,mul:10,div:5,sqrt:4,pow2:4,pow3:2,pow4:1,pow5:1,ln:4,exp:4,sin:4,cos:4,tan:4,asin:1,'\n",
    "                 'acos:1,atan:1,sinh:1,cosh:1,tanh:1,asinh:1,acosh:1,atanh:1',\n",
    "\n",
    "    # Model Parameters\n",
    "    'cpu': False,\n",
    "    'emb_dim': 1024,\n",
    "    'n_enc_layers': 6,\n",
    "    'n_dec_layers': 6,\n",
    "    'n_heads': 8,\n",
    "    'dropout': 0,\n",
    "    'attention_dropout': 0,\n",
    "    'sinusoidal_embeddings': False,\n",
    "    'share_inout_emb': True,\n",
    "    'reload_model': model_path,\n",
    "\n",
    "})"
   ],
   "metadata": {
    "collapsed": false,
    "pycharm": {
     "name": "#%%\n"
    }
   }
  },
  {
   "cell_type": "markdown",
   "source": [
    "Set the Environment with SymPy:"
   ],
   "metadata": {
    "collapsed": false
   }
  },
  {
   "cell_type": "code",
   "execution_count": 4,
   "outputs": [],
   "source": [
    "env = build_env(params)\n",
    "x = env.local_dict['x']\n",
    "f = env.local_dict['f']\n",
    "c = sympy.Symbol('c')"
   ],
   "metadata": {
    "collapsed": false,
    "pycharm": {
     "name": "#%%\n"
    }
   }
  },
  {
   "cell_type": "markdown",
   "source": [
    "The primary components of the model are one encoder and one decoder network. The encoder turns each item into a\n",
    "corresponding hidden vector containing the item and its context. The decoder reverses the process, turning the vector\n",
    "into an output item, using the previous output as the input context.\n",
    "\n",
    "Build Model Modules:"
   ],
   "metadata": {
    "collapsed": false
   }
  },
  {
   "cell_type": "code",
   "execution_count": 5,
   "outputs": [
    {
     "ename": "RuntimeError",
     "evalue": "CUDA out of memory. Tried to allocate 16.00 MiB (GPU 0; 10.91 GiB total capacity; 1.25 GiB already allocated; 59.62 MiB free; 1.26 GiB reserved in total by PyTorch)",
     "output_type": "error",
     "traceback": [
      "\u001B[0;31m---------------------------------------------------------------------------\u001B[0m",
      "\u001B[0;31mRuntimeError\u001B[0m                              Traceback (most recent call last)",
      "\u001B[0;32m/tmp/ipykernel_177285/1248835004.py\u001B[0m in \u001B[0;36m<module>\u001B[0;34m\u001B[0m\n\u001B[0;32m----> 1\u001B[0;31m \u001B[0mmodules\u001B[0m \u001B[0;34m=\u001B[0m \u001B[0mbuild_modules\u001B[0m\u001B[0;34m(\u001B[0m\u001B[0menv\u001B[0m\u001B[0;34m,\u001B[0m \u001B[0mparams\u001B[0m\u001B[0;34m)\u001B[0m\u001B[0;34m\u001B[0m\u001B[0;34m\u001B[0m\u001B[0m\n\u001B[0m\u001B[1;32m      2\u001B[0m \u001B[0mencoder\u001B[0m \u001B[0;34m=\u001B[0m \u001B[0mmodules\u001B[0m\u001B[0;34m[\u001B[0m\u001B[0;34m'encoder'\u001B[0m\u001B[0;34m]\u001B[0m\u001B[0;34m\u001B[0m\u001B[0;34m\u001B[0m\u001B[0m\n\u001B[1;32m      3\u001B[0m \u001B[0mdecoder\u001B[0m \u001B[0;34m=\u001B[0m \u001B[0mmodules\u001B[0m\u001B[0;34m[\u001B[0m\u001B[0;34m'decoder'\u001B[0m\u001B[0;34m]\u001B[0m\u001B[0;34m\u001B[0m\u001B[0;34m\u001B[0m\u001B[0m\n\u001B[1;32m      4\u001B[0m \u001B[0;34m\u001B[0m\u001B[0m\n",
      "\u001B[0;32m~/progetti/universita/deep-learning-symbolic-mathematics/src/model/__init__.py\u001B[0m in \u001B[0;36mbuild_modules\u001B[0;34m(env, params)\u001B[0m\n\u001B[1;32m     39\u001B[0m     \u001B[0;32mif\u001B[0m \u001B[0mparams\u001B[0m\u001B[0;34m.\u001B[0m\u001B[0mreload_model\u001B[0m \u001B[0;34m!=\u001B[0m \u001B[0;34m''\u001B[0m\u001B[0;34m:\u001B[0m\u001B[0;34m\u001B[0m\u001B[0;34m\u001B[0m\u001B[0m\n\u001B[1;32m     40\u001B[0m         \u001B[0mlogger\u001B[0m\u001B[0;34m.\u001B[0m\u001B[0minfo\u001B[0m\u001B[0;34m(\u001B[0m\u001B[0;34mf\"Reloading modules from {params.reload_model} ...\"\u001B[0m\u001B[0;34m)\u001B[0m\u001B[0;34m\u001B[0m\u001B[0;34m\u001B[0m\u001B[0m\n\u001B[0;32m---> 41\u001B[0;31m         \u001B[0mreloaded\u001B[0m \u001B[0;34m=\u001B[0m \u001B[0mtorch\u001B[0m\u001B[0;34m.\u001B[0m\u001B[0mload\u001B[0m\u001B[0;34m(\u001B[0m\u001B[0mparams\u001B[0m\u001B[0;34m.\u001B[0m\u001B[0mreload_model\u001B[0m\u001B[0;34m)\u001B[0m\u001B[0;34m\u001B[0m\u001B[0;34m\u001B[0m\u001B[0m\n\u001B[0m\u001B[1;32m     42\u001B[0m         \u001B[0;32mfor\u001B[0m \u001B[0mk\u001B[0m\u001B[0;34m,\u001B[0m \u001B[0mv\u001B[0m \u001B[0;32min\u001B[0m \u001B[0mmodules\u001B[0m\u001B[0;34m.\u001B[0m\u001B[0mitems\u001B[0m\u001B[0;34m(\u001B[0m\u001B[0;34m)\u001B[0m\u001B[0;34m:\u001B[0m\u001B[0;34m\u001B[0m\u001B[0;34m\u001B[0m\u001B[0m\n\u001B[1;32m     43\u001B[0m             \u001B[0;32massert\u001B[0m \u001B[0mk\u001B[0m \u001B[0;32min\u001B[0m \u001B[0mreloaded\u001B[0m\u001B[0;34m\u001B[0m\u001B[0;34m\u001B[0m\u001B[0m\n",
      "\u001B[0;32m~/miniconda3/envs/deep-learning-symbolic-mathematics/lib/python3.8/site-packages/torch/serialization.py\u001B[0m in \u001B[0;36mload\u001B[0;34m(f, map_location, pickle_module, **pickle_load_args)\u001B[0m\n\u001B[1;32m    591\u001B[0m                     \u001B[0;32mreturn\u001B[0m \u001B[0mtorch\u001B[0m\u001B[0;34m.\u001B[0m\u001B[0mjit\u001B[0m\u001B[0;34m.\u001B[0m\u001B[0mload\u001B[0m\u001B[0;34m(\u001B[0m\u001B[0mopened_file\u001B[0m\u001B[0;34m)\u001B[0m\u001B[0;34m\u001B[0m\u001B[0;34m\u001B[0m\u001B[0m\n\u001B[1;32m    592\u001B[0m                 \u001B[0;32mreturn\u001B[0m \u001B[0m_load\u001B[0m\u001B[0;34m(\u001B[0m\u001B[0mopened_zipfile\u001B[0m\u001B[0;34m,\u001B[0m \u001B[0mmap_location\u001B[0m\u001B[0;34m,\u001B[0m \u001B[0mpickle_module\u001B[0m\u001B[0;34m,\u001B[0m \u001B[0;34m**\u001B[0m\u001B[0mpickle_load_args\u001B[0m\u001B[0;34m)\u001B[0m\u001B[0;34m\u001B[0m\u001B[0;34m\u001B[0m\u001B[0m\n\u001B[0;32m--> 593\u001B[0;31m         \u001B[0;32mreturn\u001B[0m \u001B[0m_legacy_load\u001B[0m\u001B[0;34m(\u001B[0m\u001B[0mopened_file\u001B[0m\u001B[0;34m,\u001B[0m \u001B[0mmap_location\u001B[0m\u001B[0;34m,\u001B[0m \u001B[0mpickle_module\u001B[0m\u001B[0;34m,\u001B[0m \u001B[0;34m**\u001B[0m\u001B[0mpickle_load_args\u001B[0m\u001B[0;34m)\u001B[0m\u001B[0;34m\u001B[0m\u001B[0;34m\u001B[0m\u001B[0m\n\u001B[0m\u001B[1;32m    594\u001B[0m \u001B[0;34m\u001B[0m\u001B[0m\n\u001B[1;32m    595\u001B[0m \u001B[0;34m\u001B[0m\u001B[0m\n",
      "\u001B[0;32m~/miniconda3/envs/deep-learning-symbolic-mathematics/lib/python3.8/site-packages/torch/serialization.py\u001B[0m in \u001B[0;36m_legacy_load\u001B[0;34m(f, map_location, pickle_module, **pickle_load_args)\u001B[0m\n\u001B[1;32m    770\u001B[0m     \u001B[0munpickler\u001B[0m \u001B[0;34m=\u001B[0m \u001B[0mpickle_module\u001B[0m\u001B[0;34m.\u001B[0m\u001B[0mUnpickler\u001B[0m\u001B[0;34m(\u001B[0m\u001B[0mf\u001B[0m\u001B[0;34m,\u001B[0m \u001B[0;34m**\u001B[0m\u001B[0mpickle_load_args\u001B[0m\u001B[0;34m)\u001B[0m\u001B[0;34m\u001B[0m\u001B[0;34m\u001B[0m\u001B[0m\n\u001B[1;32m    771\u001B[0m     \u001B[0munpickler\u001B[0m\u001B[0;34m.\u001B[0m\u001B[0mpersistent_load\u001B[0m \u001B[0;34m=\u001B[0m \u001B[0mpersistent_load\u001B[0m\u001B[0;34m\u001B[0m\u001B[0;34m\u001B[0m\u001B[0m\n\u001B[0;32m--> 772\u001B[0;31m     \u001B[0mresult\u001B[0m \u001B[0;34m=\u001B[0m \u001B[0munpickler\u001B[0m\u001B[0;34m.\u001B[0m\u001B[0mload\u001B[0m\u001B[0;34m(\u001B[0m\u001B[0;34m)\u001B[0m\u001B[0;34m\u001B[0m\u001B[0;34m\u001B[0m\u001B[0m\n\u001B[0m\u001B[1;32m    773\u001B[0m \u001B[0;34m\u001B[0m\u001B[0m\n\u001B[1;32m    774\u001B[0m     \u001B[0mdeserialized_storage_keys\u001B[0m \u001B[0;34m=\u001B[0m \u001B[0mpickle_module\u001B[0m\u001B[0;34m.\u001B[0m\u001B[0mload\u001B[0m\u001B[0;34m(\u001B[0m\u001B[0mf\u001B[0m\u001B[0;34m,\u001B[0m \u001B[0;34m**\u001B[0m\u001B[0mpickle_load_args\u001B[0m\u001B[0;34m)\u001B[0m\u001B[0;34m\u001B[0m\u001B[0;34m\u001B[0m\u001B[0m\n",
      "\u001B[0;32m~/miniconda3/envs/deep-learning-symbolic-mathematics/lib/python3.8/site-packages/torch/serialization.py\u001B[0m in \u001B[0;36mpersistent_load\u001B[0;34m(saved_id)\u001B[0m\n\u001B[1;32m    726\u001B[0m                 \u001B[0mobj\u001B[0m \u001B[0;34m=\u001B[0m \u001B[0mdata_type\u001B[0m\u001B[0;34m(\u001B[0m\u001B[0msize\u001B[0m\u001B[0;34m)\u001B[0m\u001B[0;34m\u001B[0m\u001B[0;34m\u001B[0m\u001B[0m\n\u001B[1;32m    727\u001B[0m                 \u001B[0mobj\u001B[0m\u001B[0;34m.\u001B[0m\u001B[0m_torch_load_uninitialized\u001B[0m \u001B[0;34m=\u001B[0m \u001B[0;32mTrue\u001B[0m\u001B[0;34m\u001B[0m\u001B[0;34m\u001B[0m\u001B[0m\n\u001B[0;32m--> 728\u001B[0;31m                 \u001B[0mdeserialized_objects\u001B[0m\u001B[0;34m[\u001B[0m\u001B[0mroot_key\u001B[0m\u001B[0;34m]\u001B[0m \u001B[0;34m=\u001B[0m \u001B[0mrestore_location\u001B[0m\u001B[0;34m(\u001B[0m\u001B[0mobj\u001B[0m\u001B[0;34m,\u001B[0m \u001B[0mlocation\u001B[0m\u001B[0;34m)\u001B[0m\u001B[0;34m\u001B[0m\u001B[0;34m\u001B[0m\u001B[0m\n\u001B[0m\u001B[1;32m    729\u001B[0m             \u001B[0mstorage\u001B[0m \u001B[0;34m=\u001B[0m \u001B[0mdeserialized_objects\u001B[0m\u001B[0;34m[\u001B[0m\u001B[0mroot_key\u001B[0m\u001B[0;34m]\u001B[0m\u001B[0;34m\u001B[0m\u001B[0;34m\u001B[0m\u001B[0m\n\u001B[1;32m    730\u001B[0m             \u001B[0;32mif\u001B[0m \u001B[0mview_metadata\u001B[0m \u001B[0;32mis\u001B[0m \u001B[0;32mnot\u001B[0m \u001B[0;32mNone\u001B[0m\u001B[0;34m:\u001B[0m\u001B[0;34m\u001B[0m\u001B[0;34m\u001B[0m\u001B[0m\n",
      "\u001B[0;32m~/miniconda3/envs/deep-learning-symbolic-mathematics/lib/python3.8/site-packages/torch/serialization.py\u001B[0m in \u001B[0;36mdefault_restore_location\u001B[0;34m(storage, location)\u001B[0m\n\u001B[1;32m    173\u001B[0m \u001B[0;32mdef\u001B[0m \u001B[0mdefault_restore_location\u001B[0m\u001B[0;34m(\u001B[0m\u001B[0mstorage\u001B[0m\u001B[0;34m,\u001B[0m \u001B[0mlocation\u001B[0m\u001B[0;34m)\u001B[0m\u001B[0;34m:\u001B[0m\u001B[0;34m\u001B[0m\u001B[0;34m\u001B[0m\u001B[0m\n\u001B[1;32m    174\u001B[0m     \u001B[0;32mfor\u001B[0m \u001B[0m_\u001B[0m\u001B[0;34m,\u001B[0m \u001B[0m_\u001B[0m\u001B[0;34m,\u001B[0m \u001B[0mfn\u001B[0m \u001B[0;32min\u001B[0m \u001B[0m_package_registry\u001B[0m\u001B[0;34m:\u001B[0m\u001B[0;34m\u001B[0m\u001B[0;34m\u001B[0m\u001B[0m\n\u001B[0;32m--> 175\u001B[0;31m         \u001B[0mresult\u001B[0m \u001B[0;34m=\u001B[0m \u001B[0mfn\u001B[0m\u001B[0;34m(\u001B[0m\u001B[0mstorage\u001B[0m\u001B[0;34m,\u001B[0m \u001B[0mlocation\u001B[0m\u001B[0;34m)\u001B[0m\u001B[0;34m\u001B[0m\u001B[0;34m\u001B[0m\u001B[0m\n\u001B[0m\u001B[1;32m    176\u001B[0m         \u001B[0;32mif\u001B[0m \u001B[0mresult\u001B[0m \u001B[0;32mis\u001B[0m \u001B[0;32mnot\u001B[0m \u001B[0;32mNone\u001B[0m\u001B[0;34m:\u001B[0m\u001B[0;34m\u001B[0m\u001B[0;34m\u001B[0m\u001B[0m\n\u001B[1;32m    177\u001B[0m             \u001B[0;32mreturn\u001B[0m \u001B[0mresult\u001B[0m\u001B[0;34m\u001B[0m\u001B[0;34m\u001B[0m\u001B[0m\n",
      "\u001B[0;32m~/miniconda3/envs/deep-learning-symbolic-mathematics/lib/python3.8/site-packages/torch/serialization.py\u001B[0m in \u001B[0;36m_cuda_deserialize\u001B[0;34m(obj, location)\u001B[0m\n\u001B[1;32m    153\u001B[0m             \u001B[0mstorage_type\u001B[0m \u001B[0;34m=\u001B[0m \u001B[0mgetattr\u001B[0m\u001B[0;34m(\u001B[0m\u001B[0mtorch\u001B[0m\u001B[0;34m.\u001B[0m\u001B[0mcuda\u001B[0m\u001B[0;34m,\u001B[0m \u001B[0mtype\u001B[0m\u001B[0;34m(\u001B[0m\u001B[0mobj\u001B[0m\u001B[0;34m)\u001B[0m\u001B[0;34m.\u001B[0m\u001B[0m__name__\u001B[0m\u001B[0;34m)\u001B[0m\u001B[0;34m\u001B[0m\u001B[0;34m\u001B[0m\u001B[0m\n\u001B[1;32m    154\u001B[0m             \u001B[0;32mwith\u001B[0m \u001B[0mtorch\u001B[0m\u001B[0;34m.\u001B[0m\u001B[0mcuda\u001B[0m\u001B[0;34m.\u001B[0m\u001B[0mdevice\u001B[0m\u001B[0;34m(\u001B[0m\u001B[0mdevice\u001B[0m\u001B[0;34m)\u001B[0m\u001B[0;34m:\u001B[0m\u001B[0;34m\u001B[0m\u001B[0;34m\u001B[0m\u001B[0m\n\u001B[0;32m--> 155\u001B[0;31m                 \u001B[0;32mreturn\u001B[0m \u001B[0mstorage_type\u001B[0m\u001B[0;34m(\u001B[0m\u001B[0mobj\u001B[0m\u001B[0;34m.\u001B[0m\u001B[0msize\u001B[0m\u001B[0;34m(\u001B[0m\u001B[0;34m)\u001B[0m\u001B[0;34m)\u001B[0m\u001B[0;34m\u001B[0m\u001B[0;34m\u001B[0m\u001B[0m\n\u001B[0m\u001B[1;32m    156\u001B[0m         \u001B[0;32melse\u001B[0m\u001B[0;34m:\u001B[0m\u001B[0;34m\u001B[0m\u001B[0;34m\u001B[0m\u001B[0m\n\u001B[1;32m    157\u001B[0m             \u001B[0;32mreturn\u001B[0m \u001B[0mobj\u001B[0m\u001B[0;34m.\u001B[0m\u001B[0mcuda\u001B[0m\u001B[0;34m(\u001B[0m\u001B[0mdevice\u001B[0m\u001B[0;34m)\u001B[0m\u001B[0;34m\u001B[0m\u001B[0;34m\u001B[0m\u001B[0m\n",
      "\u001B[0;32m~/miniconda3/envs/deep-learning-symbolic-mathematics/lib/python3.8/site-packages/torch/cuda/__init__.py\u001B[0m in \u001B[0;36m_lazy_new\u001B[0;34m(cls, *args, **kwargs)\u001B[0m\n\u001B[1;32m    482\u001B[0m     \u001B[0;31m# We may need to call lazy init again if we are a forked child\u001B[0m\u001B[0;34m\u001B[0m\u001B[0;34m\u001B[0m\u001B[0;34m\u001B[0m\u001B[0m\n\u001B[1;32m    483\u001B[0m     \u001B[0;31m# del _CudaBase.__new__\u001B[0m\u001B[0;34m\u001B[0m\u001B[0;34m\u001B[0m\u001B[0;34m\u001B[0m\u001B[0m\n\u001B[0;32m--> 484\u001B[0;31m     \u001B[0;32mreturn\u001B[0m \u001B[0msuper\u001B[0m\u001B[0;34m(\u001B[0m\u001B[0m_CudaBase\u001B[0m\u001B[0;34m,\u001B[0m \u001B[0mcls\u001B[0m\u001B[0;34m)\u001B[0m\u001B[0;34m.\u001B[0m\u001B[0m__new__\u001B[0m\u001B[0;34m(\u001B[0m\u001B[0mcls\u001B[0m\u001B[0;34m,\u001B[0m \u001B[0;34m*\u001B[0m\u001B[0margs\u001B[0m\u001B[0;34m,\u001B[0m \u001B[0;34m**\u001B[0m\u001B[0mkwargs\u001B[0m\u001B[0;34m)\u001B[0m\u001B[0;34m\u001B[0m\u001B[0;34m\u001B[0m\u001B[0m\n\u001B[0m\u001B[1;32m    485\u001B[0m \u001B[0;34m\u001B[0m\u001B[0m\n\u001B[1;32m    486\u001B[0m \u001B[0;34m\u001B[0m\u001B[0m\n",
      "\u001B[0;31mRuntimeError\u001B[0m: CUDA out of memory. Tried to allocate 16.00 MiB (GPU 0; 10.91 GiB total capacity; 1.25 GiB already allocated; 59.62 MiB free; 1.26 GiB reserved in total by PyTorch)"
     ]
    }
   ],
   "source": [
    "modules = build_modules(env, params)\n",
    "encoder = modules['encoder']\n",
    "decoder = modules['decoder']"
   ],
   "metadata": {
    "collapsed": false,
    "pycharm": {
     "name": "#%%\n"
    }
   }
  },
  {
   "cell_type": "markdown",
   "source": [
    "### Declare Differential Equation Input and its Solution\n",
    "\n",
    "Declare a bivariate function $F(x,c)$, that will be the equation solution, that can be solved in c:"
   ],
   "metadata": {
    "collapsed": false
   }
  },
  {
   "cell_type": "code",
   "execution_count": null,
   "outputs": [],
   "source": [
    "# y_infix = 'x*log(c/x)'\n",
    "# y_infix = '((4+(2*x))**(-1))*((x+(sin(x)))*((x**4)+(c*(x**(-1)))))'\n",
    "# y_infix = 'exp(c+((sqrt(cos(x)))+(acos(2*x))))'\n",
    "y_infix = '3+((c*(x**(-1)))+(sin(tanh(cos(x)))))'"
   ],
   "metadata": {
    "collapsed": false,
    "pycharm": {
     "name": "#%%\n"
    }
   }
  },
  {
   "cell_type": "markdown",
   "source": [
    "Converts **y_infix** to a type that can be used inside SymPy:"
   ],
   "metadata": {
    "collapsed": false
   }
  },
  {
   "cell_type": "code",
   "execution_count": null,
   "outputs": [],
   "source": [
    "y = sympy.sympify(y_infix, locals=env.local_dict)\n",
    "y"
   ],
   "metadata": {
    "collapsed": false,
    "pycharm": {
     "name": "#%%\n"
    }
   }
  },
  {
   "cell_type": "markdown",
   "source": [
    "Solve $y$ in $c$:"
   ],
   "metadata": {
    "collapsed": false
   }
  },
  {
   "cell_type": "code",
   "execution_count": null,
   "outputs": [],
   "source": [
    "solve_c = sympy.solve(f(x) - y, c, check=False, simplify=False)\n",
    "c = solve_c[0]\n",
    "c"
   ],
   "metadata": {
    "collapsed": false,
    "pycharm": {
     "name": "#%%\n"
    }
   }
  },
  {
   "cell_type": "markdown",
   "source": [
    "Differentiate $a_8$ in $x$:"
   ],
   "metadata": {
    "collapsed": false
   }
  },
  {
   "cell_type": "code",
   "execution_count": null,
   "outputs": [],
   "source": [
    "eq = c.diff(x)\n",
    "eq = simplify(eq, seconds=1)\n",
    "eq"
   ],
   "metadata": {
    "collapsed": false,
    "pycharm": {
     "name": "#%%\n"
    }
   }
  },
  {
   "cell_type": "markdown",
   "source": [
    "Simplify previous differential equation:"
   ],
   "metadata": {
    "collapsed": false
   }
  },
  {
   "cell_type": "code",
   "execution_count": null,
   "outputs": [],
   "source": [
    "eq = simplify_equa_diff(eq, required=f(x).diff(x))\n",
    "eq"
   ],
   "metadata": {
    "collapsed": false,
    "pycharm": {
     "name": "#%%\n"
    }
   }
  },
  {
   "cell_type": "markdown",
   "source": [
    "### Compute Prefix Representations"
   ],
   "metadata": {
    "collapsed": false
   }
  },
  {
   "cell_type": "code",
   "execution_count": null,
   "outputs": [],
   "source": [
    "y_prefix = env.sympy_to_prefix(y)\n",
    "eq_prefix = env.sympy_to_prefix(eq)\n",
    "print(f\"Solution y with Prefix Notation:\\n{y_prefix}\\n\")\n",
    "print(f\"Differential Equation with Prefix Notation:\\n{eq_prefix}\")"
   ],
   "metadata": {
    "collapsed": false,
    "pycharm": {
     "name": "#%%\n"
    }
   }
  },
  {
   "cell_type": "markdown",
   "source": [
    "### Encode Input\n",
    "\n",
    "Clean prefix expressions before they are converted to PyTorch data.\n",
    "\n",
    "Examples:\n",
    "- f x  -> Y\n",
    "- derivative f x x  -> Y'"
   ],
   "metadata": {
    "collapsed": false
   }
  },
  {
   "cell_type": "code",
   "execution_count": null,
   "outputs": [],
   "source": [
    "x1_prefix = env.clean_prefix(eq_prefix)\n",
    "print(f\"Differential Equation Clean Prefix Notation:\\n{x1_prefix}\")"
   ],
   "metadata": {
    "collapsed": false,
    "pycharm": {
     "name": "#%%\n"
    }
   }
  },
  {
   "cell_type": "markdown",
   "source": [
    "Create a PyTorch LongTensor for storing $eq$ as a sequence of indexes based on prefix clean notation \"words\" (Word to\n",
    "index dictionary is defined inside the Model environment):"
   ],
   "metadata": {
    "collapsed": false
   }
  },
  {
   "cell_type": "code",
   "execution_count": null,
   "outputs": [],
   "source": [
    "x1 = torch.LongTensor(\n",
    "    [env.eos_index] +\n",
    "    [env.word2id[w] for w in x1_prefix] +\n",
    "    [env.eos_index]\n",
    ").view(-1, 1)\n",
    "x1.transpose(0, 1)"
   ],
   "metadata": {
    "collapsed": false,
    "pycharm": {
     "name": "#%%\n"
    }
   }
  },
  {
   "cell_type": "markdown",
   "source": [
    "Move PyTorch tensors to CUDA (GPU):"
   ],
   "metadata": {
    "collapsed": false
   }
  },
  {
   "cell_type": "code",
   "execution_count": null,
   "outputs": [],
   "source": [
    "len1 = torch.LongTensor([len(x1)])\n",
    "x1, len1 = to_cuda(x1, len1)"
   ],
   "metadata": {
    "collapsed": false,
    "pycharm": {
     "name": "#%%\n"
    }
   }
  },
  {
   "cell_type": "markdown",
   "source": [
    "Encodes the “meaning” of the input sequence into a single vector, with the Encoder of the Model:"
   ],
   "metadata": {
    "collapsed": false
   }
  },
  {
   "cell_type": "code",
   "execution_count": null,
   "outputs": [],
   "source": [
    "with torch.no_grad():\n",
    "    encoded = encoder('fwd', x=x1, lengths=len1, causal=False).transpose(0, 1)\n",
    "\n",
    "encoded"
   ],
   "metadata": {
    "collapsed": false,
    "pycharm": {
     "name": "#%%\n"
    }
   }
  },
  {
   "cell_type": "markdown",
   "source": [
    "### Decode with Beam Search\n",
    "\n",
    "Instead of picking a single output, a sequence (in this case an hypothesis of differential equation solution), multiple\n",
    "highly probable choices are retained.\n",
    "\n",
    "Declare beam size:"
   ],
   "metadata": {
    "collapsed": false
   }
  },
  {
   "cell_type": "code",
   "execution_count": null,
   "outputs": [],
   "source": [
    "beam_size = 10"
   ],
   "metadata": {
    "collapsed": false,
    "pycharm": {
     "name": "#%%\n"
    }
   }
  },
  {
   "cell_type": "markdown",
   "source": [
    "Takes the encoder output vector and outputs multiple sequences of \"words\", that in this case should represent the\n",
    "solution $y$ for the differential equation $eq$, using the Decoder of the model."
   ],
   "metadata": {
    "collapsed": false
   }
  },
  {
   "cell_type": "code",
   "execution_count": null,
   "outputs": [],
   "source": [
    "with torch.no_grad():\n",
    "    _, _, beam = decoder.generate_beam(encoded, len1, beam_size=beam_size, length_penalty=1.0, early_stopping=1,\n",
    "                                       max_len=params.max_len)\n",
    "assert len(beam) == 1\n",
    "hypotheses = beam[0].hyp\n",
    "assert len(hypotheses) == beam_size"
   ],
   "metadata": {
    "collapsed": false,
    "pycharm": {
     "name": "#%%\n"
    }
   }
  },
  {
   "cell_type": "markdown",
   "source": [
    "### View the Results"
   ],
   "metadata": {
    "collapsed": false
   }
  },
  {
   "cell_type": "markdown",
   "source": [
    "Input differential equation $eq$:"
   ],
   "metadata": {
    "collapsed": false
   }
  },
  {
   "cell_type": "code",
   "execution_count": null,
   "outputs": [],
   "source": [
    "eq"
   ],
   "metadata": {
    "collapsed": false,
    "pycharm": {
     "name": "#%%\n"
    }
   }
  },
  {
   "cell_type": "markdown",
   "source": [
    "Solution $y$ to find:"
   ],
   "metadata": {
    "collapsed": false
   }
  },
  {
   "cell_type": "code",
   "execution_count": null,
   "outputs": [],
   "source": [
    "y"
   ],
   "metadata": {
    "collapsed": false,
    "pycharm": {
     "name": "#%%\n"
    }
   }
  },
  {
   "cell_type": "markdown",
   "source": [
    "Extract scores and solution hypotheses:"
   ],
   "metadata": {
    "collapsed": false
   }
  },
  {
   "cell_type": "code",
   "execution_count": null,
   "outputs": [],
   "source": [
    "rows = numpy.arange(1, beam_size + 1)\n",
    "columns = ['Score', 'Solution Hypothesis', 'Valid']\n",
    "results = []\n",
    "\n",
    "for score, sequence in sorted(hypotheses, reverse=True):\n",
    "    # Parse decoded hypothesis\n",
    "    ids = sequence[1:].tolist()  # Decoded token IDs\n",
    "    hyp_prefix = [env.id2word[word_id] for word_id in ids]  # Convert to prefix notation\n",
    "\n",
    "    try:\n",
    "        hyp_infix = env.prefix_to_infix(hyp_prefix)  # Convert to infix notation\n",
    "        hyp_sympy = env.infix_to_sympy(hyp_infix)  # Convert to SymPy\n",
    "\n",
    "        # Check if the hypothesis is a valid solution, replacing 'hyp_sympy' with 'f(x)' in the equation\n",
    "        validation = \"YES\" if simplify(eq.subs(f(x), hyp_sympy).doit(), seconds=1) == 0 else \"NO\"\n",
    "\n",
    "        # Transform hypothesis to a valid latex expression\n",
    "        hyp_expr = \"$\" + sympy.latex(hyp_sympy)  + \"$\"\n",
    "\n",
    "    except InvalidPrefixExpression:\n",
    "        validation = \"INVALID PREFIX EXPRESSION\"\n",
    "        hyp_expr = hyp_prefix\n",
    "\n",
    "    # Prepare results\n",
    "    results.append([score, hyp_expr, validation])"
   ],
   "metadata": {
    "collapsed": false,
    "pycharm": {
     "name": "#%%\n"
    }
   }
  },
  {
   "cell_type": "markdown",
   "source": [
    "Print results:"
   ],
   "metadata": {
    "collapsed": false
   }
  },
  {
   "cell_type": "code",
   "execution_count": null,
   "outputs": [],
   "source": [
    "pandas.set_option('max_colwidth', None)\n",
    "pandas.DataFrame(results, index=rows, columns=columns).style.set_properties(**{'text-align': 'center'})"
   ],
   "metadata": {
    "collapsed": false,
    "pycharm": {
     "name": "#%%\n"
    }
   }
  },
  {
   "cell_type": "markdown",
   "source": [
    "## Second Order Differential Equations (ODE 2)\n",
    "\n",
    "Procedure:\n",
    "1. Start from a trivariate function $F(x,c_1,c_2)$, that will be the equation solution, that can be solved in $c_2$.\n",
    "2. Solve $F(x,c_1,c_2)$ in $c_2$.\n",
    "3. Differentiate in $x$.\n",
    "4. Solve in $c_1$.\n",
    "5. Differentiate in $x$.\n",
    "6. Simplify the final form."
   ],
   "metadata": {
    "collapsed": false
   }
  },
  {
   "cell_type": "markdown",
   "source": [
    "### Build Environment - Reload Model"
   ],
   "metadata": {
    "collapsed": false
   }
  },
  {
   "cell_type": "markdown",
   "source": [
    "Get Trained Model:"
   ],
   "metadata": {
    "collapsed": false
   }
  },
  {
   "cell_type": "code",
   "execution_count": null,
   "outputs": [],
   "source": [
    "model_path = '../models/differential-equations/ode2.pth'\n",
    "assert os.path.isfile(model_path)\n",
    "\n",
    "params = AttrDict({\n",
    "\n",
    "    # Environment Parameters\n",
    "    'env_name': 'char_sp',\n",
    "    'int_base': 10,\n",
    "    'balanced': False,\n",
    "    'positive': True,\n",
    "    'precision': 10,\n",
    "    'n_variables': 1,\n",
    "    'n_coefficients': 0,\n",
    "    'leaf_probs': '0.75,0,0.25,0',\n",
    "    'max_len': 512,\n",
    "    'max_int': 5,\n",
    "    'max_ops': 15,\n",
    "    'max_ops_G': 15,\n",
    "    'clean_prefix_expr': True,\n",
    "    'rewrite_functions': '',\n",
    "    'tasks': 'ode1',\n",
    "    'operators': 'add:10,sub:3,mul:10,div:5,sqrt:4,pow2:4,pow3:2,pow4:1,pow5:1,ln:4,exp:4,sin:4,cos:4,tan:4,asin:1,'\n",
    "                 'acos:1,atan:1,sinh:1,cosh:1,tanh:1,asinh:1,acosh:1,atanh:1',\n",
    "\n",
    "    # Model Parameters\n",
    "    'cpu': False,\n",
    "    'emb_dim': 1024,\n",
    "    'n_enc_layers': 6,\n",
    "    'n_dec_layers': 6,\n",
    "    'n_heads': 8,\n",
    "    'dropout': 0,\n",
    "    'attention_dropout': 0,\n",
    "    'sinusoidal_embeddings': False,\n",
    "    'share_inout_emb': True,\n",
    "    'reload_model': model_path,\n",
    "\n",
    "})\n",
    "\n",
    "env = build_env(params)\n",
    "c1 = sympy.Symbol('c1')\n",
    "c2 = sympy.Symbol('c2')\n",
    "\n",
    "modules = build_modules(env, params)\n",
    "encoder = modules['encoder']\n",
    "decoder = modules['decoder']"
   ],
   "metadata": {
    "collapsed": false,
    "pycharm": {
     "name": "#%%\n"
    }
   }
  },
  {
   "cell_type": "markdown",
   "source": [
    "### Declare Differential Equation Input and its Solution\n",
    "\n",
    "Declare a bivariate function $F(x,c_1, c_2)$, that will be the equation solution, that can be solved in $c_2$:"
   ],
   "metadata": {
    "collapsed": false
   }
  },
  {
   "cell_type": "code",
   "execution_count": null,
   "outputs": [],
   "source": [
    "# y_infix = 'c1*exp(x)+c2*exp(-x)'\n",
    "# y_infix = '(2*x)+((x*(c2+(c1*x)))+(exp(3)))'\n",
    "# y_infix = '(x**9)*((c1+(c2*((cos(cosh(asin(tanh(x)))))**(-1))))**(-1))'\n",
    "y_infix = 'c2*(5+((c1+(x+(x**3)))*(exp((-1)*((tan(x))**2)))))'"
   ],
   "metadata": {
    "collapsed": false,
    "pycharm": {
     "name": "#%%\n"
    }
   }
  },
  {
   "cell_type": "markdown",
   "source": [
    "Converts **y_infix** to a type that can be used inside SymPy:"
   ],
   "metadata": {
    "collapsed": false
   }
  },
  {
   "cell_type": "code",
   "execution_count": null,
   "outputs": [],
   "source": [
    "y = sympy.sympify(y_infix, locals=env.local_dict)\n",
    "y"
   ],
   "metadata": {
    "collapsed": false,
    "pycharm": {
     "name": "#%%\n"
    }
   }
  },
  {
   "cell_type": "markdown",
   "source": [
    "Solve $y$ in $c_2$:"
   ],
   "metadata": {
    "collapsed": false
   }
  },
  {
   "cell_type": "code",
   "execution_count": null,
   "outputs": [],
   "source": [
    "solve_c2 = sympy.solve(f(x) - y, c2, check=False, simplify=False)\n",
    "c2 = solve_c2[0]\n",
    "c2"
   ],
   "metadata": {
    "collapsed": false,
    "pycharm": {
     "name": "#%%\n"
    }
   }
  },
  {
   "cell_type": "markdown",
   "source": [
    "Differentiate $c_2$ in $x$:"
   ],
   "metadata": {
    "collapsed": false
   }
  },
  {
   "cell_type": "code",
   "execution_count": null,
   "outputs": [],
   "source": [
    "eq = c2.diff(x)\n",
    "eq = simplify(eq, seconds=1)\n",
    "eq"
   ],
   "metadata": {
    "collapsed": false,
    "pycharm": {
     "name": "#%%\n"
    }
   }
  },
  {
   "cell_type": "markdown",
   "source": [
    "Solve $eq$ in $c_1$:"
   ],
   "metadata": {
    "collapsed": false
   }
  },
  {
   "cell_type": "code",
   "execution_count": null,
   "outputs": [],
   "source": [
    "solve_c1 = sympy.solve(eq, c1, check=False, simplify=False)\n",
    "c1 = solve_c1[0]\n",
    "c1"
   ],
   "metadata": {
    "collapsed": false,
    "pycharm": {
     "name": "#%%\n"
    }
   }
  },
  {
   "cell_type": "markdown",
   "source": [
    "Differentiate $a_8$ in $x$:"
   ],
   "metadata": {
    "collapsed": false
   }
  },
  {
   "cell_type": "code",
   "execution_count": null,
   "outputs": [],
   "source": [
    "eq = c1.diff(x)\n",
    "eq = simplify(eq, seconds=1)\n",
    "eq"
   ],
   "metadata": {
    "collapsed": false,
    "pycharm": {
     "name": "#%%\n"
    }
   }
  },
  {
   "cell_type": "markdown",
   "source": [
    "Simplify previous differential equation:"
   ],
   "metadata": {
    "collapsed": false
   }
  },
  {
   "cell_type": "code",
   "execution_count": null,
   "outputs": [],
   "source": [
    "eq = simplify_equa_diff(eq, required=f(x).diff(x, 2))\n",
    "eq"
   ],
   "metadata": {
    "collapsed": false,
    "pycharm": {
     "name": "#%%\n"
    }
   }
  },
  {
   "cell_type": "markdown",
   "source": [
    "### Compute Prefix Representations"
   ],
   "metadata": {
    "collapsed": false
   }
  },
  {
   "cell_type": "code",
   "execution_count": null,
   "outputs": [],
   "source": [
    "y_prefix = env.sympy_to_prefix(y)\n",
    "eq_prefix = env.sympy_to_prefix(eq)\n",
    "print(f\"Solution y with Prefix Notation:\\n{y_prefix}\\n\")\n",
    "print(f\"Differential Equation with Prefix Notation:\\n{eq_prefix}\")"
   ],
   "metadata": {
    "collapsed": false,
    "pycharm": {
     "name": "#%%\n"
    }
   }
  },
  {
   "cell_type": "markdown",
   "source": [
    "### Encode Input"
   ],
   "metadata": {
    "collapsed": false
   }
  },
  {
   "cell_type": "code",
   "execution_count": null,
   "outputs": [],
   "source": [
    "x1_prefix = env.clean_prefix(eq_prefix)\n",
    "print(f\"Differential Equation Clean Prefix Notation:\\n{x1_prefix}\")"
   ],
   "metadata": {
    "collapsed": false,
    "pycharm": {
     "name": "#%%\n"
    }
   }
  },
  {
   "cell_type": "code",
   "execution_count": null,
   "outputs": [],
   "source": [
    "x1 = torch.LongTensor(\n",
    "    [env.eos_index] +\n",
    "    [env.word2id[w] for w in x1_prefix] +\n",
    "    [env.eos_index]\n",
    ").view(-1, 1)"
   ],
   "metadata": {
    "collapsed": false,
    "pycharm": {
     "name": "#%%\n"
    }
   }
  },
  {
   "cell_type": "code",
   "execution_count": null,
   "outputs": [],
   "source": [
    "len1 = torch.LongTensor([len(x1)])\n",
    "x1, len1 = to_cuda(x1, len1)"
   ],
   "metadata": {
    "collapsed": false,
    "pycharm": {
     "name": "#%%\n"
    }
   }
  },
  {
   "cell_type": "code",
   "execution_count": null,
   "outputs": [],
   "source": [
    "with torch.no_grad():\n",
    "    encoded = encoder('fwd', x=x1, lengths=len1, causal=False).transpose(0, 1)\n",
    "\n",
    "encoded"
   ],
   "metadata": {
    "collapsed": false,
    "pycharm": {
     "name": "#%%\n"
    }
   }
  },
  {
   "cell_type": "markdown",
   "source": [
    "### Decode with Beam Search"
   ],
   "metadata": {
    "collapsed": false
   }
  },
  {
   "cell_type": "code",
   "execution_count": null,
   "outputs": [],
   "source": [
    "beam_size = 10\n",
    "\n",
    "with torch.no_grad():\n",
    "    _, _, beam = decoder.generate_beam(encoded, len1, beam_size=beam_size, length_penalty=1.0, early_stopping=1,\n",
    "                                       max_len=params.max_len)\n",
    "assert len(beam) == 1\n",
    "hypotheses = beam[0].hyp\n",
    "assert len(hypotheses) == beam_size"
   ],
   "metadata": {
    "collapsed": false,
    "pycharm": {
     "name": "#%%\n"
    }
   }
  },
  {
   "cell_type": "markdown",
   "source": [
    "### View the Results"
   ],
   "metadata": {
    "collapsed": false
   }
  },
  {
   "cell_type": "markdown",
   "source": [
    "Input differential equation $eq$:"
   ],
   "metadata": {
    "collapsed": false
   }
  },
  {
   "cell_type": "code",
   "execution_count": null,
   "outputs": [],
   "source": [
    "eq"
   ],
   "metadata": {
    "collapsed": false,
    "pycharm": {
     "name": "#%%\n"
    }
   }
  },
  {
   "cell_type": "markdown",
   "source": [
    "Solution $y$ to find:"
   ],
   "metadata": {
    "collapsed": false
   }
  },
  {
   "cell_type": "code",
   "execution_count": null,
   "outputs": [],
   "source": [
    "y"
   ],
   "metadata": {
    "collapsed": false,
    "pycharm": {
     "name": "#%%\n"
    }
   }
  },
  {
   "cell_type": "markdown",
   "source": [
    "Extract scores and solution hypotheses:"
   ],
   "metadata": {
    "collapsed": false
   }
  },
  {
   "cell_type": "code",
   "execution_count": null,
   "outputs": [],
   "source": [
    "rows = numpy.arange(1, beam_size + 1)\n",
    "columns = ['Score', 'Solution Hypothesis', 'Valid']\n",
    "results = []\n",
    "\n",
    "for score, sequence in sorted(hypotheses, reverse=True):\n",
    "    # Parse decoded hypothesis\n",
    "    ids = sequence[1:].tolist()  # Decoded token IDs\n",
    "    hyp_prefix = [env.id2word[word_id] for word_id in ids]  # Convert to prefix notation\n",
    "\n",
    "    try:\n",
    "        hyp_infix = env.prefix_to_infix(hyp_prefix)  # Convert to infix notation\n",
    "        hyp_sympy = env.infix_to_sympy(hyp_infix)  # Convert to SymPy\n",
    "\n",
    "        # Check if the hypothesis is a valid solution, replacing 'hyp_sympy' with 'f(x)' in the equation\n",
    "        validation = \"YES\" if simplify(eq.subs(f(x), hyp_sympy).doit(), seconds=1) == 0 else \"NO\"\n",
    "\n",
    "        # Transform hypothesis to a valid latex expression\n",
    "        hyp_expr = \"$\" + sympy.latex(hyp_sympy)  + \"$\"\n",
    "\n",
    "    except InvalidPrefixExpression:\n",
    "        validation = \"INVALID PREFIX EXPRESSION\"\n",
    "        hyp_expr = hyp_prefix\n",
    "\n",
    "    # Prepare results\n",
    "    results.append([score, hyp_expr, validation])"
   ],
   "metadata": {
    "collapsed": false,
    "pycharm": {
     "name": "#%%\n"
    }
   }
  },
  {
   "cell_type": "markdown",
   "source": [
    "Print results:"
   ],
   "metadata": {
    "collapsed": false
   }
  },
  {
   "cell_type": "code",
   "execution_count": null,
   "outputs": [],
   "source": [
    "pandas.set_option('max_colwidth', None)\n",
    "pandas.DataFrame(results, index=rows, columns=columns).style.set_properties(**{'text-align': 'center'})"
   ],
   "metadata": {
    "collapsed": false,
    "pycharm": {
     "name": "#%%\n"
    }
   }
  }
 ],
 "metadata": {
  "kernelspec": {
   "display_name": "Python 3",
   "language": "python",
   "name": "python3"
  },
  "language_info": {
   "codemirror_mode": {
    "name": "ipython",
    "version": 2
   },
   "file_extension": ".py",
   "mimetype": "text/x-python",
   "name": "python",
   "nbconvert_exporter": "python",
   "pygments_lexer": "ipython2",
   "version": "2.7.6"
  }
 },
 "nbformat": 4,
 "nbformat_minor": 0
}