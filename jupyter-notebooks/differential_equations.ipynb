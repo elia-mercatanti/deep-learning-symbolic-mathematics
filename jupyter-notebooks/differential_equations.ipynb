{
 "cells": [
  {
   "cell_type": "markdown",
   "source": [
    "# Demo of the Model on Differential Equations"
   ],
   "metadata": {
    "collapsed": false
   }
  },
  {
   "cell_type": "code",
   "execution_count": 1,
   "outputs": [],
   "source": [
    "import os\n",
    "\n",
    "import numpy\n",
    "import pandas\n",
    "import sympy\n",
    "import torch\n",
    "\n",
    "from src.envs import build_env\n",
    "from src.envs.sympy_utils import simplify_equa_diff\n",
    "from src.envs.char_sp import InvalidPrefixExpression\n",
    "from src.envs.sympy_utils import simplify\n",
    "from src.model import build_modules\n",
    "from src.utils import AttrDict\n",
    "from src.utils import to_cuda"
   ],
   "metadata": {
    "collapsed": false,
    "pycharm": {
     "name": "#%%\n"
    }
   }
  },
  {
   "cell_type": "markdown",
   "source": [
    "Use the Model to Find the solutions to first and second order differential equations."
   ],
   "metadata": {
    "collapsed": false
   }
  },
  {
   "cell_type": "markdown",
   "source": [
    "## First Order Differential Equations (ODE 1)\n",
    "\n",
    "Procedure:\n",
    "1. Start from a bivariate function $F(x,c)$, that will be the equation solution, that can be solved in $c$.\n",
    "2. Solve $F(x,c)$ in $c$.\n",
    "3. Differentiate in $x$.\n",
    "4. Simplify the final form."
   ],
   "metadata": {
    "collapsed": false
   }
  },
  {
   "cell_type": "markdown",
   "source": [
    "### Build Environment - Reload Model"
   ],
   "metadata": {
    "collapsed": false
   }
  },
  {
   "cell_type": "markdown",
   "source": [
    "Get Trained Model:"
   ],
   "metadata": {
    "collapsed": false
   }
  },
  {
   "cell_type": "code",
   "execution_count": 2,
   "outputs": [],
   "source": [
    "model_path = '../models/differential-equations/ode1.pth'\n",
    "assert os.path.isfile(model_path)"
   ],
   "metadata": {
    "collapsed": false,
    "pycharm": {
     "name": "#%%\n"
    }
   }
  },
  {
   "cell_type": "markdown",
   "source": [
    "Set the Parameters for Environment and for the Model:\n",
    "\n",
    " Environment:\n",
    "- **env_name**: SymPy character environment.\n",
    "- **int_base**: integer representation base.\n",
    "- **balanced**: balanced representation (base > 0).\n",
    "- **positive**: do not sample negative numbers.\n",
    "- **precision**: float numbers precision.\n",
    "- **n_variables**: number of variables in expressions (between 1 and 4).\n",
    "- **n_coefficients**: number of coefficients in expressions (between 0 and 10).\n",
    "- **leaf_probs**: leaf probabilities of being a variable, a coefficient, an integer, or a constant.\n",
    "- **max_len**: maximum sequences length.\n",
    "- **max_int**: maximum integer value.\n",
    "- **max_ops**: maximum number of operators.\n",
    "- **max_ops_G**: maximum number of operators for G in IBP.\n",
    "- **clean_prefix_expr**: clean prefix expressions (f x -> Y, derivative f x x -> Y').\n",
    "- **rewrite_functions**: rewrite expressions with a given SymPy function.\n",
    "- **tasks**: tasks to run (prim_fwd, prim_bwd, prim_ibp, ode1, ode2).\n",
    "- **operators**: considered operators (add, sub, mul, div), followed by (unnormalized) sampling probabilities.\n",
    "\n",
    "\n",
    " Model:\n",
    "- **cpu**: run on CPU.\n",
    "- **emb_dim**: embedding layer size.\n",
    "- **n_enc_layers**: number of transformer layers in the encoder.\n",
    "- **n_dec_layers**: number of transformer layers in the decoder.\n",
    "- **n_heads**: number of transformer heads.\n",
    "- **dropout**: dropout.\n",
    "- **attention_dropout**: dropout in the attention layer.\n",
    "- **sinusoidal_embeddings**: use sinusoidal embeddings.\n",
    "- **share_inout_emb**: share input and output embeddings.\n",
    "- **reload_model**: reload a pretrained model."
   ],
   "metadata": {
    "collapsed": false
   }
  },
  {
   "cell_type": "code",
   "execution_count": 3,
   "outputs": [],
   "source": [
    "params = AttrDict({\n",
    "\n",
    "    # Environment Parameters\n",
    "    'env_name': 'char_sp',\n",
    "    'int_base': 10,\n",
    "    'balanced': False,\n",
    "    'positive': True,\n",
    "    'precision': 10,\n",
    "    'n_variables': 1,\n",
    "    'n_coefficients': 0,\n",
    "    'leaf_probs': '0.75,0,0.25,0',\n",
    "    'max_len': 512,\n",
    "    'max_int': 5,\n",
    "    'max_ops': 15,\n",
    "    'max_ops_G': 15,\n",
    "    'clean_prefix_expr': True,\n",
    "    'rewrite_functions': '',\n",
    "    'tasks': 'ode1',\n",
    "    'operators': 'add:10,sub:3,mul:10,div:5,sqrt:4,pow2:4,pow3:2,pow4:1,pow5:1,ln:4,exp:4,sin:4,cos:4,tan:4,asin:1,'\n",
    "                 'acos:1,atan:1,sinh:1,cosh:1,tanh:1,asinh:1,acosh:1,atanh:1',\n",
    "\n",
    "    # Model Parameters\n",
    "    'cpu': False,\n",
    "    'emb_dim': 1024,\n",
    "    'n_enc_layers': 6,\n",
    "    'n_dec_layers': 6,\n",
    "    'n_heads': 8,\n",
    "    'dropout': 0,\n",
    "    'attention_dropout': 0,\n",
    "    'sinusoidal_embeddings': False,\n",
    "    'share_inout_emb': True,\n",
    "    'reload_model': model_path,\n",
    "\n",
    "})"
   ],
   "metadata": {
    "collapsed": false,
    "pycharm": {
     "name": "#%%\n"
    }
   }
  },
  {
   "cell_type": "markdown",
   "source": [
    "Set the Environment with SymPy:"
   ],
   "metadata": {
    "collapsed": false
   }
  },
  {
   "cell_type": "code",
   "execution_count": 4,
   "outputs": [],
   "source": [
    "env = build_env(params)\n",
    "x = env.local_dict['x']\n",
    "f = env.local_dict['f']\n",
    "c = sympy.Symbol('c')"
   ],
   "metadata": {
    "collapsed": false,
    "pycharm": {
     "name": "#%%\n"
    }
   }
  },
  {
   "cell_type": "markdown",
   "source": [
    "The primary components of the model are one encoder and one decoder network. The encoder turns each item into a\n",
    "corresponding hidden vector containing the item and its context. The decoder reverses the process, turning the vector\n",
    "into an output item, using the previous output as the input context.\n",
    "\n",
    "Build Model Modules:"
   ],
   "metadata": {
    "collapsed": false
   }
  },
  {
   "cell_type": "code",
   "execution_count": 5,
   "outputs": [],
   "source": [
    "modules = build_modules(env, params)\n",
    "encoder = modules['encoder']\n",
    "decoder = modules['decoder']"
   ],
   "metadata": {
    "collapsed": false,
    "pycharm": {
     "name": "#%%\n"
    }
   }
  },
  {
   "cell_type": "markdown",
   "source": [
    "### Declare Differential Equation Input and its Solution\n",
    "\n",
    "Declare a bivariate function $F(x,c)$, that will be the equation solution, that can be solved in c:"
   ],
   "metadata": {
    "collapsed": false
   }
  },
  {
   "cell_type": "code",
   "execution_count": 6,
   "outputs": [],
   "source": [
    "# y_infix = 'x*log(c/x)'\n",
    "# y_infix = '((4+(2*x))**(-1))*((x+(sin(x)))*((x**4)+(c*(x**(-1)))))'\n",
    "# y_infix = 'exp(c+((sqrt(cos(x)))+(acos(2*x))))'\n",
    "y_infix = '3+((c*(x**(-1)))+(sin(tanh(cos(x)))))'"
   ],
   "metadata": {
    "collapsed": false,
    "pycharm": {
     "name": "#%%\n"
    }
   }
  },
  {
   "cell_type": "markdown",
   "source": [
    "Converts **y_infix** to a type that can be used inside SymPy:"
   ],
   "metadata": {
    "collapsed": false
   }
  },
  {
   "cell_type": "code",
   "execution_count": 7,
   "outputs": [
    {
     "data": {
      "text/plain": "c/x + sin(tanh(cos(x))) + 3",
      "text/latex": "$\\displaystyle \\frac{c}{x} + \\sin{\\left(\\tanh{\\left(\\cos{\\left(x \\right)} \\right)} \\right)} + 3$"
     },
     "execution_count": 7,
     "metadata": {},
     "output_type": "execute_result"
    }
   ],
   "source": [
    "y = sympy.sympify(y_infix, locals=env.local_dict)\n",
    "y"
   ],
   "metadata": {
    "collapsed": false,
    "pycharm": {
     "name": "#%%\n"
    }
   }
  },
  {
   "cell_type": "markdown",
   "source": [
    "Solve $y$ in $c$:"
   ],
   "metadata": {
    "collapsed": false
   }
  },
  {
   "cell_type": "code",
   "execution_count": 8,
   "outputs": [
    {
     "data": {
      "text/plain": "x*f(x) - x*sin(tanh(cos(x))) - 3*x",
      "text/latex": "$\\displaystyle x f{\\left(x \\right)} - x \\sin{\\left(\\tanh{\\left(\\cos{\\left(x \\right)} \\right)} \\right)} - 3 x$"
     },
     "execution_count": 8,
     "metadata": {},
     "output_type": "execute_result"
    }
   ],
   "source": [
    "solve_c = sympy.solve(f(x) - y, c, check=False, simplify=False)\n",
    "c = solve_c[0]\n",
    "c"
   ],
   "metadata": {
    "collapsed": false,
    "pycharm": {
     "name": "#%%\n"
    }
   }
  },
  {
   "cell_type": "markdown",
   "source": [
    "Differentiate $c$ in $x$:"
   ],
   "metadata": {
    "collapsed": false
   }
  },
  {
   "cell_type": "code",
   "execution_count": 9,
   "outputs": [
    {
     "data": {
      "text/plain": "x*sin(x)*cos(tanh(cos(x)))/cosh(cos(x))**2 + x*Derivative(f(x), x) + f(x) - sin(tanh(cos(x))) - 3",
      "text/latex": "$\\displaystyle \\frac{x \\sin{\\left(x \\right)} \\cos{\\left(\\tanh{\\left(\\cos{\\left(x \\right)} \\right)} \\right)}}{\\cosh^{2}{\\left(\\cos{\\left(x \\right)} \\right)}} + x \\frac{d}{d x} f{\\left(x \\right)} + f{\\left(x \\right)} - \\sin{\\left(\\tanh{\\left(\\cos{\\left(x \\right)} \\right)} \\right)} - 3$"
     },
     "execution_count": 9,
     "metadata": {},
     "output_type": "execute_result"
    }
   ],
   "source": [
    "eq = c.diff(x)\n",
    "eq = simplify(eq, seconds=1)\n",
    "eq"
   ],
   "metadata": {
    "collapsed": false,
    "pycharm": {
     "name": "#%%\n"
    }
   }
  },
  {
   "cell_type": "markdown",
   "source": [
    "Simplify previous differential equation:"
   ],
   "metadata": {
    "collapsed": false
   }
  },
  {
   "cell_type": "code",
   "execution_count": 10,
   "outputs": [
    {
     "data": {
      "text/plain": "x*sin(x)*cos(tanh(cos(x))) + x*cosh(cos(x))**2*Derivative(f(x), x) + f(x)*cosh(cos(x))**2 - sin(tanh(cos(x)))*cosh(cos(x))**2 - 3*cosh(cos(x))**2",
      "text/latex": "$\\displaystyle x \\sin{\\left(x \\right)} \\cos{\\left(\\tanh{\\left(\\cos{\\left(x \\right)} \\right)} \\right)} + x \\cosh^{2}{\\left(\\cos{\\left(x \\right)} \\right)} \\frac{d}{d x} f{\\left(x \\right)} + f{\\left(x \\right)} \\cosh^{2}{\\left(\\cos{\\left(x \\right)} \\right)} - \\sin{\\left(\\tanh{\\left(\\cos{\\left(x \\right)} \\right)} \\right)} \\cosh^{2}{\\left(\\cos{\\left(x \\right)} \\right)} - 3 \\cosh^{2}{\\left(\\cos{\\left(x \\right)} \\right)}$"
     },
     "execution_count": 10,
     "metadata": {},
     "output_type": "execute_result"
    }
   ],
   "source": [
    "eq = simplify_equa_diff(eq, required=f(x).diff(x))\n",
    "eq"
   ],
   "metadata": {
    "collapsed": false,
    "pycharm": {
     "name": "#%%\n"
    }
   }
  },
  {
   "cell_type": "markdown",
   "source": [
    "### Compute Prefix Representations"
   ],
   "metadata": {
    "collapsed": false
   }
  },
  {
   "cell_type": "code",
   "execution_count": 11,
   "outputs": [
    {
     "name": "stdout",
     "output_type": "stream",
     "text": [
      "Solution y with Prefix Notation:\n",
      "['add', 'INT+', '3', 'add', 'mul', 'c', 'pow', 'x', 'INT-', '1', 'sin', 'tanh', 'cos', 'x']\n",
      "\n",
      "Differential Equation with Prefix Notation:\n",
      "['add', 'mul', 'INT-', '3', 'pow', 'cosh', 'cos', 'x', 'INT+', '2', 'add', 'mul', 'pow', 'cosh', 'cos', 'x', 'INT+', '2', 'f', 'x', 'add', 'mul', 'INT-', '1', 'mul', 'pow', 'cosh', 'cos', 'x', 'INT+', '2', 'sin', 'tanh', 'cos', 'x', 'add', 'mul', 'x', 'mul', 'pow', 'cosh', 'cos', 'x', 'INT+', '2', 'derivative', 'f', 'x', 'x', 'mul', 'x', 'mul', 'cos', 'tanh', 'cos', 'x', 'sin', 'x']\n"
     ]
    }
   ],
   "source": [
    "y_prefix = env.sympy_to_prefix(y)\n",
    "eq_prefix = env.sympy_to_prefix(eq)\n",
    "print(f\"Solution y with Prefix Notation:\\n{y_prefix}\\n\")\n",
    "print(f\"Differential Equation with Prefix Notation:\\n{eq_prefix}\")"
   ],
   "metadata": {
    "collapsed": false,
    "pycharm": {
     "name": "#%%\n"
    }
   }
  },
  {
   "cell_type": "markdown",
   "source": [
    "### Encode Input\n",
    "\n",
    "Clean prefix expressions before they are converted to PyTorch data.\n",
    "\n",
    "Examples:\n",
    "- f x  -> Y\n",
    "- derivative f x x  -> Y'"
   ],
   "metadata": {
    "collapsed": false
   }
  },
  {
   "cell_type": "code",
   "execution_count": 12,
   "outputs": [
    {
     "name": "stdout",
     "output_type": "stream",
     "text": [
      "Differential Equation Clean Prefix Notation:\n",
      "['add', 'mul', 'INT-', '3', 'pow', 'cosh', 'cos', 'x', 'INT+', '2', 'add', 'mul', 'pow', 'cosh', 'cos', 'x', 'INT+', '2', 'Y', 'add', 'mul', 'INT-', '1', 'mul', 'pow', 'cosh', 'cos', 'x', 'INT+', '2', 'sin', 'tanh', 'cos', 'x', 'add', 'mul', 'x', 'mul', 'pow', 'cosh', 'cos', 'x', 'INT+', '2', \"Y'\", 'mul', 'x', 'mul', 'cos', 'tanh', 'cos', 'x', 'sin', 'x']\n"
     ]
    }
   ],
   "source": [
    "x1_prefix = env.clean_prefix(eq_prefix)\n",
    "print(f\"Differential Equation Clean Prefix Notation:\\n{x1_prefix}\")"
   ],
   "metadata": {
    "collapsed": false,
    "pycharm": {
     "name": "#%%\n"
    }
   }
  },
  {
   "cell_type": "markdown",
   "source": [
    "Create a PyTorch LongTensor for storing $eq$ as a sequence of indexes based on prefix clean notation \"words\" (Word to\n",
    "index dictionary is defined inside the Model environment):"
   ],
   "metadata": {
    "collapsed": false
   }
  },
  {
   "cell_type": "code",
   "execution_count": 13,
   "outputs": [
    {
     "data": {
      "text/plain": "tensor([[ 0, 33, 54, 72, 84, 55, 41, 40, 12, 71, 83, 33, 54, 55, 41, 40, 12, 71,\n         83, 78, 33, 54, 72, 82, 54, 55, 41, 40, 12, 71, 83, 64, 69, 40, 12, 33,\n         54, 12, 54, 55, 41, 40, 12, 71, 83, 79, 54, 12, 54, 40, 69, 40, 12, 64,\n         12,  0]])"
     },
     "execution_count": 13,
     "metadata": {},
     "output_type": "execute_result"
    }
   ],
   "source": [
    "x1 = torch.LongTensor(\n",
    "    [env.eos_index] +\n",
    "    [env.word2id[w] for w in x1_prefix] +\n",
    "    [env.eos_index]\n",
    ").view(-1, 1)\n",
    "x1.transpose(0, 1)"
   ],
   "metadata": {
    "collapsed": false,
    "pycharm": {
     "name": "#%%\n"
    }
   }
  },
  {
   "cell_type": "markdown",
   "source": [
    "Move PyTorch tensors to CUDA (GPU):"
   ],
   "metadata": {
    "collapsed": false
   }
  },
  {
   "cell_type": "code",
   "execution_count": 14,
   "outputs": [],
   "source": [
    "len1 = torch.LongTensor([len(x1)])\n",
    "x1, len1 = to_cuda(x1, len1)"
   ],
   "metadata": {
    "collapsed": false,
    "pycharm": {
     "name": "#%%\n"
    }
   }
  },
  {
   "cell_type": "markdown",
   "source": [
    "Encodes the “meaning” of the input sequence into a single vector, with the Encoder of the Model:"
   ],
   "metadata": {
    "collapsed": false
   }
  },
  {
   "cell_type": "code",
   "execution_count": 15,
   "outputs": [
    {
     "data": {
      "text/plain": "tensor([[[ 0.0103, -0.0965,  0.0125,  ..., -0.0325, -0.0034, -0.0597],\n         [ 0.0475, -0.0445, -0.0600,  ..., -0.0021, -0.0066,  0.0205],\n         [ 0.0167, -0.0580,  0.0988,  ...,  0.0167,  0.0327, -0.0324],\n         ...,\n         [-0.2286, -0.2426, -0.0776,  ..., -0.0407,  0.0956,  0.1008],\n         [ 0.0002, -0.0553,  0.0610,  ...,  0.0203,  0.0128,  0.0547],\n         [ 0.0154, -0.0342,  0.0121,  ..., -0.0616,  0.0113, -0.0232]]],\n       device='cuda:0')"
     },
     "execution_count": 15,
     "metadata": {},
     "output_type": "execute_result"
    }
   ],
   "source": [
    "with torch.no_grad():\n",
    "    encoded = encoder('fwd', x=x1, lengths=len1, causal=False).transpose(0, 1)\n",
    "\n",
    "encoded"
   ],
   "metadata": {
    "collapsed": false,
    "pycharm": {
     "name": "#%%\n"
    }
   }
  },
  {
   "cell_type": "markdown",
   "source": [
    "### Decode with Beam Search\n",
    "\n",
    "Instead of picking a single output, a sequence (in this case an hypothesis of differential equation solution), multiple\n",
    "highly probable choices are retained.\n",
    "\n",
    "Declare beam size:"
   ],
   "metadata": {
    "collapsed": false
   }
  },
  {
   "cell_type": "code",
   "execution_count": 16,
   "outputs": [],
   "source": [
    "beam_size = 10"
   ],
   "metadata": {
    "collapsed": false,
    "pycharm": {
     "name": "#%%\n"
    }
   }
  },
  {
   "cell_type": "markdown",
   "source": [
    "Takes the encoder output vector and outputs multiple sequences of \"words\", that in this case should represent the\n",
    "solution $y$ for the differential equation $eq$, using the Decoder of the model."
   ],
   "metadata": {
    "collapsed": false
   }
  },
  {
   "cell_type": "code",
   "execution_count": 17,
   "outputs": [],
   "source": [
    "with torch.no_grad():\n",
    "    _, _, beam = decoder.generate_beam(encoded, len1, beam_size=beam_size, length_penalty=1.0, early_stopping=1,\n",
    "                                       max_len=params.max_len)\n",
    "assert len(beam) == 1\n",
    "hypotheses = beam[0].hyp\n",
    "assert len(hypotheses) == beam_size"
   ],
   "metadata": {
    "collapsed": false,
    "pycharm": {
     "name": "#%%\n"
    }
   }
  },
  {
   "cell_type": "markdown",
   "source": [
    "### View the Results"
   ],
   "metadata": {
    "collapsed": false
   }
  },
  {
   "cell_type": "markdown",
   "source": [
    "Input differential equation $eq$:"
   ],
   "metadata": {
    "collapsed": false
   }
  },
  {
   "cell_type": "code",
   "execution_count": 18,
   "outputs": [
    {
     "data": {
      "text/plain": "x*sin(x)*cos(tanh(cos(x))) + x*cosh(cos(x))**2*Derivative(f(x), x) + f(x)*cosh(cos(x))**2 - sin(tanh(cos(x)))*cosh(cos(x))**2 - 3*cosh(cos(x))**2",
      "text/latex": "$\\displaystyle x \\sin{\\left(x \\right)} \\cos{\\left(\\tanh{\\left(\\cos{\\left(x \\right)} \\right)} \\right)} + x \\cosh^{2}{\\left(\\cos{\\left(x \\right)} \\right)} \\frac{d}{d x} f{\\left(x \\right)} + f{\\left(x \\right)} \\cosh^{2}{\\left(\\cos{\\left(x \\right)} \\right)} - \\sin{\\left(\\tanh{\\left(\\cos{\\left(x \\right)} \\right)} \\right)} \\cosh^{2}{\\left(\\cos{\\left(x \\right)} \\right)} - 3 \\cosh^{2}{\\left(\\cos{\\left(x \\right)} \\right)}$"
     },
     "execution_count": 18,
     "metadata": {},
     "output_type": "execute_result"
    }
   ],
   "source": [
    "eq"
   ],
   "metadata": {
    "collapsed": false,
    "pycharm": {
     "name": "#%%\n"
    }
   }
  },
  {
   "cell_type": "markdown",
   "source": [
    "Solution $y$ to find:"
   ],
   "metadata": {
    "collapsed": false
   }
  },
  {
   "cell_type": "code",
   "execution_count": 19,
   "outputs": [
    {
     "data": {
      "text/plain": "c/x + sin(tanh(cos(x))) + 3",
      "text/latex": "$\\displaystyle \\frac{c}{x} + \\sin{\\left(\\tanh{\\left(\\cos{\\left(x \\right)} \\right)} \\right)} + 3$"
     },
     "execution_count": 19,
     "metadata": {},
     "output_type": "execute_result"
    }
   ],
   "source": [
    "y"
   ],
   "metadata": {
    "collapsed": false,
    "pycharm": {
     "name": "#%%\n"
    }
   }
  },
  {
   "cell_type": "markdown",
   "source": [
    "Extract scores and solution hypotheses:"
   ],
   "metadata": {
    "collapsed": false
   }
  },
  {
   "cell_type": "code",
   "execution_count": 20,
   "outputs": [],
   "source": [
    "rows = numpy.arange(1, beam_size + 1)\n",
    "columns = ['Score', 'Solution Hypothesis', 'Valid']\n",
    "results = []\n",
    "\n",
    "for score, sequence in sorted(hypotheses, reverse=True):\n",
    "    # Parse decoded hypothesis\n",
    "    ids = sequence[1:].tolist()  # Decoded token IDs\n",
    "    hyp_prefix = [env.id2word[word_id] for word_id in ids]  # Convert to prefix notation\n",
    "\n",
    "    try:\n",
    "        hyp_infix = env.prefix_to_infix(hyp_prefix)  # Convert to infix notation\n",
    "        hyp_sympy = env.infix_to_sympy(hyp_infix)  # Convert to SymPy\n",
    "\n",
    "        # Check if the hypothesis is a valid solution, replacing 'hyp_sympy' with 'f(x)' in the equation\n",
    "        validation = \"YES\" if simplify(eq.subs(f(x), hyp_sympy).doit(), seconds=1) == 0 else \"NO\"\n",
    "\n",
    "        # Transform hypothesis to a valid latex expression\n",
    "        hyp_expr = \"$\" + sympy.latex(hyp_sympy)  + \"$\"\n",
    "\n",
    "    except InvalidPrefixExpression:\n",
    "        validation = \"INVALID PREFIX EXPRESSION\"\n",
    "        hyp_expr = hyp_prefix\n",
    "\n",
    "    # Prepare results\n",
    "    results.append([score, hyp_expr, validation])"
   ],
   "metadata": {
    "collapsed": false,
    "pycharm": {
     "name": "#%%\n"
    }
   }
  },
  {
   "cell_type": "markdown",
   "source": [
    "Print results:"
   ],
   "metadata": {
    "collapsed": false
   }
  },
  {
   "cell_type": "code",
   "execution_count": 21,
   "outputs": [
    {
     "data": {
      "text/plain": "<pandas.io.formats.style.Styler at 0x7f3929245940>",
      "text/html": "<style type=\"text/css\">\n#T_f970f_row0_col0, #T_f970f_row0_col1, #T_f970f_row0_col2, #T_f970f_row1_col0, #T_f970f_row1_col1, #T_f970f_row1_col2, #T_f970f_row2_col0, #T_f970f_row2_col1, #T_f970f_row2_col2, #T_f970f_row3_col0, #T_f970f_row3_col1, #T_f970f_row3_col2, #T_f970f_row4_col0, #T_f970f_row4_col1, #T_f970f_row4_col2, #T_f970f_row5_col0, #T_f970f_row5_col1, #T_f970f_row5_col2, #T_f970f_row6_col0, #T_f970f_row6_col1, #T_f970f_row6_col2, #T_f970f_row7_col0, #T_f970f_row7_col1, #T_f970f_row7_col2, #T_f970f_row8_col0, #T_f970f_row8_col1, #T_f970f_row8_col2, #T_f970f_row9_col0, #T_f970f_row9_col1, #T_f970f_row9_col2 {\n  text-align: center;\n}\n</style>\n<table id=\"T_f970f_\">\n  <thead>\n    <tr>\n      <th class=\"blank level0\" >&nbsp;</th>\n      <th class=\"col_heading level0 col0\" >Score</th>\n      <th class=\"col_heading level0 col1\" >Solution Hypothesis</th>\n      <th class=\"col_heading level0 col2\" >Valid</th>\n    </tr>\n  </thead>\n  <tbody>\n    <tr>\n      <th id=\"T_f970f_level0_row0\" class=\"row_heading level0 row0\" >1</th>\n      <td id=\"T_f970f_row0_col0\" class=\"data row0 col0\" >-0.040726</td>\n      <td id=\"T_f970f_row0_col1\" class=\"data row0 col1\" >$\\frac{a_{8}}{x} + \\sin{\\left(\\tanh{\\left(\\cos{\\left(x \\right)} \\right)} \\right)} + 3$</td>\n      <td id=\"T_f970f_row0_col2\" class=\"data row0 col2\" >YES</td>\n    </tr>\n    <tr>\n      <th id=\"T_f970f_level0_row1\" class=\"row_heading level0 row1\" >2</th>\n      <td id=\"T_f970f_row1_col0\" class=\"data row1 col0\" >-0.130805</td>\n      <td id=\"T_f970f_row1_col1\" class=\"data row1 col1\" >$\\sin{\\left(\\tanh{\\left(\\cos{\\left(x \\right)} \\right)} \\right)} + \\frac{a_{8} + 3 x}{x}$</td>\n      <td id=\"T_f970f_row1_col2\" class=\"data row1 col2\" >YES</td>\n    </tr>\n    <tr>\n      <th id=\"T_f970f_level0_row2\" class=\"row_heading level0 row2\" >3</th>\n      <td id=\"T_f970f_row2_col0\" class=\"data row2 col0\" >-0.138553</td>\n      <td id=\"T_f970f_row2_col1\" class=\"data row2 col1\" >$\\frac{a_{8} + x \\sin{\\left(\\tanh{\\left(\\cos{\\left(x \\right)} \\right)} \\right)} + 3 x}{x}$</td>\n      <td id=\"T_f970f_row2_col2\" class=\"data row2 col2\" >YES</td>\n    </tr>\n    <tr>\n      <th id=\"T_f970f_level0_row3\" class=\"row_heading level0 row3\" >4</th>\n      <td id=\"T_f970f_row3_col0\" class=\"data row3 col0\" >-0.169402</td>\n      <td id=\"T_f970f_row3_col1\" class=\"data row3 col1\" >$\\sin{\\left(\\tanh{\\left(\\cos{\\left(x \\right)} \\right)} \\right)} + 2 + \\frac{a_{8} + x}{x}$</td>\n      <td id=\"T_f970f_row3_col2\" class=\"data row3 col2\" >YES</td>\n    </tr>\n    <tr>\n      <th id=\"T_f970f_level0_row4\" class=\"row_heading level0 row4\" >5</th>\n      <td id=\"T_f970f_row4_col0\" class=\"data row4 col0\" >-0.174527</td>\n      <td id=\"T_f970f_row4_col1\" class=\"data row4 col1\" >$\\sin{\\left(\\tanh{\\left(\\cos{\\left(x \\right)} \\right)} \\right)} + \\frac{3 \\left(a_{8} + x\\right)}{x}$</td>\n      <td id=\"T_f970f_row4_col2\" class=\"data row4 col2\" >YES</td>\n    </tr>\n    <tr>\n      <th id=\"T_f970f_level0_row5\" class=\"row_heading level0 row5\" >6</th>\n      <td id=\"T_f970f_row5_col0\" class=\"data row5 col0\" >-0.240685</td>\n      <td id=\"T_f970f_row5_col1\" class=\"data row5 col1\" >$3 + \\frac{a_{8} + x \\sin{\\left(\\tanh{\\left(\\cos{\\left(x \\right)} \\right)} \\right)}}{x}$</td>\n      <td id=\"T_f970f_row5_col2\" class=\"data row5 col2\" >YES</td>\n    </tr>\n    <tr>\n      <th id=\"T_f970f_level0_row6\" class=\"row_heading level0 row6\" >7</th>\n      <td id=\"T_f970f_row6_col0\" class=\"data row6 col0\" >-0.241817</td>\n      <td id=\"T_f970f_row6_col1\" class=\"data row6 col1\" >$\\frac{a_{8} + x \\left(\\sin{\\left(\\tanh{\\left(\\cos{\\left(x \\right)} \\right)} \\right)} + 3\\right)}{x}$</td>\n      <td id=\"T_f970f_row6_col2\" class=\"data row6 col2\" >YES</td>\n    </tr>\n    <tr>\n      <th id=\"T_f970f_level0_row7\" class=\"row_heading level0 row7\" >8</th>\n      <td id=\"T_f970f_row7_col0\" class=\"data row7 col0\" >-0.258469</td>\n      <td id=\"T_f970f_row7_col1\" class=\"data row7 col1\" >$\\frac{a_{8}}{x} + \\sin{\\left(\\sinh{\\left(\\cos{\\left(x \\right)} \\right)} \\right)} + 3$</td>\n      <td id=\"T_f970f_row7_col2\" class=\"data row7 col2\" >NO</td>\n    </tr>\n    <tr>\n      <th id=\"T_f970f_level0_row8\" class=\"row_heading level0 row8\" >9</th>\n      <td id=\"T_f970f_row8_col0\" class=\"data row8 col0\" >-0.317733</td>\n      <td id=\"T_f970f_row8_col1\" class=\"data row8 col1\" >$\\frac{a_{8} + x \\sin{\\left(\\sinh{\\left(\\cos{\\left(x \\right)} \\right)} \\right)} + 3 x}{x}$</td>\n      <td id=\"T_f970f_row8_col2\" class=\"data row8 col2\" >NO</td>\n    </tr>\n    <tr>\n      <th id=\"T_f970f_level0_row9\" class=\"row_heading level0 row9\" >10</th>\n      <td id=\"T_f970f_row9_col0\" class=\"data row9 col0\" >-0.513972</td>\n      <td id=\"T_f970f_row9_col1\" class=\"data row9 col1\" >$\\frac{a_{8} + x \\sin{\\left(\\sin{\\left(\\cos{\\left(x \\right)} \\right)} \\right)} + 3 x}{x}$</td>\n      <td id=\"T_f970f_row9_col2\" class=\"data row9 col2\" >NO</td>\n    </tr>\n  </tbody>\n</table>\n"
     },
     "execution_count": 21,
     "metadata": {},
     "output_type": "execute_result"
    }
   ],
   "source": [
    "pandas.set_option('max_colwidth', None)\n",
    "pandas.DataFrame(results, index=rows, columns=columns).style.set_properties(**{'text-align': 'center'})"
   ],
   "metadata": {
    "collapsed": false,
    "pycharm": {
     "name": "#%%\n"
    }
   }
  },
  {
   "cell_type": "markdown",
   "source": [
    "## Second Order Differential Equations (ODE 2)\n",
    "\n",
    "Procedure:\n",
    "1. Start from a trivariate function $F(x,c_1,c_2)$, that will be the equation solution, that can be solved in $c_2$.\n",
    "2. Solve $F(x,c_1,c_2)$ in $c_2$.\n",
    "3. Differentiate in $x$.\n",
    "4. Solve in $c_1$.\n",
    "5. Differentiate in $x$.\n",
    "6. Simplify the final form."
   ],
   "metadata": {
    "collapsed": false
   }
  },
  {
   "cell_type": "markdown",
   "source": [
    "### Build Environment - Reload Model"
   ],
   "metadata": {
    "collapsed": false
   }
  },
  {
   "cell_type": "markdown",
   "source": [
    "Get Trained Model:"
   ],
   "metadata": {
    "collapsed": false
   }
  },
  {
   "cell_type": "code",
   "execution_count": 22,
   "outputs": [],
   "source": [
    "model_path = '../models/differential-equations/ode2.pth'\n",
    "assert os.path.isfile(model_path)\n",
    "\n",
    "params = AttrDict({\n",
    "\n",
    "    # Environment Parameters\n",
    "    'env_name': 'char_sp',\n",
    "    'int_base': 10,\n",
    "    'balanced': False,\n",
    "    'positive': True,\n",
    "    'precision': 10,\n",
    "    'n_variables': 1,\n",
    "    'n_coefficients': 0,\n",
    "    'leaf_probs': '0.75,0,0.25,0',\n",
    "    'max_len': 512,\n",
    "    'max_int': 5,\n",
    "    'max_ops': 15,\n",
    "    'max_ops_G': 15,\n",
    "    'clean_prefix_expr': True,\n",
    "    'rewrite_functions': '',\n",
    "    'tasks': 'ode1',\n",
    "    'operators': 'add:10,sub:3,mul:10,div:5,sqrt:4,pow2:4,pow3:2,pow4:1,pow5:1,ln:4,exp:4,sin:4,cos:4,tan:4,asin:1,'\n",
    "                 'acos:1,atan:1,sinh:1,cosh:1,tanh:1,asinh:1,acosh:1,atanh:1',\n",
    "\n",
    "    # Model Parameters\n",
    "    'cpu': False,\n",
    "    'emb_dim': 1024,\n",
    "    'n_enc_layers': 6,\n",
    "    'n_dec_layers': 6,\n",
    "    'n_heads': 8,\n",
    "    'dropout': 0,\n",
    "    'attention_dropout': 0,\n",
    "    'sinusoidal_embeddings': False,\n",
    "    'share_inout_emb': True,\n",
    "    'reload_model': model_path,\n",
    "\n",
    "})\n",
    "\n",
    "env = build_env(params)\n",
    "c1 = sympy.Symbol('c1')\n",
    "c2 = sympy.Symbol('c2')\n",
    "\n",
    "modules = build_modules(env, params)\n",
    "encoder = modules['encoder']\n",
    "decoder = modules['decoder']"
   ],
   "metadata": {
    "collapsed": false,
    "pycharm": {
     "name": "#%%\n"
    }
   }
  },
  {
   "cell_type": "markdown",
   "source": [
    "### Declare Differential Equation Input and its Solution\n",
    "\n",
    "Declare a bivariate function $F(x,c_1, c_2)$, that will be the equation solution, that can be solved in $c_2$:"
   ],
   "metadata": {
    "collapsed": false
   }
  },
  {
   "cell_type": "code",
   "execution_count": 23,
   "outputs": [],
   "source": [
    "# y_infix = 'c1*exp(x)+c2*exp(-x)'\n",
    "# y_infix = '(2*x)+((x*(c2+(c1*x)))+(exp(3)))'\n",
    "# y_infix = '(x**9)*((c1+(c2*((cos(cosh(asin(tanh(x)))))**(-1))))**(-1))'\n",
    "y_infix = 'c2*(5+((c1+(x+(x**3)))*(exp((-1)*((tan(x))**2)))))'"
   ],
   "metadata": {
    "collapsed": false,
    "pycharm": {
     "name": "#%%\n"
    }
   }
  },
  {
   "cell_type": "markdown",
   "source": [
    "Converts **y_infix** to a type that can be used inside SymPy:"
   ],
   "metadata": {
    "collapsed": false
   }
  },
  {
   "cell_type": "code",
   "execution_count": 24,
   "outputs": [
    {
     "data": {
      "text/plain": "c2*((c1 + x**3 + x)*exp(-tan(x)**2) + 5)",
      "text/latex": "$\\displaystyle c_{2} \\left(\\left(c_{1} + x^{3} + x\\right) e^{- \\tan^{2}{\\left(x \\right)}} + 5\\right)$"
     },
     "execution_count": 24,
     "metadata": {},
     "output_type": "execute_result"
    }
   ],
   "source": [
    "y = sympy.sympify(y_infix, locals=env.local_dict)\n",
    "y"
   ],
   "metadata": {
    "collapsed": false,
    "pycharm": {
     "name": "#%%\n"
    }
   }
  },
  {
   "cell_type": "markdown",
   "source": [
    "Solve $y$ in $c_2$:"
   ],
   "metadata": {
    "collapsed": false
   }
  },
  {
   "cell_type": "code",
   "execution_count": 25,
   "outputs": [
    {
     "data": {
      "text/plain": "-f(x)*exp(tan(x)**2)/(-c1 - x**3 - x - 5*exp(tan(x)**2))",
      "text/latex": "$\\displaystyle - \\frac{f{\\left(x \\right)} e^{\\tan^{2}{\\left(x \\right)}}}{- c_{1} - x^{3} - x - 5 e^{\\tan^{2}{\\left(x \\right)}}}$"
     },
     "execution_count": 25,
     "metadata": {},
     "output_type": "execute_result"
    }
   ],
   "source": [
    "solve_c2 = sympy.solve(f(x) - y, c2, check=False, simplify=False)\n",
    "c2 = solve_c2[0]\n",
    "c2"
   ],
   "metadata": {
    "collapsed": false,
    "pycharm": {
     "name": "#%%\n"
    }
   }
  },
  {
   "cell_type": "markdown",
   "source": [
    "Differentiate $c_2$ in $x$:"
   ],
   "metadata": {
    "collapsed": false
   }
  },
  {
   "cell_type": "code",
   "execution_count": 26,
   "outputs": [
    {
     "data": {
      "text/plain": "-(2*tan(x)**2 + 2)*f(x)*exp(tan(x)**2)*tan(x)/(-c1 - x**3 - x - 5*exp(tan(x)**2)) - (3*x**2 + 5*(2*tan(x)**2 + 2)*exp(tan(x)**2)*tan(x) + 1)*f(x)*exp(tan(x)**2)/(-c1 - x**3 - x - 5*exp(tan(x)**2))**2 - exp(tan(x)**2)*Derivative(f(x), x)/(-c1 - x**3 - x - 5*exp(tan(x)**2))",
      "text/latex": "$\\displaystyle - \\frac{\\left(2 \\tan^{2}{\\left(x \\right)} + 2\\right) f{\\left(x \\right)} e^{\\tan^{2}{\\left(x \\right)}} \\tan{\\left(x \\right)}}{- c_{1} - x^{3} - x - 5 e^{\\tan^{2}{\\left(x \\right)}}} - \\frac{\\left(3 x^{2} + 5 \\left(2 \\tan^{2}{\\left(x \\right)} + 2\\right) e^{\\tan^{2}{\\left(x \\right)}} \\tan{\\left(x \\right)} + 1\\right) f{\\left(x \\right)} e^{\\tan^{2}{\\left(x \\right)}}}{\\left(- c_{1} - x^{3} - x - 5 e^{\\tan^{2}{\\left(x \\right)}}\\right)^{2}} - \\frac{e^{\\tan^{2}{\\left(x \\right)}} \\frac{d}{d x} f{\\left(x \\right)}}{- c_{1} - x^{3} - x - 5 e^{\\tan^{2}{\\left(x \\right)}}}$"
     },
     "execution_count": 26,
     "metadata": {},
     "output_type": "execute_result"
    }
   ],
   "source": [
    "eq = c2.diff(x)\n",
    "eq = simplify(eq, seconds=1)\n",
    "eq"
   ],
   "metadata": {
    "collapsed": false,
    "pycharm": {
     "name": "#%%\n"
    }
   }
  },
  {
   "cell_type": "markdown",
   "source": [
    "Solve $eq$ in $c_1$:"
   ],
   "metadata": {
    "collapsed": false
   }
  },
  {
   "cell_type": "code",
   "execution_count": 27,
   "outputs": [
    {
     "data": {
      "text/plain": "(-2*x**3*f(x)*tan(x)**3 - 2*x**3*f(x)*tan(x) - x**3*Derivative(f(x), x) + 3*x**2*f(x) - 2*x*f(x)*tan(x)**3 - 2*x*f(x)*tan(x) - x*Derivative(f(x), x) + f(x) - 5*exp(tan(x)**2)*Derivative(f(x), x))/(2*f(x)*tan(x)**3 + 2*f(x)*tan(x) + Derivative(f(x), x))",
      "text/latex": "$\\displaystyle \\frac{- 2 x^{3} f{\\left(x \\right)} \\tan^{3}{\\left(x \\right)} - 2 x^{3} f{\\left(x \\right)} \\tan{\\left(x \\right)} - x^{3} \\frac{d}{d x} f{\\left(x \\right)} + 3 x^{2} f{\\left(x \\right)} - 2 x f{\\left(x \\right)} \\tan^{3}{\\left(x \\right)} - 2 x f{\\left(x \\right)} \\tan{\\left(x \\right)} - x \\frac{d}{d x} f{\\left(x \\right)} + f{\\left(x \\right)} - 5 e^{\\tan^{2}{\\left(x \\right)}} \\frac{d}{d x} f{\\left(x \\right)}}{2 f{\\left(x \\right)} \\tan^{3}{\\left(x \\right)} + 2 f{\\left(x \\right)} \\tan{\\left(x \\right)} + \\frac{d}{d x} f{\\left(x \\right)}}$"
     },
     "execution_count": 27,
     "metadata": {},
     "output_type": "execute_result"
    }
   ],
   "source": [
    "solve_c1 = sympy.solve(eq, c1, check=False, simplify=False)\n",
    "c1 = solve_c1[0]\n",
    "c1"
   ],
   "metadata": {
    "collapsed": false,
    "pycharm": {
     "name": "#%%\n"
    }
   }
  },
  {
   "cell_type": "markdown",
   "source": [
    "Differentiate $a_8$ in $x$:"
   ],
   "metadata": {
    "collapsed": false
   }
  },
  {
   "cell_type": "code",
   "execution_count": 28,
   "outputs": [
    {
     "data": {
      "text/plain": "(-2*x**3*(tan(x)**2 + 1)*f(x) - 2*x**3*(3*tan(x)**2 + 3)*f(x)*tan(x)**2 - 2*x**3*tan(x)**3*Derivative(f(x), x) - 2*x**3*tan(x)*Derivative(f(x), x) - x**3*Derivative(f(x), (x, 2)) - 6*x**2*f(x)*tan(x)**3 - 6*x**2*f(x)*tan(x) - 2*x*(tan(x)**2 + 1)*f(x) - 2*x*(3*tan(x)**2 + 3)*f(x)*tan(x)**2 + 6*x*f(x) - 2*x*tan(x)**3*Derivative(f(x), x) - 2*x*tan(x)*Derivative(f(x), x) - x*Derivative(f(x), (x, 2)) - 5*(2*tan(x)**2 + 2)*exp(tan(x)**2)*tan(x)*Derivative(f(x), x) - 2*f(x)*tan(x)**3 - 2*f(x)*tan(x) - 5*exp(tan(x)**2)*Derivative(f(x), (x, 2)))/(2*f(x)*tan(x)**3 + 2*f(x)*tan(x) + Derivative(f(x), x)) + (-2*(tan(x)**2 + 1)*f(x) - 2*(3*tan(x)**2 + 3)*f(x)*tan(x)**2 - 2*tan(x)**3*Derivative(f(x), x) - 2*tan(x)*Derivative(f(x), x) - Derivative(f(x), (x, 2)))*(-2*x**3*f(x)*tan(x)**3 - 2*x**3*f(x)*tan(x) - x**3*Derivative(f(x), x) + 3*x**2*f(x) - 2*x*f(x)*tan(x)**3 - 2*x*f(x)*tan(x) - x*Derivative(f(x), x) + f(x) - 5*exp(tan(x)**2)*Derivative(f(x), x))/(2*f(x)*tan(x)**3 + 2*f(x)*tan(x) + Derivative(f(x), x))**2",
      "text/latex": "$\\displaystyle \\frac{- 2 x^{3} \\left(\\tan^{2}{\\left(x \\right)} + 1\\right) f{\\left(x \\right)} - 2 x^{3} \\left(3 \\tan^{2}{\\left(x \\right)} + 3\\right) f{\\left(x \\right)} \\tan^{2}{\\left(x \\right)} - 2 x^{3} \\tan^{3}{\\left(x \\right)} \\frac{d}{d x} f{\\left(x \\right)} - 2 x^{3} \\tan{\\left(x \\right)} \\frac{d}{d x} f{\\left(x \\right)} - x^{3} \\frac{d^{2}}{d x^{2}} f{\\left(x \\right)} - 6 x^{2} f{\\left(x \\right)} \\tan^{3}{\\left(x \\right)} - 6 x^{2} f{\\left(x \\right)} \\tan{\\left(x \\right)} - 2 x \\left(\\tan^{2}{\\left(x \\right)} + 1\\right) f{\\left(x \\right)} - 2 x \\left(3 \\tan^{2}{\\left(x \\right)} + 3\\right) f{\\left(x \\right)} \\tan^{2}{\\left(x \\right)} + 6 x f{\\left(x \\right)} - 2 x \\tan^{3}{\\left(x \\right)} \\frac{d}{d x} f{\\left(x \\right)} - 2 x \\tan{\\left(x \\right)} \\frac{d}{d x} f{\\left(x \\right)} - x \\frac{d^{2}}{d x^{2}} f{\\left(x \\right)} - 5 \\left(2 \\tan^{2}{\\left(x \\right)} + 2\\right) e^{\\tan^{2}{\\left(x \\right)}} \\tan{\\left(x \\right)} \\frac{d}{d x} f{\\left(x \\right)} - 2 f{\\left(x \\right)} \\tan^{3}{\\left(x \\right)} - 2 f{\\left(x \\right)} \\tan{\\left(x \\right)} - 5 e^{\\tan^{2}{\\left(x \\right)}} \\frac{d^{2}}{d x^{2}} f{\\left(x \\right)}}{2 f{\\left(x \\right)} \\tan^{3}{\\left(x \\right)} + 2 f{\\left(x \\right)} \\tan{\\left(x \\right)} + \\frac{d}{d x} f{\\left(x \\right)}} + \\frac{\\left(- 2 \\left(\\tan^{2}{\\left(x \\right)} + 1\\right) f{\\left(x \\right)} - 2 \\left(3 \\tan^{2}{\\left(x \\right)} + 3\\right) f{\\left(x \\right)} \\tan^{2}{\\left(x \\right)} - 2 \\tan^{3}{\\left(x \\right)} \\frac{d}{d x} f{\\left(x \\right)} - 2 \\tan{\\left(x \\right)} \\frac{d}{d x} f{\\left(x \\right)} - \\frac{d^{2}}{d x^{2}} f{\\left(x \\right)}\\right) \\left(- 2 x^{3} f{\\left(x \\right)} \\tan^{3}{\\left(x \\right)} - 2 x^{3} f{\\left(x \\right)} \\tan{\\left(x \\right)} - x^{3} \\frac{d}{d x} f{\\left(x \\right)} + 3 x^{2} f{\\left(x \\right)} - 2 x f{\\left(x \\right)} \\tan^{3}{\\left(x \\right)} - 2 x f{\\left(x \\right)} \\tan{\\left(x \\right)} - x \\frac{d}{d x} f{\\left(x \\right)} + f{\\left(x \\right)} - 5 e^{\\tan^{2}{\\left(x \\right)}} \\frac{d}{d x} f{\\left(x \\right)}\\right)}{\\left(2 f{\\left(x \\right)} \\tan^{3}{\\left(x \\right)} + 2 f{\\left(x \\right)} \\tan{\\left(x \\right)} + \\frac{d}{d x} f{\\left(x \\right)}\\right)^{2}}$"
     },
     "execution_count": 28,
     "metadata": {},
     "output_type": "execute_result"
    }
   ],
   "source": [
    "eq = c1.diff(x)\n",
    "eq = simplify(eq, seconds=1)\n",
    "eq"
   ],
   "metadata": {
    "collapsed": false,
    "pycharm": {
     "name": "#%%\n"
    }
   }
  },
  {
   "cell_type": "markdown",
   "source": [
    "Simplify previous differential equation:"
   ],
   "metadata": {
    "collapsed": false
   }
  },
  {
   "cell_type": "code",
   "execution_count": 29,
   "outputs": [
    {
     "data": {
      "text/plain": "12*x**2*f(x)*tan(x)**6 + 42*x**2*f(x)*tan(x)**4 + 36*x**2*f(x)*tan(x)**2 + 6*x**2*f(x) + 12*x**2*tan(x)**3*Derivative(f(x), x) + 12*x**2*tan(x)*Derivative(f(x), x) + 3*x**2*Derivative(f(x), (x, 2)) - 12*x*f(x)*tan(x)**3 - 12*x*f(x)*tan(x) - 6*x*Derivative(f(x), x) + 4*f(x)*tan(x)**6 + 14*f(x)*tan(x)**4 + 12*f(x)*tan(x)**2 + 2*f(x) + 20*exp(tan(x)**2)*tan(x)**6*Derivative(f(x), x) + 10*exp(tan(x)**2)*tan(x)**4*Derivative(f(x), x) + 10*exp(tan(x)**2)*tan(x)**3*Derivative(f(x), (x, 2)) - 20*exp(tan(x)**2)*tan(x)**2*Derivative(f(x), x) + 10*exp(tan(x)**2)*tan(x)*Derivative(f(x), (x, 2)) - 10*exp(tan(x)**2)*Derivative(f(x), x) + 4*tan(x)**3*Derivative(f(x), x) + 4*tan(x)*Derivative(f(x), x) + Derivative(f(x), (x, 2))",
      "text/latex": "$\\displaystyle 12 x^{2} f{\\left(x \\right)} \\tan^{6}{\\left(x \\right)} + 42 x^{2} f{\\left(x \\right)} \\tan^{4}{\\left(x \\right)} + 36 x^{2} f{\\left(x \\right)} \\tan^{2}{\\left(x \\right)} + 6 x^{2} f{\\left(x \\right)} + 12 x^{2} \\tan^{3}{\\left(x \\right)} \\frac{d}{d x} f{\\left(x \\right)} + 12 x^{2} \\tan{\\left(x \\right)} \\frac{d}{d x} f{\\left(x \\right)} + 3 x^{2} \\frac{d^{2}}{d x^{2}} f{\\left(x \\right)} - 12 x f{\\left(x \\right)} \\tan^{3}{\\left(x \\right)} - 12 x f{\\left(x \\right)} \\tan{\\left(x \\right)} - 6 x \\frac{d}{d x} f{\\left(x \\right)} + 4 f{\\left(x \\right)} \\tan^{6}{\\left(x \\right)} + 14 f{\\left(x \\right)} \\tan^{4}{\\left(x \\right)} + 12 f{\\left(x \\right)} \\tan^{2}{\\left(x \\right)} + 2 f{\\left(x \\right)} + 20 e^{\\tan^{2}{\\left(x \\right)}} \\tan^{6}{\\left(x \\right)} \\frac{d}{d x} f{\\left(x \\right)} + 10 e^{\\tan^{2}{\\left(x \\right)}} \\tan^{4}{\\left(x \\right)} \\frac{d}{d x} f{\\left(x \\right)} + 10 e^{\\tan^{2}{\\left(x \\right)}} \\tan^{3}{\\left(x \\right)} \\frac{d^{2}}{d x^{2}} f{\\left(x \\right)} - 20 e^{\\tan^{2}{\\left(x \\right)}} \\tan^{2}{\\left(x \\right)} \\frac{d}{d x} f{\\left(x \\right)} + 10 e^{\\tan^{2}{\\left(x \\right)}} \\tan{\\left(x \\right)} \\frac{d^{2}}{d x^{2}} f{\\left(x \\right)} - 10 e^{\\tan^{2}{\\left(x \\right)}} \\frac{d}{d x} f{\\left(x \\right)} + 4 \\tan^{3}{\\left(x \\right)} \\frac{d}{d x} f{\\left(x \\right)} + 4 \\tan{\\left(x \\right)} \\frac{d}{d x} f{\\left(x \\right)} + \\frac{d^{2}}{d x^{2}} f{\\left(x \\right)}$"
     },
     "execution_count": 29,
     "metadata": {},
     "output_type": "execute_result"
    }
   ],
   "source": [
    "eq = simplify_equa_diff(eq, required=f(x).diff(x, 2))\n",
    "eq"
   ],
   "metadata": {
    "collapsed": false,
    "pycharm": {
     "name": "#%%\n"
    }
   }
  },
  {
   "cell_type": "markdown",
   "source": [
    "### Compute Prefix Representations"
   ],
   "metadata": {
    "collapsed": false
   }
  },
  {
   "cell_type": "code",
   "execution_count": 30,
   "outputs": [
    {
     "name": "stdout",
     "output_type": "stream",
     "text": [
      "Solution y with Prefix Notation:\n",
      "['mul', 'c2', 'add', 'INT+', '5', 'mul', 'add', 'c1', 'add', 'x', 'pow', 'x', 'INT+', '3', 'exp', 'mul', 'INT-', '1', 'pow', 'tan', 'x', 'INT+', '2']\n",
      "\n",
      "Differential Equation with Prefix Notation:\n",
      "['add', 'mul', 'INT+', '2', 'f', 'x', 'add', 'mul', 'INT-', '1', '0', 'mul', 'derivative', 'f', 'x', 'x', 'exp', 'pow', 'tan', 'x', 'INT+', '2', 'add', 'mul', 'INT-', '6', 'mul', 'x', 'derivative', 'f', 'x', 'x', 'add', 'mul', 'INT+', '3', 'mul', 'pow', 'x', 'INT+', '2', 'derivative', 'derivative', 'f', 'x', 'x', 'x', 'add', 'mul', 'INT+', '4', 'mul', 'pow', 'tan', 'x', 'INT+', '3', 'derivative', 'f', 'x', 'x', 'add', 'mul', 'INT+', '4', 'mul', 'pow', 'tan', 'x', 'INT+', '6', 'f', 'x', 'add', 'mul', 'INT+', '4', 'mul', 'derivative', 'f', 'x', 'x', 'tan', 'x', 'add', 'mul', 'INT+', '6', 'mul', 'pow', 'x', 'INT+', '2', 'f', 'x', 'add', 'mul', 'INT+', '1', '2', 'mul', 'pow', 'tan', 'x', 'INT+', '2', 'f', 'x', 'add', 'mul', 'INT+', '1', '4', 'mul', 'pow', 'tan', 'x', 'INT+', '4', 'f', 'x', 'add', 'mul', 'INT-', '2', '0', 'mul', 'pow', 'tan', 'x', 'INT+', '2', 'mul', 'derivative', 'f', 'x', 'x', 'exp', 'pow', 'tan', 'x', 'INT+', '2', 'add', 'mul', 'INT-', '1', '2', 'mul', 'x', 'mul', 'pow', 'tan', 'x', 'INT+', '3', 'f', 'x', 'add', 'mul', 'INT-', '1', '2', 'mul', 'x', 'mul', 'f', 'x', 'tan', 'x', 'add', 'mul', 'INT+', '1', '0', 'mul', 'pow', 'tan', 'x', 'INT+', '3', 'mul', 'derivative', 'derivative', 'f', 'x', 'x', 'x', 'exp', 'pow', 'tan', 'x', 'INT+', '2', 'add', 'mul', 'INT+', '1', '0', 'mul', 'pow', 'tan', 'x', 'INT+', '4', 'mul', 'derivative', 'f', 'x', 'x', 'exp', 'pow', 'tan', 'x', 'INT+', '2', 'add', 'mul', 'INT+', '1', '0', 'mul', 'derivative', 'derivative', 'f', 'x', 'x', 'x', 'mul', 'exp', 'pow', 'tan', 'x', 'INT+', '2', 'tan', 'x', 'add', 'mul', 'INT+', '1', '2', 'mul', 'pow', 'x', 'INT+', '2', 'mul', 'pow', 'tan', 'x', 'INT+', '3', 'derivative', 'f', 'x', 'x', 'add', 'mul', 'INT+', '1', '2', 'mul', 'pow', 'x', 'INT+', '2', 'mul', 'pow', 'tan', 'x', 'INT+', '6', 'f', 'x', 'add', 'mul', 'INT+', '1', '2', 'mul', 'pow', 'x', 'INT+', '2', 'mul', 'derivative', 'f', 'x', 'x', 'tan', 'x', 'add', 'mul', 'INT+', '2', '0', 'mul', 'pow', 'tan', 'x', 'INT+', '6', 'mul', 'derivative', 'f', 'x', 'x', 'exp', 'pow', 'tan', 'x', 'INT+', '2', 'add', 'mul', 'INT+', '3', '6', 'mul', 'pow', 'x', 'INT+', '2', 'mul', 'pow', 'tan', 'x', 'INT+', '2', 'f', 'x', 'add', 'mul', 'INT+', '4', '2', 'mul', 'pow', 'x', 'INT+', '2', 'mul', 'pow', 'tan', 'x', 'INT+', '4', 'f', 'x', 'derivative', 'derivative', 'f', 'x', 'x', 'x']\n"
     ]
    }
   ],
   "source": [
    "y_prefix = env.sympy_to_prefix(y)\n",
    "eq_prefix = env.sympy_to_prefix(eq)\n",
    "print(f\"Solution y with Prefix Notation:\\n{y_prefix}\\n\")\n",
    "print(f\"Differential Equation with Prefix Notation:\\n{eq_prefix}\")"
   ],
   "metadata": {
    "collapsed": false,
    "pycharm": {
     "name": "#%%\n"
    }
   }
  },
  {
   "cell_type": "markdown",
   "source": [
    "### Encode Input"
   ],
   "metadata": {
    "collapsed": false
   }
  },
  {
   "cell_type": "code",
   "execution_count": 31,
   "outputs": [
    {
     "name": "stdout",
     "output_type": "stream",
     "text": [
      "Differential Equation Clean Prefix Notation:\n",
      "['add', 'mul', 'INT+', '2', 'Y', 'add', 'mul', 'INT-', '1', '0', 'mul', \"Y'\", 'exp', 'pow', 'tan', 'x', 'INT+', '2', 'add', 'mul', 'INT-', '6', 'mul', 'x', \"Y'\", 'add', 'mul', 'INT+', '3', 'mul', 'pow', 'x', 'INT+', '2', \"Y''\", 'add', 'mul', 'INT+', '4', 'mul', 'pow', 'tan', 'x', 'INT+', '3', \"Y'\", 'add', 'mul', 'INT+', '4', 'mul', 'pow', 'tan', 'x', 'INT+', '6', 'Y', 'add', 'mul', 'INT+', '4', 'mul', \"Y'\", 'tan', 'x', 'add', 'mul', 'INT+', '6', 'mul', 'pow', 'x', 'INT+', '2', 'Y', 'add', 'mul', 'INT+', '1', '2', 'mul', 'pow', 'tan', 'x', 'INT+', '2', 'Y', 'add', 'mul', 'INT+', '1', '4', 'mul', 'pow', 'tan', 'x', 'INT+', '4', 'Y', 'add', 'mul', 'INT-', '2', '0', 'mul', 'pow', 'tan', 'x', 'INT+', '2', 'mul', \"Y'\", 'exp', 'pow', 'tan', 'x', 'INT+', '2', 'add', 'mul', 'INT-', '1', '2', 'mul', 'x', 'mul', 'pow', 'tan', 'x', 'INT+', '3', 'Y', 'add', 'mul', 'INT-', '1', '2', 'mul', 'x', 'mul', 'Y', 'tan', 'x', 'add', 'mul', 'INT+', '1', '0', 'mul', 'pow', 'tan', 'x', 'INT+', '3', 'mul', \"Y''\", 'exp', 'pow', 'tan', 'x', 'INT+', '2', 'add', 'mul', 'INT+', '1', '0', 'mul', 'pow', 'tan', 'x', 'INT+', '4', 'mul', \"Y'\", 'exp', 'pow', 'tan', 'x', 'INT+', '2', 'add', 'mul', 'INT+', '1', '0', 'mul', \"Y''\", 'mul', 'exp', 'pow', 'tan', 'x', 'INT+', '2', 'tan', 'x', 'add', 'mul', 'INT+', '1', '2', 'mul', 'pow', 'x', 'INT+', '2', 'mul', 'pow', 'tan', 'x', 'INT+', '3', \"Y'\", 'add', 'mul', 'INT+', '1', '2', 'mul', 'pow', 'x', 'INT+', '2', 'mul', 'pow', 'tan', 'x', 'INT+', '6', 'Y', 'add', 'mul', 'INT+', '1', '2', 'mul', 'pow', 'x', 'INT+', '2', 'mul', \"Y'\", 'tan', 'x', 'add', 'mul', 'INT+', '2', '0', 'mul', 'pow', 'tan', 'x', 'INT+', '6', 'mul', \"Y'\", 'exp', 'pow', 'tan', 'x', 'INT+', '2', 'add', 'mul', 'INT+', '3', '6', 'mul', 'pow', 'x', 'INT+', '2', 'mul', 'pow', 'tan', 'x', 'INT+', '2', 'Y', 'add', 'mul', 'INT+', '4', '2', 'mul', 'pow', 'x', 'INT+', '2', 'mul', 'pow', 'tan', 'x', 'INT+', '4', 'Y', \"Y''\"]\n"
     ]
    }
   ],
   "source": [
    "x1_prefix = env.clean_prefix(eq_prefix)\n",
    "print(f\"Differential Equation Clean Prefix Notation:\\n{x1_prefix}\")"
   ],
   "metadata": {
    "collapsed": false,
    "pycharm": {
     "name": "#%%\n"
    }
   }
  },
  {
   "cell_type": "code",
   "execution_count": 32,
   "outputs": [],
   "source": [
    "x1 = torch.LongTensor(\n",
    "    [env.eos_index] +\n",
    "    [env.word2id[w] for w in x1_prefix] +\n",
    "    [env.eos_index]\n",
    ").view(-1, 1)"
   ],
   "metadata": {
    "collapsed": false,
    "pycharm": {
     "name": "#%%\n"
    }
   }
  },
  {
   "cell_type": "code",
   "execution_count": 33,
   "outputs": [],
   "source": [
    "len1 = torch.LongTensor([len(x1)])\n",
    "x1, len1 = to_cuda(x1, len1)"
   ],
   "metadata": {
    "collapsed": false,
    "pycharm": {
     "name": "#%%\n"
    }
   }
  },
  {
   "cell_type": "code",
   "execution_count": 34,
   "outputs": [
    {
     "data": {
      "text/plain": "tensor([[[ 0.0388, -0.0235, -0.0223,  ...,  0.0413,  0.0049, -0.0236],\n         [ 0.0129, -0.0387,  0.0985,  ...,  0.0268, -0.0467,  0.0007],\n         [ 0.1357,  0.0585,  0.0384,  ...,  0.2114, -0.0529, -0.2556],\n         ...,\n         [-0.3126,  0.1535,  0.3317,  ..., -0.2210, -0.1265,  0.1046],\n         [ 0.1923,  0.2024, -0.0650,  ..., -0.1848, -0.1778, -0.1041],\n         [ 0.0417, -0.0210, -0.0255,  ...,  0.0377,  0.0020, -0.0247]]],\n       device='cuda:0')"
     },
     "execution_count": 34,
     "metadata": {},
     "output_type": "execute_result"
    }
   ],
   "source": [
    "with torch.no_grad():\n",
    "    encoded = encoder('fwd', x=x1, lengths=len1, causal=False).transpose(0, 1)\n",
    "\n",
    "encoded"
   ],
   "metadata": {
    "collapsed": false,
    "pycharm": {
     "name": "#%%\n"
    }
   }
  },
  {
   "cell_type": "markdown",
   "source": [
    "### Decode with Beam Search"
   ],
   "metadata": {
    "collapsed": false
   }
  },
  {
   "cell_type": "code",
   "execution_count": 35,
   "outputs": [],
   "source": [
    "beam_size = 10\n",
    "\n",
    "with torch.no_grad():\n",
    "    _, _, beam = decoder.generate_beam(encoded, len1, beam_size=beam_size, length_penalty=1.0, early_stopping=1,\n",
    "                                       max_len=params.max_len)\n",
    "assert len(beam) == 1\n",
    "hypotheses = beam[0].hyp\n",
    "assert len(hypotheses) == beam_size"
   ],
   "metadata": {
    "collapsed": false,
    "pycharm": {
     "name": "#%%\n"
    }
   }
  },
  {
   "cell_type": "markdown",
   "source": [
    "### View the Results"
   ],
   "metadata": {
    "collapsed": false
   }
  },
  {
   "cell_type": "markdown",
   "source": [
    "Input differential equation $eq$:"
   ],
   "metadata": {
    "collapsed": false
   }
  },
  {
   "cell_type": "code",
   "execution_count": 36,
   "outputs": [
    {
     "data": {
      "text/plain": "12*x**2*f(x)*tan(x)**6 + 42*x**2*f(x)*tan(x)**4 + 36*x**2*f(x)*tan(x)**2 + 6*x**2*f(x) + 12*x**2*tan(x)**3*Derivative(f(x), x) + 12*x**2*tan(x)*Derivative(f(x), x) + 3*x**2*Derivative(f(x), (x, 2)) - 12*x*f(x)*tan(x)**3 - 12*x*f(x)*tan(x) - 6*x*Derivative(f(x), x) + 4*f(x)*tan(x)**6 + 14*f(x)*tan(x)**4 + 12*f(x)*tan(x)**2 + 2*f(x) + 20*exp(tan(x)**2)*tan(x)**6*Derivative(f(x), x) + 10*exp(tan(x)**2)*tan(x)**4*Derivative(f(x), x) + 10*exp(tan(x)**2)*tan(x)**3*Derivative(f(x), (x, 2)) - 20*exp(tan(x)**2)*tan(x)**2*Derivative(f(x), x) + 10*exp(tan(x)**2)*tan(x)*Derivative(f(x), (x, 2)) - 10*exp(tan(x)**2)*Derivative(f(x), x) + 4*tan(x)**3*Derivative(f(x), x) + 4*tan(x)*Derivative(f(x), x) + Derivative(f(x), (x, 2))",
      "text/latex": "$\\displaystyle 12 x^{2} f{\\left(x \\right)} \\tan^{6}{\\left(x \\right)} + 42 x^{2} f{\\left(x \\right)} \\tan^{4}{\\left(x \\right)} + 36 x^{2} f{\\left(x \\right)} \\tan^{2}{\\left(x \\right)} + 6 x^{2} f{\\left(x \\right)} + 12 x^{2} \\tan^{3}{\\left(x \\right)} \\frac{d}{d x} f{\\left(x \\right)} + 12 x^{2} \\tan{\\left(x \\right)} \\frac{d}{d x} f{\\left(x \\right)} + 3 x^{2} \\frac{d^{2}}{d x^{2}} f{\\left(x \\right)} - 12 x f{\\left(x \\right)} \\tan^{3}{\\left(x \\right)} - 12 x f{\\left(x \\right)} \\tan{\\left(x \\right)} - 6 x \\frac{d}{d x} f{\\left(x \\right)} + 4 f{\\left(x \\right)} \\tan^{6}{\\left(x \\right)} + 14 f{\\left(x \\right)} \\tan^{4}{\\left(x \\right)} + 12 f{\\left(x \\right)} \\tan^{2}{\\left(x \\right)} + 2 f{\\left(x \\right)} + 20 e^{\\tan^{2}{\\left(x \\right)}} \\tan^{6}{\\left(x \\right)} \\frac{d}{d x} f{\\left(x \\right)} + 10 e^{\\tan^{2}{\\left(x \\right)}} \\tan^{4}{\\left(x \\right)} \\frac{d}{d x} f{\\left(x \\right)} + 10 e^{\\tan^{2}{\\left(x \\right)}} \\tan^{3}{\\left(x \\right)} \\frac{d^{2}}{d x^{2}} f{\\left(x \\right)} - 20 e^{\\tan^{2}{\\left(x \\right)}} \\tan^{2}{\\left(x \\right)} \\frac{d}{d x} f{\\left(x \\right)} + 10 e^{\\tan^{2}{\\left(x \\right)}} \\tan{\\left(x \\right)} \\frac{d^{2}}{d x^{2}} f{\\left(x \\right)} - 10 e^{\\tan^{2}{\\left(x \\right)}} \\frac{d}{d x} f{\\left(x \\right)} + 4 \\tan^{3}{\\left(x \\right)} \\frac{d}{d x} f{\\left(x \\right)} + 4 \\tan{\\left(x \\right)} \\frac{d}{d x} f{\\left(x \\right)} + \\frac{d^{2}}{d x^{2}} f{\\left(x \\right)}$"
     },
     "execution_count": 36,
     "metadata": {},
     "output_type": "execute_result"
    }
   ],
   "source": [
    "eq"
   ],
   "metadata": {
    "collapsed": false,
    "pycharm": {
     "name": "#%%\n"
    }
   }
  },
  {
   "cell_type": "markdown",
   "source": [
    "Solution $y$ to find:"
   ],
   "metadata": {
    "collapsed": false
   }
  },
  {
   "cell_type": "code",
   "execution_count": 37,
   "outputs": [
    {
     "data": {
      "text/plain": "c2*((c1 + x**3 + x)*exp(-tan(x)**2) + 5)",
      "text/latex": "$\\displaystyle c_{2} \\left(\\left(c_{1} + x^{3} + x\\right) e^{- \\tan^{2}{\\left(x \\right)}} + 5\\right)$"
     },
     "execution_count": 37,
     "metadata": {},
     "output_type": "execute_result"
    }
   ],
   "source": [
    "y"
   ],
   "metadata": {
    "collapsed": false,
    "pycharm": {
     "name": "#%%\n"
    }
   }
  },
  {
   "cell_type": "markdown",
   "source": [
    "Extract scores and solution hypotheses:"
   ],
   "metadata": {
    "collapsed": false
   }
  },
  {
   "cell_type": "code",
   "execution_count": 38,
   "outputs": [],
   "source": [
    "rows = numpy.arange(1, beam_size + 1)\n",
    "columns = ['Score', 'Solution Hypothesis', 'Valid']\n",
    "results = []\n",
    "\n",
    "for score, sequence in sorted(hypotheses, reverse=True):\n",
    "    # Parse decoded hypothesis\n",
    "    ids = sequence[1:].tolist()  # Decoded token IDs\n",
    "    hyp_prefix = [env.id2word[word_id] for word_id in ids]  # Convert to prefix notation\n",
    "\n",
    "    try:\n",
    "        hyp_infix = env.prefix_to_infix(hyp_prefix)  # Convert to infix notation\n",
    "        hyp_sympy = env.infix_to_sympy(hyp_infix)  # Convert to SymPy\n",
    "\n",
    "        # Check if the hypothesis is a valid solution, replacing 'hyp_sympy' with 'f(x)' in the equation\n",
    "        validation = \"YES\" if simplify(eq.subs(f(x), hyp_sympy).doit(), seconds=1) == 0 else \"NO\"\n",
    "\n",
    "        # Transform hypothesis to a valid latex expression\n",
    "        hyp_expr = \"$\" + sympy.latex(hyp_sympy)  + \"$\"\n",
    "\n",
    "    except InvalidPrefixExpression:\n",
    "        validation = \"INVALID PREFIX EXPRESSION\"\n",
    "        hyp_expr = hyp_prefix\n",
    "\n",
    "    # Prepare results\n",
    "    results.append([score, hyp_expr, validation])"
   ],
   "metadata": {
    "collapsed": false,
    "pycharm": {
     "name": "#%%\n"
    }
   }
  },
  {
   "cell_type": "markdown",
   "source": [
    "Print results:"
   ],
   "metadata": {
    "collapsed": false
   }
  },
  {
   "cell_type": "code",
   "execution_count": 39,
   "outputs": [
    {
     "data": {
      "text/plain": "<pandas.io.formats.style.Styler at 0x7f3928d606d0>",
      "text/html": "<style type=\"text/css\">\n#T_4a2b7_row0_col0, #T_4a2b7_row0_col1, #T_4a2b7_row0_col2, #T_4a2b7_row1_col0, #T_4a2b7_row1_col1, #T_4a2b7_row1_col2, #T_4a2b7_row2_col0, #T_4a2b7_row2_col1, #T_4a2b7_row2_col2, #T_4a2b7_row3_col0, #T_4a2b7_row3_col1, #T_4a2b7_row3_col2, #T_4a2b7_row4_col0, #T_4a2b7_row4_col1, #T_4a2b7_row4_col2, #T_4a2b7_row5_col0, #T_4a2b7_row5_col1, #T_4a2b7_row5_col2, #T_4a2b7_row6_col0, #T_4a2b7_row6_col1, #T_4a2b7_row6_col2, #T_4a2b7_row7_col0, #T_4a2b7_row7_col1, #T_4a2b7_row7_col2, #T_4a2b7_row8_col0, #T_4a2b7_row8_col1, #T_4a2b7_row8_col2, #T_4a2b7_row9_col0, #T_4a2b7_row9_col1, #T_4a2b7_row9_col2 {\n  text-align: center;\n}\n</style>\n<table id=\"T_4a2b7_\">\n  <thead>\n    <tr>\n      <th class=\"blank level0\" >&nbsp;</th>\n      <th class=\"col_heading level0 col0\" >Score</th>\n      <th class=\"col_heading level0 col1\" >Solution Hypothesis</th>\n      <th class=\"col_heading level0 col2\" >Valid</th>\n    </tr>\n  </thead>\n  <tbody>\n    <tr>\n      <th id=\"T_4a2b7_level0_row0\" class=\"row_heading level0 row0\" >1</th>\n      <td id=\"T_4a2b7_row0_col0\" class=\"data row0 col0\" >-0.021180</td>\n      <td id=\"T_4a2b7_row0_col1\" class=\"data row0 col1\" >$a_{9} \\left(\\left(a_{8} + x^{3} + x\\right) e^{- \\tan^{2}{\\left(x \\right)}} + 5\\right)$</td>\n      <td id=\"T_4a2b7_row0_col2\" class=\"data row0 col2\" >YES</td>\n    </tr>\n    <tr>\n      <th id=\"T_4a2b7_level0_row1\" class=\"row_heading level0 row1\" >2</th>\n      <td id=\"T_4a2b7_row1_col0\" class=\"data row1 col0\" >-0.051553</td>\n      <td id=\"T_4a2b7_row1_col1\" class=\"data row1 col1\" >$a_{8} \\left(\\left(a_{9} + x^{3} + x\\right) e^{- \\tan^{2}{\\left(x \\right)}} + 5\\right)$</td>\n      <td id=\"T_4a2b7_row1_col2\" class=\"data row1 col2\" >YES</td>\n    </tr>\n    <tr>\n      <th id=\"T_4a2b7_level0_row2\" class=\"row_heading level0 row2\" >3</th>\n      <td id=\"T_4a2b7_row2_col0\" class=\"data row2 col0\" >-0.144064</td>\n      <td id=\"T_4a2b7_row2_col1\" class=\"data row2 col1\" >$a_{9} \\left(\\left(a_{8} - x^{3} - x\\right) e^{- \\tan^{2}{\\left(x \\right)}} - 5\\right)$</td>\n      <td id=\"T_4a2b7_row2_col2\" class=\"data row2 col2\" >YES</td>\n    </tr>\n    <tr>\n      <th id=\"T_4a2b7_level0_row3\" class=\"row_heading level0 row3\" >4</th>\n      <td id=\"T_4a2b7_row3_col0\" class=\"data row3 col0\" >-0.167011</td>\n      <td id=\"T_4a2b7_row3_col1\" class=\"data row3 col1\" >$a_{8} \\left(\\left(a_{9} - x^{3} - x\\right) e^{- \\tan^{2}{\\left(x \\right)}} - 5\\right)$</td>\n      <td id=\"T_4a2b7_row3_col2\" class=\"data row3 col2\" >YES</td>\n    </tr>\n    <tr>\n      <th id=\"T_4a2b7_level0_row4\" class=\"row_heading level0 row4\" >5</th>\n      <td id=\"T_4a2b7_row4_col0\" class=\"data row4 col0\" >-0.173669</td>\n      <td id=\"T_4a2b7_row4_col1\" class=\"data row4 col1\" >$a_{9} \\left(\\left(a_{8} + x \\left(x^{2} + 1\\right)\\right) e^{- \\tan^{2}{\\left(x \\right)}} + 5\\right)$</td>\n      <td id=\"T_4a2b7_row4_col2\" class=\"data row4 col2\" >YES</td>\n    </tr>\n    <tr>\n      <th id=\"T_4a2b7_level0_row5\" class=\"row_heading level0 row5\" >6</th>\n      <td id=\"T_4a2b7_row5_col0\" class=\"data row5 col0\" >-0.182952</td>\n      <td id=\"T_4a2b7_row5_col1\" class=\"data row5 col1\" >$a_{9} \\left(x \\left(\\frac{a_{8}}{x} + x^{2} + 1\\right) e^{- \\tan^{2}{\\left(x \\right)}} + 5\\right)$</td>\n      <td id=\"T_4a2b7_row5_col2\" class=\"data row5 col2\" >YES</td>\n    </tr>\n    <tr>\n      <th id=\"T_4a2b7_level0_row6\" class=\"row_heading level0 row6\" >7</th>\n      <td id=\"T_4a2b7_row6_col0\" class=\"data row6 col0\" >-0.184083</td>\n      <td id=\"T_4a2b7_row6_col1\" class=\"data row6 col1\" >$a_{9} \\left(\\frac{\\left(a_{8} + x^{3} + x\\right) e^{- \\tan^{2}{\\left(x \\right)}}}{5} + 1\\right)$</td>\n      <td id=\"T_4a2b7_row6_col2\" class=\"data row6 col2\" >YES</td>\n    </tr>\n    <tr>\n      <th id=\"T_4a2b7_level0_row7\" class=\"row_heading level0 row7\" >8</th>\n      <td id=\"T_4a2b7_row7_col0\" class=\"data row7 col0\" >-0.205459</td>\n      <td id=\"T_4a2b7_row7_col1\" class=\"data row7 col1\" >$a_{9} \\left(3 \\left(a_{8} + x^{3} + x\\right) e^{- \\tan^{2}{\\left(x \\right)}} + 15\\right)$</td>\n      <td id=\"T_4a2b7_row7_col2\" class=\"data row7 col2\" >YES</td>\n    </tr>\n    <tr>\n      <th id=\"T_4a2b7_level0_row8\" class=\"row_heading level0 row8\" >9</th>\n      <td id=\"T_4a2b7_row8_col0\" class=\"data row8 col0\" >-0.206048</td>\n      <td id=\"T_4a2b7_row8_col1\" class=\"data row8 col1\" >$a_{8} \\left(\\left(a_{9} + x \\left(x^{2} + 1\\right)\\right) e^{- \\tan^{2}{\\left(x \\right)}} + 5\\right)$</td>\n      <td id=\"T_4a2b7_row8_col2\" class=\"data row8 col2\" >YES</td>\n    </tr>\n    <tr>\n      <th id=\"T_4a2b7_level0_row9\" class=\"row_heading level0 row9\" >10</th>\n      <td id=\"T_4a2b7_row9_col0\" class=\"data row9 col0\" >-0.588345</td>\n      <td id=\"T_4a2b7_row9_col1\" class=\"data row9 col1\" >$a_{9} \\left(- a_{8} + x^{3} + x + 5\\right)$</td>\n      <td id=\"T_4a2b7_row9_col2\" class=\"data row9 col2\" >NO</td>\n    </tr>\n  </tbody>\n</table>\n"
     },
     "execution_count": 39,
     "metadata": {},
     "output_type": "execute_result"
    }
   ],
   "source": [
    "pandas.set_option('max_colwidth', None)\n",
    "pandas.DataFrame(results, index=rows, columns=columns).style.set_properties(**{'text-align': 'center'})"
   ],
   "metadata": {
    "collapsed": false,
    "pycharm": {
     "name": "#%%\n"
    }
   }
  }
 ],
 "metadata": {
  "kernelspec": {
   "display_name": "Python 3",
   "language": "python",
   "name": "python3"
  },
  "language_info": {
   "codemirror_mode": {
    "name": "ipython",
    "version": 2
   },
   "file_extension": ".py",
   "mimetype": "text/x-python",
   "name": "python",
   "nbconvert_exporter": "python",
   "pygments_lexer": "ipython2",
   "version": "2.7.6"
  }
 },
 "nbformat": 4,
 "nbformat_minor": 0
}