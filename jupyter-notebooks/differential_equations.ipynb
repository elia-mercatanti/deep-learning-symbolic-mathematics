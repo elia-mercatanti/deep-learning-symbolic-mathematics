{
 "cells": [
  {
   "cell_type": "markdown",
   "source": [
    "# Demo of the Model on Differential Equations"
   ],
   "metadata": {
    "collapsed": false
   }
  },
  {
   "cell_type": "code",
   "execution_count": 1,
   "outputs": [],
   "source": [
    "import os\n",
    "\n",
    "import numpy\n",
    "import pandas\n",
    "import sympy\n",
    "import torch\n",
    "\n",
    "from src.envs import build_env\n",
    "from src.envs.sympy_utils import simplify_equa_diff\n",
    "from src.envs.char_sp import InvalidPrefixExpression\n",
    "from src.envs.sympy_utils import simplify\n",
    "from src.model import build_modules\n",
    "from src.utils import AttrDict\n",
    "from src.utils import to_cuda"
   ],
   "metadata": {
    "collapsed": false,
    "pycharm": {
     "name": "#%%\n"
    }
   }
  },
  {
   "cell_type": "markdown",
   "source": [
    "Use the Model to Find the solutions to first and second order differential equations."
   ],
   "metadata": {
    "collapsed": false
   }
  },
  {
   "cell_type": "markdown",
   "source": [
    "## First Order Differential Equations (ODE 1)\n",
    "\n",
    "Procedure:\n",
    "1. Start from a bivariate function $F(x,c)$, that will be the equation solution, that can be solved in $c$.\n",
    "2. Solve $F(x,c)$ in $c$.\n",
    "3. Differentiate in $x$.\n",
    "4. Simplify the final form."
   ],
   "metadata": {
    "collapsed": false
   }
  },
  {
   "cell_type": "markdown",
   "source": [
    "### Build Environment - Reload Model"
   ],
   "metadata": {
    "collapsed": false
   }
  },
  {
   "cell_type": "markdown",
   "source": [
    "Get Trained Model:"
   ],
   "metadata": {
    "collapsed": false
   }
  },
  {
   "cell_type": "code",
   "execution_count": 2,
   "outputs": [],
   "source": [
    "model_path = '../models/differential-equations/ode1.pth'\n",
    "assert os.path.isfile(model_path)"
   ],
   "metadata": {
    "collapsed": false,
    "pycharm": {
     "name": "#%%\n"
    }
   }
  },
  {
   "cell_type": "markdown",
   "source": [
    "Set the Parameters for Environment and for the Model:\n",
    "\n",
    " Environment:\n",
    "- **env_name**: SymPy character environment.\n",
    "- **int_base**: integer representation base.\n",
    "- **balanced**: balanced representation (base > 0).\n",
    "- **positive**: do not sample negative numbers.\n",
    "- **precision**: float numbers precision.\n",
    "- **n_variables**: number of variables in expressions (between 1 and 4).\n",
    "- **n_coefficients**: number of coefficients in expressions (between 0 and 10).\n",
    "- **leaf_probs**: leaf probabilities of being a variable, a coefficient, an integer, or a constant.\n",
    "- **max_len**: maximum sequences length.\n",
    "- **max_int**: maximum integer value.\n",
    "- **max_ops**: maximum number of operators.\n",
    "- **max_ops_G**: maximum number of operators for G in IBP.\n",
    "- **clean_prefix_expr**: clean prefix expressions (f x -> Y, derivative f x x -> Y').\n",
    "- **rewrite_functions**: rewrite expressions with a given SymPy function.\n",
    "- **tasks**: tasks to run (prim_fwd, prim_bwd, prim_ibp, ode1, ode2).\n",
    "- **operators**: considered operators (add, sub, mul, div), followed by (unnormalized) sampling probabilities.\n",
    "\n",
    "\n",
    " Model:\n",
    "- **cpu**: run on CPU.\n",
    "- **emb_dim**: embedding layer size.\n",
    "- **n_enc_layers**: number of transformer layers in the encoder.\n",
    "- **n_dec_layers**: number of transformer layers in the decoder.\n",
    "- **n_heads**: number of transformer heads.\n",
    "- **dropout**: dropout.\n",
    "- **attention_dropout**: dropout in the attention layer.\n",
    "- **sinusoidal_embeddings**: use sinusoidal embeddings.\n",
    "- **share_inout_emb**: share input and output embeddings.\n",
    "- **reload_model**: reload a pretrained model."
   ],
   "metadata": {
    "collapsed": false
   }
  },
  {
   "cell_type": "code",
   "execution_count": 3,
   "outputs": [],
   "source": [
    "params = AttrDict({\n",
    "\n",
    "    # Environment Parameters\n",
    "    'env_name': 'char_sp',\n",
    "    'int_base': 10,\n",
    "    'balanced': False,\n",
    "    'positive': True,\n",
    "    'precision': 10,\n",
    "    'n_variables': 1,\n",
    "    'n_coefficients': 0,\n",
    "    'leaf_probs': '0.75,0,0.25,0',\n",
    "    'max_len': 512,\n",
    "    'max_int': 5,\n",
    "    'max_ops': 15,\n",
    "    'max_ops_G': 15,\n",
    "    'clean_prefix_expr': True,\n",
    "    'rewrite_functions': '',\n",
    "    'tasks': 'ode1',\n",
    "    'operators': 'add:10,sub:3,mul:10,div:5,sqrt:4,pow2:4,pow3:2,pow4:1,pow5:1,ln:4,exp:4,sin:4,cos:4,tan:4,asin:1,'\n",
    "                 'acos:1,atan:1,sinh:1,cosh:1,tanh:1,asinh:1,acosh:1,atanh:1',\n",
    "\n",
    "    # Model Parameters\n",
    "    'cpu': False,\n",
    "    'emb_dim': 1024,\n",
    "    'n_enc_layers': 6,\n",
    "    'n_dec_layers': 6,\n",
    "    'n_heads': 8,\n",
    "    'dropout': 0,\n",
    "    'attention_dropout': 0,\n",
    "    'sinusoidal_embeddings': False,\n",
    "    'share_inout_emb': True,\n",
    "    'reload_model': model_path,\n",
    "\n",
    "})"
   ],
   "metadata": {
    "collapsed": false,
    "pycharm": {
     "name": "#%%\n"
    }
   }
  },
  {
   "cell_type": "markdown",
   "source": [
    "Set the Environment with SymPy:"
   ],
   "metadata": {
    "collapsed": false
   }
  },
  {
   "cell_type": "code",
   "execution_count": 4,
   "outputs": [],
   "source": [
    "env = build_env(params)\n",
    "x = env.local_dict['x']\n",
    "f = env.local_dict['f']\n",
    "a8 = env.local_dict['a8']"
   ],
   "metadata": {
    "collapsed": false,
    "pycharm": {
     "name": "#%%\n"
    }
   }
  },
  {
   "cell_type": "markdown",
   "source": [
    "The primary components of the model are one encoder and one decoder network. The encoder turns each item into a\n",
    "corresponding hidden vector containing the item and its context. The decoder reverses the process, turning the vector\n",
    "into an output item, using the previous output as the input context.\n",
    "\n",
    "Build Model Modules:"
   ],
   "metadata": {
    "collapsed": false
   }
  },
  {
   "cell_type": "code",
   "execution_count": 5,
   "outputs": [],
   "source": [
    "modules = build_modules(env, params)\n",
    "encoder = modules['encoder']\n",
    "decoder = modules['decoder']"
   ],
   "metadata": {
    "collapsed": false,
    "pycharm": {
     "name": "#%%\n"
    }
   }
  },
  {
   "cell_type": "markdown",
   "source": [
    "### Declare Differential Equation Input and its Solution\n",
    "\n",
    "Declare a bivariate function $F(x,c=a_8)$, that will be the equation solution, that can be solved in $a_8$:"
   ],
   "metadata": {
    "collapsed": false
   }
  },
  {
   "cell_type": "code",
   "execution_count": 6,
   "outputs": [],
   "source": [
    "# y_infix = 'x*log(a8/x)'\n",
    "# y_infix = '((4+(2*x))**(-1))*((x+(sin(x)))*((x**4)+(a8*(x**(-1)))))'\n",
    "y_infix = 'exp(a8+((sqrt(cos(x)))+(acos(2*x))))'\n",
    "#y_infix = '3+((a8*(x**(-1)))+(sin(tanh(cos(x)))))'"
   ],
   "metadata": {
    "collapsed": false,
    "pycharm": {
     "name": "#%%\n"
    }
   }
  },
  {
   "cell_type": "markdown",
   "source": [
    "Converts **y_infix** to a type that can be used inside SymPy:"
   ],
   "metadata": {
    "collapsed": false
   }
  },
  {
   "cell_type": "code",
   "execution_count": 7,
   "outputs": [
    {
     "data": {
      "text/plain": "exp(a8 + sqrt(cos(x)) + acos(2*x))",
      "text/latex": "$\\displaystyle e^{a_{8} + \\sqrt{\\cos{\\left(x \\right)}} + \\operatorname{acos}{\\left(2 x \\right)}}$"
     },
     "execution_count": 7,
     "metadata": {},
     "output_type": "execute_result"
    }
   ],
   "source": [
    "y = sympy.sympify(y_infix, locals=env.local_dict)\n",
    "y"
   ],
   "metadata": {
    "collapsed": false,
    "pycharm": {
     "name": "#%%\n"
    }
   }
  },
  {
   "cell_type": "markdown",
   "source": [
    "Solve $y$ in $a8$:"
   ],
   "metadata": {
    "collapsed": false
   }
  },
  {
   "cell_type": "code",
   "execution_count": 8,
   "outputs": [
    {
     "data": {
      "text/plain": "log(f(x)*exp(-sqrt(cos(x)))*exp(-acos(2*x)))",
      "text/latex": "$\\displaystyle \\log{\\left(f{\\left(x \\right)} e^{- \\sqrt{\\cos{\\left(x \\right)}}} e^{- \\operatorname{acos}{\\left(2 x \\right)}} \\right)}$"
     },
     "execution_count": 8,
     "metadata": {},
     "output_type": "execute_result"
    }
   ],
   "source": [
    "solve_a8 = sympy.solve(f(x) - y, a8, check=False, simplify=False)\n",
    "a8 = solve_a8[0]\n",
    "a8"
   ],
   "metadata": {
    "collapsed": false,
    "pycharm": {
     "name": "#%%\n"
    }
   }
  },
  {
   "cell_type": "markdown",
   "source": [
    "Differentiate $a_8$ in $x$:"
   ],
   "metadata": {
    "collapsed": false
   }
  },
  {
   "cell_type": "code",
   "execution_count": 9,
   "outputs": [
    {
     "data": {
      "text/plain": "sin(x)/(2*sqrt(cos(x))) + Derivative(f(x), x)/f(x) + 2/sqrt(1 - 4*x**2)",
      "text/latex": "$\\displaystyle \\frac{\\sin{\\left(x \\right)}}{2 \\sqrt{\\cos{\\left(x \\right)}}} + \\frac{\\frac{d}{d x} f{\\left(x \\right)}}{f{\\left(x \\right)}} + \\frac{2}{\\sqrt{1 - 4 x^{2}}}$"
     },
     "execution_count": 9,
     "metadata": {},
     "output_type": "execute_result"
    }
   ],
   "source": [
    "eq = a8.diff(x)\n",
    "eq = simplify(eq, seconds=1)\n",
    "eq"
   ],
   "metadata": {
    "collapsed": false,
    "pycharm": {
     "name": "#%%\n"
    }
   }
  },
  {
   "cell_type": "markdown",
   "source": [
    "Simplify previous differential equation:"
   ],
   "metadata": {
    "collapsed": false
   }
  },
  {
   "cell_type": "code",
   "execution_count": 10,
   "outputs": [
    {
     "data": {
      "text/plain": "sqrt(1 - 4*x**2)*f(x)*sin(x) + 2*sqrt(1 - 4*x**2)*sqrt(cos(x))*Derivative(f(x), x) + 4*f(x)*sqrt(cos(x))",
      "text/latex": "$\\displaystyle \\sqrt{1 - 4 x^{2}} f{\\left(x \\right)} \\sin{\\left(x \\right)} + 2 \\sqrt{1 - 4 x^{2}} \\sqrt{\\cos{\\left(x \\right)}} \\frac{d}{d x} f{\\left(x \\right)} + 4 f{\\left(x \\right)} \\sqrt{\\cos{\\left(x \\right)}}$"
     },
     "execution_count": 10,
     "metadata": {},
     "output_type": "execute_result"
    }
   ],
   "source": [
    "eq = simplify_equa_diff(eq, required=f(x).diff(x))\n",
    "eq"
   ],
   "metadata": {
    "collapsed": false,
    "pycharm": {
     "name": "#%%\n"
    }
   }
  },
  {
   "cell_type": "markdown",
   "source": [
    "### Compute Prefix Representations"
   ],
   "metadata": {
    "collapsed": false
   }
  },
  {
   "cell_type": "code",
   "execution_count": 11,
   "outputs": [
    {
     "name": "stdout",
     "output_type": "stream",
     "text": [
      "y with Prefix Notation:\n",
      "['exp', 'add', 'a8', 'add', 'sqrt', 'cos', 'x', 'acos', 'mul', 'INT+', '2', 'x']\n",
      "\n",
      "eq with Prefix Notation:\n",
      "['add', 'mul', 'INT+', '4', 'mul', 'sqrt', 'cos', 'x', 'f', 'x', 'add', 'mul', 'sqrt', 'add', 'INT+', '1', 'mul', 'INT-', '4', 'pow', 'x', 'INT+', '2', 'mul', 'f', 'x', 'sin', 'x', 'mul', 'INT+', '2', 'mul', 'sqrt', 'add', 'INT+', '1', 'mul', 'INT-', '4', 'pow', 'x', 'INT+', '2', 'mul', 'sqrt', 'cos', 'x', 'derivative', 'f', 'x', 'x']\n"
     ]
    }
   ],
   "source": [
    "y_prefix = env.sympy_to_prefix(y)\n",
    "eq_prefix = env.sympy_to_prefix(eq)\n",
    "print(f\"y with Prefix Notation:\\n{y_prefix}\\n\")\n",
    "print(f\"eq with Prefix Notation:\\n{eq_prefix}\")"
   ],
   "metadata": {
    "collapsed": false,
    "pycharm": {
     "name": "#%%\n"
    }
   }
  },
  {
   "cell_type": "markdown",
   "source": [
    "### Encode Input\n",
    "\n",
    "Clean prefix expressions before they are converted to PyTorch data.\n",
    "\n",
    "Examples:\n",
    "- f x  -> Y\n",
    "- derivative f x x  -> Y'"
   ],
   "metadata": {
    "collapsed": false
   }
  },
  {
   "cell_type": "code",
   "execution_count": 12,
   "outputs": [
    {
     "name": "stdout",
     "output_type": "stream",
     "text": [
      "f Clean Prefix Notation:\n",
      "['add', 'mul', 'INT+', '4', 'mul', 'sqrt', 'cos', 'x', 'Y', 'add', 'mul', 'sqrt', 'add', 'INT+', '1', 'mul', 'INT-', '4', 'pow', 'x', 'INT+', '2', 'mul', 'Y', 'sin', 'x', 'mul', 'INT+', '2', 'mul', 'sqrt', 'add', 'INT+', '1', 'mul', 'INT-', '4', 'pow', 'x', 'INT+', '2', 'mul', 'sqrt', 'cos', 'x', \"Y'\"]\n"
     ]
    }
   ],
   "source": [
    "x1_prefix = env.clean_prefix(eq_prefix)\n",
    "print(f\"f Clean Prefix Notation:\\n{x1_prefix}\")"
   ],
   "metadata": {
    "collapsed": false,
    "pycharm": {
     "name": "#%%\n"
    }
   }
  },
  {
   "cell_type": "markdown",
   "source": [
    "Create a PyTorch LongTensor for storing $eq$ as a sequence of indexes based on prefix clean notation \"words\" (Word to\n",
    "index dictionary is defined inside the Model environment):"
   ],
   "metadata": {
    "collapsed": false
   }
  },
  {
   "cell_type": "code",
   "execution_count": 13,
   "outputs": [
    {
     "name": "stdout",
     "output_type": "stream",
     "text": [
      "{'<s>': 0, '</s>': 1, '<pad>': 2, '(': 3, ')': 4, '<SPECIAL_5>': 5, '<SPECIAL_6>': 6, '<SPECIAL_7>': 7, '<SPECIAL_8>': 8, '<SPECIAL_9>': 9, 'pi': 10, 'E': 11, 'x': 12, 'y': 13, 'z': 14, 't': 15, 'a0': 16, 'a1': 17, 'a2': 18, 'a3': 19, 'a4': 20, 'a5': 21, 'a6': 22, 'a7': 23, 'a8': 24, 'a9': 25, 'abs': 26, 'acos': 27, 'acosh': 28, 'acot': 29, 'acoth': 30, 'acsc': 31, 'acsch': 32, 'add': 33, 'asec': 34, 'asech': 35, 'asin': 36, 'asinh': 37, 'atan': 38, 'atanh': 39, 'cos': 40, 'cosh': 41, 'cot': 42, 'coth': 43, 'csc': 44, 'csch': 45, 'derivative': 46, 'div': 47, 'exp': 48, 'f': 49, 'g': 50, 'h': 51, 'inv': 52, 'ln': 53, 'mul': 54, 'pow': 55, 'pow2': 56, 'pow3': 57, 'pow4': 58, 'pow5': 59, 'rac': 60, 'sec': 61, 'sech': 62, 'sign': 63, 'sin': 64, 'sinh': 65, 'sqrt': 66, 'sub': 67, 'tan': 68, 'tanh': 69, 'I': 70, 'INT+': 71, 'INT-': 72, 'INT': 73, 'FLOAT': 74, '-': 75, '.': 76, '10^': 77, 'Y': 78, \"Y'\": 79, \"Y''\": 80, '0': 81, '1': 82, '2': 83, '3': 84, '4': 85, '5': 86, '6': 87, '7': 88, '8': 89, '9': 90}\n"
     ]
    }
   ],
   "source": [
    "x1 = torch.LongTensor(\n",
    "    [env.eos_index] +\n",
    "    [env.word2id[w] for w in x1_prefix] +\n",
    "    [env.eos_index]\n",
    ").view(-1, 1)\n",
    "x1.transpose(0, 1)\n",
    "print(env.word2id)"
   ],
   "metadata": {
    "collapsed": false,
    "pycharm": {
     "name": "#%%\n"
    }
   }
  },
  {
   "cell_type": "markdown",
   "source": [
    "Move PyTorch tensors to CUDA (GPU):"
   ],
   "metadata": {
    "collapsed": false
   }
  },
  {
   "cell_type": "code",
   "execution_count": 14,
   "outputs": [],
   "source": [
    "len1 = torch.LongTensor([len(x1)])\n",
    "x1, len1 = to_cuda(x1, len1)"
   ],
   "metadata": {
    "collapsed": false,
    "pycharm": {
     "name": "#%%\n"
    }
   }
  },
  {
   "cell_type": "markdown",
   "source": [
    "Encodes the “meaning” of the input sequence into a single vector, with the Encoder of the Model:"
   ],
   "metadata": {
    "collapsed": false
   }
  },
  {
   "cell_type": "code",
   "execution_count": 15,
   "outputs": [
    {
     "data": {
      "text/plain": "tensor([[[ 0.0072, -0.0884,  0.0259,  ...,  0.0011, -0.0184, -0.0673],\n         [ 0.0148, -0.0460, -0.0399,  ...,  0.0005,  0.0184,  0.0081],\n         [-0.0214, -0.0219,  0.0367,  ...,  0.0256,  0.0066,  0.0188],\n         ...,\n         [ 0.1294, -0.0265,  0.0656,  ...,  0.1684,  0.0164,  0.0663],\n         [-0.0210, -0.0229,  0.0597,  ...,  0.0015,  0.0819,  0.0254],\n         [ 0.0121, -0.0171,  0.0205,  ..., -0.0246,  0.0144, -0.0151]]],\n       device='cuda:0')"
     },
     "execution_count": 15,
     "metadata": {},
     "output_type": "execute_result"
    }
   ],
   "source": [
    "with torch.no_grad():\n",
    "    encoded = encoder('fwd', x=x1, lengths=len1, causal=False).transpose(0, 1)\n",
    "\n",
    "encoded"
   ],
   "metadata": {
    "collapsed": false,
    "pycharm": {
     "name": "#%%\n"
    }
   }
  },
  {
   "cell_type": "markdown",
   "source": [
    "### Decode with Beam Search\n",
    "\n",
    "Instead of picking a single output, a sequence (in this case an hypothesis of differential equation solution), multiple\n",
    "highly probable choices are retained.\n",
    "\n",
    "Declare beam size:"
   ],
   "metadata": {
    "collapsed": false
   }
  },
  {
   "cell_type": "code",
   "execution_count": 16,
   "outputs": [],
   "source": [
    "beam_size = 10"
   ],
   "metadata": {
    "collapsed": false,
    "pycharm": {
     "name": "#%%\n"
    }
   }
  },
  {
   "cell_type": "markdown",
   "source": [
    "Takes the encoder output vector and outputs multiple sequences of \"words\", that in this case should represent the\n",
    "solution $y$ for the differential equation $eq$, using the Decoder of the model."
   ],
   "metadata": {
    "collapsed": false
   }
  },
  {
   "cell_type": "code",
   "execution_count": 17,
   "outputs": [],
   "source": [
    "with torch.no_grad():\n",
    "    _, _, beam = decoder.generate_beam(encoded, len1, beam_size=beam_size, length_penalty=1.0, early_stopping=1,\n",
    "                                       max_len=params.max_len)\n",
    "assert len(beam) == 1\n",
    "hypotheses = beam[0].hyp\n",
    "assert len(hypotheses) == beam_size"
   ],
   "metadata": {
    "collapsed": false,
    "pycharm": {
     "name": "#%%\n"
    }
   }
  },
  {
   "cell_type": "markdown",
   "source": [
    "### View the Results"
   ],
   "metadata": {
    "collapsed": false
   }
  },
  {
   "cell_type": "markdown",
   "source": [
    "Input differential equation $eq$:"
   ],
   "metadata": {
    "collapsed": false
   }
  },
  {
   "cell_type": "code",
   "execution_count": 18,
   "outputs": [
    {
     "data": {
      "text/plain": "sqrt(1 - 4*x**2)*f(x)*sin(x) + 2*sqrt(1 - 4*x**2)*sqrt(cos(x))*Derivative(f(x), x) + 4*f(x)*sqrt(cos(x))",
      "text/latex": "$\\displaystyle \\sqrt{1 - 4 x^{2}} f{\\left(x \\right)} \\sin{\\left(x \\right)} + 2 \\sqrt{1 - 4 x^{2}} \\sqrt{\\cos{\\left(x \\right)}} \\frac{d}{d x} f{\\left(x \\right)} + 4 f{\\left(x \\right)} \\sqrt{\\cos{\\left(x \\right)}}$"
     },
     "execution_count": 18,
     "metadata": {},
     "output_type": "execute_result"
    }
   ],
   "source": [
    "eq"
   ],
   "metadata": {
    "collapsed": false,
    "pycharm": {
     "name": "#%%\n"
    }
   }
  },
  {
   "cell_type": "markdown",
   "source": [
    "Solution $y$ to find:"
   ],
   "metadata": {
    "collapsed": false
   }
  },
  {
   "cell_type": "code",
   "execution_count": 19,
   "outputs": [
    {
     "data": {
      "text/plain": "exp(a8 + sqrt(cos(x)) + acos(2*x))",
      "text/latex": "$\\displaystyle e^{a_{8} + \\sqrt{\\cos{\\left(x \\right)}} + \\operatorname{acos}{\\left(2 x \\right)}}$"
     },
     "execution_count": 19,
     "metadata": {},
     "output_type": "execute_result"
    }
   ],
   "source": [
    "y"
   ],
   "metadata": {
    "collapsed": false,
    "pycharm": {
     "name": "#%%\n"
    }
   }
  },
  {
   "cell_type": "markdown",
   "source": [
    "Extract scores and solution hypotheses:"
   ],
   "metadata": {
    "collapsed": false
   }
  },
  {
   "cell_type": "code",
   "execution_count": 20,
   "outputs": [],
   "source": [
    "rows = numpy.arange(1, beam_size + 1)\n",
    "columns = ['Score', 'Solution Hypothesis', 'Valid']\n",
    "results = []\n",
    "\n",
    "for score, sequence in sorted(hypotheses, reverse=True):\n",
    "    # Parse decoded hypothesis\n",
    "    ids = sequence[1:].tolist()  # Decoded token IDs\n",
    "    hyp_prefix = [env.id2word[word_id] for word_id in ids]  # Convert to prefix notation\n",
    "\n",
    "    try:\n",
    "        hyp_infix = env.prefix_to_infix(hyp_prefix)  # Convert to infix notation\n",
    "        hyp_sympy = env.infix_to_sympy(hyp_infix)  # Convert to SymPy\n",
    "\n",
    "        # Check if the hypothesis is a valid solution, replacing 'hyp_sympy' with 'f(x)' in the equation\n",
    "        validation = \"YES\" if simplify(eq.subs(f(x), hyp_sympy).doit(), seconds=1) == 0 else \"NO\"\n",
    "\n",
    "        # Transform hypothesis to a valid latex expression\n",
    "        hyp_expr = \"$\" + sympy.latex(env.infix_to_sympy(hyp_infix))  + \"$\"\n",
    "\n",
    "    except InvalidPrefixExpression:\n",
    "        validation = \"INVALID PREFIX EXPRESSION\"\n",
    "        hyp_expr = hyp_prefix\n",
    "\n",
    "    # Prepare results\n",
    "    results.append([score, hyp_expr, validation])"
   ],
   "metadata": {
    "collapsed": false,
    "pycharm": {
     "name": "#%%\n"
    }
   }
  },
  {
   "cell_type": "markdown",
   "source": [
    "Print results:"
   ],
   "metadata": {
    "collapsed": false
   }
  },
  {
   "cell_type": "code",
   "execution_count": 21,
   "outputs": [
    {
     "data": {
      "text/plain": "<pandas.io.formats.style.Styler at 0x7f4f22d44b50>",
      "text/html": "<style type=\"text/css\">\n#T_40952_row0_col0, #T_40952_row0_col1, #T_40952_row0_col2, #T_40952_row1_col0, #T_40952_row1_col1, #T_40952_row1_col2, #T_40952_row2_col0, #T_40952_row2_col1, #T_40952_row2_col2, #T_40952_row3_col0, #T_40952_row3_col1, #T_40952_row3_col2, #T_40952_row4_col0, #T_40952_row4_col1, #T_40952_row4_col2, #T_40952_row5_col0, #T_40952_row5_col1, #T_40952_row5_col2, #T_40952_row6_col0, #T_40952_row6_col1, #T_40952_row6_col2, #T_40952_row7_col0, #T_40952_row7_col1, #T_40952_row7_col2, #T_40952_row8_col0, #T_40952_row8_col1, #T_40952_row8_col2, #T_40952_row9_col0, #T_40952_row9_col1, #T_40952_row9_col2 {\n  text-align: center;\n}\n</style>\n<table id=\"T_40952_\">\n  <thead>\n    <tr>\n      <th class=\"blank level0\" >&nbsp;</th>\n      <th class=\"col_heading level0 col0\" >Score</th>\n      <th class=\"col_heading level0 col1\" >Solution Hypothesis</th>\n      <th class=\"col_heading level0 col2\" >Valid</th>\n    </tr>\n  </thead>\n  <tbody>\n    <tr>\n      <th id=\"T_40952_level0_row0\" class=\"row_heading level0 row0\" >1</th>\n      <td id=\"T_40952_row0_col0\" class=\"data row0 col0\" >-0.040032</td>\n      <td id=\"T_40952_row0_col1\" class=\"data row0 col1\" >$e^{a_{8} + \\sqrt{\\cos{\\left(x \\right)}} + \\operatorname{acos}{\\left(2 x \\right)}}$</td>\n      <td id=\"T_40952_row0_col2\" class=\"data row0 col2\" >YES</td>\n    </tr>\n    <tr>\n      <th id=\"T_40952_level0_row1\" class=\"row_heading level0 row1\" >2</th>\n      <td id=\"T_40952_row1_col0\" class=\"data row1 col0\" >-0.128009</td>\n      <td id=\"T_40952_row1_col1\" class=\"data row1 col1\" >$e^{a_{8} + \\sqrt{\\cos{\\left(x \\right)}} - \\operatorname{asin}{\\left(2 x \\right)}}$</td>\n      <td id=\"T_40952_row1_col2\" class=\"data row1 col2\" >YES</td>\n    </tr>\n    <tr>\n      <th id=\"T_40952_level0_row2\" class=\"row_heading level0 row2\" >3</th>\n      <td id=\"T_40952_row2_col0\" class=\"data row2 col0\" >-0.144557</td>\n      <td id=\"T_40952_row2_col1\" class=\"data row2 col1\" >$a_{8} e^{\\sqrt{\\cos{\\left(x \\right)}} + \\operatorname{acos}{\\left(2 x \\right)}}$</td>\n      <td id=\"T_40952_row2_col2\" class=\"data row2 col2\" >YES</td>\n    </tr>\n    <tr>\n      <th id=\"T_40952_level0_row3\" class=\"row_heading level0 row3\" >4</th>\n      <td id=\"T_40952_row3_col0\" class=\"data row3 col0\" >-0.209824</td>\n      <td id=\"T_40952_row3_col1\" class=\"data row3 col1\" >$a_{8} e^{\\sqrt{\\cos{\\left(x \\right)}} - \\operatorname{asin}{\\left(2 x \\right)}}$</td>\n      <td id=\"T_40952_row3_col2\" class=\"data row3 col2\" >YES</td>\n    </tr>\n    <tr>\n      <th id=\"T_40952_level0_row4\" class=\"row_heading level0 row4\" >5</th>\n      <td id=\"T_40952_row4_col0\" class=\"data row4 col0\" >-0.331873</td>\n      <td id=\"T_40952_row4_col1\" class=\"data row4 col1\" >$a_{8} e^{\\sqrt{\\cos{\\left(x \\right)}} + \\operatorname{acos}{\\left(2 x \\right)} + 1}$</td>\n      <td id=\"T_40952_row4_col2\" class=\"data row4 col2\" >YES</td>\n    </tr>\n    <tr>\n      <th id=\"T_40952_level0_row5\" class=\"row_heading level0 row5\" >6</th>\n      <td id=\"T_40952_row5_col0\" class=\"data row5 col0\" >-0.346632</td>\n      <td id=\"T_40952_row5_col1\" class=\"data row5 col1\" >$a_{8} e^{\\sqrt{\\cos{\\left(x \\right)}}} e^{- \\operatorname{asin}{\\left(2 x \\right)}}$</td>\n      <td id=\"T_40952_row5_col2\" class=\"data row5 col2\" >YES</td>\n    </tr>\n    <tr>\n      <th id=\"T_40952_level0_row6\" class=\"row_heading level0 row6\" >7</th>\n      <td id=\"T_40952_row6_col0\" class=\"data row6 col0\" >-0.348289</td>\n      <td id=\"T_40952_row6_col1\" class=\"data row6 col1\" >$a_{8} e^{\\sqrt{\\cos{\\left(x \\right)}} + \\operatorname{acos}{\\left(2 x \\right)} + 2}$</td>\n      <td id=\"T_40952_row6_col2\" class=\"data row6 col2\" >YES</td>\n    </tr>\n    <tr>\n      <th id=\"T_40952_level0_row7\" class=\"row_heading level0 row7\" >8</th>\n      <td id=\"T_40952_row7_col0\" class=\"data row7 col0\" >-0.349814</td>\n      <td id=\"T_40952_row7_col1\" class=\"data row7 col1\" >$a_{8} e^{\\sqrt{\\cos{\\left(x \\right)}} + \\operatorname{acos}{\\left(2 x \\right)} + 5}$</td>\n      <td id=\"T_40952_row7_col2\" class=\"data row7 col2\" >YES</td>\n    </tr>\n    <tr>\n      <th id=\"T_40952_level0_row8\" class=\"row_heading level0 row8\" >9</th>\n      <td id=\"T_40952_row8_col0\" class=\"data row8 col0\" >-0.349916</td>\n      <td id=\"T_40952_row8_col1\" class=\"data row8 col1\" >$a_{8} e^{\\sqrt{\\cos{\\left(x \\right)}}} e^{\\operatorname{acos}{\\left(2 x \\right)}}$</td>\n      <td id=\"T_40952_row8_col2\" class=\"data row8 col2\" >YES</td>\n    </tr>\n    <tr>\n      <th id=\"T_40952_level0_row9\" class=\"row_heading level0 row9\" >10</th>\n      <td id=\"T_40952_row9_col0\" class=\"data row9 col0\" >-0.350311</td>\n      <td id=\"T_40952_row9_col1\" class=\"data row9 col1\" >$a_{8} e^{\\sqrt{\\cos{\\left(x \\right)}} + \\operatorname{acos}{\\left(2 x \\right)} + 3}$</td>\n      <td id=\"T_40952_row9_col2\" class=\"data row9 col2\" >YES</td>\n    </tr>\n  </tbody>\n</table>\n"
     },
     "execution_count": 21,
     "metadata": {},
     "output_type": "execute_result"
    }
   ],
   "source": [
    "pandas.set_option('max_colwidth', None)\n",
    "pandas.DataFrame(results, index=rows, columns=columns).style.set_properties(**{'text-align': 'center'})"
   ],
   "metadata": {
    "collapsed": false,
    "pycharm": {
     "name": "#%%\n"
    }
   }
  },
  {
   "cell_type": "markdown",
   "source": [
    "## Second Order Differential Equations (ODE 2)\n",
    "\n",
    "Procedure:\n",
    "1. Start from a trivariate function $F(x,c_1,c_2)$, that will be the equation solution, that can be solved in $c_2$.\n",
    "2. Solve $F(x,c_1,c_2)$ in $c_2$.\n",
    "3. Differentiate in $x$.\n",
    "4. Solve in $c_1$.\n",
    "5. Differentiate in $x$.\n",
    "6. Simplify the final form."
   ],
   "metadata": {
    "collapsed": false
   }
  },
  {
   "cell_type": "markdown",
   "source": [
    "### Build Environment - Reload Model"
   ],
   "metadata": {
    "collapsed": false
   }
  },
  {
   "cell_type": "markdown",
   "source": [
    "Get Trained Model:"
   ],
   "metadata": {
    "collapsed": false
   }
  },
  {
   "cell_type": "code",
   "execution_count": 22,
   "outputs": [],
   "source": [
    "model_path = '../models/differential-equations/ode2.pth'\n",
    "assert os.path.isfile(model_path)\n",
    "\n",
    "params = AttrDict({\n",
    "\n",
    "    # Environment Parameters\n",
    "    'env_name': 'char_sp',\n",
    "    'int_base': 10,\n",
    "    'balanced': False,\n",
    "    'positive': True,\n",
    "    'precision': 10,\n",
    "    'n_variables': 1,\n",
    "    'n_coefficients': 0,\n",
    "    'leaf_probs': '0.75,0,0.25,0',\n",
    "    'max_len': 512,\n",
    "    'max_int': 5,\n",
    "    'max_ops': 15,\n",
    "    'max_ops_G': 15,\n",
    "    'clean_prefix_expr': True,\n",
    "    'rewrite_functions': '',\n",
    "    'tasks': 'ode1',\n",
    "    'operators': 'add:10,sub:3,mul:10,div:5,sqrt:4,pow2:4,pow3:2,pow4:1,pow5:1,ln:4,exp:4,sin:4,cos:4,tan:4,asin:1,'\n",
    "                 'acos:1,atan:1,sinh:1,cosh:1,tanh:1,asinh:1,acosh:1,atanh:1',\n",
    "\n",
    "    # Model Parameters\n",
    "    'cpu': False,\n",
    "    'emb_dim': 1024,\n",
    "    'n_enc_layers': 6,\n",
    "    'n_dec_layers': 6,\n",
    "    'n_heads': 8,\n",
    "    'dropout': 0,\n",
    "    'attention_dropout': 0,\n",
    "    'sinusoidal_embeddings': False,\n",
    "    'share_inout_emb': True,\n",
    "    'reload_model': model_path,\n",
    "\n",
    "})\n",
    "\n",
    "env = build_env(params)\n",
    "a8 = env.local_dict['a8']\n",
    "a9 = env.local_dict['a9']\n",
    "\n",
    "modules = build_modules(env, params)\n",
    "encoder = modules['encoder']\n",
    "decoder = modules['decoder']"
   ],
   "metadata": {
    "collapsed": false,
    "pycharm": {
     "name": "#%%\n"
    }
   }
  },
  {
   "cell_type": "markdown",
   "source": [
    "### Declare Differential Equation Input and its Solution\n",
    "\n",
    "Declare a bivariate function $F(x,c_1=a_8, c_2=a_9)$, that will be the equation solution, that can be solved in $a_9$:"
   ],
   "metadata": {
    "collapsed": false
   }
  },
  {
   "cell_type": "code",
   "execution_count": 23,
   "outputs": [],
   "source": [
    "# y_infix = 'a8*exp(x)+a9*exp(-x)'\n",
    "# y_infix = '(2*x)+((x*(a9+(a8*x)))+(exp(3)))'\n",
    "# y_infix = '(x**9)*((a8+(a9*((cos(cosh(asin(tanh(x)))))**(-1))))**(-1))'\n",
    "y_infix = 'a9*(5+((a8+(x+(x**3)))*(exp((-1)*((tan(x))**2)))))'"
   ],
   "metadata": {
    "collapsed": false,
    "pycharm": {
     "name": "#%%\n"
    }
   }
  },
  {
   "cell_type": "markdown",
   "source": [
    "Converts **y_infix** to a type that can be used inside SymPy:"
   ],
   "metadata": {
    "collapsed": false
   }
  },
  {
   "cell_type": "code",
   "execution_count": 24,
   "outputs": [
    {
     "data": {
      "text/plain": "a9*((a8 + x**3 + x)*exp(-tan(x)**2) + 5)",
      "text/latex": "$\\displaystyle a_{9} \\left(\\left(a_{8} + x^{3} + x\\right) e^{- \\tan^{2}{\\left(x \\right)}} + 5\\right)$"
     },
     "execution_count": 24,
     "metadata": {},
     "output_type": "execute_result"
    }
   ],
   "source": [
    "y = sympy.sympify(y_infix, locals=env.local_dict)\n",
    "y"
   ],
   "metadata": {
    "collapsed": false,
    "pycharm": {
     "name": "#%%\n"
    }
   }
  },
  {
   "cell_type": "markdown",
   "source": [
    "Solve $y$ in $a9$:"
   ],
   "metadata": {
    "collapsed": false
   }
  },
  {
   "cell_type": "code",
   "execution_count": 25,
   "outputs": [
    {
     "data": {
      "text/plain": "-f(x)*exp(tan(x)**2)/(-a8 - x**3 - x - 5*exp(tan(x)**2))",
      "text/latex": "$\\displaystyle - \\frac{f{\\left(x \\right)} e^{\\tan^{2}{\\left(x \\right)}}}{- a_{8} - x^{3} - x - 5 e^{\\tan^{2}{\\left(x \\right)}}}$"
     },
     "execution_count": 25,
     "metadata": {},
     "output_type": "execute_result"
    }
   ],
   "source": [
    "solve_a9 = sympy.solve(f(x) - y, a9, check=False, simplify=False)\n",
    "a9 = solve_a9[0]\n",
    "a9"
   ],
   "metadata": {
    "collapsed": false,
    "pycharm": {
     "name": "#%%\n"
    }
   }
  },
  {
   "cell_type": "markdown",
   "source": [
    "Differentiate $a_9$ in $x$:"
   ],
   "metadata": {
    "collapsed": false
   }
  },
  {
   "cell_type": "code",
   "execution_count": 26,
   "outputs": [
    {
     "data": {
      "text/plain": "-(2*tan(x)**2 + 2)*f(x)*exp(tan(x)**2)*tan(x)/(-a8 - x**3 - x - 5*exp(tan(x)**2)) - (3*x**2 + 5*(2*tan(x)**2 + 2)*exp(tan(x)**2)*tan(x) + 1)*f(x)*exp(tan(x)**2)/(-a8 - x**3 - x - 5*exp(tan(x)**2))**2 - exp(tan(x)**2)*Derivative(f(x), x)/(-a8 - x**3 - x - 5*exp(tan(x)**2))",
      "text/latex": "$\\displaystyle - \\frac{\\left(2 \\tan^{2}{\\left(x \\right)} + 2\\right) f{\\left(x \\right)} e^{\\tan^{2}{\\left(x \\right)}} \\tan{\\left(x \\right)}}{- a_{8} - x^{3} - x - 5 e^{\\tan^{2}{\\left(x \\right)}}} - \\frac{\\left(3 x^{2} + 5 \\left(2 \\tan^{2}{\\left(x \\right)} + 2\\right) e^{\\tan^{2}{\\left(x \\right)}} \\tan{\\left(x \\right)} + 1\\right) f{\\left(x \\right)} e^{\\tan^{2}{\\left(x \\right)}}}{\\left(- a_{8} - x^{3} - x - 5 e^{\\tan^{2}{\\left(x \\right)}}\\right)^{2}} - \\frac{e^{\\tan^{2}{\\left(x \\right)}} \\frac{d}{d x} f{\\left(x \\right)}}{- a_{8} - x^{3} - x - 5 e^{\\tan^{2}{\\left(x \\right)}}}$"
     },
     "execution_count": 26,
     "metadata": {},
     "output_type": "execute_result"
    }
   ],
   "source": [
    "eq = a9.diff(x)\n",
    "eq = simplify(eq, seconds=1)\n",
    "eq"
   ],
   "metadata": {
    "collapsed": false,
    "pycharm": {
     "name": "#%%\n"
    }
   }
  },
  {
   "cell_type": "markdown",
   "source": [
    "Solve $eq$ in $a8$:"
   ],
   "metadata": {
    "collapsed": false
   }
  },
  {
   "cell_type": "code",
   "execution_count": 27,
   "outputs": [
    {
     "data": {
      "text/plain": "(-2*x**3*f(x)*tan(x)**3 - 2*x**3*f(x)*tan(x) - x**3*Derivative(f(x), x) + 3*x**2*f(x) - 2*x*f(x)*tan(x)**3 - 2*x*f(x)*tan(x) - x*Derivative(f(x), x) + f(x) - 5*exp(tan(x)**2)*Derivative(f(x), x))/(2*f(x)*tan(x)**3 + 2*f(x)*tan(x) + Derivative(f(x), x))",
      "text/latex": "$\\displaystyle \\frac{- 2 x^{3} f{\\left(x \\right)} \\tan^{3}{\\left(x \\right)} - 2 x^{3} f{\\left(x \\right)} \\tan{\\left(x \\right)} - x^{3} \\frac{d}{d x} f{\\left(x \\right)} + 3 x^{2} f{\\left(x \\right)} - 2 x f{\\left(x \\right)} \\tan^{3}{\\left(x \\right)} - 2 x f{\\left(x \\right)} \\tan{\\left(x \\right)} - x \\frac{d}{d x} f{\\left(x \\right)} + f{\\left(x \\right)} - 5 e^{\\tan^{2}{\\left(x \\right)}} \\frac{d}{d x} f{\\left(x \\right)}}{2 f{\\left(x \\right)} \\tan^{3}{\\left(x \\right)} + 2 f{\\left(x \\right)} \\tan{\\left(x \\right)} + \\frac{d}{d x} f{\\left(x \\right)}}$"
     },
     "execution_count": 27,
     "metadata": {},
     "output_type": "execute_result"
    }
   ],
   "source": [
    "solve_a8 = sympy.solve(eq, a8, check=False, simplify=False)\n",
    "a8 = solve_a8[0]\n",
    "a8"
   ],
   "metadata": {
    "collapsed": false,
    "pycharm": {
     "name": "#%%\n"
    }
   }
  },
  {
   "cell_type": "markdown",
   "source": [
    "Differentiate $a_8$ in $x$:"
   ],
   "metadata": {
    "collapsed": false
   }
  },
  {
   "cell_type": "code",
   "execution_count": 28,
   "outputs": [
    {
     "data": {
      "text/plain": "(-2*x**3*(tan(x)**2 + 1)*f(x) - 2*x**3*(3*tan(x)**2 + 3)*f(x)*tan(x)**2 - 2*x**3*tan(x)**3*Derivative(f(x), x) - 2*x**3*tan(x)*Derivative(f(x), x) - x**3*Derivative(f(x), (x, 2)) - 6*x**2*f(x)*tan(x)**3 - 6*x**2*f(x)*tan(x) - 2*x*(tan(x)**2 + 1)*f(x) - 2*x*(3*tan(x)**2 + 3)*f(x)*tan(x)**2 + 6*x*f(x) - 2*x*tan(x)**3*Derivative(f(x), x) - 2*x*tan(x)*Derivative(f(x), x) - x*Derivative(f(x), (x, 2)) - 5*(2*tan(x)**2 + 2)*exp(tan(x)**2)*tan(x)*Derivative(f(x), x) - 2*f(x)*tan(x)**3 - 2*f(x)*tan(x) - 5*exp(tan(x)**2)*Derivative(f(x), (x, 2)))/(2*f(x)*tan(x)**3 + 2*f(x)*tan(x) + Derivative(f(x), x)) + (-2*(tan(x)**2 + 1)*f(x) - 2*(3*tan(x)**2 + 3)*f(x)*tan(x)**2 - 2*tan(x)**3*Derivative(f(x), x) - 2*tan(x)*Derivative(f(x), x) - Derivative(f(x), (x, 2)))*(-2*x**3*f(x)*tan(x)**3 - 2*x**3*f(x)*tan(x) - x**3*Derivative(f(x), x) + 3*x**2*f(x) - 2*x*f(x)*tan(x)**3 - 2*x*f(x)*tan(x) - x*Derivative(f(x), x) + f(x) - 5*exp(tan(x)**2)*Derivative(f(x), x))/(2*f(x)*tan(x)**3 + 2*f(x)*tan(x) + Derivative(f(x), x))**2",
      "text/latex": "$\\displaystyle \\frac{- 2 x^{3} \\left(\\tan^{2}{\\left(x \\right)} + 1\\right) f{\\left(x \\right)} - 2 x^{3} \\left(3 \\tan^{2}{\\left(x \\right)} + 3\\right) f{\\left(x \\right)} \\tan^{2}{\\left(x \\right)} - 2 x^{3} \\tan^{3}{\\left(x \\right)} \\frac{d}{d x} f{\\left(x \\right)} - 2 x^{3} \\tan{\\left(x \\right)} \\frac{d}{d x} f{\\left(x \\right)} - x^{3} \\frac{d^{2}}{d x^{2}} f{\\left(x \\right)} - 6 x^{2} f{\\left(x \\right)} \\tan^{3}{\\left(x \\right)} - 6 x^{2} f{\\left(x \\right)} \\tan{\\left(x \\right)} - 2 x \\left(\\tan^{2}{\\left(x \\right)} + 1\\right) f{\\left(x \\right)} - 2 x \\left(3 \\tan^{2}{\\left(x \\right)} + 3\\right) f{\\left(x \\right)} \\tan^{2}{\\left(x \\right)} + 6 x f{\\left(x \\right)} - 2 x \\tan^{3}{\\left(x \\right)} \\frac{d}{d x} f{\\left(x \\right)} - 2 x \\tan{\\left(x \\right)} \\frac{d}{d x} f{\\left(x \\right)} - x \\frac{d^{2}}{d x^{2}} f{\\left(x \\right)} - 5 \\left(2 \\tan^{2}{\\left(x \\right)} + 2\\right) e^{\\tan^{2}{\\left(x \\right)}} \\tan{\\left(x \\right)} \\frac{d}{d x} f{\\left(x \\right)} - 2 f{\\left(x \\right)} \\tan^{3}{\\left(x \\right)} - 2 f{\\left(x \\right)} \\tan{\\left(x \\right)} - 5 e^{\\tan^{2}{\\left(x \\right)}} \\frac{d^{2}}{d x^{2}} f{\\left(x \\right)}}{2 f{\\left(x \\right)} \\tan^{3}{\\left(x \\right)} + 2 f{\\left(x \\right)} \\tan{\\left(x \\right)} + \\frac{d}{d x} f{\\left(x \\right)}} + \\frac{\\left(- 2 \\left(\\tan^{2}{\\left(x \\right)} + 1\\right) f{\\left(x \\right)} - 2 \\left(3 \\tan^{2}{\\left(x \\right)} + 3\\right) f{\\left(x \\right)} \\tan^{2}{\\left(x \\right)} - 2 \\tan^{3}{\\left(x \\right)} \\frac{d}{d x} f{\\left(x \\right)} - 2 \\tan{\\left(x \\right)} \\frac{d}{d x} f{\\left(x \\right)} - \\frac{d^{2}}{d x^{2}} f{\\left(x \\right)}\\right) \\left(- 2 x^{3} f{\\left(x \\right)} \\tan^{3}{\\left(x \\right)} - 2 x^{3} f{\\left(x \\right)} \\tan{\\left(x \\right)} - x^{3} \\frac{d}{d x} f{\\left(x \\right)} + 3 x^{2} f{\\left(x \\right)} - 2 x f{\\left(x \\right)} \\tan^{3}{\\left(x \\right)} - 2 x f{\\left(x \\right)} \\tan{\\left(x \\right)} - x \\frac{d}{d x} f{\\left(x \\right)} + f{\\left(x \\right)} - 5 e^{\\tan^{2}{\\left(x \\right)}} \\frac{d}{d x} f{\\left(x \\right)}\\right)}{\\left(2 f{\\left(x \\right)} \\tan^{3}{\\left(x \\right)} + 2 f{\\left(x \\right)} \\tan{\\left(x \\right)} + \\frac{d}{d x} f{\\left(x \\right)}\\right)^{2}}$"
     },
     "execution_count": 28,
     "metadata": {},
     "output_type": "execute_result"
    }
   ],
   "source": [
    "eq = a8.diff(x)\n",
    "eq = simplify(eq, seconds=1)\n",
    "eq"
   ],
   "metadata": {
    "collapsed": false,
    "pycharm": {
     "name": "#%%\n"
    }
   }
  },
  {
   "cell_type": "markdown",
   "source": [
    "Simplify previous differential equation:"
   ],
   "metadata": {
    "collapsed": false
   }
  },
  {
   "cell_type": "code",
   "execution_count": 29,
   "outputs": [
    {
     "data": {
      "text/plain": "12*x**2*f(x)*tan(x)**6 + 42*x**2*f(x)*tan(x)**4 + 36*x**2*f(x)*tan(x)**2 + 6*x**2*f(x) + 12*x**2*tan(x)**3*Derivative(f(x), x) + 12*x**2*tan(x)*Derivative(f(x), x) + 3*x**2*Derivative(f(x), (x, 2)) - 12*x*f(x)*tan(x)**3 - 12*x*f(x)*tan(x) - 6*x*Derivative(f(x), x) + 4*f(x)*tan(x)**6 + 14*f(x)*tan(x)**4 + 12*f(x)*tan(x)**2 + 2*f(x) + 20*exp(tan(x)**2)*tan(x)**6*Derivative(f(x), x) + 10*exp(tan(x)**2)*tan(x)**4*Derivative(f(x), x) + 10*exp(tan(x)**2)*tan(x)**3*Derivative(f(x), (x, 2)) - 20*exp(tan(x)**2)*tan(x)**2*Derivative(f(x), x) + 10*exp(tan(x)**2)*tan(x)*Derivative(f(x), (x, 2)) - 10*exp(tan(x)**2)*Derivative(f(x), x) + 4*tan(x)**3*Derivative(f(x), x) + 4*tan(x)*Derivative(f(x), x) + Derivative(f(x), (x, 2))",
      "text/latex": "$\\displaystyle 12 x^{2} f{\\left(x \\right)} \\tan^{6}{\\left(x \\right)} + 42 x^{2} f{\\left(x \\right)} \\tan^{4}{\\left(x \\right)} + 36 x^{2} f{\\left(x \\right)} \\tan^{2}{\\left(x \\right)} + 6 x^{2} f{\\left(x \\right)} + 12 x^{2} \\tan^{3}{\\left(x \\right)} \\frac{d}{d x} f{\\left(x \\right)} + 12 x^{2} \\tan{\\left(x \\right)} \\frac{d}{d x} f{\\left(x \\right)} + 3 x^{2} \\frac{d^{2}}{d x^{2}} f{\\left(x \\right)} - 12 x f{\\left(x \\right)} \\tan^{3}{\\left(x \\right)} - 12 x f{\\left(x \\right)} \\tan{\\left(x \\right)} - 6 x \\frac{d}{d x} f{\\left(x \\right)} + 4 f{\\left(x \\right)} \\tan^{6}{\\left(x \\right)} + 14 f{\\left(x \\right)} \\tan^{4}{\\left(x \\right)} + 12 f{\\left(x \\right)} \\tan^{2}{\\left(x \\right)} + 2 f{\\left(x \\right)} + 20 e^{\\tan^{2}{\\left(x \\right)}} \\tan^{6}{\\left(x \\right)} \\frac{d}{d x} f{\\left(x \\right)} + 10 e^{\\tan^{2}{\\left(x \\right)}} \\tan^{4}{\\left(x \\right)} \\frac{d}{d x} f{\\left(x \\right)} + 10 e^{\\tan^{2}{\\left(x \\right)}} \\tan^{3}{\\left(x \\right)} \\frac{d^{2}}{d x^{2}} f{\\left(x \\right)} - 20 e^{\\tan^{2}{\\left(x \\right)}} \\tan^{2}{\\left(x \\right)} \\frac{d}{d x} f{\\left(x \\right)} + 10 e^{\\tan^{2}{\\left(x \\right)}} \\tan{\\left(x \\right)} \\frac{d^{2}}{d x^{2}} f{\\left(x \\right)} - 10 e^{\\tan^{2}{\\left(x \\right)}} \\frac{d}{d x} f{\\left(x \\right)} + 4 \\tan^{3}{\\left(x \\right)} \\frac{d}{d x} f{\\left(x \\right)} + 4 \\tan{\\left(x \\right)} \\frac{d}{d x} f{\\left(x \\right)} + \\frac{d^{2}}{d x^{2}} f{\\left(x \\right)}$"
     },
     "execution_count": 29,
     "metadata": {},
     "output_type": "execute_result"
    }
   ],
   "source": [
    "eq = simplify_equa_diff(eq, required=f(x).diff(x, 2))\n",
    "eq"
   ],
   "metadata": {
    "collapsed": false,
    "pycharm": {
     "name": "#%%\n"
    }
   }
  },
  {
   "cell_type": "markdown",
   "source": [
    "### Compute Prefix Representations"
   ],
   "metadata": {
    "collapsed": false
   }
  },
  {
   "cell_type": "code",
   "execution_count": 30,
   "outputs": [
    {
     "name": "stdout",
     "output_type": "stream",
     "text": [
      "y with Prefix Notation:\n",
      "['mul', 'a9', 'add', 'INT+', '5', 'mul', 'add', 'a8', 'add', 'x', 'pow', 'x', 'INT+', '3', 'exp', 'mul', 'INT-', '1', 'pow', 'tan', 'x', 'INT+', '2']\n",
      "\n",
      "eq with Prefix Notation:\n",
      "['add', 'mul', 'INT+', '2', 'f', 'x', 'add', 'mul', 'INT-', '1', '0', 'mul', 'derivative', 'f', 'x', 'x', 'exp', 'pow', 'tan', 'x', 'INT+', '2', 'add', 'mul', 'INT-', '6', 'mul', 'x', 'derivative', 'f', 'x', 'x', 'add', 'mul', 'INT+', '3', 'mul', 'pow', 'x', 'INT+', '2', 'derivative', 'derivative', 'f', 'x', 'x', 'x', 'add', 'mul', 'INT+', '4', 'mul', 'pow', 'tan', 'x', 'INT+', '3', 'derivative', 'f', 'x', 'x', 'add', 'mul', 'INT+', '4', 'mul', 'pow', 'tan', 'x', 'INT+', '6', 'f', 'x', 'add', 'mul', 'INT+', '4', 'mul', 'derivative', 'f', 'x', 'x', 'tan', 'x', 'add', 'mul', 'INT+', '6', 'mul', 'pow', 'x', 'INT+', '2', 'f', 'x', 'add', 'mul', 'INT+', '1', '2', 'mul', 'pow', 'tan', 'x', 'INT+', '2', 'f', 'x', 'add', 'mul', 'INT+', '1', '4', 'mul', 'pow', 'tan', 'x', 'INT+', '4', 'f', 'x', 'add', 'mul', 'INT-', '2', '0', 'mul', 'pow', 'tan', 'x', 'INT+', '2', 'mul', 'derivative', 'f', 'x', 'x', 'exp', 'pow', 'tan', 'x', 'INT+', '2', 'add', 'mul', 'INT-', '1', '2', 'mul', 'x', 'mul', 'pow', 'tan', 'x', 'INT+', '3', 'f', 'x', 'add', 'mul', 'INT-', '1', '2', 'mul', 'x', 'mul', 'f', 'x', 'tan', 'x', 'add', 'mul', 'INT+', '1', '0', 'mul', 'pow', 'tan', 'x', 'INT+', '3', 'mul', 'derivative', 'derivative', 'f', 'x', 'x', 'x', 'exp', 'pow', 'tan', 'x', 'INT+', '2', 'add', 'mul', 'INT+', '1', '0', 'mul', 'pow', 'tan', 'x', 'INT+', '4', 'mul', 'derivative', 'f', 'x', 'x', 'exp', 'pow', 'tan', 'x', 'INT+', '2', 'add', 'mul', 'INT+', '1', '0', 'mul', 'derivative', 'derivative', 'f', 'x', 'x', 'x', 'mul', 'exp', 'pow', 'tan', 'x', 'INT+', '2', 'tan', 'x', 'add', 'mul', 'INT+', '1', '2', 'mul', 'pow', 'x', 'INT+', '2', 'mul', 'pow', 'tan', 'x', 'INT+', '3', 'derivative', 'f', 'x', 'x', 'add', 'mul', 'INT+', '1', '2', 'mul', 'pow', 'x', 'INT+', '2', 'mul', 'pow', 'tan', 'x', 'INT+', '6', 'f', 'x', 'add', 'mul', 'INT+', '1', '2', 'mul', 'pow', 'x', 'INT+', '2', 'mul', 'derivative', 'f', 'x', 'x', 'tan', 'x', 'add', 'mul', 'INT+', '2', '0', 'mul', 'pow', 'tan', 'x', 'INT+', '6', 'mul', 'derivative', 'f', 'x', 'x', 'exp', 'pow', 'tan', 'x', 'INT+', '2', 'add', 'mul', 'INT+', '3', '6', 'mul', 'pow', 'x', 'INT+', '2', 'mul', 'pow', 'tan', 'x', 'INT+', '2', 'f', 'x', 'add', 'mul', 'INT+', '4', '2', 'mul', 'pow', 'x', 'INT+', '2', 'mul', 'pow', 'tan', 'x', 'INT+', '4', 'f', 'x', 'derivative', 'derivative', 'f', 'x', 'x', 'x']\n"
     ]
    }
   ],
   "source": [
    "y_prefix = env.sympy_to_prefix(y)\n",
    "eq_prefix = env.sympy_to_prefix(eq)\n",
    "print(f\"y with Prefix Notation:\\n{y_prefix}\\n\")\n",
    "print(f\"eq with Prefix Notation:\\n{eq_prefix}\")"
   ],
   "metadata": {
    "collapsed": false,
    "pycharm": {
     "name": "#%%\n"
    }
   }
  },
  {
   "cell_type": "markdown",
   "source": [
    "### Encode Input"
   ],
   "metadata": {
    "collapsed": false
   }
  },
  {
   "cell_type": "code",
   "execution_count": 31,
   "outputs": [
    {
     "name": "stdout",
     "output_type": "stream",
     "text": [
      "eq Clean Prefix Notation:\n",
      "['add', 'mul', 'INT+', '2', 'Y', 'add', 'mul', 'INT-', '1', '0', 'mul', \"Y'\", 'exp', 'pow', 'tan', 'x', 'INT+', '2', 'add', 'mul', 'INT-', '6', 'mul', 'x', \"Y'\", 'add', 'mul', 'INT+', '3', 'mul', 'pow', 'x', 'INT+', '2', \"Y''\", 'add', 'mul', 'INT+', '4', 'mul', 'pow', 'tan', 'x', 'INT+', '3', \"Y'\", 'add', 'mul', 'INT+', '4', 'mul', 'pow', 'tan', 'x', 'INT+', '6', 'Y', 'add', 'mul', 'INT+', '4', 'mul', \"Y'\", 'tan', 'x', 'add', 'mul', 'INT+', '6', 'mul', 'pow', 'x', 'INT+', '2', 'Y', 'add', 'mul', 'INT+', '1', '2', 'mul', 'pow', 'tan', 'x', 'INT+', '2', 'Y', 'add', 'mul', 'INT+', '1', '4', 'mul', 'pow', 'tan', 'x', 'INT+', '4', 'Y', 'add', 'mul', 'INT-', '2', '0', 'mul', 'pow', 'tan', 'x', 'INT+', '2', 'mul', \"Y'\", 'exp', 'pow', 'tan', 'x', 'INT+', '2', 'add', 'mul', 'INT-', '1', '2', 'mul', 'x', 'mul', 'pow', 'tan', 'x', 'INT+', '3', 'Y', 'add', 'mul', 'INT-', '1', '2', 'mul', 'x', 'mul', 'Y', 'tan', 'x', 'add', 'mul', 'INT+', '1', '0', 'mul', 'pow', 'tan', 'x', 'INT+', '3', 'mul', \"Y''\", 'exp', 'pow', 'tan', 'x', 'INT+', '2', 'add', 'mul', 'INT+', '1', '0', 'mul', 'pow', 'tan', 'x', 'INT+', '4', 'mul', \"Y'\", 'exp', 'pow', 'tan', 'x', 'INT+', '2', 'add', 'mul', 'INT+', '1', '0', 'mul', \"Y''\", 'mul', 'exp', 'pow', 'tan', 'x', 'INT+', '2', 'tan', 'x', 'add', 'mul', 'INT+', '1', '2', 'mul', 'pow', 'x', 'INT+', '2', 'mul', 'pow', 'tan', 'x', 'INT+', '3', \"Y'\", 'add', 'mul', 'INT+', '1', '2', 'mul', 'pow', 'x', 'INT+', '2', 'mul', 'pow', 'tan', 'x', 'INT+', '6', 'Y', 'add', 'mul', 'INT+', '1', '2', 'mul', 'pow', 'x', 'INT+', '2', 'mul', \"Y'\", 'tan', 'x', 'add', 'mul', 'INT+', '2', '0', 'mul', 'pow', 'tan', 'x', 'INT+', '6', 'mul', \"Y'\", 'exp', 'pow', 'tan', 'x', 'INT+', '2', 'add', 'mul', 'INT+', '3', '6', 'mul', 'pow', 'x', 'INT+', '2', 'mul', 'pow', 'tan', 'x', 'INT+', '2', 'Y', 'add', 'mul', 'INT+', '4', '2', 'mul', 'pow', 'x', 'INT+', '2', 'mul', 'pow', 'tan', 'x', 'INT+', '4', 'Y', \"Y''\"]\n"
     ]
    }
   ],
   "source": [
    "x1_prefix = env.clean_prefix(eq_prefix)\n",
    "print(f\"eq Clean Prefix Notation:\\n{x1_prefix}\")"
   ],
   "metadata": {
    "collapsed": false,
    "pycharm": {
     "name": "#%%\n"
    }
   }
  },
  {
   "cell_type": "code",
   "execution_count": 32,
   "outputs": [],
   "source": [
    "x1 = torch.LongTensor(\n",
    "    [env.eos_index] +\n",
    "    [env.word2id[w] for w in x1_prefix] +\n",
    "    [env.eos_index]\n",
    ").view(-1, 1)"
   ],
   "metadata": {
    "collapsed": false,
    "pycharm": {
     "name": "#%%\n"
    }
   }
  },
  {
   "cell_type": "code",
   "execution_count": 33,
   "outputs": [],
   "source": [
    "len1 = torch.LongTensor([len(x1)])\n",
    "x1, len1 = to_cuda(x1, len1)"
   ],
   "metadata": {
    "collapsed": false,
    "pycharm": {
     "name": "#%%\n"
    }
   }
  },
  {
   "cell_type": "code",
   "execution_count": 34,
   "outputs": [
    {
     "data": {
      "text/plain": "tensor([[[ 0.0388, -0.0235, -0.0223,  ...,  0.0413,  0.0049, -0.0236],\n         [ 0.0129, -0.0387,  0.0985,  ...,  0.0268, -0.0467,  0.0007],\n         [ 0.1357,  0.0585,  0.0384,  ...,  0.2114, -0.0529, -0.2556],\n         ...,\n         [-0.3126,  0.1535,  0.3317,  ..., -0.2210, -0.1265,  0.1046],\n         [ 0.1923,  0.2024, -0.0650,  ..., -0.1848, -0.1778, -0.1041],\n         [ 0.0417, -0.0210, -0.0255,  ...,  0.0377,  0.0020, -0.0247]]],\n       device='cuda:0')"
     },
     "execution_count": 34,
     "metadata": {},
     "output_type": "execute_result"
    }
   ],
   "source": [
    "with torch.no_grad():\n",
    "    encoded = encoder('fwd', x=x1, lengths=len1, causal=False).transpose(0, 1)\n",
    "\n",
    "encoded"
   ],
   "metadata": {
    "collapsed": false,
    "pycharm": {
     "name": "#%%\n"
    }
   }
  },
  {
   "cell_type": "markdown",
   "source": [
    "### Decode with Beam Search"
   ],
   "metadata": {
    "collapsed": false
   }
  },
  {
   "cell_type": "code",
   "execution_count": 35,
   "outputs": [],
   "source": [
    "beam_size = 10\n",
    "\n",
    "with torch.no_grad():\n",
    "    _, _, beam = decoder.generate_beam(encoded, len1, beam_size=beam_size, length_penalty=1.0, early_stopping=1,\n",
    "                                       max_len=params.max_len)\n",
    "assert len(beam) == 1\n",
    "hypotheses = beam[0].hyp\n",
    "assert len(hypotheses) == beam_size"
   ],
   "metadata": {
    "collapsed": false,
    "pycharm": {
     "name": "#%%\n"
    }
   }
  },
  {
   "cell_type": "markdown",
   "source": [
    "### View the Results"
   ],
   "metadata": {
    "collapsed": false
   }
  },
  {
   "cell_type": "markdown",
   "source": [
    "Input differential equation $eq$:"
   ],
   "metadata": {
    "collapsed": false
   }
  },
  {
   "cell_type": "code",
   "execution_count": 36,
   "outputs": [
    {
     "data": {
      "text/plain": "12*x**2*f(x)*tan(x)**6 + 42*x**2*f(x)*tan(x)**4 + 36*x**2*f(x)*tan(x)**2 + 6*x**2*f(x) + 12*x**2*tan(x)**3*Derivative(f(x), x) + 12*x**2*tan(x)*Derivative(f(x), x) + 3*x**2*Derivative(f(x), (x, 2)) - 12*x*f(x)*tan(x)**3 - 12*x*f(x)*tan(x) - 6*x*Derivative(f(x), x) + 4*f(x)*tan(x)**6 + 14*f(x)*tan(x)**4 + 12*f(x)*tan(x)**2 + 2*f(x) + 20*exp(tan(x)**2)*tan(x)**6*Derivative(f(x), x) + 10*exp(tan(x)**2)*tan(x)**4*Derivative(f(x), x) + 10*exp(tan(x)**2)*tan(x)**3*Derivative(f(x), (x, 2)) - 20*exp(tan(x)**2)*tan(x)**2*Derivative(f(x), x) + 10*exp(tan(x)**2)*tan(x)*Derivative(f(x), (x, 2)) - 10*exp(tan(x)**2)*Derivative(f(x), x) + 4*tan(x)**3*Derivative(f(x), x) + 4*tan(x)*Derivative(f(x), x) + Derivative(f(x), (x, 2))",
      "text/latex": "$\\displaystyle 12 x^{2} f{\\left(x \\right)} \\tan^{6}{\\left(x \\right)} + 42 x^{2} f{\\left(x \\right)} \\tan^{4}{\\left(x \\right)} + 36 x^{2} f{\\left(x \\right)} \\tan^{2}{\\left(x \\right)} + 6 x^{2} f{\\left(x \\right)} + 12 x^{2} \\tan^{3}{\\left(x \\right)} \\frac{d}{d x} f{\\left(x \\right)} + 12 x^{2} \\tan{\\left(x \\right)} \\frac{d}{d x} f{\\left(x \\right)} + 3 x^{2} \\frac{d^{2}}{d x^{2}} f{\\left(x \\right)} - 12 x f{\\left(x \\right)} \\tan^{3}{\\left(x \\right)} - 12 x f{\\left(x \\right)} \\tan{\\left(x \\right)} - 6 x \\frac{d}{d x} f{\\left(x \\right)} + 4 f{\\left(x \\right)} \\tan^{6}{\\left(x \\right)} + 14 f{\\left(x \\right)} \\tan^{4}{\\left(x \\right)} + 12 f{\\left(x \\right)} \\tan^{2}{\\left(x \\right)} + 2 f{\\left(x \\right)} + 20 e^{\\tan^{2}{\\left(x \\right)}} \\tan^{6}{\\left(x \\right)} \\frac{d}{d x} f{\\left(x \\right)} + 10 e^{\\tan^{2}{\\left(x \\right)}} \\tan^{4}{\\left(x \\right)} \\frac{d}{d x} f{\\left(x \\right)} + 10 e^{\\tan^{2}{\\left(x \\right)}} \\tan^{3}{\\left(x \\right)} \\frac{d^{2}}{d x^{2}} f{\\left(x \\right)} - 20 e^{\\tan^{2}{\\left(x \\right)}} \\tan^{2}{\\left(x \\right)} \\frac{d}{d x} f{\\left(x \\right)} + 10 e^{\\tan^{2}{\\left(x \\right)}} \\tan{\\left(x \\right)} \\frac{d^{2}}{d x^{2}} f{\\left(x \\right)} - 10 e^{\\tan^{2}{\\left(x \\right)}} \\frac{d}{d x} f{\\left(x \\right)} + 4 \\tan^{3}{\\left(x \\right)} \\frac{d}{d x} f{\\left(x \\right)} + 4 \\tan{\\left(x \\right)} \\frac{d}{d x} f{\\left(x \\right)} + \\frac{d^{2}}{d x^{2}} f{\\left(x \\right)}$"
     },
     "execution_count": 36,
     "metadata": {},
     "output_type": "execute_result"
    }
   ],
   "source": [
    "eq"
   ],
   "metadata": {
    "collapsed": false,
    "pycharm": {
     "name": "#%%\n"
    }
   }
  },
  {
   "cell_type": "markdown",
   "source": [
    "Solution $y$ to find:"
   ],
   "metadata": {
    "collapsed": false
   }
  },
  {
   "cell_type": "code",
   "execution_count": 37,
   "outputs": [
    {
     "data": {
      "text/plain": "a9*((a8 + x**3 + x)*exp(-tan(x)**2) + 5)",
      "text/latex": "$\\displaystyle a_{9} \\left(\\left(a_{8} + x^{3} + x\\right) e^{- \\tan^{2}{\\left(x \\right)}} + 5\\right)$"
     },
     "execution_count": 37,
     "metadata": {},
     "output_type": "execute_result"
    }
   ],
   "source": [
    "y"
   ],
   "metadata": {
    "collapsed": false,
    "pycharm": {
     "name": "#%%\n"
    }
   }
  },
  {
   "cell_type": "markdown",
   "source": [
    "Extract scores and solution hypotheses:"
   ],
   "metadata": {
    "collapsed": false
   }
  },
  {
   "cell_type": "code",
   "execution_count": 38,
   "outputs": [],
   "source": [
    "rows = numpy.arange(1, beam_size + 1)\n",
    "columns = ['Score', 'Solution Hypothesis', 'Valid']\n",
    "results = []\n",
    "\n",
    "for score, sequence in sorted(hypotheses, reverse=True):\n",
    "    # Parse decoded hypothesis\n",
    "    ids = sequence[1:].tolist()  # Decoded token IDs\n",
    "    hyp_prefix = [env.id2word[word_id] for word_id in ids]  # Convert to prefix notation\n",
    "\n",
    "    try:\n",
    "        hyp_infix = env.prefix_to_infix(hyp_prefix)  # Convert to infix notation\n",
    "        hyp_sympy = env.infix_to_sympy(hyp_infix)  # Convert to SymPy\n",
    "\n",
    "        # Check if the hypothesis is a valid solution, replacing 'hyp_sympy' with 'f(x)' in the equation\n",
    "        validation = \"YES\" if simplify(eq.subs(f(x), hyp_sympy).doit(), seconds=1) == 0 else \"NO\"\n",
    "\n",
    "        # Transform hypothesis to a valid latex expression\n",
    "        hyp_expr = \"$\" + sympy.latex(env.infix_to_sympy(hyp_infix))  + \"$\"\n",
    "\n",
    "    except InvalidPrefixExpression:\n",
    "        validation = \"INVALID PREFIX EXPRESSION\"\n",
    "        hyp_expr = hyp_prefix\n",
    "\n",
    "    # Prepare results\n",
    "    results.append([score, hyp_expr, validation])"
   ],
   "metadata": {
    "collapsed": false,
    "pycharm": {
     "name": "#%%\n"
    }
   }
  },
  {
   "cell_type": "markdown",
   "source": [
    "Print results:"
   ],
   "metadata": {
    "collapsed": false
   }
  },
  {
   "cell_type": "code",
   "execution_count": 39,
   "outputs": [
    {
     "data": {
      "text/plain": "<pandas.io.formats.style.Styler at 0x7f4f1e00ad60>",
      "text/html": "<style type=\"text/css\">\n#T_4bcc6_row0_col0, #T_4bcc6_row0_col1, #T_4bcc6_row0_col2, #T_4bcc6_row1_col0, #T_4bcc6_row1_col1, #T_4bcc6_row1_col2, #T_4bcc6_row2_col0, #T_4bcc6_row2_col1, #T_4bcc6_row2_col2, #T_4bcc6_row3_col0, #T_4bcc6_row3_col1, #T_4bcc6_row3_col2, #T_4bcc6_row4_col0, #T_4bcc6_row4_col1, #T_4bcc6_row4_col2, #T_4bcc6_row5_col0, #T_4bcc6_row5_col1, #T_4bcc6_row5_col2, #T_4bcc6_row6_col0, #T_4bcc6_row6_col1, #T_4bcc6_row6_col2, #T_4bcc6_row7_col0, #T_4bcc6_row7_col1, #T_4bcc6_row7_col2, #T_4bcc6_row8_col0, #T_4bcc6_row8_col1, #T_4bcc6_row8_col2, #T_4bcc6_row9_col0, #T_4bcc6_row9_col1, #T_4bcc6_row9_col2 {\n  text-align: center;\n}\n</style>\n<table id=\"T_4bcc6_\">\n  <thead>\n    <tr>\n      <th class=\"blank level0\" >&nbsp;</th>\n      <th class=\"col_heading level0 col0\" >Score</th>\n      <th class=\"col_heading level0 col1\" >Solution Hypothesis</th>\n      <th class=\"col_heading level0 col2\" >Valid</th>\n    </tr>\n  </thead>\n  <tbody>\n    <tr>\n      <th id=\"T_4bcc6_level0_row0\" class=\"row_heading level0 row0\" >1</th>\n      <td id=\"T_4bcc6_row0_col0\" class=\"data row0 col0\" >-0.021180</td>\n      <td id=\"T_4bcc6_row0_col1\" class=\"data row0 col1\" >$a_{9} \\left(\\left(a_{8} + x^{3} + x\\right) e^{- \\tan^{2}{\\left(x \\right)}} + 5\\right)$</td>\n      <td id=\"T_4bcc6_row0_col2\" class=\"data row0 col2\" >YES</td>\n    </tr>\n    <tr>\n      <th id=\"T_4bcc6_level0_row1\" class=\"row_heading level0 row1\" >2</th>\n      <td id=\"T_4bcc6_row1_col0\" class=\"data row1 col0\" >-0.051553</td>\n      <td id=\"T_4bcc6_row1_col1\" class=\"data row1 col1\" >$a_{8} \\left(\\left(a_{9} + x^{3} + x\\right) e^{- \\tan^{2}{\\left(x \\right)}} + 5\\right)$</td>\n      <td id=\"T_4bcc6_row1_col2\" class=\"data row1 col2\" >YES</td>\n    </tr>\n    <tr>\n      <th id=\"T_4bcc6_level0_row2\" class=\"row_heading level0 row2\" >3</th>\n      <td id=\"T_4bcc6_row2_col0\" class=\"data row2 col0\" >-0.144064</td>\n      <td id=\"T_4bcc6_row2_col1\" class=\"data row2 col1\" >$a_{9} \\left(\\left(a_{8} - x^{3} - x\\right) e^{- \\tan^{2}{\\left(x \\right)}} - 5\\right)$</td>\n      <td id=\"T_4bcc6_row2_col2\" class=\"data row2 col2\" >YES</td>\n    </tr>\n    <tr>\n      <th id=\"T_4bcc6_level0_row3\" class=\"row_heading level0 row3\" >4</th>\n      <td id=\"T_4bcc6_row3_col0\" class=\"data row3 col0\" >-0.167011</td>\n      <td id=\"T_4bcc6_row3_col1\" class=\"data row3 col1\" >$a_{8} \\left(\\left(a_{9} - x^{3} - x\\right) e^{- \\tan^{2}{\\left(x \\right)}} - 5\\right)$</td>\n      <td id=\"T_4bcc6_row3_col2\" class=\"data row3 col2\" >YES</td>\n    </tr>\n    <tr>\n      <th id=\"T_4bcc6_level0_row4\" class=\"row_heading level0 row4\" >5</th>\n      <td id=\"T_4bcc6_row4_col0\" class=\"data row4 col0\" >-0.173669</td>\n      <td id=\"T_4bcc6_row4_col1\" class=\"data row4 col1\" >$a_{9} \\left(\\left(a_{8} + x \\left(x^{2} + 1\\right)\\right) e^{- \\tan^{2}{\\left(x \\right)}} + 5\\right)$</td>\n      <td id=\"T_4bcc6_row4_col2\" class=\"data row4 col2\" >YES</td>\n    </tr>\n    <tr>\n      <th id=\"T_4bcc6_level0_row5\" class=\"row_heading level0 row5\" >6</th>\n      <td id=\"T_4bcc6_row5_col0\" class=\"data row5 col0\" >-0.182952</td>\n      <td id=\"T_4bcc6_row5_col1\" class=\"data row5 col1\" >$a_{9} \\left(x \\left(\\frac{a_{8}}{x} + x^{2} + 1\\right) e^{- \\tan^{2}{\\left(x \\right)}} + 5\\right)$</td>\n      <td id=\"T_4bcc6_row5_col2\" class=\"data row5 col2\" >YES</td>\n    </tr>\n    <tr>\n      <th id=\"T_4bcc6_level0_row6\" class=\"row_heading level0 row6\" >7</th>\n      <td id=\"T_4bcc6_row6_col0\" class=\"data row6 col0\" >-0.184083</td>\n      <td id=\"T_4bcc6_row6_col1\" class=\"data row6 col1\" >$a_{9} \\left(\\frac{\\left(a_{8} + x^{3} + x\\right) e^{- \\tan^{2}{\\left(x \\right)}}}{5} + 1\\right)$</td>\n      <td id=\"T_4bcc6_row6_col2\" class=\"data row6 col2\" >YES</td>\n    </tr>\n    <tr>\n      <th id=\"T_4bcc6_level0_row7\" class=\"row_heading level0 row7\" >8</th>\n      <td id=\"T_4bcc6_row7_col0\" class=\"data row7 col0\" >-0.205459</td>\n      <td id=\"T_4bcc6_row7_col1\" class=\"data row7 col1\" >$a_{9} \\left(3 \\left(a_{8} + x^{3} + x\\right) e^{- \\tan^{2}{\\left(x \\right)}} + 15\\right)$</td>\n      <td id=\"T_4bcc6_row7_col2\" class=\"data row7 col2\" >YES</td>\n    </tr>\n    <tr>\n      <th id=\"T_4bcc6_level0_row8\" class=\"row_heading level0 row8\" >9</th>\n      <td id=\"T_4bcc6_row8_col0\" class=\"data row8 col0\" >-0.206048</td>\n      <td id=\"T_4bcc6_row8_col1\" class=\"data row8 col1\" >$a_{8} \\left(\\left(a_{9} + x \\left(x^{2} + 1\\right)\\right) e^{- \\tan^{2}{\\left(x \\right)}} + 5\\right)$</td>\n      <td id=\"T_4bcc6_row8_col2\" class=\"data row8 col2\" >YES</td>\n    </tr>\n    <tr>\n      <th id=\"T_4bcc6_level0_row9\" class=\"row_heading level0 row9\" >10</th>\n      <td id=\"T_4bcc6_row9_col0\" class=\"data row9 col0\" >-0.588345</td>\n      <td id=\"T_4bcc6_row9_col1\" class=\"data row9 col1\" >$a_{9} \\left(- a_{8} + x^{3} + x + 5\\right)$</td>\n      <td id=\"T_4bcc6_row9_col2\" class=\"data row9 col2\" >NO</td>\n    </tr>\n  </tbody>\n</table>\n"
     },
     "execution_count": 39,
     "metadata": {},
     "output_type": "execute_result"
    }
   ],
   "source": [
    "pandas.set_option('max_colwidth', None)\n",
    "pandas.DataFrame(results, index=rows, columns=columns).style.set_properties(**{'text-align': 'center'})"
   ],
   "metadata": {
    "collapsed": false,
    "pycharm": {
     "name": "#%%\n"
    }
   }
  }
 ],
 "metadata": {
  "kernelspec": {
   "display_name": "Python 3",
   "language": "python",
   "name": "python3"
  },
  "language_info": {
   "codemirror_mode": {
    "name": "ipython",
    "version": 2
   },
   "file_extension": ".py",
   "mimetype": "text/x-python",
   "name": "python",
   "nbconvert_exporter": "python",
   "pygments_lexer": "ipython2",
   "version": "2.7.6"
  }
 },
 "nbformat": 4,
 "nbformat_minor": 0
}