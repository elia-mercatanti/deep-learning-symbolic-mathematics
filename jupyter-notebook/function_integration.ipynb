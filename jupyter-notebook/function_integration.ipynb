{
 "cells": [
  {
   "cell_type": "markdown",
   "source": [
    "# Interactive Demo of the Model on Functions Integration"
   ],
   "metadata": {
    "collapsed": false
   }
  },
  {
   "cell_type": "code",
   "execution_count": 1,
   "outputs": [],
   "source": [
    "import os\n",
    "\n",
    "import numpy\n",
    "import pandas\n",
    "import sympy\n",
    "import torch\n",
    "\n",
    "from src.envs import build_env\n",
    "from src.model import build_modules\n",
    "from src.utils import AttrDict\n",
    "from src.utils import to_cuda"
   ],
   "metadata": {
    "collapsed": false,
    "pycharm": {
     "name": "#%%\n"
    }
   }
  },
  {
   "cell_type": "markdown",
   "metadata": {},
   "source": [
    "## Build Environment - Reload Model"
   ]
  },
  {
   "cell_type": "markdown",
   "source": [
    "Get Trained Model:"
   ],
   "metadata": {
    "collapsed": false
   }
  },
  {
   "cell_type": "code",
   "execution_count": 2,
   "metadata": {},
   "outputs": [],
   "source": [
    "model_path = '../models/integrations/fwd_bwd_model.pth'\n",
    "assert os.path.isfile(model_path)"
   ]
  },
  {
   "cell_type": "markdown",
   "source": [
    "Set the Parameters for Environment and for the Model:\n",
    "\n",
    " Environment:\n",
    "- **env_name**: SymPy character environment.\n",
    "- **int_base**: integer representation base.\n",
    "- **balanced**: balanced representation (base > 0).\n",
    "- **positive**: do not sample negative numbers.\n",
    "- **precision**: float numbers precision.\n",
    "- **n_variables**: number of variables in expressions (between 1 and 4).\n",
    "- **n_coefficients**: number of coefficients in expressions (between 0 and 10).\n",
    "- **leaf_probs**: leaf probabilities of being a variable, a coefficient, an integer, or a constant.\n",
    "- **max_len**: maximum sequences length.\n",
    "- **max_int**: maximum integer value.\n",
    "- **max_ops**: maximum number of operators.\n",
    "- **max_ops_G**: maximum number of operators for G in IBP.\n",
    "- **clean_prefix_expr**: clean prefix expressions (f x -> Y, derivative f x x -> Y').\n",
    "- **rewrite_functions**: rewrite expressions with SymPy.\n",
    "- **tasks**: tasks (prim_fwd, prim_bwd, prim_ibp, ode1, ode2).\n",
    "- **operators**: operators (add, sub, mul, div), followed by weight.\n",
    "\n",
    "\n",
    " Model:\n",
    "- **cpu**: run on CPU.\n",
    "- **emb_dim**: embedding layer size.\n",
    "- **n_enc_layers**: number of transformer layers in the encoder.\n",
    "- **n_dec_layers**: number of transformer layers in the decoder.\n",
    "- **n_heads**: number of transformer heads.\n",
    "- **dropout**: dropout.\n",
    "- **attention_dropout**: dropout in the attention layer.\n",
    "- **sinusoidal_embeddings**: use sinusoidal embeddings.\n",
    "- **share_inout_emb**: share input and output embeddings.\n",
    "- **reload_model**: reload a pretrained model."
   ],
   "metadata": {
    "collapsed": false
   }
  },
  {
   "cell_type": "code",
   "execution_count": 3,
   "metadata": {},
   "outputs": [],
   "source": [
    "params = AttrDict({\n",
    "\n",
    "    # Environment Parameters\n",
    "    'env_name': 'char_sp',\n",
    "    'int_base': 10,\n",
    "    'balanced': False,\n",
    "    'positive': True,\n",
    "    'precision': 10,\n",
    "    'n_variables': 1,\n",
    "    'n_coefficients': 0,\n",
    "    'leaf_probs': '0.75,0,0.25,0',\n",
    "    'max_len': 512,\n",
    "    'max_int': 5,\n",
    "    'max_ops': 15,\n",
    "    'max_ops_G': 15,\n",
    "    'clean_prefix_expr': True,\n",
    "    'rewrite_functions': '',\n",
    "    'tasks': 'prim_fwd',\n",
    "    'operators': 'add:10,sub:3,mul:10,div:5,sqrt:4,pow2:4,pow3:2,pow4:1,pow5:1,ln:4,exp:4,sin:4,cos:4,tan:4,asin:1,'\n",
    "                 'acos:1,atan:1,sinh:1,cosh:1,tanh:1,asinh:1,acosh:1,atanh:1',\n",
    "\n",
    "    # Model Parameters\n",
    "    'cpu': False,\n",
    "    'emb_dim': 1024,\n",
    "    'n_enc_layers': 6,\n",
    "    'n_dec_layers': 6,\n",
    "    'n_heads': 8,\n",
    "    'dropout': 0,\n",
    "    'attention_dropout': 0,\n",
    "    'sinusoidal_embeddings': False,\n",
    "    'share_inout_emb': True,\n",
    "    'reload_model': model_path,\n",
    "\n",
    "})"
   ]
  },
  {
   "cell_type": "markdown",
   "source": [
    "Set the Environment with SymPy:"
   ],
   "metadata": {
    "collapsed": false
   }
  },
  {
   "cell_type": "code",
   "execution_count": 4,
   "metadata": {},
   "outputs": [],
   "source": [
    "env = build_env(params)\n",
    "x = env.local_dict['x']"
   ]
  },
  {
   "cell_type": "markdown",
   "source": [
    "Build Model Modules:"
   ],
   "metadata": {
    "collapsed": false
   }
  },
  {
   "cell_type": "code",
   "execution_count": 5,
   "metadata": {},
   "outputs": [],
   "source": [
    "modules = build_modules(env, params)\n",
    "encoder = modules['encoder']\n",
    "decoder = modules['decoder']"
   ]
  },
  {
   "cell_type": "markdown",
   "source": [
    "## Use the Model for finding the Integral of a Function\n",
    "\n",
    "Start from a function $F$, compute its derivative $f = F'$, and try to recover $F$ from $f$.\n",
    "\n",
    "Declare $F$, the Integral Function the Model has to Predict:"
   ],
   "metadata": {
    "collapsed": false
   }
  },
  {
   "cell_type": "code",
   "execution_count": 6,
   "metadata": {},
   "outputs": [],
   "source": [
    "F_infix = 'ln(cos(x + exp(x)) * sin(x**2 + 2) * exp(x) / x)'"
   ]
  },
  {
   "cell_type": "markdown",
   "source": [
    "Converts **F_infix** to a type that can be used inside SymPy:"
   ],
   "metadata": {
    "collapsed": false
   }
  },
  {
   "cell_type": "code",
   "execution_count": 7,
   "metadata": {},
   "outputs": [
    {
     "data": {
      "text/plain": "log(exp(x)*sin(x**2 + 2)*cos(x + exp(x))/x)",
      "text/latex": "$\\displaystyle \\log{\\left(\\frac{e^{x} \\sin{\\left(x^{2} + 2 \\right)} \\cos{\\left(x + e^{x} \\right)}}{x} \\right)}$"
     },
     "execution_count": 7,
     "metadata": {},
     "output_type": "execute_result"
    }
   ],
   "source": [
    "F = sympy.sympify(F_infix, locals=env.local_dict)\n",
    "F"
   ]
  },
  {
   "cell_type": "markdown",
   "source": [
    "Get $f$, or $F'$, that the model will take as input:"
   ],
   "metadata": {
    "collapsed": false
   }
  },
  {
   "cell_type": "code",
   "metadata": {
    "pycharm": {
     "name": "#%%\n"
    }
   },
   "source": [
    "f = F.diff(x)\n",
    "f"
   ],
   "execution_count": 8,
   "outputs": [
    {
     "data": {
      "text/plain": "x*(2*exp(x)*cos(x + exp(x))*cos(x**2 + 2) - (exp(x) + 1)*exp(x)*sin(x + exp(x))*sin(x**2 + 2)/x + exp(x)*sin(x**2 + 2)*cos(x + exp(x))/x - exp(x)*sin(x**2 + 2)*cos(x + exp(x))/x**2)*exp(-x)/(sin(x**2 + 2)*cos(x + exp(x)))",
      "text/latex": "$\\displaystyle \\frac{x \\left(2 e^{x} \\cos{\\left(x + e^{x} \\right)} \\cos{\\left(x^{2} + 2 \\right)} - \\frac{\\left(e^{x} + 1\\right) e^{x} \\sin{\\left(x + e^{x} \\right)} \\sin{\\left(x^{2} + 2 \\right)}}{x} + \\frac{e^{x} \\sin{\\left(x^{2} + 2 \\right)} \\cos{\\left(x + e^{x} \\right)}}{x} - \\frac{e^{x} \\sin{\\left(x^{2} + 2 \\right)} \\cos{\\left(x + e^{x} \\right)}}{x^{2}}\\right) e^{- x}}{\\sin{\\left(x^{2} + 2 \\right)} \\cos{\\left(x + e^{x} \\right)}}$"
     },
     "execution_count": 8,
     "metadata": {},
     "output_type": "execute_result"
    }
   ]
  },
  {
   "cell_type": "markdown",
   "metadata": {},
   "source": [
    "### Compute Prefix Representations"
   ]
  },
  {
   "cell_type": "code",
   "execution_count": 9,
   "metadata": {
    "scrolled": true
   },
   "outputs": [
    {
     "name": "stdout",
     "output_type": "stream",
     "text": [
      "F with Prefix Notation: ['ln', 'mul', 'pow', 'x', 'INT-', '1', 'mul', 'cos', 'add', 'x', 'exp', 'x', 'mul', 'exp', 'x', 'sin', 'add', 'INT+', '2', 'pow', 'x', 'INT+', '2']\n",
      "f with Prefix Notation: ['mul', 'x', 'mul', 'pow', 'cos', 'add', 'x', 'exp', 'x', 'INT-', '1', 'mul', 'pow', 'sin', 'add', 'INT+', '2', 'pow', 'x', 'INT+', '2', 'INT-', '1', 'mul', 'add', 'mul', 'INT+', '2', 'mul', 'cos', 'add', 'INT+', '2', 'pow', 'x', 'INT+', '2', 'mul', 'cos', 'add', 'x', 'exp', 'x', 'exp', 'x', 'add', 'mul', 'pow', 'x', 'INT-', '1', 'mul', 'cos', 'add', 'x', 'exp', 'x', 'mul', 'exp', 'x', 'sin', 'add', 'INT+', '2', 'pow', 'x', 'INT+', '2', 'add', 'mul', 'INT-', '1', 'mul', 'pow', 'x', 'INT-', '2', 'mul', 'cos', 'add', 'x', 'exp', 'x', 'mul', 'exp', 'x', 'sin', 'add', 'INT+', '2', 'pow', 'x', 'INT+', '2', 'mul', 'INT-', '1', 'mul', 'pow', 'x', 'INT-', '1', 'mul', 'add', 'INT+', '1', 'exp', 'x', 'mul', 'exp', 'x', 'mul', 'sin', 'add', 'INT+', '2', 'pow', 'x', 'INT+', '2', 'sin', 'add', 'x', 'exp', 'x', 'exp', 'mul', 'INT-', '1', 'x']\n"
     ]
    }
   ],
   "source": [
    "F_prefix = env.sympy_to_prefix(F)\n",
    "f_prefix = env.sympy_to_prefix(f)\n",
    "print(f\"F with Prefix Notation: {F_prefix}\")\n",
    "print(f\"f with Prefix Notation: {f_prefix}\")"
   ]
  },
  {
   "cell_type": "markdown",
   "metadata": {},
   "source": [
    "### Encode Input\n",
    "\n",
    "Clean prefix expressions before they are converted to PyTorch.\n",
    "\n",
    "Examples:\n",
    "- f x  -> Y\n",
    "- derivative f x x  -> Y'"
   ]
  },
  {
   "cell_type": "code",
   "execution_count": 10,
   "metadata": {},
   "outputs": [
    {
     "name": "stdout",
     "output_type": "stream",
     "text": [
      "f Clean Prefix Notation: ['sub', \"Y'\", 'mul', 'x', 'mul', 'pow', 'cos', 'add', 'x', 'exp', 'x', 'INT-', '1', 'mul', 'pow', 'sin', 'add', 'INT+', '2', 'pow', 'x', 'INT+', '2', 'INT-', '1', 'mul', 'add', 'mul', 'INT+', '2', 'mul', 'cos', 'add', 'INT+', '2', 'pow', 'x', 'INT+', '2', 'mul', 'cos', 'add', 'x', 'exp', 'x', 'exp', 'x', 'add', 'mul', 'pow', 'x', 'INT-', '1', 'mul', 'cos', 'add', 'x', 'exp', 'x', 'mul', 'exp', 'x', 'sin', 'add', 'INT+', '2', 'pow', 'x', 'INT+', '2', 'add', 'mul', 'INT-', '1', 'mul', 'pow', 'x', 'INT-', '2', 'mul', 'cos', 'add', 'x', 'exp', 'x', 'mul', 'exp', 'x', 'sin', 'add', 'INT+', '2', 'pow', 'x', 'INT+', '2', 'mul', 'INT-', '1', 'mul', 'pow', 'x', 'INT-', '1', 'mul', 'add', 'INT+', '1', 'exp', 'x', 'mul', 'exp', 'x', 'mul', 'sin', 'add', 'INT+', '2', 'pow', 'x', 'INT+', '2', 'sin', 'add', 'x', 'exp', 'x', 'exp', 'mul', 'INT-', '1', 'x']\n"
     ]
    }
   ],
   "source": [
    "x1_prefix = env.clean_prefix(['sub', 'derivative', 'f', 'x', 'x'] + f_prefix)\n",
    "print(f\"f Clean Prefix Notation: {x1_prefix}\")"
   ]
  },
  {
   "cell_type": "markdown",
   "source": [
    "Create a PyTorch LongTensor for storing $f$ as a sequence of indexes based on prefix clean notation \"words\":"
   ],
   "metadata": {
    "collapsed": false,
    "pycharm": {
     "name": "#%% md\n"
    }
   }
  },
  {
   "cell_type": "code",
   "execution_count": 11,
   "outputs": [
    {
     "data": {
      "text/plain": "tensor([[ 0, 67, 79, 54, 12, 54, 55, 40, 33, 12, 48, 12, 72, 82, 54, 55, 64, 33,\n         71, 83, 55, 12, 71, 83, 72, 82, 54, 33, 54, 71, 83, 54, 40, 33, 71, 83,\n         55, 12, 71, 83, 54, 40, 33, 12, 48, 12, 48, 12, 33, 54, 55, 12, 72, 82,\n         54, 40, 33, 12, 48, 12, 54, 48, 12, 64, 33, 71, 83, 55, 12, 71, 83, 33,\n         54, 72, 82, 54, 55, 12, 72, 83, 54, 40, 33, 12, 48, 12, 54, 48, 12, 64,\n         33, 71, 83, 55, 12, 71, 83, 54, 72, 82, 54, 55, 12, 72, 82, 54, 33, 71,\n         82, 48, 12, 54, 48, 12, 54, 64, 33, 71, 83, 55, 12, 71, 83, 64, 33, 12,\n         48, 12, 48, 54, 72, 82, 12,  0]])"
     },
     "execution_count": 11,
     "metadata": {},
     "output_type": "execute_result"
    }
   ],
   "source": [
    "x1 = torch.LongTensor(\n",
    "    [env.eos_index] +\n",
    "    [env.word2id[w] for w in x1_prefix] +\n",
    "    [env.eos_index]\n",
    ").view(-1, 1)\n",
    "x1.transpose(0, 1)"
   ],
   "metadata": {
    "collapsed": false,
    "pycharm": {
     "name": "#%%\n"
    }
   }
  },
  {
   "cell_type": "markdown",
   "source": [
    "Move PyTorch tensors to CUDA (GPU):"
   ],
   "metadata": {
    "collapsed": false,
    "pycharm": {
     "name": "#%% md\n"
    }
   }
  },
  {
   "cell_type": "code",
   "execution_count": 12,
   "outputs": [],
   "source": [
    "len1 = torch.LongTensor([len(x1)])\n",
    "x1, len1 = to_cuda(x1, len1)"
   ],
   "metadata": {
    "collapsed": false,
    "pycharm": {
     "name": "#%%\n"
    }
   }
  },
  {
   "cell_type": "markdown",
   "source": [
    "Encodes the “meaning” of the input sequence into a single vector, with the Encoder of the Model:"
   ],
   "metadata": {
    "collapsed": false,
    "pycharm": {
     "name": "#%% md\n"
    }
   }
  },
  {
   "cell_type": "code",
   "execution_count": 13,
   "outputs": [
    {
     "data": {
      "text/plain": "tensor([[[ 0.0124, -0.0057,  0.0175,  ...,  0.0161, -0.0029, -0.0005],\n         [ 0.0356, -0.0296,  0.0336,  ...,  0.0053,  0.0132, -0.0042],\n         [ 0.0298, -0.0290,  0.0005,  ..., -0.0346, -0.0461,  0.0662],\n         ...,\n         [-0.0959,  0.0465,  0.0309,  ..., -0.0495, -0.0396,  0.0086],\n         [ 0.0175,  0.0619,  0.0024,  ..., -0.0090, -0.0314,  0.0035],\n         [ 0.0121,  0.0149,  0.0057,  ...,  0.0103, -0.0053,  0.0038]]],\n       device='cuda:0')"
     },
     "execution_count": 13,
     "metadata": {},
     "output_type": "execute_result"
    }
   ],
   "source": [
    "with torch.no_grad():\n",
    "    encoded = encoder('fwd', x=x1, lengths=len1, causal=False).transpose(0, 1)\n",
    "\n",
    "encoded"
   ],
   "metadata": {
    "collapsed": false,
    "pycharm": {
     "name": "#%%\n"
    }
   }
  },
  {
   "cell_type": "markdown",
   "metadata": {},
   "source": [
    "### Decode with Beam Search\n",
    "\n",
    "Instead of picking a single output (sequence, in this case an integral hypothesis), multiple highly probable choices are retained.\n",
    "\n",
    "Declare beam size:"
   ]
  },
  {
   "cell_type": "code",
   "execution_count": 14,
   "metadata": {},
   "outputs": [],
   "source": [
    "beam_size = 10"
   ]
  },
  {
   "cell_type": "markdown",
   "source": [
    "Takes the encoder output vector and outputs a sequence of \"words\" to recover the integral function $F$, using the\n",
    "Decoder of the model."
   ],
   "metadata": {
    "collapsed": false,
    "pycharm": {
     "name": "#%% md\n"
    }
   }
  },
  {
   "cell_type": "code",
   "execution_count": 15,
   "outputs": [],
   "source": [
    "with torch.no_grad():\n",
    "    _, _, beam = decoder.generate_beam(encoded, len1, beam_size=beam_size, length_penalty=1.0, early_stopping=1,\n",
    "                                       max_len=200)\n",
    "assert len(beam) == 1\n",
    "hypotheses = beam[0].hyp\n",
    "assert len(hypotheses) == beam_size"
   ],
   "metadata": {
    "collapsed": false,
    "pycharm": {
     "name": "#%%\n"
    }
   }
  },
  {
   "cell_type": "markdown",
   "metadata": {},
   "source": [
    "### Print the Results - Scores, Integrals Hypotheses"
   ]
  },
  {
   "cell_type": "code",
   "execution_count": 16,
   "metadata": {
    "scrolled": false,
    "pycharm": {
     "name": "#%%\n"
    }
   },
   "outputs": [
    {
     "data": {
      "text/plain": "       Score                                     Integral Hypothesis Valid\n1  -0.000029             log(exp(x)*sin(x**2 + 2)*cos(x + exp(x))/x)   YES\n2  -0.284752       log(exp(x)*sin((x**3 + 2*x)/x)*cos(x + exp(x))/x)   YES\n3  -0.285919          log(exp(x)*sin(x*(x + 2/x))*cos(x + exp(x))/x)   YES\n4  -0.357943    log(exp(x)*sin(x*(x + 1) - x + 2)*cos(x + exp(x))/x)   YES\n5  -0.379522       log(exp(x)*sin(x**2*(x + 2/x))*cos(x + exp(x))/x)    NO\n6  -0.380337  log(exp(x)*sin(x**2 + 2)*cos(x + sinh(x) + cosh(x))/x)   YES\n7  -0.395180  atan(tan(log(exp(x)*sin(x**2 + 2)*cos(x + exp(x))/x)))    NO\n8  -0.396895    log(exp(x)*sin(x*(x - 1) + x + 2)*cos(x + exp(x))/x)   YES\n9  -0.432026        log(exp(x)*sin((x**2 + 2)**2)*cos(x + exp(x))/x)    NO\n10 -0.445381           log(exp(x)*sin(x**2 + 2*x)*cos(x + exp(x))/x)    NO",
      "text/html": "<div>\n<style scoped>\n    .dataframe tbody tr th:only-of-type {\n        vertical-align: middle;\n    }\n\n    .dataframe tbody tr th {\n        vertical-align: top;\n    }\n\n    .dataframe thead th {\n        text-align: right;\n    }\n</style>\n<table border=\"1\" class=\"dataframe\">\n  <thead>\n    <tr style=\"text-align: right;\">\n      <th></th>\n      <th>Score</th>\n      <th>Integral Hypothesis</th>\n      <th>Valid</th>\n    </tr>\n  </thead>\n  <tbody>\n    <tr>\n      <th>1</th>\n      <td>-0.000029</td>\n      <td>log(exp(x)*sin(x**2 + 2)*cos(x + exp(x))/x)</td>\n      <td>YES</td>\n    </tr>\n    <tr>\n      <th>2</th>\n      <td>-0.284752</td>\n      <td>log(exp(x)*sin((x**3 + 2*x)/x)*cos(x + exp(x))/x)</td>\n      <td>YES</td>\n    </tr>\n    <tr>\n      <th>3</th>\n      <td>-0.285919</td>\n      <td>log(exp(x)*sin(x*(x + 2/x))*cos(x + exp(x))/x)</td>\n      <td>YES</td>\n    </tr>\n    <tr>\n      <th>4</th>\n      <td>-0.357943</td>\n      <td>log(exp(x)*sin(x*(x + 1) - x + 2)*cos(x + exp(x))/x)</td>\n      <td>YES</td>\n    </tr>\n    <tr>\n      <th>5</th>\n      <td>-0.379522</td>\n      <td>log(exp(x)*sin(x**2*(x + 2/x))*cos(x + exp(x))/x)</td>\n      <td>NO</td>\n    </tr>\n    <tr>\n      <th>6</th>\n      <td>-0.380337</td>\n      <td>log(exp(x)*sin(x**2 + 2)*cos(x + sinh(x) + cosh(x))/x)</td>\n      <td>YES</td>\n    </tr>\n    <tr>\n      <th>7</th>\n      <td>-0.395180</td>\n      <td>atan(tan(log(exp(x)*sin(x**2 + 2)*cos(x + exp(x))/x)))</td>\n      <td>NO</td>\n    </tr>\n    <tr>\n      <th>8</th>\n      <td>-0.396895</td>\n      <td>log(exp(x)*sin(x*(x - 1) + x + 2)*cos(x + exp(x))/x)</td>\n      <td>YES</td>\n    </tr>\n    <tr>\n      <th>9</th>\n      <td>-0.432026</td>\n      <td>log(exp(x)*sin((x**2 + 2)**2)*cos(x + exp(x))/x)</td>\n      <td>NO</td>\n    </tr>\n    <tr>\n      <th>10</th>\n      <td>-0.445381</td>\n      <td>log(exp(x)*sin(x**2 + 2*x)*cos(x + exp(x))/x)</td>\n      <td>NO</td>\n    </tr>\n  </tbody>\n</table>\n</div>"
     },
     "execution_count": 16,
     "metadata": {},
     "output_type": "execute_result"
    }
   ],
   "source": [
    "rows = numpy.arange(1, beam_size + 1)\n",
    "columns = ['Score', 'Integral Hypothesis', 'Valid']\n",
    "results = []\n",
    "\n",
    "for score, sentence in sorted(hypotheses, reverse=True):\n",
    "    # Parse decoded hypothesis\n",
    "    ids = sentence[1:].tolist()  # Decoded token IDs\n",
    "    hyp_prefix = [env.id2word[word_id] for word_id in ids]  # Convert to prefix notation\n",
    "\n",
    "    hyp_infix = env.prefix_to_infix(hyp_prefix)  # Convert to infix notation\n",
    "    hyp_sympy = env.infix_to_sympy(hyp_infix)  # Convert to SymPy\n",
    "\n",
    "    # Check whether we recover \"f\" if we differentiate the hypothesis\n",
    "    # Note that sometimes, SymPy fails to show that hyp' - f == 0, and the result is considered as invalid, although it may be correct\n",
    "    validation = \"YES\" if sympy.simplify(hyp_sympy - F) == 0 else \"NO\"\n",
    "\n",
    "    # Prepare results\n",
    "    results.append([score, hyp_sympy, validation])\n",
    "\n",
    "# Print results\n",
    "pandas.set_option('max_colwidth', None)\n",
    "pandas.DataFrame(results, index=rows, columns=columns)\n"
   ]
  }
 ],
 "metadata": {
  "kernelspec": {
   "name": "pycharm-3e766e12",
   "language": "python",
   "display_name": "PyCharm (deep-learning-symbolic-mathematics)"
  },
  "language_info": {
   "codemirror_mode": {
    "name": "ipython",
    "version": 3
   },
   "file_extension": ".py",
   "mimetype": "text/x-python",
   "name": "python",
   "nbconvert_exporter": "python",
   "pygments_lexer": "ipython3",
   "version": "3.7.4"
  }
 },
 "nbformat": 4,
 "nbformat_minor": 2
}