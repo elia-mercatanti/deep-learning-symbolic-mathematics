{
 "cells": [
  {
   "cell_type": "markdown",
   "source": [
    "# Demo of the Model on Function Integration"
   ],
   "metadata": {
    "collapsed": false
   }
  },
  {
   "cell_type": "code",
   "execution_count": 284,
   "outputs": [],
   "source": [
    "import os\n",
    "\n",
    "import numpy\n",
    "import pandas\n",
    "import sympy\n",
    "import torch\n",
    "\n",
    "from src.envs import build_env\n",
    "from src.envs.char_sp import InvalidPrefixExpression\n",
    "from src.model import build_modules\n",
    "from src.utils import AttrDict\n",
    "from src.utils import to_cuda"
   ],
   "metadata": {
    "collapsed": false,
    "pycharm": {
     "name": "#%%\n"
    }
   }
  },
  {
   "cell_type": "markdown",
   "source": [
    "Use the Model to Find the Integral of a Function: three approaches to cover all the problem space."
   ],
   "metadata": {
    "collapsed": false
   }
  },
  {
   "cell_type": "markdown",
   "source": [
    "## Forward Approach (FWD)\n",
    "\n",
    "Start from a function $f$, compute its integral $F = \\int f$, and try to recover $F$ from $f$.\n",
    "\n",
    "**Pros**:\n",
    "- Representative sample of the subset of the problem space that can be solved by an external symbolic mathematical\n",
    "  framework.\n",
    "\n",
    "**Cons**:\n",
    "- Use only function that can solve by symbolic mathematical framework.\n",
    "- Time expensive."
   ],
   "metadata": {
    "collapsed": false
   }
  },
  {
   "cell_type": "markdown",
   "source": [
    "### Build Environment - Reload Model"
   ],
   "metadata": {
    "collapsed": false
   }
  },
  {
   "cell_type": "markdown",
   "source": [
    "Get Trained Model:"
   ],
   "metadata": {
    "collapsed": false
   }
  },
  {
   "cell_type": "code",
   "execution_count": 285,
   "outputs": [],
   "source": [
    "model_path = '../models/integrations/fwd.pth'\n",
    "assert os.path.isfile(model_path)"
   ],
   "metadata": {
    "collapsed": false,
    "pycharm": {
     "name": "#%%\n"
    }
   }
  },
  {
   "cell_type": "markdown",
   "source": [
    "Set the Parameters for Environment and for the Model:\n",
    "\n",
    " Environment:\n",
    "- **env_name**: SymPy character environment.\n",
    "- **int_base**: integer representation base.\n",
    "- **balanced**: balanced representation (base > 0).\n",
    "- **positive**: do not sample negative numbers.\n",
    "- **precision**: float numbers precision.\n",
    "- **n_variables**: number of variables in expressions (between 1 and 4).\n",
    "- **n_coefficients**: number of coefficients in expressions (between 0 and 10).\n",
    "- **leaf_probs**: leaf probabilities of being a variable, a coefficient, an integer, or a constant.\n",
    "- **max_len**: maximum sequences length.\n",
    "- **max_int**: maximum integer value.\n",
    "- **max_ops**: maximum number of operators.\n",
    "- **max_ops_G**: maximum number of operators for G in IBP.\n",
    "- **clean_prefix_expr**: clean prefix expressions (f x -> Y, derivative f x x -> Y').\n",
    "- **rewrite_functions**: rewrite expressions with a given SymPy function.\n",
    "- **tasks**: tasks to run (prim_fwd, prim_bwd, prim_ibp, ode1, ode2).\n",
    "- **operators**: considered operators (add, sub, mul, div), followed by (unnormalized) sampling probabilities.\n",
    "\n",
    "\n",
    " Model:\n",
    "- **cpu**: run on CPU.\n",
    "- **emb_dim**: embedding layer size.\n",
    "- **n_enc_layers**: number of transformer layers in the encoder.\n",
    "- **n_dec_layers**: number of transformer layers in the decoder.\n",
    "- **n_heads**: number of transformer heads.\n",
    "- **dropout**: dropout.\n",
    "- **attention_dropout**: dropout in the attention layer.\n",
    "- **sinusoidal_embeddings**: use sinusoidal embeddings.\n",
    "- **share_inout_emb**: share input and output embeddings.\n",
    "- **reload_model**: reload a pretrained model."
   ],
   "metadata": {
    "collapsed": false
   }
  },
  {
   "cell_type": "code",
   "execution_count": 286,
   "outputs": [],
   "source": [
    "params = AttrDict({\n",
    "\n",
    "    # Environment Parameters\n",
    "    'env_name': 'char_sp',\n",
    "    'int_base': 10,\n",
    "    'balanced': False,\n",
    "    'positive': True,\n",
    "    'precision': 10,\n",
    "    'n_variables': 1,\n",
    "    'n_coefficients': 0,\n",
    "    'leaf_probs': '0.75,0,0.25,0',\n",
    "    'max_len': 512,\n",
    "    'max_int': 5,\n",
    "    'max_ops': 15,\n",
    "    'max_ops_G': 15,\n",
    "    'clean_prefix_expr': True,\n",
    "    'rewrite_functions': '',\n",
    "    'tasks': 'prim_fwd,prim_bwd,prim_ibp',\n",
    "    'operators': 'add:10,sub:3,mul:10,div:5,sqrt:4,pow2:4,pow3:2,pow4:1,pow5:1,ln:4,exp:4,sin:4,cos:4,tan:4,asin:1,'\n",
    "                 'acos:1,atan:1,sinh:1,cosh:1,tanh:1,asinh:1,acosh:1,atanh:1',\n",
    "\n",
    "    # Model Parameters\n",
    "    'cpu': False,\n",
    "    'emb_dim': 1024,\n",
    "    'n_enc_layers': 6,\n",
    "    'n_dec_layers': 6,\n",
    "    'n_heads': 8,\n",
    "    'dropout': 0,\n",
    "    'attention_dropout': 0,\n",
    "    'sinusoidal_embeddings': False,\n",
    "    'share_inout_emb': True,\n",
    "    'reload_model': model_path,\n",
    "\n",
    "})"
   ],
   "metadata": {
    "collapsed": false,
    "pycharm": {
     "name": "#%%\n"
    }
   }
  },
  {
   "cell_type": "markdown",
   "source": [
    "Set the Environment with SymPy:"
   ],
   "metadata": {
    "collapsed": false
   }
  },
  {
   "cell_type": "code",
   "execution_count": 287,
   "outputs": [],
   "source": [
    "env = build_env(params)\n",
    "x = env.local_dict['x']"
   ],
   "metadata": {
    "collapsed": false,
    "pycharm": {
     "name": "#%%\n"
    }
   }
  },
  {
   "cell_type": "markdown",
   "source": [
    "Build Model Modules:"
   ],
   "metadata": {
    "collapsed": false
   }
  },
  {
   "cell_type": "code",
   "execution_count": 288,
   "outputs": [],
   "source": [
    "modules = build_modules(env, params)\n",
    "encoder = modules['encoder']\n",
    "decoder = modules['decoder']"
   ],
   "metadata": {
    "collapsed": false,
    "pycharm": {
     "name": "#%%\n"
    }
   }
  },
  {
   "cell_type": "markdown",
   "source": [
    "### Declare input function $f$ and Compute Integral Function $F$\n",
    "\n",
    "Declare $f$, the input function for the Model:"
   ],
   "metadata": {
    "collapsed": false
   }
  },
  {
   "cell_type": "code",
   "execution_count": 289,
   "outputs": [],
   "source": [
    "# f_infix = '(sqrt((x**(-1))*(x+((-1)*(x**2)))))'\n",
    "# f_infix = '((sqrt(1+((-1)*(x**2))))+(2*(x**2)))'\n",
    "# f_infix = '(((-1)*x)+(2*((x+(tan(atanh(2))))**(-1))))'\n",
    "f_infix = 'cos(x)*exp(2*x+1)'"
   ],
   "metadata": {
    "collapsed": false,
    "pycharm": {
     "name": "#%%\n"
    }
   }
  },
  {
   "cell_type": "markdown",
   "source": [
    "Converts **f_infix** to a type that can be used inside SymPy:"
   ],
   "metadata": {
    "collapsed": false
   }
  },
  {
   "cell_type": "code",
   "execution_count": 290,
   "outputs": [
    {
     "data": {
      "text/plain": "exp(2*x + 1)*cos(x)",
      "text/latex": "$\\displaystyle e^{2 x + 1} \\cos{\\left(x \\right)}$"
     },
     "execution_count": 290,
     "metadata": {},
     "output_type": "execute_result"
    }
   ],
   "source": [
    "f = sympy.sympify(f_infix, locals=env.local_dict)\n",
    "f"
   ],
   "metadata": {
    "collapsed": false,
    "pycharm": {
     "name": "#%%\n"
    }
   }
  },
  {
   "cell_type": "markdown",
   "source": [
    "Compute $F$, or $\\int f$, the integral function the model has to predict:"
   ],
   "metadata": {
    "collapsed": false
   }
  },
  {
   "cell_type": "code",
   "execution_count": 291,
   "outputs": [
    {
     "data": {
      "text/plain": "E*(exp(2*x)*sin(x)/5 + 2*exp(2*x)*cos(x)/5)",
      "text/latex": "$\\displaystyle e \\left(\\frac{e^{2 x} \\sin{\\left(x \\right)}}{5} + \\frac{2 e^{2 x} \\cos{\\left(x \\right)}}{5}\\right)$"
     },
     "execution_count": 291,
     "metadata": {},
     "output_type": "execute_result"
    }
   ],
   "source": [
    "F = f.integrate(x, risch=True)\n",
    "F = F.doit()\n",
    "F"
   ],
   "metadata": {
    "collapsed": false,
    "pycharm": {
     "name": "#%%\n"
    }
   }
  },
  {
   "cell_type": "markdown",
   "source": [
    "### Compute Prefix Representations"
   ],
   "metadata": {
    "collapsed": false
   }
  },
  {
   "cell_type": "code",
   "execution_count": 292,
   "outputs": [
    {
     "name": "stdout",
     "output_type": "stream",
     "text": [
      "F with Prefix Notation:\n",
      "['mul', 'E', 'add', 'mul', 'div', 'INT+', '1', 'INT+', '5', 'mul', 'exp', 'mul', 'INT+', '2', 'x', 'sin', 'x', 'mul', 'div', 'INT+', '2', 'INT+', '5', 'mul', 'cos', 'x', 'exp', 'mul', 'INT+', '2', 'x']\n",
      "\n",
      "f with Prefix Notation:\n",
      "['mul', 'cos', 'x', 'exp', 'add', 'INT+', '1', 'mul', 'INT+', '2', 'x']\n"
     ]
    }
   ],
   "source": [
    "F_prefix = env.sympy_to_prefix(F)\n",
    "f_prefix = env.sympy_to_prefix(f)\n",
    "print(f\"F with Prefix Notation:\\n{F_prefix}\\n\")\n",
    "print(f\"f with Prefix Notation:\\n{f_prefix}\")"
   ],
   "metadata": {
    "collapsed": false,
    "pycharm": {
     "name": "#%%\n"
    }
   }
  },
  {
   "cell_type": "markdown",
   "source": [
    "### Encode Input\n",
    "\n",
    "Clean prefix expressions before they are converted to PyTorch data.\n",
    "\n",
    "Examples:\n",
    "- f x  -> Y\n",
    "- derivative f x x  -> Y'"
   ],
   "metadata": {
    "collapsed": false
   }
  },
  {
   "cell_type": "code",
   "execution_count": 293,
   "outputs": [
    {
     "name": "stdout",
     "output_type": "stream",
     "text": [
      "f Clean Prefix Notation:\n",
      "['sub', \"Y'\", 'mul', 'cos', 'x', 'exp', 'add', 'INT+', '1', 'mul', 'INT+', '2', 'x']\n"
     ]
    }
   ],
   "source": [
    "x1_prefix = env.clean_prefix(['sub', 'derivative', 'f', 'x', 'x'] + f_prefix)\n",
    "print(f\"f Clean Prefix Notation:\\n{x1_prefix}\")"
   ],
   "metadata": {
    "collapsed": false,
    "pycharm": {
     "name": "#%%\n"
    }
   }
  },
  {
   "cell_type": "markdown",
   "source": [
    "Create a PyTorch LongTensor for storing $f$ as a sequence of indexes based on prefix clean notation \"words\" (Word to\n",
    "index dictionary is defined inside the Model environment):"
   ],
   "metadata": {
    "collapsed": false
   }
  },
  {
   "cell_type": "code",
   "execution_count": 294,
   "outputs": [
    {
     "data": {
      "text/plain": "tensor([[ 0, 67, 79, 54, 40, 12, 48, 33, 71, 82, 54, 71, 83, 12,  0]])"
     },
     "execution_count": 294,
     "metadata": {},
     "output_type": "execute_result"
    }
   ],
   "source": [
    "x1 = torch.LongTensor(\n",
    "    [env.eos_index] +\n",
    "    [env.word2id[w] for w in x1_prefix] +\n",
    "    [env.eos_index]\n",
    ").view(-1, 1)\n",
    "x1.transpose(0, 1)"
   ],
   "metadata": {
    "collapsed": false,
    "pycharm": {
     "name": "#%%\n"
    }
   }
  },
  {
   "cell_type": "markdown",
   "source": [
    "Move PyTorch tensors to CUDA (GPU):"
   ],
   "metadata": {
    "collapsed": false
   }
  },
  {
   "cell_type": "code",
   "execution_count": 295,
   "outputs": [],
   "source": [
    "len1 = torch.LongTensor([len(x1)])\n",
    "x1, len1 = to_cuda(x1, len1)"
   ],
   "metadata": {
    "collapsed": false,
    "pycharm": {
     "name": "#%%\n"
    }
   }
  },
  {
   "cell_type": "markdown",
   "source": [
    "Encodes the “meaning” of the input sequence into a single vector, with the Encoder of the Model:"
   ],
   "metadata": {
    "collapsed": false
   }
  },
  {
   "cell_type": "code",
   "execution_count": 296,
   "outputs": [
    {
     "data": {
      "text/plain": "tensor([[[ 0.0098,  0.0080,  0.0017,  ..., -0.0034,  0.0062,  0.0112],\n         [ 0.0709, -0.2254, -0.0489,  ..., -0.0400, -0.0017,  0.0478],\n         [-0.0376,  0.0220, -0.0576,  ...,  0.0310, -0.0581,  0.0431],\n         ...,\n         [ 0.0764,  0.0801,  0.0035,  ..., -0.0156,  0.0639, -0.0119],\n         [-0.0719, -0.0334,  0.1847,  ...,  0.0151,  0.0921,  0.0690],\n         [ 0.0257,  0.0136, -0.0667,  ..., -0.0595, -0.0787, -0.0225]]],\n       device='cuda:0')"
     },
     "execution_count": 296,
     "metadata": {},
     "output_type": "execute_result"
    }
   ],
   "source": [
    "with torch.no_grad():\n",
    "    encoded = encoder('fwd', x=x1, lengths=len1, causal=False).transpose(0, 1)\n",
    "\n",
    "encoded"
   ],
   "metadata": {
    "collapsed": false,
    "pycharm": {
     "name": "#%%\n"
    }
   }
  },
  {
   "cell_type": "markdown",
   "source": [
    "### Decode with Beam Search\n",
    "\n",
    "Instead of picking a single output, a sequence (in this case an hypothesis of an integral), multiple highly probable\n",
    "choices are retained.\n",
    "\n",
    "Declare beam size:"
   ],
   "metadata": {
    "collapsed": false
   }
  },
  {
   "cell_type": "code",
   "execution_count": 297,
   "outputs": [],
   "source": [
    "beam_size = 10"
   ],
   "metadata": {
    "collapsed": false,
    "pycharm": {
     "name": "#%%\n"
    }
   }
  },
  {
   "cell_type": "markdown",
   "source": [
    "Takes the encoder output vector and outputs multiple sequences of \"words\", that in this case should represent integral\n",
    "function $F$ hypothesis, using the Decoder of the model."
   ],
   "metadata": {
    "collapsed": false
   }
  },
  {
   "cell_type": "code",
   "execution_count": 298,
   "outputs": [],
   "source": [
    "with torch.no_grad():\n",
    "    _, _, beam = decoder.generate_beam(encoded, len1, beam_size=beam_size, length_penalty=1.0, early_stopping=1,\n",
    "                                       max_len=params.max_len)\n",
    "assert len(beam) == 1\n",
    "hypotheses = beam[0].hyp\n",
    "assert len(hypotheses) == beam_size"
   ],
   "metadata": {
    "collapsed": false,
    "pycharm": {
     "name": "#%%\n"
    }
   }
  },
  {
   "cell_type": "markdown",
   "source": [
    "### View the Results"
   ],
   "metadata": {
    "collapsed": false
   }
  },
  {
   "cell_type": "markdown",
   "source": [
    "Input function $f$:"
   ],
   "metadata": {
    "collapsed": false
   }
  },
  {
   "cell_type": "code",
   "execution_count": 299,
   "outputs": [
    {
     "data": {
      "text/plain": "exp(2*x + 1)*cos(x)",
      "text/latex": "$\\displaystyle e^{2 x + 1} \\cos{\\left(x \\right)}$"
     },
     "execution_count": 299,
     "metadata": {},
     "output_type": "execute_result"
    }
   ],
   "source": [
    "f"
   ],
   "metadata": {
    "collapsed": false,
    "pycharm": {
     "name": "#%%\n"
    }
   }
  },
  {
   "cell_type": "markdown",
   "source": [
    "Integral function $F$ to find:"
   ],
   "metadata": {
    "collapsed": false
   }
  },
  {
   "cell_type": "code",
   "execution_count": 300,
   "outputs": [
    {
     "data": {
      "text/plain": "E*(exp(2*x)*sin(x)/5 + 2*exp(2*x)*cos(x)/5)",
      "text/latex": "$\\displaystyle e \\left(\\frac{e^{2 x} \\sin{\\left(x \\right)}}{5} + \\frac{2 e^{2 x} \\cos{\\left(x \\right)}}{5}\\right)$"
     },
     "execution_count": 300,
     "metadata": {},
     "output_type": "execute_result"
    }
   ],
   "source": [
    "F"
   ],
   "metadata": {
    "collapsed": false,
    "pycharm": {
     "name": "#%%\n"
    }
   }
  },
  {
   "cell_type": "markdown",
   "source": [
    "Extract scores and integrals hypotheses:"
   ],
   "metadata": {
    "collapsed": false
   }
  },
  {
   "cell_type": "code",
   "execution_count": 301,
   "outputs": [],
   "source": [
    "rows = numpy.arange(1, beam_size + 1)\n",
    "columns = ['Score', 'Integral Hypothesis', 'Valid']\n",
    "results = []\n",
    "\n",
    "for score, sequence in sorted(hypotheses, reverse=True):\n",
    "    # Parse decoded hypothesis\n",
    "    ids = sequence[1:].tolist()  # Decoded token IDs\n",
    "    hyp_prefix = [env.id2word[word_id] for word_id in ids]  # Convert to prefix notation\n",
    "\n",
    "    try:\n",
    "        hyp_infix = env.prefix_to_infix(hyp_prefix)  # Convert to infix notation\n",
    "        hyp_sympy = env.infix_to_sympy(hyp_infix)  # Convert to SymPy\n",
    "\n",
    "        # Check whether we recover \"f\" if we differentiate the hypothesis\n",
    "        # Note that sometimes, SymPy fails to show that hyp' - f == 0, and the result is considered as invalid, although it\n",
    "        # may be correct\n",
    "        validation = \"YES\" if sympy.simplify(hyp_sympy.diff(x) - f, seconds=1) == 0 else \"NO\"\n",
    "        # validation = \"YES\" if sympy.simplify(hyp_sympy - F) == 0 else \"NO\"\n",
    "\n",
    "        # Transform hypothesis to a valid latex expression\n",
    "        hyp_expr = \"$\" + sympy.latex(env.infix_to_sympy(hyp_infix))  + \"$\"\n",
    "\n",
    "    except InvalidPrefixExpression:\n",
    "        validation = \"INVALID PREFIX EXPRESSION\"\n",
    "        hyp_expr = hyp_prefix\n",
    "\n",
    "    # Prepare results\n",
    "    results.append([score, hyp_expr, validation])"
   ],
   "metadata": {
    "collapsed": false,
    "pycharm": {
     "name": "#%%\n"
    }
   }
  },
  {
   "cell_type": "markdown",
   "source": [
    "Print results:"
   ],
   "metadata": {
    "collapsed": false
   }
  },
  {
   "cell_type": "code",
   "execution_count": 302,
   "outputs": [
    {
     "data": {
      "text/plain": "<pandas.io.formats.style.Styler at 0x7f1bbce06640>",
      "text/html": "<style type=\"text/css\">\n#T_86924_row0_col0, #T_86924_row0_col1, #T_86924_row0_col2, #T_86924_row1_col0, #T_86924_row1_col1, #T_86924_row1_col2, #T_86924_row2_col0, #T_86924_row2_col1, #T_86924_row2_col2, #T_86924_row3_col0, #T_86924_row3_col1, #T_86924_row3_col2, #T_86924_row4_col0, #T_86924_row4_col1, #T_86924_row4_col2, #T_86924_row5_col0, #T_86924_row5_col1, #T_86924_row5_col2, #T_86924_row6_col0, #T_86924_row6_col1, #T_86924_row6_col2, #T_86924_row7_col0, #T_86924_row7_col1, #T_86924_row7_col2, #T_86924_row8_col0, #T_86924_row8_col1, #T_86924_row8_col2, #T_86924_row9_col0, #T_86924_row9_col1, #T_86924_row9_col2 {\n  text-align: center;\n}\n</style>\n<table id=\"T_86924_\">\n  <thead>\n    <tr>\n      <th class=\"blank level0\" >&nbsp;</th>\n      <th class=\"col_heading level0 col0\" >Score</th>\n      <th class=\"col_heading level0 col1\" >Integral Hypothesis</th>\n      <th class=\"col_heading level0 col2\" >Valid</th>\n    </tr>\n  </thead>\n  <tbody>\n    <tr>\n      <th id=\"T_86924_level0_row0\" class=\"row_heading level0 row0\" >1</th>\n      <td id=\"T_86924_row0_col0\" class=\"data row0 col0\" >-0.000000</td>\n      <td id=\"T_86924_row0_col1\" class=\"data row0 col1\" >$e \\left(\\frac{e^{2 x} \\sin{\\left(x \\right)}}{5} + \\frac{2 e^{2 x} \\cos{\\left(x \\right)}}{5}\\right)$</td>\n      <td id=\"T_86924_row0_col2\" class=\"data row0 col2\" >YES</td>\n    </tr>\n    <tr>\n      <th id=\"T_86924_level0_row1\" class=\"row_heading level0 row1\" >2</th>\n      <td id=\"T_86924_row1_col0\" class=\"data row1 col0\" >-0.518795</td>\n      <td id=\"T_86924_row1_col1\" class=\"data row1 col1\" >$e \\left(\\frac{e^{2 x} \\sin{\\left(x \\right)}}{5} + \\frac{2 e^{2 x} \\cos{\\left(x \\right)}}{5}\\right)$</td>\n      <td id=\"T_86924_row1_col2\" class=\"data row1 col2\" >YES</td>\n    </tr>\n    <tr>\n      <th id=\"T_86924_level0_row2\" class=\"row_heading level0 row2\" >3</th>\n      <td id=\"T_86924_row2_col0\" class=\"data row2 col0\" >-0.521358</td>\n      <td id=\"T_86924_row2_col1\" class=\"data row2 col1\" >$e \\left(\\frac{e^{2 x} \\sin{\\left(x \\right)}}{5} + \\frac{2 e^{2 x} \\cos{\\left(x \\right)}}{5}\\right)$</td>\n      <td id=\"T_86924_row2_col2\" class=\"data row2 col2\" >YES</td>\n    </tr>\n    <tr>\n      <th id=\"T_86924_level0_row3\" class=\"row_heading level0 row3\" >4</th>\n      <td id=\"T_86924_row3_col0\" class=\"data row3 col0\" >-0.549913</td>\n      <td id=\"T_86924_row3_col1\" class=\"data row3 col1\" >$e \\left(\\frac{2 e^{2 x} \\cos{\\left(x \\right)}}{5} + \\frac{e \\sin{\\left(x \\right)}}{5}\\right)$</td>\n      <td id=\"T_86924_row3_col2\" class=\"data row3 col2\" >NO</td>\n    </tr>\n    <tr>\n      <th id=\"T_86924_level0_row4\" class=\"row_heading level0 row4\" >5</th>\n      <td id=\"T_86924_row4_col0\" class=\"data row4 col0\" >-0.580704</td>\n      <td id=\"T_86924_row4_col1\" class=\"data row4 col1\" >$e \\left(\\frac{2 e^{2 x} \\cos{\\left(x \\right)}}{5} + \\frac{e e^{2 x}}{5}\\right)$</td>\n      <td id=\"T_86924_row4_col2\" class=\"data row4 col2\" >NO</td>\n    </tr>\n    <tr>\n      <th id=\"T_86924_level0_row5\" class=\"row_heading level0 row5\" >6</th>\n      <td id=\"T_86924_row5_col0\" class=\"data row5 col0\" >-0.629831</td>\n      <td id=\"T_86924_row5_col1\" class=\"data row5 col1\" >$\\frac{3 e^{2} e^{2 x}}{5}$</td>\n      <td id=\"T_86924_row5_col2\" class=\"data row5 col2\" >NO</td>\n    </tr>\n    <tr>\n      <th id=\"T_86924_level0_row6\" class=\"row_heading level0 row6\" >7</th>\n      <td id=\"T_86924_row6_col0\" class=\"data row6 col0\" >-0.665505</td>\n      <td id=\"T_86924_row6_col1\" class=\"data row6 col1\" >['mul', 'add', 'mul', 'div', 'INT+', '1', 'INT+', '5', 'mul', 'exp', 'mul', 'INT+', '2', 'x', 'sin', 'x', 'mul', 'div', 'INT+', '2', 'INT+', '5', 'mul', 'cos', 'x', 'exp', 'mul', 'INT+', '2', 'x']</td>\n      <td id=\"T_86924_row6_col2\" class=\"data row6 col2\" >INVALID PREFIX EXPRESSION</td>\n    </tr>\n    <tr>\n      <th id=\"T_86924_level0_row7\" class=\"row_heading level0 row7\" >8</th>\n      <td id=\"T_86924_row7_col0\" class=\"data row7 col0\" >-0.735186</td>\n      <td id=\"T_86924_row7_col1\" class=\"data row7 col1\" >$e \\left(\\frac{e \\sin{\\left(x \\right)}}{5} + \\frac{2 e \\cos{\\left(x \\right)}}{5}\\right)$</td>\n      <td id=\"T_86924_row7_col2\" class=\"data row7 col2\" >NO</td>\n    </tr>\n    <tr>\n      <th id=\"T_86924_level0_row8\" class=\"row_heading level0 row8\" >9</th>\n      <td id=\"T_86924_row8_col0\" class=\"data row8 col0\" >-0.765347</td>\n      <td id=\"T_86924_row8_col1\" class=\"data row8 col1\" >$e \\left(\\frac{2 e^{5 x} \\cos{\\left(x \\right)}}{5} + \\frac{e^{2 x} \\sin{\\left(x \\right)}}{5}\\right)$</td>\n      <td id=\"T_86924_row8_col2\" class=\"data row8 col2\" >NO</td>\n    </tr>\n    <tr>\n      <th id=\"T_86924_level0_row9\" class=\"row_heading level0 row9\" >10</th>\n      <td id=\"T_86924_row9_col0\" class=\"data row9 col0\" >-0.773843</td>\n      <td id=\"T_86924_row9_col1\" class=\"data row9 col1\" >$e \\left(\\frac{2 e^{3 x} \\cos{\\left(x \\right)}}{5} + \\frac{e^{2 x} \\sin{\\left(x \\right)}}{5}\\right)$</td>\n      <td id=\"T_86924_row9_col2\" class=\"data row9 col2\" >NO</td>\n    </tr>\n  </tbody>\n</table>\n"
     },
     "execution_count": 302,
     "metadata": {},
     "output_type": "execute_result"
    }
   ],
   "source": [
    "pandas.set_option('max_colwidth', None)\n",
    "pandas.DataFrame(results, index=rows, columns=columns).style.set_properties(**{'text-align': 'center'})"
   ],
   "metadata": {
    "collapsed": false,
    "pycharm": {
     "name": "#%%\n"
    }
   }
  },
  {
   "cell_type": "markdown",
   "source": [
    "## Backward Approach (BWD)\n",
    "\n",
    "Start from a function $F$, compute its derivative $f = F'$, and try to recover $F$ from $f$.\n",
    "\n",
    "**Pros**:\n",
    "- Always possible.\n",
    "- Extremely fast even for large expressions.\n",
    "- Does not depend on external symbolic integration system.\n",
    "\n",
    "**Cons**:\n",
    "- Very unlikely to generate the integral of simple functions."
   ],
   "metadata": {
    "collapsed": false
   }
  },
  {
   "cell_type": "markdown",
   "source": [
    "### Build Environment - Reload Model"
   ],
   "metadata": {
    "collapsed": false
   }
  },
  {
   "cell_type": "code",
   "execution_count": 303,
   "outputs": [],
   "source": [
    "model_path = '../models/integrations/bwd.pth'\n",
    "assert os.path.isfile(model_path)\n",
    "\n",
    "params = AttrDict({\n",
    "\n",
    "    # Environment Parameters\n",
    "    'env_name': 'char_sp',\n",
    "    'int_base': 10,\n",
    "    'balanced': False,\n",
    "    'positive': True,\n",
    "    'precision': 10,\n",
    "    'n_variables': 1,\n",
    "    'n_coefficients': 0,\n",
    "    'leaf_probs': '0.75,0,0.25,0',\n",
    "    'max_len': 512,\n",
    "    'max_int': 5,\n",
    "    'max_ops': 15,\n",
    "    'max_ops_G': 15,\n",
    "    'clean_prefix_expr': True,\n",
    "    'rewrite_functions': '',\n",
    "    'tasks': 'prim_fwd,prim_bwd,prim_ibp',\n",
    "    'operators': 'add:10,sub:3,mul:10,div:5,sqrt:4,pow2:4,pow3:2,pow4:1,pow5:1,ln:4,exp:4,sin:4,cos:4,tan:4,asin:1,'\n",
    "                 'acos:1,atan:1,sinh:1,cosh:1,tanh:1,asinh:1,acosh:1,atanh:1',\n",
    "\n",
    "    # Model Parameters\n",
    "    'cpu': False,\n",
    "    'emb_dim': 1024,\n",
    "    'n_enc_layers': 6,\n",
    "    'n_dec_layers': 6,\n",
    "    'n_heads': 8,\n",
    "    'dropout': 0,\n",
    "    'attention_dropout': 0,\n",
    "    'sinusoidal_embeddings': False,\n",
    "    'share_inout_emb': True,\n",
    "    'reload_model': model_path,\n",
    "\n",
    "})\n",
    "\n",
    "env = build_env(params)\n",
    "\n",
    "modules = build_modules(env, params)\n",
    "encoder = modules['encoder']\n",
    "decoder = modules['decoder']"
   ],
   "metadata": {
    "collapsed": false,
    "pycharm": {
     "name": "#%%\n"
    }
   }
  },
  {
   "cell_type": "markdown",
   "source": [
    "### Declare Integral function $F$ and Compute Input Function $f$\n",
    "\n",
    "Declare $F$, the integral function the model has to predict:"
   ],
   "metadata": {
    "collapsed": false
   }
  },
  {
   "cell_type": "code",
   "execution_count": 304,
   "outputs": [],
   "source": [
    "# F_infix = 'x * tan(exp(x)/x)'\n",
    "# F_infix = 'x * cos(x**2) * tan(x)'\n",
    "# F_infix = 'cos(x**2 * exp(x * cos(x)))'\n",
    "F_infix = 'ln(cos(x + exp(x)) * sin(x**2 + 2) * exp(x) / x)'"
   ],
   "metadata": {
    "collapsed": false,
    "pycharm": {
     "name": "#%%\n"
    }
   }
  },
  {
   "cell_type": "markdown",
   "source": [
    "Converts **F_infix** to a type that can be used inside SymPy:"
   ],
   "metadata": {
    "collapsed": false
   }
  },
  {
   "cell_type": "code",
   "execution_count": 305,
   "outputs": [
    {
     "data": {
      "text/plain": "log(exp(x)*sin(x**2 + 2)*cos(x + exp(x))/x)",
      "text/latex": "$\\displaystyle \\log{\\left(\\frac{e^{x} \\sin{\\left(x^{2} + 2 \\right)} \\cos{\\left(x + e^{x} \\right)}}{x} \\right)}$"
     },
     "execution_count": 305,
     "metadata": {},
     "output_type": "execute_result"
    }
   ],
   "source": [
    "F = sympy.sympify(F_infix, locals=env.local_dict)\n",
    "F"
   ],
   "metadata": {
    "collapsed": false,
    "pycharm": {
     "name": "#%%\n"
    }
   }
  },
  {
   "cell_type": "markdown",
   "source": [
    "Get $f$, or $F'$, that the model will take as input:"
   ],
   "metadata": {
    "collapsed": false
   }
  },
  {
   "cell_type": "code",
   "execution_count": 306,
   "outputs": [
    {
     "data": {
      "text/plain": "x*(2*exp(x)*cos(x + exp(x))*cos(x**2 + 2) - (exp(x) + 1)*exp(x)*sin(x + exp(x))*sin(x**2 + 2)/x + exp(x)*sin(x**2 + 2)*cos(x + exp(x))/x - exp(x)*sin(x**2 + 2)*cos(x + exp(x))/x**2)*exp(-x)/(sin(x**2 + 2)*cos(x + exp(x)))",
      "text/latex": "$\\displaystyle \\frac{x \\left(2 e^{x} \\cos{\\left(x + e^{x} \\right)} \\cos{\\left(x^{2} + 2 \\right)} - \\frac{\\left(e^{x} + 1\\right) e^{x} \\sin{\\left(x + e^{x} \\right)} \\sin{\\left(x^{2} + 2 \\right)}}{x} + \\frac{e^{x} \\sin{\\left(x^{2} + 2 \\right)} \\cos{\\left(x + e^{x} \\right)}}{x} - \\frac{e^{x} \\sin{\\left(x^{2} + 2 \\right)} \\cos{\\left(x + e^{x} \\right)}}{x^{2}}\\right) e^{- x}}{\\sin{\\left(x^{2} + 2 \\right)} \\cos{\\left(x + e^{x} \\right)}}$"
     },
     "execution_count": 306,
     "metadata": {},
     "output_type": "execute_result"
    }
   ],
   "source": [
    "f = F.diff(x)\n",
    "f"
   ],
   "metadata": {
    "collapsed": false,
    "pycharm": {
     "name": "#%%\n"
    }
   }
  },
  {
   "cell_type": "markdown",
   "source": [
    "### Compute Prefix Representations"
   ],
   "metadata": {
    "collapsed": false
   }
  },
  {
   "cell_type": "code",
   "execution_count": 307,
   "outputs": [
    {
     "name": "stdout",
     "output_type": "stream",
     "text": [
      "F with Prefix Notation:\n",
      "['ln', 'mul', 'pow', 'x', 'INT-', '1', 'mul', 'cos', 'add', 'x', 'exp', 'x', 'mul', 'exp', 'x', 'sin', 'add', 'INT+', '2', 'pow', 'x', 'INT+', '2']\n",
      "\n",
      "f with Prefix Notation:\n",
      "['mul', 'x', 'mul', 'pow', 'cos', 'add', 'x', 'exp', 'x', 'INT-', '1', 'mul', 'pow', 'sin', 'add', 'INT+', '2', 'pow', 'x', 'INT+', '2', 'INT-', '1', 'mul', 'add', 'mul', 'INT+', '2', 'mul', 'cos', 'add', 'INT+', '2', 'pow', 'x', 'INT+', '2', 'mul', 'cos', 'add', 'x', 'exp', 'x', 'exp', 'x', 'add', 'mul', 'pow', 'x', 'INT-', '1', 'mul', 'cos', 'add', 'x', 'exp', 'x', 'mul', 'exp', 'x', 'sin', 'add', 'INT+', '2', 'pow', 'x', 'INT+', '2', 'add', 'mul', 'INT-', '1', 'mul', 'pow', 'x', 'INT-', '2', 'mul', 'cos', 'add', 'x', 'exp', 'x', 'mul', 'exp', 'x', 'sin', 'add', 'INT+', '2', 'pow', 'x', 'INT+', '2', 'mul', 'INT-', '1', 'mul', 'pow', 'x', 'INT-', '1', 'mul', 'add', 'INT+', '1', 'exp', 'x', 'mul', 'exp', 'x', 'mul', 'sin', 'add', 'INT+', '2', 'pow', 'x', 'INT+', '2', 'sin', 'add', 'x', 'exp', 'x', 'exp', 'mul', 'INT-', '1', 'x']\n"
     ]
    }
   ],
   "source": [
    "F_prefix = env.sympy_to_prefix(F)\n",
    "f_prefix = env.sympy_to_prefix(f)\n",
    "print(f\"F with Prefix Notation:\\n{F_prefix}\\n\")\n",
    "print(f\"f with Prefix Notation:\\n{f_prefix}\")"
   ],
   "metadata": {
    "collapsed": false,
    "pycharm": {
     "name": "#%%\n"
    }
   }
  },
  {
   "cell_type": "markdown",
   "source": [
    "### Encode Input"
   ],
   "metadata": {
    "collapsed": false
   }
  },
  {
   "cell_type": "code",
   "execution_count": 308,
   "outputs": [
    {
     "name": "stdout",
     "output_type": "stream",
     "text": [
      "f Clean Prefix Notation:\n",
      "['sub', \"Y'\", 'mul', 'x', 'mul', 'pow', 'cos', 'add', 'x', 'exp', 'x', 'INT-', '1', 'mul', 'pow', 'sin', 'add', 'INT+', '2', 'pow', 'x', 'INT+', '2', 'INT-', '1', 'mul', 'add', 'mul', 'INT+', '2', 'mul', 'cos', 'add', 'INT+', '2', 'pow', 'x', 'INT+', '2', 'mul', 'cos', 'add', 'x', 'exp', 'x', 'exp', 'x', 'add', 'mul', 'pow', 'x', 'INT-', '1', 'mul', 'cos', 'add', 'x', 'exp', 'x', 'mul', 'exp', 'x', 'sin', 'add', 'INT+', '2', 'pow', 'x', 'INT+', '2', 'add', 'mul', 'INT-', '1', 'mul', 'pow', 'x', 'INT-', '2', 'mul', 'cos', 'add', 'x', 'exp', 'x', 'mul', 'exp', 'x', 'sin', 'add', 'INT+', '2', 'pow', 'x', 'INT+', '2', 'mul', 'INT-', '1', 'mul', 'pow', 'x', 'INT-', '1', 'mul', 'add', 'INT+', '1', 'exp', 'x', 'mul', 'exp', 'x', 'mul', 'sin', 'add', 'INT+', '2', 'pow', 'x', 'INT+', '2', 'sin', 'add', 'x', 'exp', 'x', 'exp', 'mul', 'INT-', '1', 'x']\n"
     ]
    }
   ],
   "source": [
    "x1_prefix = env.clean_prefix(['sub', 'derivative', 'f', 'x', 'x'] + f_prefix)\n",
    "print(f\"f Clean Prefix Notation:\\n{x1_prefix}\")\n",
    "\n",
    "x1 = torch.LongTensor(\n",
    "    [env.eos_index] +\n",
    "    [env.word2id[w] for w in x1_prefix] +\n",
    "    [env.eos_index]\n",
    ").view(-1, 1)"
   ],
   "metadata": {
    "collapsed": false,
    "pycharm": {
     "name": "#%%\n"
    }
   }
  },
  {
   "cell_type": "code",
   "execution_count": 309,
   "outputs": [
    {
     "data": {
      "text/plain": "tensor([[ 0, 67, 79, 54, 12, 54, 55, 40, 33, 12, 48, 12, 72, 82, 54, 55, 64, 33,\n         71, 83, 55, 12, 71, 83, 72, 82, 54, 33, 54, 71, 83, 54, 40, 33, 71, 83,\n         55, 12, 71, 83, 54, 40, 33, 12, 48, 12, 48, 12, 33, 54, 55, 12, 72, 82,\n         54, 40, 33, 12, 48, 12, 54, 48, 12, 64, 33, 71, 83, 55, 12, 71, 83, 33,\n         54, 72, 82, 54, 55, 12, 72, 83, 54, 40, 33, 12, 48, 12, 54, 48, 12, 64,\n         33, 71, 83, 55, 12, 71, 83, 54, 72, 82, 54, 55, 12, 72, 82, 54, 33, 71,\n         82, 48, 12, 54, 48, 12, 54, 64, 33, 71, 83, 55, 12, 71, 83, 64, 33, 12,\n         48, 12, 48, 54, 72, 82, 12,  0]], device='cuda:0')"
     },
     "execution_count": 309,
     "metadata": {},
     "output_type": "execute_result"
    }
   ],
   "source": [
    "len1 = torch.LongTensor([len(x1)])\n",
    "x1, len1 = to_cuda(x1, len1)\n",
    "x1.transpose(0, 1)"
   ],
   "metadata": {
    "collapsed": false,
    "pycharm": {
     "name": "#%%\n"
    }
   }
  },
  {
   "cell_type": "code",
   "execution_count": 310,
   "outputs": [
    {
     "data": {
      "text/plain": "tensor([[[-0.0312, -0.0124,  0.0321,  ...,  0.0168, -0.0144,  0.0064],\n         [ 0.0435, -0.0574,  0.0247,  ...,  0.0034,  0.0514, -0.0321],\n         [ 0.0775,  0.0448, -0.0215,  ...,  0.0198, -0.0047,  0.0607],\n         ...,\n         [-0.0762,  0.0193,  0.0408,  ...,  0.0788,  0.0954,  0.2066],\n         [-0.1294,  0.0265,  0.0799,  ..., -0.1040,  0.1965,  0.1924],\n         [-0.0523,  0.0090, -0.0042,  ...,  0.0234,  0.0123, -0.0635]]],\n       device='cuda:0')"
     },
     "execution_count": 310,
     "metadata": {},
     "output_type": "execute_result"
    }
   ],
   "source": [
    "with torch.no_grad():\n",
    "    encoded = encoder('fwd', x=x1, lengths=len1, causal=False).transpose(0, 1)\n",
    "\n",
    "encoded"
   ],
   "metadata": {
    "collapsed": false,
    "pycharm": {
     "name": "#%%\n"
    }
   }
  },
  {
   "cell_type": "markdown",
   "source": [
    "### Decode with Beam Search"
   ],
   "metadata": {
    "collapsed": false
   }
  },
  {
   "cell_type": "code",
   "source": [
    "beam_size = 10\n",
    "\n",
    "with torch.no_grad():\n",
    "    _, _, beam = decoder.generate_beam(encoded, len1, beam_size=beam_size, length_penalty=1.0, early_stopping=1,\n",
    "                                       max_len=params.max_len)\n",
    "assert len(beam) == 1\n",
    "hypotheses = beam[0].hyp\n",
    "assert len(hypotheses) == beam_size"
   ],
   "metadata": {
    "collapsed": false,
    "pycharm": {
     "name": "#%%\n"
    }
   },
   "execution_count": 311,
   "outputs": []
  },
  {
   "cell_type": "markdown",
   "source": [
    "### View the Results"
   ],
   "metadata": {
    "collapsed": false
   }
  },
  {
   "cell_type": "markdown",
   "source": [
    "Input function $f$:"
   ],
   "metadata": {
    "collapsed": false
   }
  },
  {
   "cell_type": "code",
   "execution_count": 312,
   "outputs": [
    {
     "data": {
      "text/plain": "x*(2*exp(x)*cos(x + exp(x))*cos(x**2 + 2) - (exp(x) + 1)*exp(x)*sin(x + exp(x))*sin(x**2 + 2)/x + exp(x)*sin(x**2 + 2)*cos(x + exp(x))/x - exp(x)*sin(x**2 + 2)*cos(x + exp(x))/x**2)*exp(-x)/(sin(x**2 + 2)*cos(x + exp(x)))",
      "text/latex": "$\\displaystyle \\frac{x \\left(2 e^{x} \\cos{\\left(x + e^{x} \\right)} \\cos{\\left(x^{2} + 2 \\right)} - \\frac{\\left(e^{x} + 1\\right) e^{x} \\sin{\\left(x + e^{x} \\right)} \\sin{\\left(x^{2} + 2 \\right)}}{x} + \\frac{e^{x} \\sin{\\left(x^{2} + 2 \\right)} \\cos{\\left(x + e^{x} \\right)}}{x} - \\frac{e^{x} \\sin{\\left(x^{2} + 2 \\right)} \\cos{\\left(x + e^{x} \\right)}}{x^{2}}\\right) e^{- x}}{\\sin{\\left(x^{2} + 2 \\right)} \\cos{\\left(x + e^{x} \\right)}}$"
     },
     "execution_count": 312,
     "metadata": {},
     "output_type": "execute_result"
    }
   ],
   "source": [
    "f"
   ],
   "metadata": {
    "collapsed": false,
    "pycharm": {
     "name": "#%%\n"
    }
   }
  },
  {
   "cell_type": "markdown",
   "source": [
    "Integral function $F$ to find:"
   ],
   "metadata": {
    "collapsed": false
   }
  },
  {
   "cell_type": "code",
   "execution_count": 313,
   "outputs": [
    {
     "data": {
      "text/plain": "log(exp(x)*sin(x**2 + 2)*cos(x + exp(x))/x)",
      "text/latex": "$\\displaystyle \\log{\\left(\\frac{e^{x} \\sin{\\left(x^{2} + 2 \\right)} \\cos{\\left(x + e^{x} \\right)}}{x} \\right)}$"
     },
     "execution_count": 313,
     "metadata": {},
     "output_type": "execute_result"
    }
   ],
   "source": [
    "F"
   ],
   "metadata": {
    "collapsed": false,
    "pycharm": {
     "name": "#%%\n"
    }
   }
  },
  {
   "cell_type": "markdown",
   "source": [
    "Extract scores and integrals hypotheses:"
   ],
   "metadata": {
    "collapsed": false
   }
  },
  {
   "cell_type": "code",
   "execution_count": 314,
   "outputs": [],
   "source": [
    "rows = numpy.arange(1, beam_size + 1)\n",
    "columns = ['Score', 'Integral Hypothesis', 'Valid']\n",
    "results = []\n",
    "\n",
    "for score, sequence in sorted(hypotheses, reverse=True):\n",
    "    # Parse decoded hypothesis\n",
    "    ids = sequence[1:].tolist()  # Decoded token IDs\n",
    "    hyp_prefix = [env.id2word[word_id] for word_id in ids]  # Convert to prefix notation\n",
    "\n",
    "    try:\n",
    "        hyp_infix = env.prefix_to_infix(hyp_prefix)  # Convert to infix notation\n",
    "        hyp_sympy = env.infix_to_sympy(hyp_infix)  # Convert to SymPy\n",
    "\n",
    "        # Check whether we recover \"f\" if we differentiate the hypothesis\n",
    "        # Note that sometimes, SymPy fails to show that hyp' - f == 0, and the result is considered as invalid, although it\n",
    "        # may be correct\n",
    "        # validation = \"YES\" if sympy.simplify(hyp_sympy.diff(x) - f, seconds=1) == 0 else \"NO\"\n",
    "        validation = \"YES\" if sympy.simplify(hyp_sympy - F) == 0 else \"NO\"\n",
    "\n",
    "        # Transform hypothesis to a valid latex expression\n",
    "        hyp_expr = \"$\" + sympy.latex(env.infix_to_sympy(hyp_infix))  + \"$\"\n",
    "\n",
    "    except InvalidPrefixExpression:\n",
    "        validation = \"INVALID PREFIX EXPRESSION\"\n",
    "        hyp_expr = hyp_prefix\n",
    "\n",
    "    # Prepare results\n",
    "    results.append([score, hyp_expr, validation])"
   ],
   "metadata": {
    "collapsed": false,
    "pycharm": {
     "name": "#%%\n"
    }
   }
  },
  {
   "cell_type": "markdown",
   "source": [
    "Print results:"
   ],
   "metadata": {
    "collapsed": false
   }
  },
  {
   "cell_type": "code",
   "execution_count": 315,
   "outputs": [
    {
     "data": {
      "text/plain": "<pandas.io.formats.style.Styler at 0x7f1bbccef4f0>",
      "text/html": "<style type=\"text/css\">\n#T_218ad_row0_col0, #T_218ad_row0_col1, #T_218ad_row0_col2, #T_218ad_row1_col0, #T_218ad_row1_col1, #T_218ad_row1_col2, #T_218ad_row2_col0, #T_218ad_row2_col1, #T_218ad_row2_col2, #T_218ad_row3_col0, #T_218ad_row3_col1, #T_218ad_row3_col2, #T_218ad_row4_col0, #T_218ad_row4_col1, #T_218ad_row4_col2, #T_218ad_row5_col0, #T_218ad_row5_col1, #T_218ad_row5_col2, #T_218ad_row6_col0, #T_218ad_row6_col1, #T_218ad_row6_col2, #T_218ad_row7_col0, #T_218ad_row7_col1, #T_218ad_row7_col2, #T_218ad_row8_col0, #T_218ad_row8_col1, #T_218ad_row8_col2, #T_218ad_row9_col0, #T_218ad_row9_col1, #T_218ad_row9_col2 {\n  text-align: center;\n}\n</style>\n<table id=\"T_218ad_\">\n  <thead>\n    <tr>\n      <th class=\"blank level0\" >&nbsp;</th>\n      <th class=\"col_heading level0 col0\" >Score</th>\n      <th class=\"col_heading level0 col1\" >Integral Hypothesis</th>\n      <th class=\"col_heading level0 col2\" >Valid</th>\n    </tr>\n  </thead>\n  <tbody>\n    <tr>\n      <th id=\"T_218ad_level0_row0\" class=\"row_heading level0 row0\" >1</th>\n      <td id=\"T_218ad_row0_col0\" class=\"data row0 col0\" >-0.000010</td>\n      <td id=\"T_218ad_row0_col1\" class=\"data row0 col1\" >$\\log{\\left(\\frac{e^{x} \\sin{\\left(x^{2} + 2 \\right)} \\cos{\\left(x + e^{x} \\right)}}{x} \\right)}$</td>\n      <td id=\"T_218ad_row0_col2\" class=\"data row0 col2\" >YES</td>\n    </tr>\n    <tr>\n      <th id=\"T_218ad_level0_row1\" class=\"row_heading level0 row1\" >2</th>\n      <td id=\"T_218ad_row1_col0\" class=\"data row1 col0\" >-0.364873</td>\n      <td id=\"T_218ad_row1_col1\" class=\"data row1 col1\" >$\\operatorname{atan}{\\left(\\tan{\\left(\\log{\\left(\\frac{e^{x} \\sin{\\left(x^{2} + 2 \\right)} \\cos{\\left(x + e^{x} \\right)}}{x} \\right)} \\right)} \\right)}$</td>\n      <td id=\"T_218ad_row1_col2\" class=\"data row1 col2\" >NO</td>\n    </tr>\n    <tr>\n      <th id=\"T_218ad_level0_row2\" class=\"row_heading level0 row2\" >3</th>\n      <td id=\"T_218ad_row2_col0\" class=\"data row2 col0\" >-0.402405</td>\n      <td id=\"T_218ad_row2_col1\" class=\"data row2 col1\" >$\\log{\\left(\\frac{e^{- x} \\sin{\\left(x^{2} + 2 \\right)} \\cos{\\left(x + e^{x} \\right)}}{x} \\right)}$</td>\n      <td id=\"T_218ad_row2_col2\" class=\"data row2 col2\" >NO</td>\n    </tr>\n    <tr>\n      <th id=\"T_218ad_level0_row3\" class=\"row_heading level0 row3\" >4</th>\n      <td id=\"T_218ad_row3_col0\" class=\"data row3 col0\" >-0.411729</td>\n      <td id=\"T_218ad_row3_col1\" class=\"data row3 col1\" >$\\log{\\left(\\frac{e^{x} \\sin{\\left(x \\left(x + \\frac{2}{x}\\right) \\right)} \\cos{\\left(x + e^{x} \\right)}}{x} \\right)}$</td>\n      <td id=\"T_218ad_row3_col2\" class=\"data row3 col2\" >YES</td>\n    </tr>\n    <tr>\n      <th id=\"T_218ad_level0_row4\" class=\"row_heading level0 row4\" >5</th>\n      <td id=\"T_218ad_row4_col0\" class=\"data row4 col0\" >-0.421149</td>\n      <td id=\"T_218ad_row4_col1\" class=\"data row4 col1\" >$\\log{\\left(\\frac{e^{x} \\sin{\\left(x \\left(x + \\frac{1}{x}\\right) + 1 \\right)} \\cos{\\left(x + e^{x} \\right)}}{x} \\right)}$</td>\n      <td id=\"T_218ad_row4_col2\" class=\"data row4 col2\" >YES</td>\n    </tr>\n    <tr>\n      <th id=\"T_218ad_level0_row5\" class=\"row_heading level0 row5\" >6</th>\n      <td id=\"T_218ad_row5_col0\" class=\"data row5 col0\" >-0.434728</td>\n      <td id=\"T_218ad_row5_col1\" class=\"data row5 col1\" >$\\log{\\left(- \\frac{e^{x} \\sin{\\left(x^{2} + 2 \\right)} \\cos{\\left(x + e^{x} \\right)}}{x} \\right)}$</td>\n      <td id=\"T_218ad_row5_col2\" class=\"data row5 col2\" >NO</td>\n    </tr>\n    <tr>\n      <th id=\"T_218ad_level0_row6\" class=\"row_heading level0 row6\" >7</th>\n      <td id=\"T_218ad_row6_col0\" class=\"data row6 col0\" >-0.435394</td>\n      <td id=\"T_218ad_row6_col1\" class=\"data row6 col1\" >$\\log{\\left(\\frac{e^{x} \\sin{\\left(x \\left(x - 1\\right) + x + 2 \\right)} \\cos{\\left(x + e^{x} \\right)}}{x} \\right)}$</td>\n      <td id=\"T_218ad_row6_col2\" class=\"data row6 col2\" >YES</td>\n    </tr>\n    <tr>\n      <th id=\"T_218ad_level0_row7\" class=\"row_heading level0 row7\" >8</th>\n      <td id=\"T_218ad_row7_col0\" class=\"data row7 col0\" >-0.454395</td>\n      <td id=\"T_218ad_row7_col1\" class=\"data row7 col1\" >['exp', 'x', 'ln', 'mul', 'pow', 'x', 'INT-', '1', 'mul', 'cos', 'add', 'x', 'exp', 'x', 'mul', 'exp', 'x', 'sin', 'add', 'INT+', '2', 'pow', 'x', 'INT+', '2']</td>\n      <td id=\"T_218ad_row7_col2\" class=\"data row7 col2\" >INVALID PREFIX EXPRESSION</td>\n    </tr>\n    <tr>\n      <th id=\"T_218ad_level0_row8\" class=\"row_heading level0 row8\" >9</th>\n      <td id=\"T_218ad_row8_col0\" class=\"data row8 col0\" >-0.512820</td>\n      <td id=\"T_218ad_row8_col1\" class=\"data row8 col1\" >$\\log{\\left(\\frac{e^{x} \\sin{\\left(x^{2} + 2 \\right)} \\cos{\\left(x + e^{x} \\right)}}{x} \\right)}$</td>\n      <td id=\"T_218ad_row8_col2\" class=\"data row8 col2\" >YES</td>\n    </tr>\n    <tr>\n      <th id=\"T_218ad_level0_row9\" class=\"row_heading level0 row9\" >10</th>\n      <td id=\"T_218ad_row9_col0\" class=\"data row9 col0\" >-0.869112</td>\n      <td id=\"T_218ad_row9_col1\" class=\"data row9 col1\" >$\\log{\\left(\\frac{e^{x} \\sin{\\left(x \\left(x + \\frac{1}{x^{2}}\\right) + 1 \\right)} \\cos{\\left(x + e^{x} \\right)}}{x} \\right)}$</td>\n      <td id=\"T_218ad_row9_col2\" class=\"data row9 col2\" >NO</td>\n    </tr>\n  </tbody>\n</table>\n"
     },
     "execution_count": 315,
     "metadata": {},
     "output_type": "execute_result"
    }
   ],
   "source": [
    "pandas.set_option('max_colwidth', None)\n",
    "pandas.DataFrame(results, index=rows, columns=columns).style.set_properties(**{'text-align': 'center'})"
   ],
   "metadata": {
    "collapsed": false,
    "pycharm": {
     "name": "#%%\n"
    }
   }
  },
  {
   "cell_type": "markdown",
   "source": [
    "## Integration by Parts Approach (IBP)\n",
    "\n",
    "Start from two function $F$ and $G$, we compute their respective derivatives $f$ and $g$. If we know the integral of\n",
    "$fG$ then we can compute the integral of $Fg$ ($H$) as:\n",
    "\n",
    "$$ H = \\int Fg = FG − \\int fG $$\n",
    "\n",
    "Use the model to try to recover $\\int Fg $ from $Fg$.\n",
    "\n",
    "**Pros**:\n",
    "- We can generate the integrals of functions like $x^{10}\\sin(x)$ without resorting to an external symbolic integration\n",
    "  system.\n",
    "\n",
    "**Cons**:\n",
    "- Very Time expensive."
   ],
   "metadata": {
    "collapsed": false
   }
  },
  {
   "cell_type": "markdown",
   "source": [
    "### Build Environment - Reload Model"
   ],
   "metadata": {
    "collapsed": false
   }
  },
  {
   "cell_type": "code",
   "execution_count": 316,
   "outputs": [],
   "source": [
    "model_path = '../models/integrations/ibp.pth'\n",
    "assert os.path.isfile(model_path)\n",
    "\n",
    "params = AttrDict({\n",
    "\n",
    "    # Environment Parameters\n",
    "    'env_name': 'char_sp',\n",
    "    'int_base': 10,\n",
    "    'balanced': False,\n",
    "    'positive': True,\n",
    "    'precision': 10,\n",
    "    'n_variables': 1,\n",
    "    'n_coefficients': 0,\n",
    "    'leaf_probs': '0.75,0,0.25,0',\n",
    "    'max_len': 512,\n",
    "    'max_int': 5,\n",
    "    'max_ops': 15,\n",
    "    'max_ops_G': 15,\n",
    "    'clean_prefix_expr': True,\n",
    "    'rewrite_functions': '',\n",
    "    'tasks': 'prim_fwd,prim_bwd,prim_ibp',\n",
    "    'operators': 'add:10,sub:3,mul:10,div:5,sqrt:4,pow2:4,pow3:2,pow4:1,pow5:1,ln:4,exp:4,sin:4,cos:4,tan:4,asin:1,'\n",
    "                 'acos:1,atan:1,sinh:1,cosh:1,tanh:1,asinh:1,acosh:1,atanh:1',\n",
    "\n",
    "    # Model Parameters\n",
    "    'cpu': False,\n",
    "    'emb_dim': 1024,\n",
    "    'n_enc_layers': 6,\n",
    "    'n_dec_layers': 6,\n",
    "    'n_heads': 8,\n",
    "    'dropout': 0,\n",
    "    'attention_dropout': 0,\n",
    "    'sinusoidal_embeddings': False,\n",
    "    'share_inout_emb': True,\n",
    "    'reload_model': model_path,\n",
    "\n",
    "})\n",
    "\n",
    "env = build_env(params)\n",
    "\n",
    "modules = build_modules(env, params)\n",
    "encoder = modules['encoder']\n",
    "decoder = modules['decoder']"
   ],
   "metadata": {
    "collapsed": false,
    "pycharm": {
     "name": "#%%\n"
    }
   }
  },
  {
   "cell_type": "markdown",
   "source": [
    "### Declare input function $F$ and $G$, Compute Derivatives $f$ and $g$, Compute Integral Function $H$ with IBP\n",
    "\n",
    "Declare $F$ and $G$ functions:"
   ],
   "metadata": {
    "collapsed": false
   }
  },
  {
   "cell_type": "code",
   "execution_count": 317,
   "outputs": [],
   "source": [
    "F_infix = '(x**3)'\n",
    "G_infix = 'x^2/2+5*x'\n"
   ],
   "metadata": {
    "collapsed": false,
    "pycharm": {
     "name": "#%%\n"
    }
   }
  },
  {
   "cell_type": "markdown",
   "source": [
    "Converts **F_infix** and **G_infix** to types that can be used inside SymPy:"
   ],
   "metadata": {
    "collapsed": false
   }
  },
  {
   "cell_type": "code",
   "execution_count": 318,
   "outputs": [
    {
     "data": {
      "text/plain": "x**3",
      "text/latex": "$\\displaystyle x^{3}$"
     },
     "execution_count": 318,
     "metadata": {},
     "output_type": "execute_result"
    }
   ],
   "source": [
    "F = sympy.sympify(F_infix, locals=env.local_dict)\n",
    "F"
   ],
   "metadata": {
    "collapsed": false,
    "pycharm": {
     "name": "#%%\n"
    }
   }
  },
  {
   "cell_type": "code",
   "execution_count": 319,
   "outputs": [
    {
     "data": {
      "text/plain": "x**2/2 + 5*x",
      "text/latex": "$\\displaystyle \\frac{x^{2}}{2} + 5 x$"
     },
     "execution_count": 319,
     "metadata": {},
     "output_type": "execute_result"
    }
   ],
   "source": [
    "G = sympy.sympify(G_infix, locals=env.local_dict)\n",
    "G"
   ],
   "metadata": {
    "collapsed": false,
    "pycharm": {
     "name": "#%%\n"
    }
   }
  },
  {
   "cell_type": "markdown",
   "source": [
    "Compute the derivatives $f$ and $g$:"
   ],
   "metadata": {
    "collapsed": false
   }
  },
  {
   "cell_type": "code",
   "execution_count": 320,
   "outputs": [
    {
     "data": {
      "text/plain": "3*x**2",
      "text/latex": "$\\displaystyle 3 x^{2}$"
     },
     "execution_count": 320,
     "metadata": {},
     "output_type": "execute_result"
    }
   ],
   "source": [
    "f = F.diff(x)\n",
    "f"
   ],
   "metadata": {
    "collapsed": false,
    "pycharm": {
     "name": "#%%\n"
    }
   }
  },
  {
   "cell_type": "code",
   "execution_count": 321,
   "outputs": [
    {
     "data": {
      "text/plain": "x + 5",
      "text/latex": "$\\displaystyle x + 5$"
     },
     "execution_count": 321,
     "metadata": {},
     "output_type": "execute_result"
    }
   ],
   "source": [
    "g = G.diff(x)\n",
    "g"
   ],
   "metadata": {
    "collapsed": false,
    "pycharm": {
     "name": "#%%\n"
    }
   }
  },
  {
   "cell_type": "markdown",
   "source": [
    "Compute $ h = Fg $, the input function for the Model:"
   ],
   "metadata": {
    "collapsed": false
   }
  },
  {
   "cell_type": "code",
   "execution_count": 322,
   "outputs": [
    {
     "data": {
      "text/plain": "x**3*(x + 5)",
      "text/latex": "$\\displaystyle x^{3} \\left(x + 5\\right)$"
     },
     "execution_count": 322,
     "metadata": {},
     "output_type": "execute_result"
    }
   ],
   "source": [
    "h = F * g\n",
    "h"
   ],
   "metadata": {
    "collapsed": false,
    "pycharm": {
     "name": "#%%\n"
    }
   }
  },
  {
   "cell_type": "markdown",
   "source": [
    "Compute $ H = \\int Fg = FG − \\int fG $, the integral function the model has to predict:"
   ],
   "metadata": {
    "collapsed": false
   }
  },
  {
   "cell_type": "code",
   "execution_count": 323,
   "outputs": [
    {
     "data": {
      "text/plain": "x**4*(4*x + 25)/20",
      "text/latex": "$\\displaystyle \\frac{x^{4} \\left(4 x + 25\\right)}{20}$"
     },
     "execution_count": 323,
     "metadata": {},
     "output_type": "execute_result"
    }
   ],
   "source": [
    "H = F*G - sympy.integrate(f*G, x, risch=True).doit()\n",
    "H = sympy.simplify(H)\n",
    "H"
   ],
   "metadata": {
    "collapsed": false,
    "pycharm": {
     "name": "#%%\n"
    }
   }
  },
  {
   "cell_type": "markdown",
   "source": [
    "### Compute Prefix Representations"
   ],
   "metadata": {
    "collapsed": false
   }
  },
  {
   "cell_type": "code",
   "execution_count": 324,
   "outputs": [
    {
     "name": "stdout",
     "output_type": "stream",
     "text": [
      "H with Prefix Notation:\n",
      "['mul', 'div', 'INT+', '1', 'INT+', '2', '0', 'mul', 'pow', 'x', 'INT+', '4', 'add', 'INT+', '2', '5', 'mul', 'INT+', '4', 'x']\n",
      "\n",
      "h with Prefix Notation:\n",
      "['mul', 'pow', 'x', 'INT+', '3', 'add', 'INT+', '5', 'x']\n"
     ]
    }
   ],
   "source": [
    "H_prefix = env.sympy_to_prefix(H)\n",
    "h_prefix = env.sympy_to_prefix(h)\n",
    "print(f\"H with Prefix Notation:\\n{H_prefix}\\n\")\n",
    "print(f\"h with Prefix Notation:\\n{h_prefix}\")"
   ],
   "metadata": {
    "collapsed": false,
    "pycharm": {
     "name": "#%%\n"
    }
   }
  },
  {
   "cell_type": "markdown",
   "source": [
    "### Encode Input"
   ],
   "metadata": {
    "collapsed": false
   }
  },
  {
   "cell_type": "code",
   "execution_count": 325,
   "outputs": [
    {
     "name": "stdout",
     "output_type": "stream",
     "text": [
      "f Clean Prefix Notation:\n",
      "['sub', \"Y'\", 'mul', 'pow', 'x', 'INT+', '3', 'add', 'INT+', '5', 'x']\n"
     ]
    }
   ],
   "source": [
    "x1_prefix = env.clean_prefix(['sub', 'derivative', 'f', 'x', 'x'] + h_prefix)\n",
    "print(f\"f Clean Prefix Notation:\\n{x1_prefix}\")"
   ],
   "metadata": {
    "collapsed": false,
    "pycharm": {
     "name": "#%%\n"
    }
   }
  },
  {
   "cell_type": "code",
   "execution_count": 326,
   "outputs": [
    {
     "data": {
      "text/plain": "tensor([[ 0, 67, 79, 54, 55, 12, 71, 84, 33, 71, 86, 12,  0]], device='cuda:0')"
     },
     "execution_count": 326,
     "metadata": {},
     "output_type": "execute_result"
    }
   ],
   "source": [
    "x1 = torch.LongTensor(\n",
    "    [env.eos_index] +\n",
    "    [env.word2id[w] for w in x1_prefix] +\n",
    "    [env.eos_index]\n",
    ").view(-1, 1)\n",
    "\n",
    "len1 = torch.LongTensor([len(x1)])\n",
    "x1, len1 = to_cuda(x1, len1)\n",
    "x1.transpose(0, 1)"
   ],
   "metadata": {
    "collapsed": false,
    "pycharm": {
     "name": "#%%\n"
    }
   }
  },
  {
   "cell_type": "code",
   "execution_count": 327,
   "outputs": [
    {
     "data": {
      "text/plain": "tensor([[[-0.0063,  0.0075, -0.0431,  ..., -0.0239,  0.0176, -0.0161],\n         [ 0.0221,  0.0035,  0.0368,  ..., -0.0141,  0.0493,  0.0671],\n         [-0.0368, -0.0014,  0.0096,  ...,  0.0896,  0.0694, -0.0245],\n         ...,\n         [-0.0509,  0.1097,  0.0223,  ...,  0.1510, -0.0869,  0.0084],\n         [-0.1192, -0.0365,  0.0351,  ...,  0.0007,  0.1911, -0.0048],\n         [ 0.0079,  0.0603,  0.0750,  ..., -0.0373, -0.0318,  0.0043]]],\n       device='cuda:0')"
     },
     "execution_count": 327,
     "metadata": {},
     "output_type": "execute_result"
    }
   ],
   "source": [
    "with torch.no_grad():\n",
    "    encoded = encoder('fwd', x=x1, lengths=len1, causal=False).transpose(0, 1)\n",
    "\n",
    "encoded"
   ],
   "metadata": {
    "collapsed": false,
    "pycharm": {
     "name": "#%%\n"
    }
   }
  },
  {
   "cell_type": "markdown",
   "source": [
    "### Decode with Beam Search"
   ],
   "metadata": {
    "collapsed": false
   }
  },
  {
   "cell_type": "code",
   "execution_count": 328,
   "outputs": [],
   "source": [
    "beam_size = 10\n",
    "\n",
    "with torch.no_grad():\n",
    "    _, _, beam = decoder.generate_beam(encoded, len1, beam_size=beam_size, length_penalty=1.0, early_stopping=1,\n",
    "                                       max_len=params.max_len)\n",
    "assert len(beam) == 1\n",
    "hypotheses = beam[0].hyp\n",
    "assert len(hypotheses) == beam_size"
   ],
   "metadata": {
    "collapsed": false,
    "pycharm": {
     "name": "#%%\n"
    }
   }
  },
  {
   "cell_type": "markdown",
   "source": [
    "### View the Results"
   ],
   "metadata": {
    "collapsed": false
   }
  },
  {
   "cell_type": "markdown",
   "source": [
    "Input function $h$:"
   ],
   "metadata": {
    "collapsed": false
   }
  },
  {
   "cell_type": "code",
   "execution_count": 329,
   "outputs": [
    {
     "data": {
      "text/plain": "x**3*(x + 5)",
      "text/latex": "$\\displaystyle x^{3} \\left(x + 5\\right)$"
     },
     "execution_count": 329,
     "metadata": {},
     "output_type": "execute_result"
    }
   ],
   "source": [
    "h"
   ],
   "metadata": {
    "collapsed": false,
    "pycharm": {
     "name": "#%%\n"
    }
   }
  },
  {
   "cell_type": "markdown",
   "source": [
    "Integral function $H$ to find:"
   ],
   "metadata": {
    "collapsed": false
   }
  },
  {
   "cell_type": "code",
   "execution_count": 330,
   "outputs": [
    {
     "data": {
      "text/plain": "x**4*(4*x + 25)/20",
      "text/latex": "$\\displaystyle \\frac{x^{4} \\left(4 x + 25\\right)}{20}$"
     },
     "execution_count": 330,
     "metadata": {},
     "output_type": "execute_result"
    }
   ],
   "source": [
    "H"
   ],
   "metadata": {
    "collapsed": false,
    "pycharm": {
     "name": "#%%\n"
    }
   }
  },
  {
   "cell_type": "markdown",
   "source": [
    "Extract scores and integrals hypotheses:"
   ],
   "metadata": {
    "collapsed": false
   }
  },
  {
   "cell_type": "code",
   "execution_count": 331,
   "outputs": [],
   "source": [
    "rows = numpy.arange(1, beam_size + 1)\n",
    "columns = ['Score', 'Integral Hypothesis', 'Valid']\n",
    "results = []\n",
    "\n",
    "for score, sequence in sorted(hypotheses, reverse=True):\n",
    "    # Parse decoded hypothesis\n",
    "    ids = sequence[1:].tolist()  # Decoded token IDs\n",
    "    hyp_prefix = [env.id2word[word_id] for word_id in ids]  # Convert to prefix notation\n",
    "\n",
    "    try:\n",
    "        hyp_infix = env.prefix_to_infix(hyp_prefix)  # Convert to infix notation\n",
    "        hyp_sympy = env.infix_to_sympy(hyp_infix)  # Convert to SymPy\n",
    "\n",
    "        # Check whether we recover \"f\" if we differentiate the hypothesis\n",
    "        # Note that sometimes, SymPy fails to show that hyp' - f == 0, and the result is considered as invalid, although it\n",
    "        # may be correct\n",
    "        validation = \"YES\" if sympy.simplify(hyp_sympy.diff(x) - h, seconds=1) == 0 else \"NO\"\n",
    "        # validation = \"YES\" if sympy.simplify(hyp_sympy - H) == 0 else \"NO\"\n",
    "\n",
    "        # Transform hypothesis to a valid latex expression\n",
    "        hyp_expr = \"$\" + sympy.latex(env.infix_to_sympy(hyp_infix))  + \"$\"\n",
    "\n",
    "    except InvalidPrefixExpression:\n",
    "        validation = \"INVALID PREFIX EXPRESSION\"\n",
    "        hyp_expr = hyp_prefix\n",
    "\n",
    "    # Prepare results\n",
    "    results.append([score, hyp_expr, validation])"
   ],
   "metadata": {
    "collapsed": false,
    "pycharm": {
     "name": "#%%\n"
    }
   }
  },
  {
   "cell_type": "markdown",
   "source": [
    "Print results:"
   ],
   "metadata": {
    "collapsed": false
   }
  },
  {
   "cell_type": "code",
   "execution_count": 332,
   "outputs": [
    {
     "data": {
      "text/plain": "<pandas.io.formats.style.Styler at 0x7f1bbd076eb0>",
      "text/html": "<style type=\"text/css\">\n#T_ea618_row0_col0, #T_ea618_row0_col1, #T_ea618_row0_col2, #T_ea618_row1_col0, #T_ea618_row1_col1, #T_ea618_row1_col2, #T_ea618_row2_col0, #T_ea618_row2_col1, #T_ea618_row2_col2, #T_ea618_row3_col0, #T_ea618_row3_col1, #T_ea618_row3_col2, #T_ea618_row4_col0, #T_ea618_row4_col1, #T_ea618_row4_col2, #T_ea618_row5_col0, #T_ea618_row5_col1, #T_ea618_row5_col2, #T_ea618_row6_col0, #T_ea618_row6_col1, #T_ea618_row6_col2, #T_ea618_row7_col0, #T_ea618_row7_col1, #T_ea618_row7_col2, #T_ea618_row8_col0, #T_ea618_row8_col1, #T_ea618_row8_col2, #T_ea618_row9_col0, #T_ea618_row9_col1, #T_ea618_row9_col2 {\n  text-align: center;\n}\n</style>\n<table id=\"T_ea618_\">\n  <thead>\n    <tr>\n      <th class=\"blank level0\" >&nbsp;</th>\n      <th class=\"col_heading level0 col0\" >Score</th>\n      <th class=\"col_heading level0 col1\" >Integral Hypothesis</th>\n      <th class=\"col_heading level0 col2\" >Valid</th>\n    </tr>\n  </thead>\n  <tbody>\n    <tr>\n      <th id=\"T_ea618_level0_row0\" class=\"row_heading level0 row0\" >1</th>\n      <td id=\"T_ea618_row0_col0\" class=\"data row0 col0\" >-0.149982</td>\n      <td id=\"T_ea618_row0_col1\" class=\"data row0 col1\" >$\\frac{x^{4} \\left(4 x \\sin{\\left(1 \\right)} + 4 x + 25 \\sin{\\left(1 \\right)} + 25\\right)}{5 \\left(4 \\sin{\\left(1 \\right)} + 4\\right)}$</td>\n      <td id=\"T_ea618_row0_col2\" class=\"data row0 col2\" >YES</td>\n    </tr>\n    <tr>\n      <th id=\"T_ea618_level0_row1\" class=\"row_heading level0 row1\" >2</th>\n      <td id=\"T_ea618_row1_col0\" class=\"data row1 col0\" >-0.150172</td>\n      <td id=\"T_ea618_row1_col1\" class=\"data row1 col1\" >$\\frac{x^{4} \\left(4 x + 4 x \\tan{\\left(1 \\right)} + 25 + 25 \\tan{\\left(1 \\right)}\\right)}{5 \\left(4 + 4 \\tan{\\left(1 \\right)}\\right)}$</td>\n      <td id=\"T_ea618_row1_col2\" class=\"data row1 col2\" >YES</td>\n    </tr>\n    <tr>\n      <th id=\"T_ea618_level0_row2\" class=\"row_heading level0 row2\" >3</th>\n      <td id=\"T_ea618_row2_col0\" class=\"data row2 col0\" >-0.150313</td>\n      <td id=\"T_ea618_row2_col1\" class=\"data row2 col1\" >$\\frac{x^{4} \\left(4 x \\cos{\\left(1 \\right)} + 4 x + 25 \\cos{\\left(1 \\right)} + 25\\right)}{5 \\left(4 \\cos{\\left(1 \\right)} + 4\\right)}$</td>\n      <td id=\"T_ea618_row2_col2\" class=\"data row2 col2\" >YES</td>\n    </tr>\n    <tr>\n      <th id=\"T_ea618_level0_row3\" class=\"row_heading level0 row3\" >4</th>\n      <td id=\"T_ea618_row3_col0\" class=\"data row3 col0\" >-0.165258</td>\n      <td id=\"T_ea618_row3_col1\" class=\"data row3 col1\" >$\\frac{x^{4} \\left(4 x + \\log{\\left(5^{4 x + 25} \\right)} + 25\\right)}{5 \\left(4 + 4 \\log{\\left(5 \\right)}\\right)}$</td>\n      <td id=\"T_ea618_row3_col2\" class=\"data row3 col2\" >YES</td>\n    </tr>\n    <tr>\n      <th id=\"T_ea618_level0_row4\" class=\"row_heading level0 row4\" >5</th>\n      <td id=\"T_ea618_row4_col0\" class=\"data row4 col0\" >-0.166332</td>\n      <td id=\"T_ea618_row4_col1\" class=\"data row4 col1\" >$\\frac{x^{4} \\left(4 x + \\log{\\left(2^{4 x + 25} \\right)} + 25\\right)}{5 \\left(4 \\log{\\left(2 \\right)} + 4\\right)}$</td>\n      <td id=\"T_ea618_row4_col2\" class=\"data row4 col2\" >YES</td>\n    </tr>\n    <tr>\n      <th id=\"T_ea618_level0_row5\" class=\"row_heading level0 row5\" >6</th>\n      <td id=\"T_ea618_row5_col0\" class=\"data row5 col0\" >-0.170196</td>\n      <td id=\"T_ea618_row5_col1\" class=\"data row5 col1\" >$\\frac{x^{4} \\left(4 x + \\log{\\left(2^{8 x + 50} \\right)} + 25\\right)}{5 \\left(4 + 4 \\log{\\left(4 \\right)}\\right)}$</td>\n      <td id=\"T_ea618_row5_col2\" class=\"data row5 col2\" >YES</td>\n    </tr>\n    <tr>\n      <th id=\"T_ea618_level0_row6\" class=\"row_heading level0 row6\" >7</th>\n      <td id=\"T_ea618_row6_col0\" class=\"data row6 col0\" >-0.170329</td>\n      <td id=\"T_ea618_row6_col1\" class=\"data row6 col1\" >$\\frac{x^{4} \\left(500 x + 3125\\right)}{2500}$</td>\n      <td id=\"T_ea618_row6_col2\" class=\"data row6 col2\" >YES</td>\n    </tr>\n    <tr>\n      <th id=\"T_ea618_level0_row7\" class=\"row_heading level0 row7\" >8</th>\n      <td id=\"T_ea618_row7_col0\" class=\"data row7 col0\" >-0.178801</td>\n      <td id=\"T_ea618_row7_col1\" class=\"data row7 col1\" >$\\frac{x^{4} \\left(4 x + 4 x \\tan{\\left(1 \\right)} + 25 + 25 \\tan{\\left(1 \\right)}\\right)}{10 \\left(2 + 2 \\tan{\\left(1 \\right)}\\right)}$</td>\n      <td id=\"T_ea618_row7_col2\" class=\"data row7 col2\" >YES</td>\n    </tr>\n    <tr>\n      <th id=\"T_ea618_level0_row8\" class=\"row_heading level0 row8\" >9</th>\n      <td id=\"T_ea618_row8_col0\" class=\"data row8 col0\" >-0.179652</td>\n      <td id=\"T_ea618_row8_col1\" class=\"data row8 col1\" >$\\frac{x^{4} \\left(4 x \\sin{\\left(1 \\right)} + 4 x + 25 \\sin{\\left(1 \\right)} + 25\\right)}{10 \\left(2 \\sin{\\left(1 \\right)} + 2\\right)}$</td>\n      <td id=\"T_ea618_row8_col2\" class=\"data row8 col2\" >YES</td>\n    </tr>\n    <tr>\n      <th id=\"T_ea618_level0_row9\" class=\"row_heading level0 row9\" >10</th>\n      <td id=\"T_ea618_row9_col0\" class=\"data row9 col0\" >-0.182446</td>\n      <td id=\"T_ea618_row9_col1\" class=\"data row9 col1\" >$\\frac{x^{4} \\left(4 x + 4 x e^{5} + 25 + 25 e^{5}\\right)}{10 \\left(2 + 2 e^{5}\\right)}$</td>\n      <td id=\"T_ea618_row9_col2\" class=\"data row9 col2\" >YES</td>\n    </tr>\n  </tbody>\n</table>\n"
     },
     "execution_count": 332,
     "metadata": {},
     "output_type": "execute_result"
    }
   ],
   "source": [
    "pandas.set_option('max_colwidth', None)\n",
    "pandas.DataFrame(results, index=rows, columns=columns).style.set_properties(**{'text-align': 'center'})"
   ],
   "metadata": {
    "collapsed": false,
    "pycharm": {
     "name": "#%%\n"
    }
   }
  }
 ],
 "metadata": {
  "kernelspec": {
   "display_name": "Python 3 (ipykernel)",
   "language": "python",
   "name": "python3"
  },
  "language_info": {
   "codemirror_mode": {
    "name": "ipython",
    "version": 3
   },
   "file_extension": ".py",
   "mimetype": "text/x-python",
   "name": "python",
   "nbconvert_exporter": "python",
   "pygments_lexer": "ipython3",
   "version": "3.8.10"
  }
 },
 "nbformat": 4,
 "nbformat_minor": 2
}